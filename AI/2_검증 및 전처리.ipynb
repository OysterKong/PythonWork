{
 "cells": [
  {
   "cell_type": "code",
   "execution_count": 1,
   "id": "6f881c0f",
   "metadata": {},
   "outputs": [],
   "source": [
    "import numpy as np\n",
    "import pandas as pd\n",
    "import matplotlib.pyplot as plt\n",
    "import seaborn as sns\n",
    "\n",
    "# 한글처리\n",
    "import matplotlib.font_manager as fm\n",
    "font_name = fm.FontProperties(fname=\"C:\\\\Windows\\\\Fonts\\\\malgun.ttf\").get_name()\n",
    "plt.rc(\"font\", family=font_name)\n",
    "\n",
    "# 음수 - 표시 처리\n",
    "import matplotlib as mlp\n",
    "mlp.rcParams[\"axes.unicode_minus\"] = False"
   ]
  },
  {
   "cell_type": "code",
   "execution_count": 53,
   "id": "20d09efc",
   "metadata": {},
   "outputs": [],
   "source": [
    "from sklearn.datasets import load_breast_cancer, load_boston, load_iris\n",
    "\n",
    "from sklearn.model_selection import train_test_split\n",
    "from sklearn.model_selection import GridSearchCV\n",
    "\n",
    "from sklearn.neighbors import KNeighborsClassifier\n",
    "\n",
    "from sklearn.metrics import accuracy_score\n",
    "\n",
    "from sklearn.preprocessing import LabelEncoder    # 전처리에 필요한\n",
    "from sklearn.preprocessing import OneHotEncoder   # 전처리에 필요한\n",
    "from sklearn.preprocessing import StandardScaler   # 전처리에 필요한\n",
    "from sklearn.preprocessing import MinMaxScaler   # 전처리에 필요한"
   ]
  },
  {
   "cell_type": "code",
   "execution_count": 3,
   "id": "118b0749",
   "metadata": {},
   "outputs": [],
   "source": [
    "import mglearn"
   ]
  },
  {
   "cell_type": "markdown",
   "id": "e8d6faa4",
   "metadata": {},
   "source": [
    "# 1. 검증(validation)"
   ]
  },
  {
   "cell_type": "markdown",
   "id": "55c2f55a",
   "metadata": {},
   "source": [
    "### (1) 훈련용(학습용) 데이터와 테스트용 데이터의 분리"
   ]
  },
  {
   "cell_type": "code",
   "execution_count": 4,
   "id": "1cd37c7e",
   "metadata": {},
   "outputs": [],
   "source": [
    "iris = load_iris()"
   ]
  },
  {
   "cell_type": "code",
   "execution_count": 7,
   "id": "059e6639",
   "metadata": {},
   "outputs": [
    {
     "name": "stdout",
     "output_type": "stream",
     "text": [
      "(120, 4) (120,)\n",
      "(30, 4) (30,)\n",
      "[0 0 0 0 0 0 0 0 0 0 0 0 0 0 0 0 0 0 0 0 0 0 0 0 0 0 0 0 0 0 0 0 0 0 0 0 0\n",
      " 0 0 0 0 0 0 0 0 0 0 0 0 0 1 1 1 1 1 1 1 1 1 1 1 1 1 1 1 1 1 1 1 1 1 1 1 1\n",
      " 1 1 1 1 1 1 1 1 1 1 1 1 1 1 1 1 1 1 1 1 1 1 1 1 1 1 2 2 2 2 2 2 2 2 2 2 2\n",
      " 2 2 2 2 2 2 2 2 2]\n"
     ]
    }
   ],
   "source": [
    "# 훈련용 데이터\n",
    "X_train = iris.data[:-30]    # 150개 데이터 중에서 120개의 데이터를 뽑기 = 훈련용데이터\n",
    "y_train = iris.target[:-30]    # 150개 데이터 중에서 120개의 데이터를 뽑기 = 훈련용데이터\n",
    "print(X_train.shape, y_train.shape)\n",
    "\n",
    "# 테스트용 데이터\n",
    "X_test = iris.data[-30:]    # 150개 데이터 중에서 30개의 데이터를 뽑기 = 테스트용데이터\n",
    "y_test = iris.target[-30:]    # 150개 데이터 중에서 30개의 데이터를 뽑기 = 테스트용데이터\n",
    "print(X_test.shape, y_test.shape)\n",
    "\n",
    "print(y_train)"
   ]
  },
  {
   "cell_type": "code",
   "execution_count": 11,
   "id": "95408406",
   "metadata": {},
   "outputs": [
    {
     "name": "stdout",
     "output_type": "stream",
     "text": [
      "(105, 4) (105,) (45, 4) (45,)\n",
      "[1 2 2 2 2 1 2 1 1 2 2 2 2 1 2 1 0 2 1 1 1 1 2 0 0 2 1 0 0 1 0 2 1 0 1 2 1\n",
      " 0 2 2 2 2 0 0 2 2 0 2 0 2 2 0 0 2 0 0 0 1 2 2 0 0 0 1 1 0 0 1 0 2 1 2 1 0\n",
      " 2 0 2 0 0 2 0 2 1 1 1 2 2 1 1 0 1 2 2 0 1 1 1 1 0 0 0 2 1 2 0]\n"
     ]
    }
   ],
   "source": [
    "# train_test_split() 을 사용해서 위 훈련용/테스트용 데이터 나누기를 쉽게...여기서 test_size=0.3은 데이터중 30프로를 테스트용으로..\n",
    "# 나머지 70프로는 훈련용으로 사용하겠다는 뜻,  random_state 를 지정하지 않으면 실행시마다 셔플 = 데이터 섞임\n",
    "\n",
    "X_train, X_test, y_train, y_test = train_test_split(iris.data, iris.target, test_size=0.3, random_state=0)\n",
    "print(X_train.shape, y_train.shape, X_test.shape, y_test.shape)\n",
    "\n",
    "print(y_train)"
   ]
  },
  {
   "cell_type": "markdown",
   "id": "900d6be1",
   "metadata": {},
   "source": [
    "### (2) Cross Validation\n",
    "\n",
    "+ K fold 방식"
   ]
  },
  {
   "cell_type": "code",
   "execution_count": 13,
   "id": "93df98de",
   "metadata": {
    "scrolled": true
   },
   "outputs": [
    {
     "data": {
      "text/plain": [
       "[(array([ 21,  22,  23,  24,  25,  26,  27,  28,  29,  30,  31,  32,  33,\n",
       "          34,  35,  36,  37,  38,  39,  40,  41,  42,  43,  44,  45,  46,\n",
       "          47,  48,  49,  50,  51,  52,  53,  54,  55,  56,  57,  58,  59,\n",
       "          60,  61,  62,  63,  64,  65,  66,  67,  68,  69,  70,  71,  72,\n",
       "          73,  74,  75,  76,  77,  78,  79,  80,  81,  82,  83,  84,  85,\n",
       "          86,  87,  88,  89,  90,  91,  92,  93,  94,  95,  96,  97,  98,\n",
       "          99, 100, 101, 102, 103, 104]),\n",
       "  array([ 0,  1,  2,  3,  4,  5,  6,  7,  8,  9, 10, 11, 12, 13, 14, 15, 16,\n",
       "         17, 18, 19, 20])),\n",
       " (array([  0,   1,   2,   3,   4,   5,   6,   7,   8,   9,  10,  11,  12,\n",
       "          13,  14,  15,  16,  17,  18,  19,  20,  42,  43,  44,  45,  46,\n",
       "          47,  48,  49,  50,  51,  52,  53,  54,  55,  56,  57,  58,  59,\n",
       "          60,  61,  62,  63,  64,  65,  66,  67,  68,  69,  70,  71,  72,\n",
       "          73,  74,  75,  76,  77,  78,  79,  80,  81,  82,  83,  84,  85,\n",
       "          86,  87,  88,  89,  90,  91,  92,  93,  94,  95,  96,  97,  98,\n",
       "          99, 100, 101, 102, 103, 104]),\n",
       "  array([21, 22, 23, 24, 25, 26, 27, 28, 29, 30, 31, 32, 33, 34, 35, 36, 37,\n",
       "         38, 39, 40, 41])),\n",
       " (array([  0,   1,   2,   3,   4,   5,   6,   7,   8,   9,  10,  11,  12,\n",
       "          13,  14,  15,  16,  17,  18,  19,  20,  21,  22,  23,  24,  25,\n",
       "          26,  27,  28,  29,  30,  31,  32,  33,  34,  35,  36,  37,  38,\n",
       "          39,  40,  41,  63,  64,  65,  66,  67,  68,  69,  70,  71,  72,\n",
       "          73,  74,  75,  76,  77,  78,  79,  80,  81,  82,  83,  84,  85,\n",
       "          86,  87,  88,  89,  90,  91,  92,  93,  94,  95,  96,  97,  98,\n",
       "          99, 100, 101, 102, 103, 104]),\n",
       "  array([42, 43, 44, 45, 46, 47, 48, 49, 50, 51, 52, 53, 54, 55, 56, 57, 58,\n",
       "         59, 60, 61, 62])),\n",
       " (array([  0,   1,   2,   3,   4,   5,   6,   7,   8,   9,  10,  11,  12,\n",
       "          13,  14,  15,  16,  17,  18,  19,  20,  21,  22,  23,  24,  25,\n",
       "          26,  27,  28,  29,  30,  31,  32,  33,  34,  35,  36,  37,  38,\n",
       "          39,  40,  41,  42,  43,  44,  45,  46,  47,  48,  49,  50,  51,\n",
       "          52,  53,  54,  55,  56,  57,  58,  59,  60,  61,  62,  84,  85,\n",
       "          86,  87,  88,  89,  90,  91,  92,  93,  94,  95,  96,  97,  98,\n",
       "          99, 100, 101, 102, 103, 104]),\n",
       "  array([63, 64, 65, 66, 67, 68, 69, 70, 71, 72, 73, 74, 75, 76, 77, 78, 79,\n",
       "         80, 81, 82, 83])),\n",
       " (array([ 0,  1,  2,  3,  4,  5,  6,  7,  8,  9, 10, 11, 12, 13, 14, 15, 16,\n",
       "         17, 18, 19, 20, 21, 22, 23, 24, 25, 26, 27, 28, 29, 30, 31, 32, 33,\n",
       "         34, 35, 36, 37, 38, 39, 40, 41, 42, 43, 44, 45, 46, 47, 48, 49, 50,\n",
       "         51, 52, 53, 54, 55, 56, 57, 58, 59, 60, 61, 62, 63, 64, 65, 66, 67,\n",
       "         68, 69, 70, 71, 72, 73, 74, 75, 76, 77, 78, 79, 80, 81, 82, 83]),\n",
       "  array([ 84,  85,  86,  87,  88,  89,  90,  91,  92,  93,  94,  95,  96,\n",
       "          97,  98,  99, 100, 101, 102, 103, 104]))]"
      ]
     },
     "execution_count": 13,
     "metadata": {},
     "output_type": "execute_result"
    }
   ],
   "source": [
    "from sklearn.model_selection import KFold\n",
    "\n",
    "X_train, X_test, y_train, y_test = train_test_split(iris.data, iris.target, test_size=0.3, random_state=0)\n",
    "\n",
    "kfold = KFold(n_splits=5)\n",
    "kfold.split(X_train)    # X_train 에 담겨있던 105개의 데이터를 5등분 = KFold(n_splits=5) 해놓은 것, 객체\n",
    "list(kfold.split(X_train))  # 나타낸 숫자는 실제 값이 아닌 인덱스 값"
   ]
  },
  {
   "cell_type": "code",
   "execution_count": 19,
   "id": "5c57f26b",
   "metadata": {},
   "outputs": [
    {
     "name": "stdout",
     "output_type": "stream",
     "text": [
      "\n",
      "정확도:0.8571, 훈련데이터 크기:84, 검증데이터 크기:21\n",
      "\n",
      "정확도:1.0, 훈련데이터 크기:84, 검증데이터 크기:21\n",
      "\n",
      "정확도:1.0, 훈련데이터 크기:84, 검증데이터 크기:21\n",
      "\n",
      "정확도:1.0, 훈련데이터 크기:84, 검증데이터 크기:21\n",
      "\n",
      "정확도:0.8571, 훈련데이터 크기:84, 검증데이터 크기:21\n"
     ]
    }
   ],
   "source": [
    "# KNN 알고리즘으로 테스트를 해보겠다 가정\n",
    "# 위에서 데이터를 5등분 했으니 나뉘어진 데이터별로 각각 테스트해야하므로 총 5번을 테스트해야하고 이를 반복문으로 돌린다.\n",
    "\n",
    "clf = KNeighborsClassifier(n_neighbors=3)\n",
    "\n",
    "cv_accuracy = []\n",
    "for train_index, test_index in kfold.split(X_train):\n",
    "    x_train, x_test = X_train[train_index], X_train[test_index]\n",
    "    train_y, test_y = y_train[train_index], y_train[test_index]\n",
    "    \n",
    "    clf.fit(x_train, train_y)\n",
    "    pred = clf.predict(x_test)\n",
    "    \n",
    "    accuracy = np.round(accuracy_score(test_y, pred), 4)     # 정답 : test_y , 예측한 값 : pred\n",
    "    \n",
    "    print(\"\\n정확도:{}, 훈련데이터 크기:{}, 검증데이터 크기:{}\".format(accuracy, x_train.shape[0], x_test.shape[0]))\n",
    "    \n",
    "    cv_accuracy.append(accuracy)"
   ]
  },
  {
   "cell_type": "code",
   "execution_count": 20,
   "id": "358f42ad",
   "metadata": {},
   "outputs": [
    {
     "name": "stdout",
     "output_type": "stream",
     "text": [
      "평균 정확도 :  0.94284\n"
     ]
    }
   ],
   "source": [
    "print(\"평균 정확도 : \", np.mean(cv_accuracy))"
   ]
  },
  {
   "cell_type": "code",
   "execution_count": 21,
   "id": "9749317a",
   "metadata": {},
   "outputs": [
    {
     "data": {
      "text/plain": [
       "0.9777777777777777"
      ]
     },
     "execution_count": 21,
     "metadata": {},
     "output_type": "execute_result"
    }
   ],
   "source": [
    "##### 최종 테스트\n",
    "pred = clf.predict(X_test)     # 테스트 데이터값 예측\n",
    "accuracy_score(y_test, pred)      # 정답 : test_y , 예측한 값 : pred   을 accuracy_score 로 테스트하고 결과"
   ]
  },
  {
   "cell_type": "markdown",
   "id": "f98920a7",
   "metadata": {},
   "source": [
    "+ Stratified K 폴드\n",
    "    + 카테고리별로 데이터의 갯수가 불균형할때"
   ]
  },
  {
   "cell_type": "code",
   "execution_count": 28,
   "id": "96122aec",
   "metadata": {},
   "outputs": [
    {
     "data": {
      "text/plain": [
       "0    50\n",
       "1    50\n",
       "2    50\n",
       "Name: label, dtype: int64"
      ]
     },
     "execution_count": 28,
     "metadata": {},
     "output_type": "execute_result"
    }
   ],
   "source": [
    "iris_df = pd.DataFrame(data=iris.data, columns=iris.feature_names)\n",
    "iris_df\n",
    "\n",
    "iris_df[\"label\"] = iris.target\n",
    "iris_df\n",
    "\n",
    "iris_df[\"label\"].value_counts()"
   ]
  },
  {
   "cell_type": "code",
   "execution_count": 29,
   "id": "ae4272e4",
   "metadata": {},
   "outputs": [
    {
     "name": "stdout",
     "output_type": "stream",
     "text": [
      "1    50\n",
      "2    50\n",
      "Name: label, dtype: int64\n",
      "0    50\n",
      "Name: label, dtype: int64\n",
      "---------------------------------------\n",
      "0    50\n",
      "2    50\n",
      "Name: label, dtype: int64\n",
      "1    50\n",
      "Name: label, dtype: int64\n",
      "---------------------------------------\n",
      "0    50\n",
      "1    50\n",
      "Name: label, dtype: int64\n",
      "2    50\n",
      "Name: label, dtype: int64\n",
      "---------------------------------------\n"
     ]
    }
   ],
   "source": [
    "# K fold 방식을 사용할때 발생할 수 있는 문제점\n",
    "\n",
    "kfold = KFold(n_splits=3)    # 3등분\n",
    "\n",
    "for train_index, test_index in kfold.split(iris_df):\n",
    "    label_train = iris_df[\"label\"].iloc[train_index]\n",
    "    label_test = iris_df[\"label\"].iloc[test_index]\n",
    "    \n",
    "    print(label_train.value_counts())\n",
    "    print(label_test.value_counts())\n",
    "    print(\"---------------------------------------\")\n",
    "\n",
    "# 세등분으로 나뉜 데이터를 2개는 훈련용, 1개는 테스트용으로 사용하나 한가지 문제가 발생한다.\n",
    "# 아래 결과와 같이 1번과 2번 데이터로 훈련을 했으나 0번으로 테스트를 하게되면 시험범위가 달라지는 오류가 발생한다.\n",
    "# 0번 2번으로 훈련하고 1번으로 테스트보는 오류...훈련범위와 테스트 범위가 다른 경우가 발생"
   ]
  },
  {
   "cell_type": "code",
   "execution_count": 32,
   "id": "c4ac6549",
   "metadata": {},
   "outputs": [
    {
     "name": "stdout",
     "output_type": "stream",
     "text": [
      "2    34\n",
      "0    33\n",
      "1    33\n",
      "Name: label, dtype: int64\n",
      "0    17\n",
      "1    17\n",
      "2    16\n",
      "Name: label, dtype: int64\n",
      "---------------------------------------\n",
      "1    34\n",
      "0    33\n",
      "2    33\n",
      "Name: label, dtype: int64\n",
      "0    17\n",
      "2    17\n",
      "1    16\n",
      "Name: label, dtype: int64\n",
      "---------------------------------------\n",
      "0    34\n",
      "1    33\n",
      "2    33\n",
      "Name: label, dtype: int64\n",
      "1    17\n",
      "2    17\n",
      "0    16\n",
      "Name: label, dtype: int64\n",
      "---------------------------------------\n"
     ]
    }
   ],
   "source": [
    "# K fold 방식을 보완한 Stratified K fold 방식\n",
    "\n",
    "from sklearn.model_selection import StratifiedKFold\n",
    "\n",
    "skfold = StratifiedKFold(n_splits=3)\n",
    "\n",
    "for train_index, test_index in skfold.split(iris_df, iris_df[\"label\"]):\n",
    "    label_train = iris_df[\"label\"].iloc[train_index]\n",
    "    label_test = iris_df[\"label\"].iloc[test_index]\n",
    "    \n",
    "    print(label_train.value_counts())\n",
    "    print(label_test.value_counts())\n",
    "    print(\"---------------------------------------\")\n",
    "    \n",
    "# 아래 결과와 같이 비율에 맞춰 골고루 섞어서 훈련용과 테스트용으로 나눠 진행한다."
   ]
  },
  {
   "cell_type": "code",
   "execution_count": 33,
   "id": "bc5bd482",
   "metadata": {},
   "outputs": [],
   "source": [
    "?train_test_split"
   ]
  },
  {
   "cell_type": "markdown",
   "id": "d7bcc86d",
   "metadata": {},
   "source": [
    "### (3) 교차 검증을 훨씬 간단하게 구현\n",
    "\n",
    "+ cross_val_score()\n",
    "+ cross_validate()"
   ]
  },
  {
   "cell_type": "code",
   "execution_count": 34,
   "id": "39dacb8c",
   "metadata": {},
   "outputs": [],
   "source": [
    "from sklearn.model_selection import cross_val_score\n",
    "\n",
    "clf = KNeighborsClassifier(n_neighbors=3)\n",
    "\n",
    "# ()안 순서 ->  알고리즘, 훈련데이터, 정답, cv(몇개로 나눌건지), scoring(어떤방식으로 측정 - accuracy는 정확성))\n",
    "scores = cross_val_score(clf, iris.data, iris.target, cv=5, scoring=\"accuracy\")"
   ]
  },
  {
   "cell_type": "code",
   "execution_count": 37,
   "id": "5de84e49",
   "metadata": {},
   "outputs": [
    {
     "name": "stdout",
     "output_type": "stream",
     "text": [
      "[0.96666667 0.96666667 0.93333333 0.96666667 1.        ]\n",
      "0.9666666666666668\n"
     ]
    }
   ],
   "source": [
    "print(scores)\n",
    "print(np.mean(scores))    # 평균 96점"
   ]
  },
  {
   "cell_type": "markdown",
   "id": "439f24b4",
   "metadata": {},
   "source": [
    "### (4) GridSearchCV\n",
    "\n",
    "+ 교차 검증과 최적의 하이퍼 파라미터 튜닝을 한번에 처리\n",
    "    - estimator : classifier, regressor, pipeline\n",
    "    - param_grid : key + 리스트값을 갖는 dict\n",
    "    - scoring = 평가지표\n",
    "    - cv : 교차 검증을 위해 분할되는 학습/테스트셋의 갯수를 지정\n",
    "    - refit : default True, 최적의 파라미터를 찾은 뒤 재학습 여부"
   ]
  },
  {
   "cell_type": "code",
   "execution_count": 39,
   "id": "ea9fef18",
   "metadata": {},
   "outputs": [],
   "source": [
    "? GridSearchCV"
   ]
  },
  {
   "cell_type": "code",
   "execution_count": 47,
   "id": "4abfc271",
   "metadata": {},
   "outputs": [],
   "source": [
    "iris = load_iris()\n",
    "\n",
    "X_train, X_test, y_train, y_test = train_test_split(iris.data, iris.target, test_size=0.2, random_state=121)\n",
    "\n",
    "knn = KNeighborsClassifier()"
   ]
  },
  {
   "cell_type": "code",
   "execution_count": 48,
   "id": "7c173d13",
   "metadata": {},
   "outputs": [
    {
     "data": {
      "text/plain": [
       "GridSearchCV(cv=3, estimator=KNeighborsClassifier(),\n",
       "             param_grid={'n_neighbors': [1, 2, 3, 4, 5, 6, 7, 8, 9, 10, 11, 12,\n",
       "                                         13, 14, 15]})"
      ]
     },
     "execution_count": 48,
     "metadata": {},
     "output_type": "execute_result"
    }
   ],
   "source": [
    "params = {\"n_neighbors\":[n for n in range(1, 16)]}\n",
    "\n",
    "grid_clf = GridSearchCV(knn, param_grid=params, cv=3)\n",
    "grid_clf.fit(X_train, y_train)"
   ]
  },
  {
   "cell_type": "code",
   "execution_count": 49,
   "id": "e3d87fe1",
   "metadata": {},
   "outputs": [
    {
     "data": {
      "text/html": [
       "<div>\n",
       "<style scoped>\n",
       "    .dataframe tbody tr th:only-of-type {\n",
       "        vertical-align: middle;\n",
       "    }\n",
       "\n",
       "    .dataframe tbody tr th {\n",
       "        vertical-align: top;\n",
       "    }\n",
       "\n",
       "    .dataframe thead th {\n",
       "        text-align: right;\n",
       "    }\n",
       "</style>\n",
       "<table border=\"1\" class=\"dataframe\">\n",
       "  <thead>\n",
       "    <tr style=\"text-align: right;\">\n",
       "      <th></th>\n",
       "      <th>params</th>\n",
       "      <th>mean_test_score</th>\n",
       "    </tr>\n",
       "  </thead>\n",
       "  <tbody>\n",
       "    <tr>\n",
       "      <th>0</th>\n",
       "      <td>{'n_neighbors': 1}</td>\n",
       "      <td>0.966667</td>\n",
       "    </tr>\n",
       "    <tr>\n",
       "      <th>1</th>\n",
       "      <td>{'n_neighbors': 2}</td>\n",
       "      <td>0.933333</td>\n",
       "    </tr>\n",
       "    <tr>\n",
       "      <th>2</th>\n",
       "      <td>{'n_neighbors': 3}</td>\n",
       "      <td>0.966667</td>\n",
       "    </tr>\n",
       "    <tr>\n",
       "      <th>3</th>\n",
       "      <td>{'n_neighbors': 4}</td>\n",
       "      <td>0.958333</td>\n",
       "    </tr>\n",
       "    <tr>\n",
       "      <th>4</th>\n",
       "      <td>{'n_neighbors': 5}</td>\n",
       "      <td>0.975000</td>\n",
       "    </tr>\n",
       "    <tr>\n",
       "      <th>5</th>\n",
       "      <td>{'n_neighbors': 6}</td>\n",
       "      <td>0.958333</td>\n",
       "    </tr>\n",
       "    <tr>\n",
       "      <th>6</th>\n",
       "      <td>{'n_neighbors': 7}</td>\n",
       "      <td>0.975000</td>\n",
       "    </tr>\n",
       "    <tr>\n",
       "      <th>7</th>\n",
       "      <td>{'n_neighbors': 8}</td>\n",
       "      <td>0.950000</td>\n",
       "    </tr>\n",
       "    <tr>\n",
       "      <th>8</th>\n",
       "      <td>{'n_neighbors': 9}</td>\n",
       "      <td>0.966667</td>\n",
       "    </tr>\n",
       "    <tr>\n",
       "      <th>9</th>\n",
       "      <td>{'n_neighbors': 10}</td>\n",
       "      <td>0.958333</td>\n",
       "    </tr>\n",
       "    <tr>\n",
       "      <th>10</th>\n",
       "      <td>{'n_neighbors': 11}</td>\n",
       "      <td>0.975000</td>\n",
       "    </tr>\n",
       "    <tr>\n",
       "      <th>11</th>\n",
       "      <td>{'n_neighbors': 12}</td>\n",
       "      <td>0.975000</td>\n",
       "    </tr>\n",
       "    <tr>\n",
       "      <th>12</th>\n",
       "      <td>{'n_neighbors': 13}</td>\n",
       "      <td>0.975000</td>\n",
       "    </tr>\n",
       "    <tr>\n",
       "      <th>13</th>\n",
       "      <td>{'n_neighbors': 14}</td>\n",
       "      <td>0.966667</td>\n",
       "    </tr>\n",
       "    <tr>\n",
       "      <th>14</th>\n",
       "      <td>{'n_neighbors': 15}</td>\n",
       "      <td>0.966667</td>\n",
       "    </tr>\n",
       "  </tbody>\n",
       "</table>\n",
       "</div>"
      ],
      "text/plain": [
       "                 params  mean_test_score\n",
       "0    {'n_neighbors': 1}         0.966667\n",
       "1    {'n_neighbors': 2}         0.933333\n",
       "2    {'n_neighbors': 3}         0.966667\n",
       "3    {'n_neighbors': 4}         0.958333\n",
       "4    {'n_neighbors': 5}         0.975000\n",
       "5    {'n_neighbors': 6}         0.958333\n",
       "6    {'n_neighbors': 7}         0.975000\n",
       "7    {'n_neighbors': 8}         0.950000\n",
       "8    {'n_neighbors': 9}         0.966667\n",
       "9   {'n_neighbors': 10}         0.958333\n",
       "10  {'n_neighbors': 11}         0.975000\n",
       "11  {'n_neighbors': 12}         0.975000\n",
       "12  {'n_neighbors': 13}         0.975000\n",
       "13  {'n_neighbors': 14}         0.966667\n",
       "14  {'n_neighbors': 15}         0.966667"
      ]
     },
     "execution_count": 49,
     "metadata": {},
     "output_type": "execute_result"
    }
   ],
   "source": [
    "dir(grid_clf)\n",
    "scores_df = pd.DataFrame(grid_clf.cv_results_)\n",
    "scores_df\n",
    "scores_df[[\"params\", \"mean_test_score\"]]"
   ]
  },
  {
   "cell_type": "code",
   "execution_count": 50,
   "id": "f0984e78",
   "metadata": {},
   "outputs": [
    {
     "data": {
      "text/plain": [
       "({'n_neighbors': 5}, 0.975)"
      ]
     },
     "execution_count": 50,
     "metadata": {},
     "output_type": "execute_result"
    }
   ],
   "source": [
    "grid_clf.best_params_, grid_clf.best_score_      "
   ]
  },
  {
   "cell_type": "code",
   "execution_count": 51,
   "id": "f9f8956c",
   "metadata": {},
   "outputs": [
    {
     "name": "stdout",
     "output_type": "stream",
     "text": [
      "0.9666666666666667\n"
     ]
    }
   ],
   "source": [
    "pred = grid_clf.predict(X_test)\n",
    "print(accuracy_score(y_test, pred))"
   ]
  },
  {
   "cell_type": "markdown",
   "id": "32f58a2c",
   "metadata": {},
   "source": [
    "---\n",
    "\n",
    "# 2. 전처리\n",
    "\n",
    "+ 결측치 허용 안됨\n",
    "+ 문자열 허용 안됨"
   ]
  },
  {
   "cell_type": "markdown",
   "id": "f7a085ea",
   "metadata": {},
   "source": [
    "### (1) 문자열 해결을 위한 인코딩\n",
    "+ 레이블 인코딩  ( 활용도는 떨어지나 문자를 숫자로 바꿔서 원-핫 인코딩을 사용가능하게끔 변환위해 사용 )\n",
    "+ 원-핫 인코딩  ( 숫자를 0과 1로 바꿔주는것, 사전에 숫자로 바뀌어져 있어야 사용가능 )"
   ]
  },
  {
   "cell_type": "markdown",
   "id": "e5e05e73",
   "metadata": {},
   "source": [
    "#### 1) 레이블 인코딩"
   ]
  },
  {
   "cell_type": "code",
   "execution_count": 56,
   "id": "943db059",
   "metadata": {},
   "outputs": [
    {
     "name": "stdout",
     "output_type": "stream",
     "text": [
      "[0 1 4 5 3 3 2 2]\n",
      "['TV' '냉장고' '믹서' '선풍기' '전자렌지' '컴퓨터']\n",
      "['TV' '냉장고' '전자렌지' '컴퓨터' '선풍기' '선풍기' '믹서' '믹서']\n"
     ]
    }
   ],
   "source": [
    "items = [\"TV\", \"냉장고\", \"전자렌지\", \"컴퓨터\", \"선풍기\", \"선풍기\", \"믹서\", \"믹서\"]\n",
    "\n",
    "encoder = LabelEncoder()     # LabelEncoder 각각의 데이터를 숫자로 바꿔주는 기능\n",
    "encoder.fit(items)\n",
    "labels = encoder.transform(items)\n",
    "\n",
    "print(labels)   # TV는 0으로, 냉장고는 1로, 전자렌지는 4로...\n",
    "print(encoder.classes_)     # classes_  는 어떤 분류 값이 있는지 확인 = unique 랑 동일한 기능\n",
    "print(encoder.inverse_transform([0, 1, 4, 5, 3, 3, 2, 2]))   # inverse_transform 는 숫자로 변환되었던 값을 다시 문자로 변환"
   ]
  },
  {
   "cell_type": "markdown",
   "id": "ea0a7aa7",
   "metadata": {},
   "source": [
    "#### 2) One-Hot Encoding\n",
    "\n",
    "- 새로운 feature를 추가해 고유 값에 해당하는 컬럼에만 1을 표시하고 나머지는 0으로 표시\n",
    "- 사전에 반드시 숫자로 변환이 되어 있어야 한다.\n",
    "- 입력값으로 2차원 데이터가 필요하다."
   ]
  },
  {
   "cell_type": "code",
   "execution_count": 61,
   "id": "65347e95",
   "metadata": {},
   "outputs": [
    {
     "name": "stdout",
     "output_type": "stream",
     "text": [
      "[[1. 0. 0. 0. 0. 0.]\n",
      " [0. 1. 0. 0. 0. 0.]\n",
      " [0. 0. 0. 0. 1. 0.]\n",
      " [0. 0. 0. 0. 0. 1.]\n",
      " [0. 0. 0. 1. 0. 0.]\n",
      " [0. 0. 0. 1. 0. 0.]\n",
      " [0. 0. 1. 0. 0. 0.]\n",
      " [0. 0. 1. 0. 0. 0.]]\n",
      "(8, 6)\n"
     ]
    }
   ],
   "source": [
    "items = [\"TV\", \"냉장고\", \"전자렌지\", \"컴퓨터\", \"선풍기\", \"선풍기\", \"믹서\", \"믹서\"]\n",
    "\n",
    "encoder = LabelEncoder()     # LabelEncoder 각각의 데이터를 숫자로 바꿔주는 기능\n",
    "encoder.fit(items)\n",
    "labels = encoder.transform(items)    # 1차원 배열 [0 1 4 5 3 3 2 2]\n",
    "\n",
    "labels = labels.reshape(-1, 1)    # 행 전체와 열 1개로 2차원 배열로 만듬\n",
    "\n",
    "one = OneHotEncoder()   # 객체 생성\n",
    "one.fit(labels)    # fit 함수를 통해 labels 데이터를 넘겨줌, 매핑\n",
    "oh = one.transform(labels)\n",
    "print(oh.toarray())    # toarray() 를 통해 배열형식으로 확인하기\n",
    "print(oh.shape)    # 8행 6열 -   열은 카테고리 갯수만큼 늘어났음 ( TV, 냉장고, 전자렌지, 컴퓨터, 선풍기, 믹서 = 6개)"
   ]
  },
  {
   "cell_type": "markdown",
   "id": "c9bc3c1e",
   "metadata": {},
   "source": [
    "#### 3) get_dummies() : pandas"
   ]
  },
  {
   "cell_type": "code",
   "execution_count": 62,
   "id": "7dc42a57",
   "metadata": {},
   "outputs": [
    {
     "data": {
      "text/html": [
       "<div>\n",
       "<style scoped>\n",
       "    .dataframe tbody tr th:only-of-type {\n",
       "        vertical-align: middle;\n",
       "    }\n",
       "\n",
       "    .dataframe tbody tr th {\n",
       "        vertical-align: top;\n",
       "    }\n",
       "\n",
       "    .dataframe thead th {\n",
       "        text-align: right;\n",
       "    }\n",
       "</style>\n",
       "<table border=\"1\" class=\"dataframe\">\n",
       "  <thead>\n",
       "    <tr style=\"text-align: right;\">\n",
       "      <th></th>\n",
       "      <th>item</th>\n",
       "    </tr>\n",
       "  </thead>\n",
       "  <tbody>\n",
       "    <tr>\n",
       "      <th>0</th>\n",
       "      <td>TV</td>\n",
       "    </tr>\n",
       "    <tr>\n",
       "      <th>1</th>\n",
       "      <td>냉장고</td>\n",
       "    </tr>\n",
       "    <tr>\n",
       "      <th>2</th>\n",
       "      <td>전자렌지</td>\n",
       "    </tr>\n",
       "    <tr>\n",
       "      <th>3</th>\n",
       "      <td>컴퓨터</td>\n",
       "    </tr>\n",
       "    <tr>\n",
       "      <th>4</th>\n",
       "      <td>선풍기</td>\n",
       "    </tr>\n",
       "    <tr>\n",
       "      <th>5</th>\n",
       "      <td>선풍기</td>\n",
       "    </tr>\n",
       "    <tr>\n",
       "      <th>6</th>\n",
       "      <td>믹서</td>\n",
       "    </tr>\n",
       "    <tr>\n",
       "      <th>7</th>\n",
       "      <td>믹서</td>\n",
       "    </tr>\n",
       "  </tbody>\n",
       "</table>\n",
       "</div>"
      ],
      "text/plain": [
       "   item\n",
       "0    TV\n",
       "1   냉장고\n",
       "2  전자렌지\n",
       "3   컴퓨터\n",
       "4   선풍기\n",
       "5   선풍기\n",
       "6    믹서\n",
       "7    믹서"
      ]
     },
     "execution_count": 62,
     "metadata": {},
     "output_type": "execute_result"
    }
   ],
   "source": [
    "df = pd.DataFrame({\"item\":[\"TV\", \"냉장고\", \"전자렌지\", \"컴퓨터\", \"선풍기\", \"선풍기\", \"믹서\", \"믹서\"]})\n",
    "df"
   ]
  },
  {
   "cell_type": "code",
   "execution_count": 63,
   "id": "fad4d618",
   "metadata": {},
   "outputs": [
    {
     "data": {
      "text/html": [
       "<div>\n",
       "<style scoped>\n",
       "    .dataframe tbody tr th:only-of-type {\n",
       "        vertical-align: middle;\n",
       "    }\n",
       "\n",
       "    .dataframe tbody tr th {\n",
       "        vertical-align: top;\n",
       "    }\n",
       "\n",
       "    .dataframe thead th {\n",
       "        text-align: right;\n",
       "    }\n",
       "</style>\n",
       "<table border=\"1\" class=\"dataframe\">\n",
       "  <thead>\n",
       "    <tr style=\"text-align: right;\">\n",
       "      <th></th>\n",
       "      <th>item_TV</th>\n",
       "      <th>item_냉장고</th>\n",
       "      <th>item_믹서</th>\n",
       "      <th>item_선풍기</th>\n",
       "      <th>item_전자렌지</th>\n",
       "      <th>item_컴퓨터</th>\n",
       "    </tr>\n",
       "  </thead>\n",
       "  <tbody>\n",
       "    <tr>\n",
       "      <th>0</th>\n",
       "      <td>1</td>\n",
       "      <td>0</td>\n",
       "      <td>0</td>\n",
       "      <td>0</td>\n",
       "      <td>0</td>\n",
       "      <td>0</td>\n",
       "    </tr>\n",
       "    <tr>\n",
       "      <th>1</th>\n",
       "      <td>0</td>\n",
       "      <td>1</td>\n",
       "      <td>0</td>\n",
       "      <td>0</td>\n",
       "      <td>0</td>\n",
       "      <td>0</td>\n",
       "    </tr>\n",
       "    <tr>\n",
       "      <th>2</th>\n",
       "      <td>0</td>\n",
       "      <td>0</td>\n",
       "      <td>0</td>\n",
       "      <td>0</td>\n",
       "      <td>1</td>\n",
       "      <td>0</td>\n",
       "    </tr>\n",
       "    <tr>\n",
       "      <th>3</th>\n",
       "      <td>0</td>\n",
       "      <td>0</td>\n",
       "      <td>0</td>\n",
       "      <td>0</td>\n",
       "      <td>0</td>\n",
       "      <td>1</td>\n",
       "    </tr>\n",
       "    <tr>\n",
       "      <th>4</th>\n",
       "      <td>0</td>\n",
       "      <td>0</td>\n",
       "      <td>0</td>\n",
       "      <td>1</td>\n",
       "      <td>0</td>\n",
       "      <td>0</td>\n",
       "    </tr>\n",
       "    <tr>\n",
       "      <th>5</th>\n",
       "      <td>0</td>\n",
       "      <td>0</td>\n",
       "      <td>0</td>\n",
       "      <td>1</td>\n",
       "      <td>0</td>\n",
       "      <td>0</td>\n",
       "    </tr>\n",
       "    <tr>\n",
       "      <th>6</th>\n",
       "      <td>0</td>\n",
       "      <td>0</td>\n",
       "      <td>1</td>\n",
       "      <td>0</td>\n",
       "      <td>0</td>\n",
       "      <td>0</td>\n",
       "    </tr>\n",
       "    <tr>\n",
       "      <th>7</th>\n",
       "      <td>0</td>\n",
       "      <td>0</td>\n",
       "      <td>1</td>\n",
       "      <td>0</td>\n",
       "      <td>0</td>\n",
       "      <td>0</td>\n",
       "    </tr>\n",
       "  </tbody>\n",
       "</table>\n",
       "</div>"
      ],
      "text/plain": [
       "   item_TV  item_냉장고  item_믹서  item_선풍기  item_전자렌지  item_컴퓨터\n",
       "0        1         0        0         0          0         0\n",
       "1        0         1        0         0          0         0\n",
       "2        0         0        0         0          1         0\n",
       "3        0         0        0         0          0         1\n",
       "4        0         0        0         1          0         0\n",
       "5        0         0        0         1          0         0\n",
       "6        0         0        1         0          0         0\n",
       "7        0         0        1         0          0         0"
      ]
     },
     "execution_count": 63,
     "metadata": {},
     "output_type": "execute_result"
    }
   ],
   "source": [
    "pd.get_dummies(df)"
   ]
  },
  {
   "cell_type": "markdown",
   "id": "15861df5",
   "metadata": {},
   "source": [
    "### (2) Feature Scaling\n",
    "\n",
    "+ 표준화 : (Xi - mean(X)) / sd(X)\n",
    "+ 정규화 : (Xi - mean(X)) / max(X) - min(X)"
   ]
  },
  {
   "cell_type": "markdown",
   "id": "d7d4810c",
   "metadata": {},
   "source": [
    "#### 1) 표준화 : StandardScaler"
   ]
  },
  {
   "cell_type": "code",
   "execution_count": 65,
   "id": "a0014071",
   "metadata": {},
   "outputs": [
    {
     "name": "stdout",
     "output_type": "stream",
     "text": [
      "sepal length (cm)    5.843333\n",
      "sepal width (cm)     3.057333\n",
      "petal length (cm)    3.758000\n",
      "petal width (cm)     1.199333\n",
      "dtype: float64\n",
      "-------------------\n",
      "sepal length (cm)    0.685694\n",
      "sepal width (cm)     0.189979\n",
      "petal length (cm)    3.116278\n",
      "petal width (cm)     0.581006\n",
      "dtype: float64\n"
     ]
    }
   ],
   "source": [
    "iris = load_iris()\n",
    "\n",
    "df = pd.DataFrame(data=iris.data, columns=iris.feature_names)\n",
    "df\n",
    "\n",
    "print(df.mean())               # 평균 ( 표준화 : 0에 가까워야하나 3, 5 같은 떨어진 값이 보임 )\n",
    "print(\"-------------------\")\n",
    "print(df.var())               # 분산 ( 표준편차 : 1에 가까워야하나 3같은 떨어진 값이 보임 )"
   ]
  },
  {
   "cell_type": "code",
   "execution_count": 66,
   "id": "df72923f",
   "metadata": {},
   "outputs": [],
   "source": [
    "scaler = StandardScaler()   # 객체 생성\n",
    "scaler.fit(df)      # fit 함수를 통해 df 데이터를 넘겨줌, 매핑\n",
    "iris_scaled = scaler.transform(df)"
   ]
  },
  {
   "cell_type": "code",
   "execution_count": 68,
   "id": "3592cdc1",
   "metadata": {},
   "outputs": [
    {
     "name": "stdout",
     "output_type": "stream",
     "text": [
      "sepal length (cm)   -1.690315e-15\n",
      "sepal width (cm)    -1.842970e-15\n",
      "petal length (cm)   -1.698641e-15\n",
      "petal width (cm)    -1.409243e-15\n",
      "dtype: float64\n",
      "-------------------\n",
      "sepal length (cm)    1.006711\n",
      "sepal width (cm)     1.006711\n",
      "petal length (cm)    1.006711\n",
      "petal width (cm)     1.006711\n",
      "dtype: float64\n"
     ]
    }
   ],
   "source": [
    "df_scaled = pd.DataFrame(data=iris_scaled, columns=iris.feature_names)\n",
    "df_scaled\n",
    "\n",
    "print(df_scaled.mean())               # 평균 ( 표준화 : 0에 가깝게 만들어줘야함 )\n",
    "print(\"-------------------\")\n",
    "print(df_scaled.var())               # 분산 ( 표준편차 : 1에 가깝게 만들어줘야함 )\n",
    "\n",
    "# 표준화는 0,  표준편차는 1에 가까움 - StandardScaler() 를 통해 가깝게 만들어줬고 결과확인"
   ]
  },
  {
   "cell_type": "markdown",
   "id": "96f800ee",
   "metadata": {},
   "source": [
    "#### 2) 정규화 : MinMaxScaler"
   ]
  },
  {
   "cell_type": "code",
   "execution_count": 69,
   "id": "058b5a14",
   "metadata": {},
   "outputs": [],
   "source": [
    "scaler = MinMaxScaler()   # 객체 생성\n",
    "scaler.fit(df)      # fit 함수를 통해 df 데이터를 넘겨줌, 매핑\n",
    "iris_mms = scaler.transform(df)"
   ]
  },
  {
   "cell_type": "code",
   "execution_count": 71,
   "id": "f8eadf55",
   "metadata": {},
   "outputs": [
    {
     "data": {
      "text/html": [
       "<div>\n",
       "<style scoped>\n",
       "    .dataframe tbody tr th:only-of-type {\n",
       "        vertical-align: middle;\n",
       "    }\n",
       "\n",
       "    .dataframe tbody tr th {\n",
       "        vertical-align: top;\n",
       "    }\n",
       "\n",
       "    .dataframe thead th {\n",
       "        text-align: right;\n",
       "    }\n",
       "</style>\n",
       "<table border=\"1\" class=\"dataframe\">\n",
       "  <thead>\n",
       "    <tr style=\"text-align: right;\">\n",
       "      <th></th>\n",
       "      <th>sepal length (cm)</th>\n",
       "      <th>sepal width (cm)</th>\n",
       "      <th>petal length (cm)</th>\n",
       "      <th>petal width (cm)</th>\n",
       "    </tr>\n",
       "  </thead>\n",
       "  <tbody>\n",
       "    <tr>\n",
       "      <th>0</th>\n",
       "      <td>0.222222</td>\n",
       "      <td>0.625000</td>\n",
       "      <td>0.067797</td>\n",
       "      <td>0.041667</td>\n",
       "    </tr>\n",
       "    <tr>\n",
       "      <th>1</th>\n",
       "      <td>0.166667</td>\n",
       "      <td>0.416667</td>\n",
       "      <td>0.067797</td>\n",
       "      <td>0.041667</td>\n",
       "    </tr>\n",
       "    <tr>\n",
       "      <th>2</th>\n",
       "      <td>0.111111</td>\n",
       "      <td>0.500000</td>\n",
       "      <td>0.050847</td>\n",
       "      <td>0.041667</td>\n",
       "    </tr>\n",
       "    <tr>\n",
       "      <th>3</th>\n",
       "      <td>0.083333</td>\n",
       "      <td>0.458333</td>\n",
       "      <td>0.084746</td>\n",
       "      <td>0.041667</td>\n",
       "    </tr>\n",
       "    <tr>\n",
       "      <th>4</th>\n",
       "      <td>0.194444</td>\n",
       "      <td>0.666667</td>\n",
       "      <td>0.067797</td>\n",
       "      <td>0.041667</td>\n",
       "    </tr>\n",
       "    <tr>\n",
       "      <th>...</th>\n",
       "      <td>...</td>\n",
       "      <td>...</td>\n",
       "      <td>...</td>\n",
       "      <td>...</td>\n",
       "    </tr>\n",
       "    <tr>\n",
       "      <th>145</th>\n",
       "      <td>0.666667</td>\n",
       "      <td>0.416667</td>\n",
       "      <td>0.711864</td>\n",
       "      <td>0.916667</td>\n",
       "    </tr>\n",
       "    <tr>\n",
       "      <th>146</th>\n",
       "      <td>0.555556</td>\n",
       "      <td>0.208333</td>\n",
       "      <td>0.677966</td>\n",
       "      <td>0.750000</td>\n",
       "    </tr>\n",
       "    <tr>\n",
       "      <th>147</th>\n",
       "      <td>0.611111</td>\n",
       "      <td>0.416667</td>\n",
       "      <td>0.711864</td>\n",
       "      <td>0.791667</td>\n",
       "    </tr>\n",
       "    <tr>\n",
       "      <th>148</th>\n",
       "      <td>0.527778</td>\n",
       "      <td>0.583333</td>\n",
       "      <td>0.745763</td>\n",
       "      <td>0.916667</td>\n",
       "    </tr>\n",
       "    <tr>\n",
       "      <th>149</th>\n",
       "      <td>0.444444</td>\n",
       "      <td>0.416667</td>\n",
       "      <td>0.694915</td>\n",
       "      <td>0.708333</td>\n",
       "    </tr>\n",
       "  </tbody>\n",
       "</table>\n",
       "<p>150 rows × 4 columns</p>\n",
       "</div>"
      ],
      "text/plain": [
       "     sepal length (cm)  sepal width (cm)  petal length (cm)  petal width (cm)\n",
       "0             0.222222          0.625000           0.067797          0.041667\n",
       "1             0.166667          0.416667           0.067797          0.041667\n",
       "2             0.111111          0.500000           0.050847          0.041667\n",
       "3             0.083333          0.458333           0.084746          0.041667\n",
       "4             0.194444          0.666667           0.067797          0.041667\n",
       "..                 ...               ...                ...               ...\n",
       "145           0.666667          0.416667           0.711864          0.916667\n",
       "146           0.555556          0.208333           0.677966          0.750000\n",
       "147           0.611111          0.416667           0.711864          0.791667\n",
       "148           0.527778          0.583333           0.745763          0.916667\n",
       "149           0.444444          0.416667           0.694915          0.708333\n",
       "\n",
       "[150 rows x 4 columns]"
      ]
     },
     "execution_count": 71,
     "metadata": {},
     "output_type": "execute_result"
    }
   ],
   "source": [
    "df_mms = pd.DataFrame(data=iris_mms, columns=iris.feature_names)\n",
    "df_mms"
   ]
  },
  {
   "cell_type": "code",
   "execution_count": 72,
   "id": "9846931a",
   "metadata": {},
   "outputs": [
    {
     "name": "stdout",
     "output_type": "stream",
     "text": [
      "sepal length (cm)    0.428704\n",
      "sepal width (cm)     0.440556\n",
      "petal length (cm)    0.467458\n",
      "petal width (cm)     0.458056\n",
      "dtype: float64\n",
      "-------------------\n",
      "sepal length (cm)    0.052908\n",
      "sepal width (cm)     0.032983\n",
      "petal length (cm)    0.089522\n",
      "petal width (cm)     0.100869\n",
      "dtype: float64\n",
      "-------------------\n",
      "sepal length (cm)    1.0\n",
      "sepal width (cm)     1.0\n",
      "petal length (cm)    1.0\n",
      "petal width (cm)     1.0\n",
      "dtype: float64\n",
      "-------------------\n",
      "sepal length (cm)    0.0\n",
      "sepal width (cm)     0.0\n",
      "petal length (cm)    0.0\n",
      "petal width (cm)     0.0\n",
      "dtype: float64\n"
     ]
    }
   ],
   "source": [
    "print(df_mms.mean())\n",
    "print(\"-------------------\")\n",
    "print(df_mms.var())\n",
    "print(\"-------------------\")\n",
    "print(df_mms.max()) \n",
    "print(\"-------------------\")\n",
    "print(df_mms.min()) "
   ]
  },
  {
   "cell_type": "markdown",
   "id": "114434d9",
   "metadata": {},
   "source": [
    "#### 3) 사용시 주의할 점"
   ]
  },
  {
   "cell_type": "code",
   "execution_count": 74,
   "id": "e51df841",
   "metadata": {},
   "outputs": [
    {
     "name": "stdout",
     "output_type": "stream",
     "text": [
      "[[ 0]\n",
      " [ 1]\n",
      " [ 2]\n",
      " [ 3]\n",
      " [ 4]\n",
      " [ 5]\n",
      " [ 6]\n",
      " [ 7]\n",
      " [ 8]\n",
      " [ 9]\n",
      " [10]]\n",
      "[[0]\n",
      " [1]\n",
      " [2]\n",
      " [3]\n",
      " [4]\n",
      " [5]]\n"
     ]
    }
   ],
   "source": [
    "train_data = np.arange(0, 11).reshape(-1, 1)   # 가짜로 만든 훈련용 데이터\n",
    "test_data = np.arange(0, 6).reshape(-1, 1)   # 가짜로 만든 테스트용 데이터\n",
    "\n",
    "print(train_data)\n",
    "print(test_data)"
   ]
  },
  {
   "cell_type": "code",
   "execution_count": 76,
   "id": "0eeba1eb",
   "metadata": {},
   "outputs": [
    {
     "name": "stdout",
     "output_type": "stream",
     "text": [
      "원본 :  [ 0  1  2  3  4  5  6  7  8  9 10]\n",
      "스케일 :  [0.  0.1 0.2 0.3 0.4 0.5 0.6 0.7 0.8 0.9 1. ]\n",
      "-------------------------------------------\n",
      "원본 :  [0 1 2 3 4 5]\n",
      "스케일 :  [0.  0.2 0.4 0.6 0.8 1. ]\n"
     ]
    }
   ],
   "source": [
    "scaler = MinMaxScaler()\n",
    "scaler.fit(train_data)\n",
    "train_scaled = scaler.transform(train_data)\n",
    "\n",
    "print(\"원본 : \", train_data.reshape(-1))\n",
    "print(\"스케일 : \", train_scaled.reshape(-1))\n",
    "\n",
    "print(\"-------------------------------------------\")\n",
    "\n",
    "scaler.fit(test_data)\n",
    "test_scaled = scaler.transform(test_data)\n",
    "\n",
    "print(\"원본 : \", test_data.reshape(-1))\n",
    "print(\"스케일 : \", test_scaled.reshape(-1))\n",
    "\n",
    "# 훈련용과 테스트용은 같은 자료인데 각 결과를 보면 테스트용 스케일이 원본은 5까지인데 스케일이 0부터 1까지로 맞춰져있다.\n",
    "# 이는 테스트용 데이터에 fit을 처리했기때문...훈련용과 테스트용은 원본이 같은 자료이므로 fit을 두번하면 안된다는점 잊지말자"
   ]
  },
  {
   "cell_type": "code",
   "execution_count": 77,
   "id": "701e10d9",
   "metadata": {},
   "outputs": [
    {
     "name": "stdout",
     "output_type": "stream",
     "text": [
      "원본 :  [ 0  1  2  3  4  5  6  7  8  9 10]\n",
      "스케일 :  [0.  0.1 0.2 0.3 0.4 0.5 0.6 0.7 0.8 0.9 1. ]\n",
      "-------------------------------------------\n",
      "원본 :  [0 1 2 3 4 5]\n",
      "스케일 :  [0.  0.1 0.2 0.3 0.4 0.5]\n"
     ]
    }
   ],
   "source": [
    "scaler = MinMaxScaler()\n",
    "scaler.fit(train_data)\n",
    "train_scaled = scaler.transform(train_data)\n",
    "\n",
    "print(\"원본 : \", train_data.reshape(-1))\n",
    "print(\"스케일 : \", train_scaled.reshape(-1))\n",
    "\n",
    "print(\"-------------------------------------------\")\n",
    "\n",
    "# fit 을 다시 하면 안된다. -  scaler.fit(test_data) 부분 삭제\n",
    "test_scaled = scaler.transform(test_data)\n",
    "\n",
    "print(\"원본 : \", test_data.reshape(-1))\n",
    "print(\"스케일 : \", test_scaled.reshape(-1))"
   ]
  },
  {
   "cell_type": "code",
   "execution_count": null,
   "id": "f8078518",
   "metadata": {},
   "outputs": [],
   "source": []
  },
  {
   "cell_type": "code",
   "execution_count": null,
   "id": "fb0d0647",
   "metadata": {},
   "outputs": [],
   "source": []
  },
  {
   "cell_type": "code",
   "execution_count": null,
   "id": "845e58f0",
   "metadata": {},
   "outputs": [],
   "source": []
  },
  {
   "cell_type": "code",
   "execution_count": null,
   "id": "4a0bd9e5",
   "metadata": {},
   "outputs": [],
   "source": []
  },
  {
   "cell_type": "code",
   "execution_count": null,
   "id": "e15f5c17",
   "metadata": {},
   "outputs": [],
   "source": []
  },
  {
   "cell_type": "code",
   "execution_count": null,
   "id": "35d713fc",
   "metadata": {},
   "outputs": [],
   "source": []
  },
  {
   "cell_type": "code",
   "execution_count": null,
   "id": "33eca6fe",
   "metadata": {},
   "outputs": [],
   "source": []
  }
 ],
 "metadata": {
  "kernelspec": {
   "display_name": "Python 3 (ipykernel)",
   "language": "python",
   "name": "python3"
  },
  "language_info": {
   "codemirror_mode": {
    "name": "ipython",
    "version": 3
   },
   "file_extension": ".py",
   "mimetype": "text/x-python",
   "name": "python",
   "nbconvert_exporter": "python",
   "pygments_lexer": "ipython3",
   "version": "3.9.12"
  }
 },
 "nbformat": 4,
 "nbformat_minor": 5
}
