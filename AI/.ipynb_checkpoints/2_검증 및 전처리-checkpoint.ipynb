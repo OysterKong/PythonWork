{
 "cells": [
  {
   "cell_type": "code",
   "execution_count": 1,
   "id": "c993f65f",
   "metadata": {},
   "outputs": [],
   "source": [
    "import numpy as np\n",
    "import pandas as pd\n",
    "import matplotlib.pyplot as plt\n",
    "import seaborn as sns\n",
    "\n",
    "# 한글처리\n",
    "import matplotlib.font_manager as fm\n",
    "font_name = fm.FontProperties(fname=\"C:\\\\Windows\\\\Fonts\\\\malgun.ttf\").get_name()\n",
    "plt.rc(\"font\", family=font_name)\n",
    "\n",
    "# 음수 - 표시 처리\n",
    "import matplotlib as mlp\n",
    "mlp.rcParams[\"axes.unicode_minus\"] = False"
   ]
  },
  {
   "cell_type": "code",
   "execution_count": 15,
   "id": "f244b200",
   "metadata": {},
   "outputs": [],
   "source": [
    "from sklearn.datasets import load_breast_cancer, load_boston, load_iris\n",
    "\n",
    "from sklearn.model_selection import train_test_split\n",
    "\n",
    "from sklearn.neighbors import KNeighborsClassifier\n",
    "\n",
    "from sklearn.metrics import accuracy_score"
   ]
  },
  {
   "cell_type": "code",
   "execution_count": 3,
   "id": "fa0a3817",
   "metadata": {},
   "outputs": [],
   "source": [
    "import mglearn"
   ]
  },
  {
   "cell_type": "markdown",
   "id": "e7ac7cac",
   "metadata": {},
   "source": [
    "# 1. 검증(validation)"
   ]
  },
  {
   "cell_type": "markdown",
   "id": "c10d98ae",
   "metadata": {},
   "source": [
    "### (1) 훈련용(학습용) 데이터와 테스트용 데이터의 분리"
   ]
  },
  {
   "cell_type": "code",
   "execution_count": 4,
   "id": "49feb179",
   "metadata": {},
   "outputs": [],
   "source": [
    "iris = load_iris()"
   ]
  },
  {
   "cell_type": "code",
   "execution_count": 7,
   "id": "2aea2801",
   "metadata": {},
   "outputs": [
    {
     "name": "stdout",
     "output_type": "stream",
     "text": [
      "(120, 4) (120,)\n",
      "(30, 4) (30,)\n",
      "[0 0 0 0 0 0 0 0 0 0 0 0 0 0 0 0 0 0 0 0 0 0 0 0 0 0 0 0 0 0 0 0 0 0 0 0 0\n",
      " 0 0 0 0 0 0 0 0 0 0 0 0 0 1 1 1 1 1 1 1 1 1 1 1 1 1 1 1 1 1 1 1 1 1 1 1 1\n",
      " 1 1 1 1 1 1 1 1 1 1 1 1 1 1 1 1 1 1 1 1 1 1 1 1 1 1 2 2 2 2 2 2 2 2 2 2 2\n",
      " 2 2 2 2 2 2 2 2 2]\n"
     ]
    }
   ],
   "source": [
    "# 훈련용 데이터\n",
    "X_train = iris.data[:-30]    # 150개 데이터 중에서 120개의 데이터를 뽑기 = 훈련용데이터\n",
    "y_train = iris.target[:-30]    # 150개 데이터 중에서 120개의 데이터를 뽑기 = 훈련용데이터\n",
    "print(X_train.shape, y_train.shape)\n",
    "\n",
    "# 테스트용 데이터\n",
    "X_test = iris.data[-30:]    # 150개 데이터 중에서 30개의 데이터를 뽑기 = 테스트용데이터\n",
    "y_test = iris.target[-30:]    # 150개 데이터 중에서 30개의 데이터를 뽑기 = 테스트용데이터\n",
    "print(X_test.shape, y_test.shape)\n",
    "\n",
    "print(y_train)"
   ]
  },
  {
   "cell_type": "code",
   "execution_count": 11,
   "id": "a551e3eb",
   "metadata": {},
   "outputs": [
    {
     "name": "stdout",
     "output_type": "stream",
     "text": [
      "(105, 4) (105,) (45, 4) (45,)\n",
      "[1 2 2 2 2 1 2 1 1 2 2 2 2 1 2 1 0 2 1 1 1 1 2 0 0 2 1 0 0 1 0 2 1 0 1 2 1\n",
      " 0 2 2 2 2 0 0 2 2 0 2 0 2 2 0 0 2 0 0 0 1 2 2 0 0 0 1 1 0 0 1 0 2 1 2 1 0\n",
      " 2 0 2 0 0 2 0 2 1 1 1 2 2 1 1 0 1 2 2 0 1 1 1 1 0 0 0 2 1 2 0]\n"
     ]
    }
   ],
   "source": [
    "# train_test_split() 을 사용해서 위 훈련용/테스트용 데이터 나누기를 쉽게...여기서 test_size=0.3은 데이터중 30프로를 테스트용으로..\n",
    "# 나머지 70프로는 훈련용으로 사용하겠다는 뜻,  random_state 를 지정하지 않으면 실행시마다 셔플 = 데이터 섞임\n",
    "\n",
    "X_train, X_test, y_train, y_test = train_test_split(iris.data, iris.target, test_size=0.3, random_state=0)\n",
    "print(X_train.shape, y_train.shape, X_test.shape, y_test.shape)\n",
    "\n",
    "print(y_train)"
   ]
  },
  {
   "cell_type": "markdown",
   "id": "9d727594",
   "metadata": {},
   "source": [
    "### (2) Cross Validation\n",
    "\n",
    "+ K fold 방식"
   ]
  },
  {
   "cell_type": "code",
   "execution_count": 13,
   "id": "92cb97d5",
   "metadata": {
    "scrolled": true
   },
   "outputs": [
    {
     "data": {
      "text/plain": [
       "[(array([ 21,  22,  23,  24,  25,  26,  27,  28,  29,  30,  31,  32,  33,\n",
       "          34,  35,  36,  37,  38,  39,  40,  41,  42,  43,  44,  45,  46,\n",
       "          47,  48,  49,  50,  51,  52,  53,  54,  55,  56,  57,  58,  59,\n",
       "          60,  61,  62,  63,  64,  65,  66,  67,  68,  69,  70,  71,  72,\n",
       "          73,  74,  75,  76,  77,  78,  79,  80,  81,  82,  83,  84,  85,\n",
       "          86,  87,  88,  89,  90,  91,  92,  93,  94,  95,  96,  97,  98,\n",
       "          99, 100, 101, 102, 103, 104]),\n",
       "  array([ 0,  1,  2,  3,  4,  5,  6,  7,  8,  9, 10, 11, 12, 13, 14, 15, 16,\n",
       "         17, 18, 19, 20])),\n",
       " (array([  0,   1,   2,   3,   4,   5,   6,   7,   8,   9,  10,  11,  12,\n",
       "          13,  14,  15,  16,  17,  18,  19,  20,  42,  43,  44,  45,  46,\n",
       "          47,  48,  49,  50,  51,  52,  53,  54,  55,  56,  57,  58,  59,\n",
       "          60,  61,  62,  63,  64,  65,  66,  67,  68,  69,  70,  71,  72,\n",
       "          73,  74,  75,  76,  77,  78,  79,  80,  81,  82,  83,  84,  85,\n",
       "          86,  87,  88,  89,  90,  91,  92,  93,  94,  95,  96,  97,  98,\n",
       "          99, 100, 101, 102, 103, 104]),\n",
       "  array([21, 22, 23, 24, 25, 26, 27, 28, 29, 30, 31, 32, 33, 34, 35, 36, 37,\n",
       "         38, 39, 40, 41])),\n",
       " (array([  0,   1,   2,   3,   4,   5,   6,   7,   8,   9,  10,  11,  12,\n",
       "          13,  14,  15,  16,  17,  18,  19,  20,  21,  22,  23,  24,  25,\n",
       "          26,  27,  28,  29,  30,  31,  32,  33,  34,  35,  36,  37,  38,\n",
       "          39,  40,  41,  63,  64,  65,  66,  67,  68,  69,  70,  71,  72,\n",
       "          73,  74,  75,  76,  77,  78,  79,  80,  81,  82,  83,  84,  85,\n",
       "          86,  87,  88,  89,  90,  91,  92,  93,  94,  95,  96,  97,  98,\n",
       "          99, 100, 101, 102, 103, 104]),\n",
       "  array([42, 43, 44, 45, 46, 47, 48, 49, 50, 51, 52, 53, 54, 55, 56, 57, 58,\n",
       "         59, 60, 61, 62])),\n",
       " (array([  0,   1,   2,   3,   4,   5,   6,   7,   8,   9,  10,  11,  12,\n",
       "          13,  14,  15,  16,  17,  18,  19,  20,  21,  22,  23,  24,  25,\n",
       "          26,  27,  28,  29,  30,  31,  32,  33,  34,  35,  36,  37,  38,\n",
       "          39,  40,  41,  42,  43,  44,  45,  46,  47,  48,  49,  50,  51,\n",
       "          52,  53,  54,  55,  56,  57,  58,  59,  60,  61,  62,  84,  85,\n",
       "          86,  87,  88,  89,  90,  91,  92,  93,  94,  95,  96,  97,  98,\n",
       "          99, 100, 101, 102, 103, 104]),\n",
       "  array([63, 64, 65, 66, 67, 68, 69, 70, 71, 72, 73, 74, 75, 76, 77, 78, 79,\n",
       "         80, 81, 82, 83])),\n",
       " (array([ 0,  1,  2,  3,  4,  5,  6,  7,  8,  9, 10, 11, 12, 13, 14, 15, 16,\n",
       "         17, 18, 19, 20, 21, 22, 23, 24, 25, 26, 27, 28, 29, 30, 31, 32, 33,\n",
       "         34, 35, 36, 37, 38, 39, 40, 41, 42, 43, 44, 45, 46, 47, 48, 49, 50,\n",
       "         51, 52, 53, 54, 55, 56, 57, 58, 59, 60, 61, 62, 63, 64, 65, 66, 67,\n",
       "         68, 69, 70, 71, 72, 73, 74, 75, 76, 77, 78, 79, 80, 81, 82, 83]),\n",
       "  array([ 84,  85,  86,  87,  88,  89,  90,  91,  92,  93,  94,  95,  96,\n",
       "          97,  98,  99, 100, 101, 102, 103, 104]))]"
      ]
     },
     "execution_count": 13,
     "metadata": {},
     "output_type": "execute_result"
    }
   ],
   "source": [
    "from sklearn.model_selection import KFold\n",
    "\n",
    "X_train, X_test, y_train, y_test = train_test_split(iris.data, iris.target, test_size=0.3, random_state=0)\n",
    "\n",
    "kfold = KFold(n_splits=5)\n",
    "kfold.split(X_train)    # X_train 에 담겨있던 105개의 데이터를 5등분 = KFold(n_splits=5) 해놓은 것, 객체\n",
    "list(kfold.split(X_train))  # 나타낸 숫자는 실제 값이 아닌 인덱스 값"
   ]
  },
  {
   "cell_type": "code",
   "execution_count": 19,
   "id": "7e57fff1",
   "metadata": {},
   "outputs": [
    {
     "name": "stdout",
     "output_type": "stream",
     "text": [
      "\n",
      "정확도:0.8571, 훈련데이터 크기:84, 검증데이터 크기:21\n",
      "\n",
      "정확도:1.0, 훈련데이터 크기:84, 검증데이터 크기:21\n",
      "\n",
      "정확도:1.0, 훈련데이터 크기:84, 검증데이터 크기:21\n",
      "\n",
      "정확도:1.0, 훈련데이터 크기:84, 검증데이터 크기:21\n",
      "\n",
      "정확도:0.8571, 훈련데이터 크기:84, 검증데이터 크기:21\n"
     ]
    }
   ],
   "source": [
    "# KNN 알고리즘으로 테스트를 해보겠다 가정\n",
    "# 위에서 데이터를 5등분 했으니 나뉘어진 데이터별로 각각 테스트해야하므로 총 5번을 테스트해야하고 이를 반복문으로 돌린다.\n",
    "\n",
    "clf = KNeighborsClassifier(n_neighbors=3)\n",
    "\n",
    "cv_accuracy = []\n",
    "for train_index, test_index in kfold.split(X_train):\n",
    "    x_train, x_test = X_train[train_index], X_train[test_index]\n",
    "    train_y, test_y = y_train[train_index], y_train[test_index]\n",
    "    \n",
    "    clf.fit(x_train, train_y)\n",
    "    pred = clf.predict(x_test)\n",
    "    \n",
    "    accuracy = np.round(accuracy_score(test_y, pred), 4)     # 정답 : test_y , 예측한 값 : pred\n",
    "    \n",
    "    print(\"\\n정확도:{}, 훈련데이터 크기:{}, 검증데이터 크기:{}\".format(accuracy, x_train.shape[0], x_test.shape[0]))\n",
    "    \n",
    "    cv_accuracy.append(accuracy)"
   ]
  },
  {
   "cell_type": "code",
   "execution_count": 20,
   "id": "2615ee28",
   "metadata": {},
   "outputs": [
    {
     "name": "stdout",
     "output_type": "stream",
     "text": [
      "평균 정확도 :  0.94284\n"
     ]
    }
   ],
   "source": [
    "print(\"평균 정확도 : \", np.mean(cv_accuracy))"
   ]
  },
  {
   "cell_type": "code",
   "execution_count": 21,
   "id": "d520668b",
   "metadata": {},
   "outputs": [
    {
     "data": {
      "text/plain": [
       "0.9777777777777777"
      ]
     },
     "execution_count": 21,
     "metadata": {},
     "output_type": "execute_result"
    }
   ],
   "source": [
    "##### 최종 테스트\n",
    "pred = clf.predict(X_test)     # 테스트 데이터값 예측\n",
    "accuracy_score(y_test, pred)      # 정답 : test_y , 예측한 값 : pred   을 accuracy_score 로 테스트하고 결과"
   ]
  },
  {
   "cell_type": "markdown",
   "id": "6ca431ba",
   "metadata": {},
   "source": [
    "+ Stratified K 폴드\n",
    "    + 카테고리별로 데이터의 갯수가 불균형할때"
   ]
  },
  {
   "cell_type": "code",
   "execution_count": 28,
   "id": "659e82c4",
   "metadata": {},
   "outputs": [
    {
     "data": {
      "text/plain": [
       "0    50\n",
       "1    50\n",
       "2    50\n",
       "Name: label, dtype: int64"
      ]
     },
     "execution_count": 28,
     "metadata": {},
     "output_type": "execute_result"
    }
   ],
   "source": [
    "iris_df = pd.DataFrame(data=iris.data, columns=iris.feature_names)\n",
    "iris_df\n",
    "\n",
    "iris_df[\"label\"] = iris.target\n",
    "iris_df\n",
    "\n",
    "iris_df[\"label\"].value_counts()"
   ]
  },
  {
   "cell_type": "code",
   "execution_count": 29,
   "id": "0346a722",
   "metadata": {},
   "outputs": [
    {
     "name": "stdout",
     "output_type": "stream",
     "text": [
      "1    50\n",
      "2    50\n",
      "Name: label, dtype: int64\n",
      "0    50\n",
      "Name: label, dtype: int64\n",
      "---------------------------------------\n",
      "0    50\n",
      "2    50\n",
      "Name: label, dtype: int64\n",
      "1    50\n",
      "Name: label, dtype: int64\n",
      "---------------------------------------\n",
      "0    50\n",
      "1    50\n",
      "Name: label, dtype: int64\n",
      "2    50\n",
      "Name: label, dtype: int64\n",
      "---------------------------------------\n"
     ]
    }
   ],
   "source": [
    "# K fold 방식을 사용할때 발생할 수 있는 문제점\n",
    "\n",
    "kfold = KFold(n_splits=3)    # 3등분\n",
    "\n",
    "for train_index, test_index in kfold.split(iris_df):\n",
    "    label_train = iris_df[\"label\"].iloc[train_index]\n",
    "    label_test = iris_df[\"label\"].iloc[test_index]\n",
    "    \n",
    "    print(label_train.value_counts())\n",
    "    print(label_test.value_counts())\n",
    "    print(\"---------------------------------------\")\n",
    "\n",
    "# 세등분으로 나뉜 데이터를 2개는 훈련용, 1개는 테스트용으로 사용하나 한가지 문제가 발생한다.\n",
    "# 아래 결과와 같이 1번과 2번 데이터로 훈련을 했으나 0번으로 테스트를 하게되면 시험범위가 달라지는 오류가 발생한다.\n",
    "# 0번 2번으로 훈련하고 1번으로 테스트보는 오류...훈련범위와 테스트 범위가 다른 경우가 발생"
   ]
  },
  {
   "cell_type": "code",
   "execution_count": 32,
   "id": "8d57e89e",
   "metadata": {},
   "outputs": [
    {
     "name": "stdout",
     "output_type": "stream",
     "text": [
      "2    34\n",
      "0    33\n",
      "1    33\n",
      "Name: label, dtype: int64\n",
      "0    17\n",
      "1    17\n",
      "2    16\n",
      "Name: label, dtype: int64\n",
      "---------------------------------------\n",
      "1    34\n",
      "0    33\n",
      "2    33\n",
      "Name: label, dtype: int64\n",
      "0    17\n",
      "2    17\n",
      "1    16\n",
      "Name: label, dtype: int64\n",
      "---------------------------------------\n",
      "0    34\n",
      "1    33\n",
      "2    33\n",
      "Name: label, dtype: int64\n",
      "1    17\n",
      "2    17\n",
      "0    16\n",
      "Name: label, dtype: int64\n",
      "---------------------------------------\n"
     ]
    }
   ],
   "source": [
    "# K fold 방식을 보완한 Stratified K fold 방식\n",
    "\n",
    "from sklearn.model_selection import StratifiedKFold\n",
    "\n",
    "skfold = StratifiedKFold(n_splits=3)\n",
    "\n",
    "for train_index, test_index in skfold.split(iris_df, iris_df[\"label\"]):\n",
    "    label_train = iris_df[\"label\"].iloc[train_index]\n",
    "    label_test = iris_df[\"label\"].iloc[test_index]\n",
    "    \n",
    "    print(label_train.value_counts())\n",
    "    print(label_test.value_counts())\n",
    "    print(\"---------------------------------------\")\n",
    "    \n",
    "# 아래 결과와 같이 비율에 맞춰 골고루 섞어서 훈련용과 테스트용으로 나눠 진행한다."
   ]
  },
  {
   "cell_type": "code",
   "execution_count": 33,
   "id": "d59f95c3",
   "metadata": {},
   "outputs": [],
   "source": [
    "?train_test_split"
   ]
  },
  {
   "cell_type": "markdown",
   "id": "5fe7c14c",
   "metadata": {},
   "source": [
    "### (3) 교차 검증을 훨씬 간단하게 구현\n",
    "\n",
    "+ cross_val_score()\n",
    "+ cross_validate()"
   ]
  },
  {
   "cell_type": "code",
   "execution_count": 34,
   "id": "a3ae0428",
   "metadata": {},
   "outputs": [],
   "source": [
    "from sklearn.model_selection import cross_val_score\n",
    "\n",
    "clf = KNeighborsClassifier(n_neighbors=3)\n",
    "\n",
    "# ()안 순서 ->  알고리즘, 훈련데이터, 정답, cv(몇개로 나눌건지), scoring(어떤방식으로 측정 - accuracy는 정확성))\n",
    "scores = cross_val_score(clf, iris.data, iris.target, cv=5, scoring=\"accuracy\")"
   ]
  },
  {
   "cell_type": "code",
   "execution_count": 37,
   "id": "904de072",
   "metadata": {},
   "outputs": [
    {
     "name": "stdout",
     "output_type": "stream",
     "text": [
      "[0.96666667 0.96666667 0.93333333 0.96666667 1.        ]\n",
      "0.9666666666666668\n"
     ]
    }
   ],
   "source": [
    "print(scores)\n",
    "print(np.mean(scores))    # 평균 96점"
   ]
  },
  {
   "cell_type": "code",
   "execution_count": null,
   "id": "a1cdd119",
   "metadata": {},
   "outputs": [],
   "source": []
  },
  {
   "cell_type": "code",
   "execution_count": null,
   "id": "f356648a",
   "metadata": {},
   "outputs": [],
   "source": []
  },
  {
   "cell_type": "code",
   "execution_count": null,
   "id": "29f1bd9c",
   "metadata": {},
   "outputs": [],
   "source": []
  },
  {
   "cell_type": "code",
   "execution_count": null,
   "id": "d7f444d8",
   "metadata": {},
   "outputs": [],
   "source": []
  },
  {
   "cell_type": "code",
   "execution_count": null,
   "id": "d42339ab",
   "metadata": {},
   "outputs": [],
   "source": []
  },
  {
   "cell_type": "code",
   "execution_count": null,
   "id": "7534251f",
   "metadata": {},
   "outputs": [],
   "source": []
  },
  {
   "cell_type": "code",
   "execution_count": null,
   "id": "ed246ac7",
   "metadata": {},
   "outputs": [],
   "source": []
  },
  {
   "cell_type": "code",
   "execution_count": null,
   "id": "970b535c",
   "metadata": {},
   "outputs": [],
   "source": []
  },
  {
   "cell_type": "code",
   "execution_count": null,
   "id": "fbeb4d63",
   "metadata": {},
   "outputs": [],
   "source": []
  },
  {
   "cell_type": "code",
   "execution_count": null,
   "id": "3ba1439f",
   "metadata": {},
   "outputs": [],
   "source": []
  },
  {
   "cell_type": "code",
   "execution_count": null,
   "id": "468ac7c1",
   "metadata": {},
   "outputs": [],
   "source": []
  },
  {
   "cell_type": "code",
   "execution_count": null,
   "id": "9241a276",
   "metadata": {},
   "outputs": [],
   "source": []
  }
 ],
 "metadata": {
  "kernelspec": {
   "display_name": "Python 3 (ipykernel)",
   "language": "python",
   "name": "python3"
  },
  "language_info": {
   "codemirror_mode": {
    "name": "ipython",
    "version": 3
   },
   "file_extension": ".py",
   "mimetype": "text/x-python",
   "name": "python",
   "nbconvert_exporter": "python",
   "pygments_lexer": "ipython3",
   "version": "3.9.12"
  }
 },
 "nbformat": 4,
 "nbformat_minor": 5
}
