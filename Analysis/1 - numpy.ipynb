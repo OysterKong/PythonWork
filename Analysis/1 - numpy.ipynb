{
 "cells": [
  {
   "cell_type": "code",
   "execution_count": 2,
   "id": "7e6467a7",
   "metadata": {},
   "outputs": [],
   "source": [
    "import numpy as np"
   ]
  },
  {
   "cell_type": "markdown",
   "id": "c4d70bf9",
   "metadata": {},
   "source": [
    "## 1. 1차원 배열"
   ]
  },
  {
   "cell_type": "code",
   "execution_count": 9,
   "id": "2c53d693",
   "metadata": {},
   "outputs": [
    {
     "name": "stdout",
     "output_type": "stream",
     "text": [
      "<class 'list'>\n",
      "[1, 2, 3, 4, 5, 10, 20, '가', '나']\n"
     ]
    }
   ],
   "source": [
    "# 아래는 배열이 아닌 list 이며 모양은 비슷함\n",
    "a1 = [1, 2, 3, 4, 5, 10, 20, \"가\", \"나\"]\n",
    "print(type(a1))\n",
    "print(a1)\n",
    "# print(a1.shape)      #list에서는 shape을 사용못함, 에러"
   ]
  },
  {
   "cell_type": "code",
   "execution_count": 10,
   "id": "561e834c",
   "metadata": {},
   "outputs": [
    {
     "name": "stdout",
     "output_type": "stream",
     "text": [
      "['1' '2' '3' '4' '5' '10' '20' '가' '나']\n",
      "<class 'numpy.ndarray'>\n",
      "(9,)\n",
      "<U11\n"
     ]
    }
   ],
   "source": [
    "#리스트와 배열의 차이는 , 의 차이\n",
    "\n",
    "a1 = np.array([1, 2, 3, 4, 5, 10, 20, \"가\", \"나\"])\n",
    "print(a1)\n",
    "print(type(a1))\n",
    "print(a1.shape)   #shape는 배열의 모양,크기  - 여기서는 a1 배열이 7개의 데이터로 1차원이므로 (7,) 로 표현\n",
    "print(a1.dtype)   #숫자는 1byte, 문자는 아스키코드로 표현 2byte 씩이므로 총 11 자리"
   ]
  },
  {
   "cell_type": "code",
   "execution_count": 13,
   "id": "919fa548",
   "metadata": {},
   "outputs": [
    {
     "name": "stdout",
     "output_type": "stream",
     "text": [
      "[ 1.  2.  3.  4.  5. 10. 20.]\n",
      "float64\n"
     ]
    }
   ],
   "source": [
    "# a1 = np.array([1, 2, 3, 4, 5, 10, 20], dtype=float)\n",
    "a1 = np.array([1, 2, 3, 4, 5, 10, 20], float)\n",
    "print(a1)\n",
    "print(a1.dtype)"
   ]
  },
  {
   "cell_type": "code",
   "execution_count": 14,
   "id": "f8c5d86a",
   "metadata": {},
   "outputs": [
    {
     "name": "stdout",
     "output_type": "stream",
     "text": [
      "[0, 1, 2, 3, 4, 5, 6, 7, 8, 9, 0, 1, 2, 3, 4, 5, 6, 7, 8, 9, 0, 1, 2, 3, 4, 5, 6, 7, 8, 9]\n"
     ]
    }
   ],
   "source": [
    "##### 벡터화 연산  (1차원 배열로 연산할 수 있게끔 만드는 것을 의미)\n",
    "\n",
    "data1 = [0, 1, 2, 3, 4, 5, 6, 7, 8, 9]\n",
    "\n",
    "print(data1 * 3)   # list는 수학적 연산이 불가능하다\n",
    "#print(data1 - 3)   # 에러"
   ]
  },
  {
   "cell_type": "code",
   "execution_count": 16,
   "id": "0a7788be",
   "metadata": {},
   "outputs": [
    {
     "name": "stdout",
     "output_type": "stream",
     "text": [
      "[ 0  2  4  6  8 10 12 14 16 18]\n",
      "[-2 -1  0  1  2  3  4  5  6  7]\n",
      "[ 2  3  4  5  6  7  8  9 10 11]\n"
     ]
    }
   ],
   "source": [
    "dataArray = np.array(data1)\n",
    "\n",
    "print(dataArray * 2)\n",
    "print(dataArray - 2)\n",
    "print(dataArray + 2)"
   ]
  },
  {
   "cell_type": "code",
   "execution_count": 17,
   "id": "7dc692a5",
   "metadata": {},
   "outputs": [
    {
     "name": "stdout",
     "output_type": "stream",
     "text": [
      "0 1\n"
     ]
    }
   ],
   "source": [
    "##### 인덱스 접근\n",
    "print(dataArray[0], dataArray[1])"
   ]
  },
  {
   "cell_type": "markdown",
   "id": "58b60859",
   "metadata": {},
   "source": [
    "## 2. 2차원 배열"
   ]
  },
  {
   "cell_type": "code",
   "execution_count": 21,
   "id": "600c7792",
   "metadata": {},
   "outputs": [
    {
     "name": "stdout",
     "output_type": "stream",
     "text": [
      "[[1 2 3]\n",
      " [4 5 6]]\n",
      "[1 2 3]\n",
      "1\n",
      "(2, 3)\n"
     ]
    }
   ],
   "source": [
    "arr = np.array([[1, 2, 3], [4, 5, 6]])\n",
    "print(arr)\n",
    "print(arr[0])\n",
    "print(arr[0][0])\n",
    "print(arr.shape)    #2행 3열에 대한 표시"
   ]
  },
  {
   "cell_type": "markdown",
   "id": "6cbdbf8b",
   "metadata": {},
   "source": [
    "## 3. 3차원 배열"
   ]
  },
  {
   "cell_type": "code",
   "execution_count": 30,
   "id": "b95fae55",
   "metadata": {},
   "outputs": [
    {
     "name": "stdout",
     "output_type": "stream",
     "text": [
      "[[[ 1  2  3  4]\n",
      "  [ 3  4  5  6]]\n",
      "\n",
      " [[ 7  8  9 10]\n",
      "  [11 12 13 14]]]\n",
      "(2, 2, 4)\n",
      "3\n",
      "---------------------------------\n",
      "[[1 2 3 4]\n",
      " [3 4 5 6]]\n",
      "[1 2 3 4]\n",
      "1\n",
      "2\n",
      "2\n",
      "4\n"
     ]
    }
   ],
   "source": [
    "arr = np.array([[[1, 2, 3, 4], [3, 4, 5, 6]], \n",
    "                [[7, 8, 9, 10], [11, 12, 13, 14]]])\n",
    "\n",
    "print(arr)\n",
    "print(arr.shape)   #4열짜리를 2번 묶고 또 그런 배열이 2개가 있다는 뜻. 곧 3차원을 의미\n",
    "print(arr.ndim)   #몇차원 배열인지 숫자로 나타내줌\n",
    "print(\"---------------------------------\")\n",
    "print(arr[0])\n",
    "print(arr[0][0])\n",
    "print(arr[0][0][0])\n",
    "print(len(arr))  #2차원배열 2개를 관리하므로 2\n",
    "print(len(arr[0])) #1차원배열 2개를 관리하므로 2\n",
    "print(len(arr[0][0]))"
   ]
  },
  {
   "cell_type": "code",
   "execution_count": 32,
   "id": "fd295c6b",
   "metadata": {},
   "outputs": [
    {
     "name": "stdout",
     "output_type": "stream",
     "text": [
      "[[[[10]]]]\n",
      "(1, 1, 1, 1)\n",
      "4\n"
     ]
    }
   ],
   "source": [
    "#대괄호의 갯수를 보고 몇차원인지 알수도 있다.\n",
    "\n",
    "arr = np.array([[[[10]]]])\n",
    "print(arr)\n",
    "print(arr.shape)\n",
    "print(arr.ndim)"
   ]
  },
  {
   "cell_type": "markdown",
   "id": "92c9cff1",
   "metadata": {},
   "source": [
    "## 4. 집계 함수"
   ]
  },
  {
   "cell_type": "code",
   "execution_count": 35,
   "id": "597dde3d",
   "metadata": {},
   "outputs": [
    {
     "name": "stdout",
     "output_type": "stream",
     "text": [
      "[ 0.73260638 -0.09163591 -0.88466111 -0.41378421 -0.86357503 -0.58608405\n",
      "  0.80474366  0.1542453 ]\n",
      "[ 0.36106618 -1.40118437 -0.76984119 -0.8301113  -1.10903178 -0.40674953\n",
      " -0.2931908  -1.25212293]\n",
      "<class 'numpy.ndarray'>\n"
     ]
    }
   ],
   "source": [
    "x = np.random.randn(8)            #()안에 입력한 숫자의 갯수만큼 난수를 랜덤으로 구해줌\n",
    "y = np.random.randn(8)\n",
    "\n",
    "print(x)\n",
    "print(y)\n",
    "print(type(x)) # numpy를 통해 나온 결과값은 배열,  결과도 보면 ,가 없다"
   ]
  },
  {
   "cell_type": "code",
   "execution_count": 36,
   "id": "8c613d49",
   "metadata": {},
   "outputs": [
    {
     "data": {
      "text/plain": [
       "array([ 0.73260638, -0.09163591, -0.76984119, -0.41378421, -0.86357503,\n",
       "       -0.40674953,  0.80474366,  0.1542453 ])"
      ]
     },
     "execution_count": 36,
     "metadata": {},
     "output_type": "execute_result"
    }
   ],
   "source": [
    "np.maximum(x, y)  #2개를 비교해서 큰것만 나열"
   ]
  },
  {
   "cell_type": "code",
   "execution_count": 37,
   "id": "a6c8b9cb",
   "metadata": {},
   "outputs": [
    {
     "data": {
      "text/plain": [
       "array([[-0.36392439,  1.15954801, -2.01451807, -0.73618475],\n",
       "       [-1.66836809, -0.07324414,  0.31593526, -1.34500283],\n",
       "       [ 0.14494746,  0.86611213,  0.16374392,  0.33938239],\n",
       "       [-0.64089668,  0.94555156,  0.61014399,  0.54801833],\n",
       "       [ 0.32824199, -0.38320164,  1.95944399, -0.06054335]])"
      ]
     },
     "execution_count": 37,
     "metadata": {},
     "output_type": "execute_result"
    }
   ],
   "source": [
    "arr = np.random.randn(5, 4)    #2차원 배열 ,  5행 4열짜리\n",
    "arr"
   ]
  },
  {
   "cell_type": "code",
   "execution_count": 44,
   "id": "f7b854b3",
   "metadata": {},
   "outputs": [
    {
     "name": "stdout",
     "output_type": "stream",
     "text": [
      "0.09518509481353596\n",
      "[-2.19999971  2.51476592  1.03474909 -1.2543302 ]\n",
      "[-1.95507919 -2.7706798   1.5141859   1.4628172   1.84394099]\n"
     ]
    }
   ],
   "source": [
    "#앞에 ?를 붙이면 사용법을 알려주는 안내창이 뜸\n",
    "\n",
    "# ?np.sum \n",
    "\n",
    "print(arr.sum())    #전체 합계\n",
    "print(arr.sum(axis=0))  #열의 합계\n",
    "print(arr.sum(axis=1))  #행의 합계"
   ]
  },
  {
   "cell_type": "markdown",
   "id": "30fb1c7e",
   "metadata": {},
   "source": [
    "## 5. 배열의 인덱싱"
   ]
  },
  {
   "cell_type": "code",
   "execution_count": 45,
   "id": "a5b2d583",
   "metadata": {},
   "outputs": [
    {
     "name": "stdout",
     "output_type": "stream",
     "text": [
      "300 500 500 300\n"
     ]
    }
   ],
   "source": [
    "arr = np.array([100, 200, 300, 400, 500])\n",
    "\n",
    "print(arr[2], arr[4], arr[-1], arr[-3])"
   ]
  },
  {
   "cell_type": "code",
   "execution_count": 47,
   "id": "a657a979",
   "metadata": {},
   "outputs": [
    {
     "name": "stdout",
     "output_type": "stream",
     "text": [
      "1 2 5\n"
     ]
    }
   ],
   "source": [
    "arr = np.array([[0, 1, 2], [3, 4, 5]])\n",
    "print(arr[0][1], arr[0, 2], arr[-1, -1])"
   ]
  },
  {
   "cell_type": "code",
   "execution_count": 46,
   "id": "8383c182",
   "metadata": {},
   "outputs": [
    {
     "name": "stdout",
     "output_type": "stream",
     "text": [
      "1\n"
     ]
    }
   ],
   "source": [
    "temp = [[0, 1, 2], [3, 4, 5]]   #이건 배열이 아닌 리스트라는 점 잊지말자\n",
    "print(temp[0][1])"
   ]
  },
  {
   "cell_type": "code",
   "execution_count": 53,
   "id": "01de4f72",
   "metadata": {},
   "outputs": [
    {
     "name": "stdout",
     "output_type": "stream",
     "text": [
      "[0 1 2 3 4 5 6 7 8 9]\n",
      "[0 2 4 6 8]\n",
      "[0 2 4 6 8]\n",
      "[0 3 6 9]\n",
      "[1 5 9]\n",
      "[9]\n"
     ]
    }
   ],
   "source": [
    "##### fancy index\n",
    "\n",
    "arr = np.array([i for i in range(10)])\n",
    "print(arr)\n",
    "\n",
    "#boolean의 특성을 이용하여 짝수만 골라내보기\n",
    "idx = np.array([True, False, True, False, True, False, True, False, True, False])\n",
    "\n",
    "print(arr[idx])\n",
    "\n",
    "print(arr[arr % 2 == 0])\n",
    "\n",
    "# arr에서 3의 배수를 찾아라\n",
    "\n",
    "print(arr[arr % 3 == 0])\n",
    "\n",
    "# arr에서 4로 나누면 1이 남는 수를 찾아라\n",
    "\n",
    "print(arr[arr % 4 == 1])\n",
    "\n",
    "# arr에서 3으로 나누면 나눠지고 4로 나누면 1이 남는 수를 찾아라\n",
    "\n",
    "print(arr[(arr % 3 == 0) & (arr % 4 ==1)])"
   ]
  },
  {
   "cell_type": "markdown",
   "id": "57cc4794",
   "metadata": {},
   "source": [
    "## 6. 배열의 슬라이싱"
   ]
  },
  {
   "cell_type": "code",
   "execution_count": 60,
   "id": "b3268692",
   "metadata": {},
   "outputs": [
    {
     "name": "stdout",
     "output_type": "stream",
     "text": [
      "[0 1]\n",
      "----------------\n",
      "[[4 5]\n",
      " [8 9]]\n",
      "----------------\n",
      "[0 1 2 3]\n",
      "----------------\n",
      "[[ 8  9 10 11]\n",
      " [ 4  5  6  7]\n",
      " [ 0  1  2  3]]\n",
      "----------------\n",
      "[[ 0  3]\n",
      " [ 4  7]\n",
      " [ 8 11]]\n"
     ]
    }
   ],
   "source": [
    "arr = np.array([[0, 1, 2, 3],\n",
    "               [4, 5, 6, 7],\n",
    "               [8, 9, 10, 11]])\n",
    "\n",
    "arr\n",
    "\n",
    "print(arr[0, 0:2])\n",
    "print(\"----------------\")\n",
    "print(arr[1:3, 0:2])\n",
    "print(\"----------------\")\n",
    "print(arr[0, :])\n",
    "print(\"----------------\")\n",
    "print(arr[[2, 1, 0], :])   #행의 순서를 바꿀수도 있다\n",
    "print(\"----------------\")\n",
    "print(arr[:, [0,3]])"
   ]
  },
  {
   "cell_type": "markdown",
   "id": "a7b7ba9d",
   "metadata": {},
   "source": [
    "## 7. numpy 자료형\n",
    "\n",
    "+ b : 불리언\n",
    "+ i : 정수형\n",
    "+ u : 부호없는 정수형\n",
    "+ f : 부동 소수점\n",
    "+ c : 복소수\n",
    "+ 0 : 객체\n",
    "+ S : 바이트 문자열\n",
    "+ U : 유니코드 문자열"
   ]
  },
  {
   "cell_type": "code",
   "execution_count": 61,
   "id": "11d4df5d",
   "metadata": {},
   "outputs": [
    {
     "name": "stdout",
     "output_type": "stream",
     "text": [
      "int64\n"
     ]
    }
   ],
   "source": [
    "# a1 = np.dtype(\"i\")\n",
    "a1 = np.dtype(\"i8\")\n",
    "print(a1)"
   ]
  },
  {
   "cell_type": "code",
   "execution_count": 65,
   "id": "11481717",
   "metadata": {},
   "outputs": [
    {
     "name": "stdout",
     "output_type": "stream",
     "text": [
      "float16\n",
      "3.0\n",
      "--------------------------------------------\n",
      "<U1\n",
      "12\n"
     ]
    }
   ],
   "source": [
    "# arr = np.array([1, 2, 3], dtype=\"f\")\n",
    "arr = np.array([1, 2, 3], dtype=np.float16)\n",
    "print(arr.dtype)\n",
    "print(arr[0] + arr[1])\n",
    "\n",
    "print(\"--------------------------------------------\")\n",
    "\n",
    "arr = np.array([1, 2, 3], dtype=\"U\")\n",
    "print(arr.dtype)\n",
    "print(arr[0] + arr[1])   #유니코드, 문자열은 수학적연산이 아닌 연결\n"
   ]
  },
  {
   "cell_type": "markdown",
   "id": "196ab5d8",
   "metadata": {},
   "source": [
    "## 8. 배열 생성"
   ]
  },
  {
   "cell_type": "code",
   "execution_count": 74,
   "id": "dc4398c0",
   "metadata": {},
   "outputs": [
    {
     "name": "stdout",
     "output_type": "stream",
     "text": [
      "[0. 0. 0. 0. 0.]\n",
      "float64\n",
      "<class 'numpy.ndarray'>\n",
      "--------------------------------------------\n",
      "[0 0 0 0 0]\n",
      "int64\n",
      "--------------------------------------------\n",
      "[b'' b'' b'' b'' b'']\n",
      "|S4\n",
      "[b'abc' b'abcd' b'abcd' b'' b'']\n",
      "--------------------------------------------\n",
      "[[0. 0. 0.]\n",
      " [0. 0. 0.]]\n"
     ]
    }
   ],
   "source": [
    "arr = np.zeros(5)\n",
    "print(arr)\n",
    "print(arr.dtype)\n",
    "print(type(arr))\n",
    "\n",
    "print(\"--------------------------------------------\")\n",
    "\n",
    "arr = np.zeros(5, dtype=\"i8\")\n",
    "print(arr)\n",
    "print(arr.dtype)\n",
    "\n",
    "print(\"--------------------------------------------\")\n",
    "\n",
    "#데이터타입에서 유니코드(U)는 한글자를 2byte로 처리하므로 U4는 8byte이다.\n",
    "#데이터타입에서 바이트문자열(S)는 한글자를 1byte로 처리하므로 S4는 4byte이다.\n",
    "#데이터타입을 바이트문자열(S)로 지정하면 앞에 b가 붙는데 이는 글자하나를 1byte로 처리하겠다는 표시다.\n",
    "\n",
    "# 바이트문자열 결과예시\n",
    "# [b'' b'' b'' b'' b'']\n",
    "# |S4\n",
    "# [b'abc' b'abcd' b'abcd' b'' b'']\n",
    "\n",
    "arr = np.zeros(5, dtype=\"S4\")\n",
    "print(arr)\n",
    "print(arr.dtype)\n",
    "\n",
    "arr[0] = \"abc\"\n",
    "arr[1] = \"abcd\"\n",
    "arr[2] = \"abcde\"   #dtype을 유니코드4 자리로 제한을 걸어둬서 abcd까지만 들어가고 e는 못들어간다.\n",
    "print(arr)\n",
    "\n",
    "print(\"--------------------------------------------\")\n",
    "\n",
    "print(np.zeros((2,3)))   #2행3열짜리  , 튜플로 묶음"
   ]
  },
  {
   "cell_type": "code",
   "execution_count": 92,
   "id": "52e38797",
   "metadata": {},
   "outputs": [
    {
     "name": "stdout",
     "output_type": "stream",
     "text": [
      "[[[1. 1. 1. 1.]\n",
      "  [1. 1. 1. 1.]\n",
      "  [1. 1. 1. 1.]]\n",
      "\n",
      " [[1. 1. 1. 1.]\n",
      "  [1. 1. 1. 1.]\n",
      "  [1. 1. 1. 1.]]]\n",
      "--------------------------------------------\n",
      "[[1. 1. 1.]\n",
      " [1. 1. 1.]]\n",
      "--------------------------------------------\n",
      "[[1.01855798e-312 1.06099790e-312 1.01855798e-312]\n",
      " [9.54898106e-313 1.06099790e-312 1.01855798e-312]\n",
      " [1.23075756e-312 1.14587773e-312 1.03977794e-312]\n",
      " [9.76118064e-313 1.06099790e-312 1.90979621e-312]]\n",
      "--------------------------------------------\n",
      "[0 1 2 3 4 5 6 7 8 9]\n",
      "--------------------------------------------\n",
      "[  1.    25.75  50.5   75.25 100.  ]\n"
     ]
    }
   ],
   "source": [
    "arr = np.ones((2, 3, 4))\n",
    "print(arr)\n",
    "\n",
    "print(\"--------------------------------------------\")\n",
    "\n",
    "arr = np.zeros((2, 3))\n",
    "arr2 = np.ones_like(arr)    # 0을 1로 바꿔주는 기능 ones_like()\n",
    "print(arr2)\n",
    "\n",
    "print(\"--------------------------------------------\")\n",
    "\n",
    "arr = np.empty((4, 3))   # empty는 초기화를 안하겠다는 의미, 기존에 작업했던 쓸모없는 데이터를 가져다가 채우는 것\n",
    "print(arr)\n",
    "\n",
    "print(\"--------------------------------------------\")\n",
    "\n",
    "arr = np.arange(10)    # 파이썬의 기본함수중에 range()는 list로 결과값을 출력,  numpy의 arange는 배열로 결과값을 출력\n",
    "print(arr)\n",
    "\n",
    "print(\"--------------------------------------------\")\n",
    "\n",
    "arr = np.linspace(1, 100, 5)    # linspace(1부터 100까지 5등분)\n",
    "print(arr)"
   ]
  },
  {
   "cell_type": "markdown",
   "id": "9d36c7fe",
   "metadata": {},
   "source": [
    "## 9. 전치 연산(Transpose)  - 행은 열로, 열은 행으로 바꾸는"
   ]
  },
  {
   "cell_type": "code",
   "execution_count": 94,
   "id": "a9871d4e",
   "metadata": {},
   "outputs": [
    {
     "name": "stdout",
     "output_type": "stream",
     "text": [
      "[[1 2 3]\n",
      " [4 5 6]]\n",
      "[[1 4]\n",
      " [2 5]\n",
      " [3 6]]\n"
     ]
    }
   ],
   "source": [
    "arr = np.array([[1, 2, 3], [4, 5, 6]])\n",
    "print(arr)\n",
    "print(arr.T)  #소문자 t는 사용불가, 무조건 대문자 T"
   ]
  },
  {
   "cell_type": "markdown",
   "id": "55a77a39",
   "metadata": {},
   "source": [
    "## 10. 배열의 크기 변형 : reshape(), flatten(), ravel()"
   ]
  },
  {
   "cell_type": "code",
   "execution_count": 96,
   "id": "129a346c",
   "metadata": {},
   "outputs": [
    {
     "name": "stdout",
     "output_type": "stream",
     "text": [
      "[ 0  1  2  3  4  5  6  7  8  9 10 11]\n",
      "(12,)\n"
     ]
    }
   ],
   "source": [
    "arr = np.arange(12)\n",
    "print(arr)\n",
    "print(arr.shape)  #데이터 크기 확인 (12,)는 12개에 1차원 이라는 의미"
   ]
  },
  {
   "cell_type": "code",
   "execution_count": 102,
   "id": "ea2e8e3f",
   "metadata": {},
   "outputs": [
    {
     "name": "stdout",
     "output_type": "stream",
     "text": [
      "[[ 0  1  2  3]\n",
      " [ 4  5  6  7]\n",
      " [ 8  9 10 11]]\n",
      "(3, 4)\n",
      "------------------------------------\n",
      "[[ 0  1  2  3]\n",
      " [ 4  5  6  7]\n",
      " [ 8  9 10 11]]\n",
      "(3, 4)\n",
      "------------------------------------\n",
      "[[ 0  1  2  3]\n",
      " [ 4  5  6  7]\n",
      " [ 8  9 10 11]]\n",
      "(3, 4)\n"
     ]
    }
   ],
   "source": [
    "arr1 = arr.reshape(3, 4)   # reshape을 이용해서 3행4열로 변경하기\n",
    "print(arr1)\n",
    "print(arr1.shape)\n",
    "\n",
    "print(\"------------------------------------\")\n",
    "\n",
    "arr1 = arr.reshape(3, -1)   # 여기서 -1 은 행이 정해지면 자동적으로 열 계산을 하겠다는 의미,  index에서는 끝이지만 여기서는 아님\n",
    "print(arr1)\n",
    "print(arr1.shape)\n",
    "\n",
    "print(\"------------------------------------\")\n",
    "\n",
    "arr1 = arr.reshape(-1, 4)  # 여기서 -1은 열이 정해지면 자동적으로 행 계산을 하겠다는 의미, index에서는 끝이지만 여기서는 아님\n",
    "print(arr1)\n",
    "print(arr1.shape)"
   ]
  },
  {
   "cell_type": "code",
   "execution_count": 104,
   "id": "92593db0",
   "metadata": {},
   "outputs": [
    {
     "name": "stdout",
     "output_type": "stream",
     "text": [
      "[[[ 0  1  2]\n",
      "  [ 3  4  5]]\n",
      "\n",
      " [[ 6  7  8]\n",
      "  [ 9 10 11]]]\n",
      "(2, 2, 3)\n",
      "----------------------------------\n",
      "[[[ 0  1  2]\n",
      "  [ 3  4  5]]\n",
      "\n",
      " [[ 6  7  8]\n",
      "  [ 9 10 11]]]\n",
      "(2, 2, 3)\n",
      "----------------------------------\n",
      "[[[ 0  1  2]\n",
      "  [ 3  4  5]]\n",
      "\n",
      " [[ 6  7  8]\n",
      "  [ 9 10 11]]]\n",
      "(2, 2, 3)\n",
      "----------------------------------\n",
      "[[[ 0  1  2]\n",
      "  [ 3  4  5]]\n",
      "\n",
      " [[ 6  7  8]\n",
      "  [ 9 10 11]]]\n",
      "(2, 2, 3)\n"
     ]
    }
   ],
   "source": [
    "arr2 = arr.reshape(2, 2, 3)\n",
    "print(arr2)\n",
    "print(arr2.shape)\n",
    "\n",
    "print(\"----------------------------------\")\n",
    "\n",
    "arr2 = arr.reshape(2, 2, -1)\n",
    "print(arr2)\n",
    "print(arr2.shape)\n",
    "\n",
    "print(\"----------------------------------\")\n",
    "\n",
    "arr2 = arr.reshape(2, -1, 3)\n",
    "print(arr2)\n",
    "print(arr2.shape)\n",
    "\n",
    "print(\"----------------------------------\")\n",
    "\n",
    "arr2 = arr.reshape(-1, 2, 3)\n",
    "print(arr2)\n",
    "print(arr2.shape)"
   ]
  },
  {
   "cell_type": "code",
   "execution_count": 108,
   "id": "e10e8e0a",
   "metadata": {},
   "outputs": [
    {
     "name": "stdout",
     "output_type": "stream",
     "text": [
      "[ 0  1  2  3  4  5  6  7  8  9 10 11]\n",
      "[ 0  1  2  3  4  5  6  7  8  9 10 11]\n",
      "--------------------------------\n",
      "[ 0  1  2  3  4  5  6  7  8  9 10 11]\n"
     ]
    }
   ],
   "source": [
    "print(arr1.flatten())  # flatten() 과 ravel()은 기능이 같으며 1차원 배열로 바꿔주는 기능이다.\n",
    "print(arr1.ravel())\n",
    "\n",
    "print(\"--------------------------------\")\n",
    "\n",
    "print(arr2.flatten())\n",
    "print(arr2.ravel())"
   ]
  },
  {
   "cell_type": "code",
   "execution_count": 116,
   "id": "bb70fa95",
   "metadata": {},
   "outputs": [
    {
     "name": "stdout",
     "output_type": "stream",
     "text": [
      "[[0 1 2 3 4]]\n",
      "[[0]\n",
      " [1]\n",
      " [2]\n",
      " [3]\n",
      " [4]]\n",
      "----------------------------\n",
      "[[0]\n",
      " [1]\n",
      " [2]\n",
      " [3]\n",
      " [4]]\n",
      "(5,)\n"
     ]
    }
   ],
   "source": [
    "arr = np.arange(5)\n",
    "\n",
    "print(arr.reshape(1, 5))\n",
    "print(arr.reshape(5, 1))\n",
    "\n",
    "# reshape는 복사본에다가 변경하는 것이므로 print(arr.shape)로 찍어보면 바뀌지 않은 원본의 결과인 (5,) 이 나온다.\n",
    "# 원본 데이터를 변경하려면 arr = arr.reshape(1, 5) 이렇게 해야한다.\n",
    "\n",
    "print(\"----------------------------\")\n",
    "\n",
    "print(arr[:, np.newaxis])  # np.newaxis 는 [] 를 한번 덧씌워주는 역할\n"
   ]
  },
  {
   "cell_type": "code",
   "execution_count": null,
   "id": "236d8a04",
   "metadata": {},
   "outputs": [],
   "source": []
  },
  {
   "cell_type": "code",
   "execution_count": null,
   "id": "85b52f2d",
   "metadata": {},
   "outputs": [],
   "source": []
  },
  {
   "cell_type": "code",
   "execution_count": null,
   "id": "5a2c8350",
   "metadata": {},
   "outputs": [],
   "source": []
  },
  {
   "cell_type": "code",
   "execution_count": null,
   "id": "8eec1644",
   "metadata": {},
   "outputs": [],
   "source": []
  }
 ],
 "metadata": {
  "kernelspec": {
   "display_name": "Python 3 (ipykernel)",
   "language": "python",
   "name": "python3"
  },
  "language_info": {
   "codemirror_mode": {
    "name": "ipython",
    "version": 3
   },
   "file_extension": ".py",
   "mimetype": "text/x-python",
   "name": "python",
   "nbconvert_exporter": "python",
   "pygments_lexer": "ipython3",
   "version": "3.9.12"
  }
 },
 "nbformat": 4,
 "nbformat_minor": 5
}
