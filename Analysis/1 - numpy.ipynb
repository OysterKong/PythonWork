{
 "cells": [
  {
   "cell_type": "code",
   "execution_count": 2,
   "id": "b3f4e217",
   "metadata": {},
   "outputs": [],
   "source": [
    "import numpy as np"
   ]
  },
  {
   "cell_type": "markdown",
   "id": "e77f7c76",
   "metadata": {},
   "source": [
    "## 1. 1차원 배열"
   ]
  },
  {
   "cell_type": "code",
   "execution_count": 9,
   "id": "57cd456d",
   "metadata": {},
   "outputs": [
    {
     "name": "stdout",
     "output_type": "stream",
     "text": [
      "<class 'list'>\n",
      "[1, 2, 3, 4, 5, 10, 20, '가', '나']\n"
     ]
    }
   ],
   "source": [
    "# 아래는 배열이 아닌 list 이며 모양은 비슷함\n",
    "a1 = [1, 2, 3, 4, 5, 10, 20, \"가\", \"나\"]\n",
    "print(type(a1))\n",
    "print(a1)\n",
    "# print(a1.shape)      #list에서는 shape을 사용못함, 에러"
   ]
  },
  {
   "cell_type": "code",
   "execution_count": 10,
   "id": "deafa422",
   "metadata": {},
   "outputs": [
    {
     "name": "stdout",
     "output_type": "stream",
     "text": [
      "['1' '2' '3' '4' '5' '10' '20' '가' '나']\n",
      "<class 'numpy.ndarray'>\n",
      "(9,)\n",
      "<U11\n"
     ]
    }
   ],
   "source": [
    "#리스트와 배열의 차이는 , 의 차이\n",
    "\n",
    "a1 = np.array([1, 2, 3, 4, 5, 10, 20, \"가\", \"나\"])\n",
    "print(a1)\n",
    "print(type(a1))\n",
    "print(a1.shape)   #shape는 배열의 모양,크기  - 여기서는 a1 배열이 7개의 데이터로 1차원이므로 (7,) 로 표현\n",
    "print(a1.dtype)   #숫자는 1byte, 문자는 아스키코드로 표현 2byte 씩이므로 총 11 자리"
   ]
  },
  {
   "cell_type": "code",
   "execution_count": 13,
   "id": "642a54a7",
   "metadata": {},
   "outputs": [
    {
     "name": "stdout",
     "output_type": "stream",
     "text": [
      "[ 1.  2.  3.  4.  5. 10. 20.]\n",
      "float64\n"
     ]
    }
   ],
   "source": [
    "# a1 = np.array([1, 2, 3, 4, 5, 10, 20], dtype=float)\n",
    "a1 = np.array([1, 2, 3, 4, 5, 10, 20], float)\n",
    "print(a1)\n",
    "print(a1.dtype)"
   ]
  },
  {
   "cell_type": "code",
   "execution_count": 14,
   "id": "0975cc71",
   "metadata": {},
   "outputs": [
    {
     "name": "stdout",
     "output_type": "stream",
     "text": [
      "[0, 1, 2, 3, 4, 5, 6, 7, 8, 9, 0, 1, 2, 3, 4, 5, 6, 7, 8, 9, 0, 1, 2, 3, 4, 5, 6, 7, 8, 9]\n"
     ]
    }
   ],
   "source": [
    "##### 벡터화 연산  (1차원 배열로 연산할 수 있게끔 만드는 것을 의미)\n",
    "\n",
    "data1 = [0, 1, 2, 3, 4, 5, 6, 7, 8, 9]\n",
    "\n",
    "print(data1 * 3)   # list는 수학적 연산이 불가능하다\n",
    "#print(data1 - 3)   # 에러"
   ]
  },
  {
   "cell_type": "code",
   "execution_count": 16,
   "id": "3927b7cc",
   "metadata": {},
   "outputs": [
    {
     "name": "stdout",
     "output_type": "stream",
     "text": [
      "[ 0  2  4  6  8 10 12 14 16 18]\n",
      "[-2 -1  0  1  2  3  4  5  6  7]\n",
      "[ 2  3  4  5  6  7  8  9 10 11]\n"
     ]
    }
   ],
   "source": [
    "dataArray = np.array(data1)\n",
    "\n",
    "print(dataArray * 2)\n",
    "print(dataArray - 2)\n",
    "print(dataArray + 2)"
   ]
  },
  {
   "cell_type": "code",
   "execution_count": 17,
   "id": "01d39da9",
   "metadata": {},
   "outputs": [
    {
     "name": "stdout",
     "output_type": "stream",
     "text": [
      "0 1\n"
     ]
    }
   ],
   "source": [
    "##### 인덱스 접근\n",
    "print(dataArray[0], dataArray[1])"
   ]
  },
  {
   "cell_type": "markdown",
   "id": "e984c619",
   "metadata": {},
   "source": [
    "## 2. 2차원 배열"
   ]
  },
  {
   "cell_type": "code",
   "execution_count": 21,
   "id": "91668789",
   "metadata": {},
   "outputs": [
    {
     "name": "stdout",
     "output_type": "stream",
     "text": [
      "[[1 2 3]\n",
      " [4 5 6]]\n",
      "[1 2 3]\n",
      "1\n",
      "(2, 3)\n"
     ]
    }
   ],
   "source": [
    "arr = np.array([[1, 2, 3], [4, 5, 6]])\n",
    "print(arr)\n",
    "print(arr[0])\n",
    "print(arr[0][0])\n",
    "print(arr.shape)    #2행 3열에 대한 표시"
   ]
  },
  {
   "cell_type": "markdown",
   "id": "16c06933",
   "metadata": {},
   "source": [
    "## 3. 3차원 배열"
   ]
  },
  {
   "cell_type": "code",
   "execution_count": 30,
   "id": "9baecf0e",
   "metadata": {},
   "outputs": [
    {
     "name": "stdout",
     "output_type": "stream",
     "text": [
      "[[[ 1  2  3  4]\n",
      "  [ 3  4  5  6]]\n",
      "\n",
      " [[ 7  8  9 10]\n",
      "  [11 12 13 14]]]\n",
      "(2, 2, 4)\n",
      "3\n",
      "---------------------------------\n",
      "[[1 2 3 4]\n",
      " [3 4 5 6]]\n",
      "[1 2 3 4]\n",
      "1\n",
      "2\n",
      "2\n",
      "4\n"
     ]
    }
   ],
   "source": [
    "arr = np.array([[[1, 2, 3, 4], [3, 4, 5, 6]], \n",
    "                [[7, 8, 9, 10], [11, 12, 13, 14]]])\n",
    "\n",
    "print(arr)\n",
    "print(arr.shape)   #4열짜리를 2번 묶고 또 그런 배열이 2개가 있다는 뜻. 곧 3차원을 의미\n",
    "print(arr.ndim)   #몇차원 배열인지 숫자로 나타내줌\n",
    "print(\"---------------------------------\")\n",
    "print(arr[0])\n",
    "print(arr[0][0])\n",
    "print(arr[0][0][0])\n",
    "print(len(arr))  #2차원배열 2개를 관리하므로 2\n",
    "print(len(arr[0])) #1차원배열 2개를 관리하므로 2\n",
    "print(len(arr[0][0]))"
   ]
  },
  {
   "cell_type": "code",
   "execution_count": 32,
   "id": "c84f714c",
   "metadata": {},
   "outputs": [
    {
     "name": "stdout",
     "output_type": "stream",
     "text": [
      "[[[[10]]]]\n",
      "(1, 1, 1, 1)\n",
      "4\n"
     ]
    }
   ],
   "source": [
    "#대괄호의 갯수를 보고 몇차원인지 알수도 있다.\n",
    "\n",
    "arr = np.array([[[[10]]]])\n",
    "print(arr)\n",
    "print(arr.shape)\n",
    "print(arr.ndim)"
   ]
  },
  {
   "cell_type": "markdown",
   "id": "ec3f1dab",
   "metadata": {},
   "source": [
    "## 4. 집계 함수"
   ]
  },
  {
   "cell_type": "code",
   "execution_count": 35,
   "id": "a0ba975c",
   "metadata": {},
   "outputs": [
    {
     "name": "stdout",
     "output_type": "stream",
     "text": [
      "[ 0.73260638 -0.09163591 -0.88466111 -0.41378421 -0.86357503 -0.58608405\n",
      "  0.80474366  0.1542453 ]\n",
      "[ 0.36106618 -1.40118437 -0.76984119 -0.8301113  -1.10903178 -0.40674953\n",
      " -0.2931908  -1.25212293]\n",
      "<class 'numpy.ndarray'>\n"
     ]
    }
   ],
   "source": [
    "x = np.random.randn(8)            #()안에 입력한 숫자의 갯수만큼 난수를 랜덤으로 구해줌\n",
    "y = np.random.randn(8)\n",
    "\n",
    "print(x)\n",
    "print(y)\n",
    "print(type(x)) # numpy를 통해 나온 결과값은 배열,  결과도 보면 ,가 없다"
   ]
  },
  {
   "cell_type": "code",
   "execution_count": 36,
   "id": "b67a786f",
   "metadata": {},
   "outputs": [
    {
     "data": {
      "text/plain": [
       "array([ 0.73260638, -0.09163591, -0.76984119, -0.41378421, -0.86357503,\n",
       "       -0.40674953,  0.80474366,  0.1542453 ])"
      ]
     },
     "execution_count": 36,
     "metadata": {},
     "output_type": "execute_result"
    }
   ],
   "source": [
    "np.maximum(x, y)  #2개를 비교해서 큰것만 나열"
   ]
  },
  {
   "cell_type": "code",
   "execution_count": 37,
   "id": "2e0e5576",
   "metadata": {},
   "outputs": [
    {
     "data": {
      "text/plain": [
       "array([[-0.36392439,  1.15954801, -2.01451807, -0.73618475],\n",
       "       [-1.66836809, -0.07324414,  0.31593526, -1.34500283],\n",
       "       [ 0.14494746,  0.86611213,  0.16374392,  0.33938239],\n",
       "       [-0.64089668,  0.94555156,  0.61014399,  0.54801833],\n",
       "       [ 0.32824199, -0.38320164,  1.95944399, -0.06054335]])"
      ]
     },
     "execution_count": 37,
     "metadata": {},
     "output_type": "execute_result"
    }
   ],
   "source": [
    "arr = np.random.randn(5, 4)    #2차원 배열 ,  5행 4열짜리\n",
    "arr"
   ]
  },
  {
   "cell_type": "code",
   "execution_count": 44,
   "id": "4f9cc004",
   "metadata": {},
   "outputs": [
    {
     "name": "stdout",
     "output_type": "stream",
     "text": [
      "0.09518509481353596\n",
      "[-2.19999971  2.51476592  1.03474909 -1.2543302 ]\n",
      "[-1.95507919 -2.7706798   1.5141859   1.4628172   1.84394099]\n"
     ]
    }
   ],
   "source": [
    "#앞에 ?를 붙이면 사용법을 알려주는 안내창이 뜸\n",
    "\n",
    "# ?np.sum \n",
    "\n",
    "print(arr.sum())    #전체 합계\n",
    "print(arr.sum(axis=0))  #열의 합계\n",
    "print(arr.sum(axis=1))  #행의 합계"
   ]
  },
  {
   "cell_type": "markdown",
   "id": "1d46d4a1",
   "metadata": {},
   "source": [
    "## 5. 배열의 인덱싱"
   ]
  },
  {
   "cell_type": "code",
   "execution_count": 45,
   "id": "640807a5",
   "metadata": {},
   "outputs": [
    {
     "name": "stdout",
     "output_type": "stream",
     "text": [
      "300 500 500 300\n"
     ]
    }
   ],
   "source": [
    "arr = np.array([100, 200, 300, 400, 500])\n",
    "\n",
    "print(arr[2], arr[4], arr[-1], arr[-3])"
   ]
  },
  {
   "cell_type": "code",
   "execution_count": 47,
   "id": "28da9f91",
   "metadata": {},
   "outputs": [
    {
     "name": "stdout",
     "output_type": "stream",
     "text": [
      "1 2 5\n"
     ]
    }
   ],
   "source": [
    "arr = np.array([[0, 1, 2], [3, 4, 5]])\n",
    "print(arr[0][1], arr[0, 2], arr[-1, -1])"
   ]
  },
  {
   "cell_type": "code",
   "execution_count": 46,
   "id": "9a8eed9b",
   "metadata": {},
   "outputs": [
    {
     "name": "stdout",
     "output_type": "stream",
     "text": [
      "1\n"
     ]
    }
   ],
   "source": [
    "temp = [[0, 1, 2], [3, 4, 5]]   #이건 배열이 아닌 리스트라는 점 잊지말자\n",
    "print(temp[0][1])"
   ]
  },
  {
   "cell_type": "code",
   "execution_count": 53,
   "id": "79349e89",
   "metadata": {},
   "outputs": [
    {
     "name": "stdout",
     "output_type": "stream",
     "text": [
      "[0 1 2 3 4 5 6 7 8 9]\n",
      "[0 2 4 6 8]\n",
      "[0 2 4 6 8]\n",
      "[0 3 6 9]\n",
      "[1 5 9]\n",
      "[9]\n"
     ]
    }
   ],
   "source": [
    "##### fancy index\n",
    "\n",
    "arr = np.array([i for i in range(10)])\n",
    "print(arr)\n",
    "\n",
    "#boolean의 특성을 이용하여 짝수만 골라내보기\n",
    "idx = np.array([True, False, True, False, True, False, True, False, True, False])\n",
    "\n",
    "print(arr[idx])\n",
    "\n",
    "print(arr[arr % 2 == 0])\n",
    "\n",
    "# arr에서 3의 배수를 찾아라\n",
    "\n",
    "print(arr[arr % 3 == 0])\n",
    "\n",
    "# arr에서 4로 나누면 1이 남는 수를 찾아라\n",
    "\n",
    "print(arr[arr % 4 == 1])\n",
    "\n",
    "# arr에서 3으로 나누면 나눠지고 4로 나누면 1이 남는 수를 찾아라\n",
    "\n",
    "print(arr[(arr % 3 == 0) & (arr % 4 ==1)])"
   ]
  },
  {
   "cell_type": "markdown",
   "id": "66f7ac47",
   "metadata": {},
   "source": [
    "## 6. 배열의 슬라이싱"
   ]
  },
  {
   "cell_type": "code",
   "execution_count": 60,
   "id": "1bacdb0b",
   "metadata": {},
   "outputs": [
    {
     "name": "stdout",
     "output_type": "stream",
     "text": [
      "[0 1]\n",
      "----------------\n",
      "[[4 5]\n",
      " [8 9]]\n",
      "----------------\n",
      "[0 1 2 3]\n",
      "----------------\n",
      "[[ 8  9 10 11]\n",
      " [ 4  5  6  7]\n",
      " [ 0  1  2  3]]\n",
      "----------------\n",
      "[[ 0  3]\n",
      " [ 4  7]\n",
      " [ 8 11]]\n"
     ]
    }
   ],
   "source": [
    "arr = np.array([[0, 1, 2, 3],\n",
    "               [4, 5, 6, 7],\n",
    "               [8, 9, 10, 11]])\n",
    "\n",
    "arr\n",
    "\n",
    "print(arr[0, 0:2])\n",
    "print(\"----------------\")\n",
    "print(arr[1:3, 0:2])\n",
    "print(\"----------------\")\n",
    "print(arr[0, :])\n",
    "print(\"----------------\")\n",
    "print(arr[[2, 1, 0], :])   #행의 순서를 바꿀수도 있다\n",
    "print(\"----------------\")\n",
    "print(arr[:, [0,3]])"
   ]
  },
  {
   "cell_type": "markdown",
   "id": "38a1ff47",
   "metadata": {},
   "source": [
    "## 7. numpy 자료형\n",
    "\n",
    "+ b : 불리언\n",
    "+ i : 정수형\n",
    "+ u : 부호없는 정수형\n",
    "+ f : 부동 소수점\n",
    "+ c : 복소수\n",
    "+ 0 : 객체\n",
    "+ S : 바이트 문자열\n",
    "+ U : 유니코드 문자열"
   ]
  },
  {
   "cell_type": "code",
   "execution_count": null,
   "id": "e740d287",
   "metadata": {},
   "outputs": [],
   "source": []
  },
  {
   "cell_type": "code",
   "execution_count": null,
   "id": "8863e37a",
   "metadata": {},
   "outputs": [],
   "source": []
  },
  {
   "cell_type": "code",
   "execution_count": null,
   "id": "3309b427",
   "metadata": {},
   "outputs": [],
   "source": []
  },
  {
   "cell_type": "code",
   "execution_count": null,
   "id": "3a158247",
   "metadata": {},
   "outputs": [],
   "source": []
  },
  {
   "cell_type": "code",
   "execution_count": null,
   "id": "5b82437a",
   "metadata": {},
   "outputs": [],
   "source": []
  },
  {
   "cell_type": "code",
   "execution_count": null,
   "id": "73a03a46",
   "metadata": {},
   "outputs": [],
   "source": []
  }
 ],
 "metadata": {
  "kernelspec": {
   "display_name": "Python 3 (ipykernel)",
   "language": "python",
   "name": "python3"
  },
  "language_info": {
   "codemirror_mode": {
    "name": "ipython",
    "version": 3
   },
   "file_extension": ".py",
   "mimetype": "text/x-python",
   "name": "python",
   "nbconvert_exporter": "python",
   "pygments_lexer": "ipython3",
   "version": "3.9.12"
  }
 },
 "nbformat": 4,
 "nbformat_minor": 5
}
