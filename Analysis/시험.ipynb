{
 "cells": [
  {
   "cell_type": "code",
   "execution_count": 1,
   "id": "547a16da",
   "metadata": {},
   "outputs": [
    {
     "name": "stdout",
     "output_type": "stream",
     "text": [
      "사용자별로 평점 평균 구하기 :  [[1, 4.188679245283019], [2, 3.7131782945736433], [3, 3.9019607843137254], [4, 4.190476190476191], [5, 3.1464646464646466], [6, 3.9014084507042255], [7, 4.32258064516129], [8, 3.884892086330935], [9, 3.7358490566037736], [10, 4.114713216957606]]\n",
      "위의 결과 중에서 최고 평점 평균 구하기 :  [7.         4.32258065]\n"
     ]
    }
   ],
   "source": [
    "#문제 6번\n",
    "\n",
    "import numpy as np\n",
    "\n",
    "data = np.loadtxt(\"data/ml-1m/ratings.dat\", delimiter=\"::\", dtype=np.int64)\n",
    "\n",
    "#사용자별로 평점 평균 구하기. (10명만 출력)\n",
    "\n",
    "userid = np.unique(data[:,0])\n",
    "avg_score =[]\n",
    "\n",
    "for id in userid:\n",
    "    userid = data[data[:,0] == id,:]\n",
    "    score = userid[:,2].mean()\n",
    "    avg_score.append([id,score])\n",
    "    \n",
    "print(\"사용자별로 평점 평균 구하기 : \", avg_score[:10])\n",
    "\n",
    "# 위의 결과 중에서 최고 평점 평균 구하기. (사용자 아이디와 평점 평균을 같이 구하시오.)\n",
    "\n",
    "result = np.array(avg_score[:10])\n",
    "idx_result = np.argmax(result[:, 1])\n",
    "print(\"위의 결과 중에서 최고 평점 평균 구하기 : \", result[idx_result])\n"
   ]
  },
  {
   "cell_type": "code",
   "execution_count": 7,
   "id": "de3cd963",
   "metadata": {},
   "outputs": [
    {
     "data": {
      "text/plain": [
       "[1, 3, 8]"
      ]
     },
     "execution_count": 7,
     "metadata": {},
     "output_type": "execute_result"
    }
   ],
   "source": [
    "# 문제 2번\n",
    "\n",
    "data = [1, -2, 3, -5, 8, -3]\n",
    "\n",
    "# minus_remove() 라는 함수를 작성하고 조건문과 반복문을 이용해서 음수를 제거해 보자.\n",
    "\n",
    "result=[]\n",
    "def minus_remove(data):\n",
    "    for number in data:\n",
    "        if number >= 0:\n",
    "             result.append(number)\n",
    "    return result\n",
    "        \n",
    "minus_remove(data)\n",
    "\n",
    "\n",
    "# filter와  lambda 를 사용하여 아래 데이터에서 음수를 모두 제거해 보자.\n",
    "\n",
    "list(filter(lambda a:a>0, [1, -2, 3, -5, 8, -3]))\n",
    "\n",
    "\n",
    "\n"
   ]
  },
  {
   "cell_type": "code",
   "execution_count": 45,
   "id": "55112da6",
   "metadata": {},
   "outputs": [
    {
     "name": "stdout",
     "output_type": "stream",
     "text": [
      "oakchul@yna.co\n"
     ]
    }
   ],
   "source": [
    "news = \"\"\"\n",
    "(로스앤젤레스=연합뉴스) 옥철 특파원 = 팀 쿡 애플 최고경영자(CEO)가 16일(현지시간) 실리콘밸리 앞\n",
    "마당 격인 미국 서부 명문 스탠퍼드대학 학위수여식에서 테크기업들을 향해 쓴소리를 쏟아냈다.쿡은 이\n",
    "날 연설에서 실리콘밸리 테크기업들은 자신들이 만든 혼란에 대한 책임을 질 필요가 있다고 경고했다.\n",
    "근래 IT 업계의 가장 큰 이슈인 개인정보 침해, 사생활 보호 문제를 콕 집어 라이벌인 구글, 페이스북\n",
    "등 IT 공룡을 겨냥한 발언이라는 해석이 나왔다.쿡은 \"최근 실리콘밸리 산업은 고귀한 혁신과는 점점\n",
    "더 거리가 멀어지는 것으로 알려져 있다. 책임을 받아들이지 않고도 신뢰를 얻을 수 있다는 그런 믿음\n",
    "말이다\"라고 꼬집었다.개인정보 유출 사건으로 미 의회 청문회에 줄줄이 불려 나간 경쟁사 CEO들을\n",
    "향해 일침을 가한 것으로 보인다.그는 또 실리콘밸리에서 희대의 사기극을 연출한 바이오벤처 스타트업\n",
    "테라노스(Theranos)를 직격했다.쿡은 \"피 한 방울로 거짓된 기적을 만들 수 있다고 믿었느냐\"면서\n",
    "\"이런 식으로 혼돈의 공장을 만든다면 그 책임에서 절대 벗어날 수 없다\"라고 비난했다.테라노스는\n",
    "손가락 끝을 찔러 극미량의 혈액 샘플만 있으면 각종 의학정보 분석은 물론 거의 모든 질병 진단이\n",
    "가능한 바이오헬스 기술을 개발했다고 속여 월가 큰손들로부터 거액의 투자를 유치했다가 해당 기술이\n",
    "사기인 것으로 드러나 청산한 기업이다.쿡은 애플의 경우 프라이버시(사생활) 보호에 초점을 맞춘\n",
    "새로운 제품 기능들로 경쟁사들에 맞서고 있다며 자사의 데이터 보호 정책을 은근히 홍보하기도 했다.\n",
    "oakchul@yna.co.kr저작권자(c)연합뉴스. 무단전재-재배포금지\n",
    "\"\"\"\n",
    "\n",
    "import re\n",
    "email_sample = re.compile('[a-zA-Z0-9_-]+@[a-z]+.[a-z]+').finditer(news)\n",
    "for email in email_sample:\n",
    "    print(email.group())"
   ]
  },
  {
   "cell_type": "code",
   "execution_count": 47,
   "id": "07f74e44",
   "metadata": {},
   "outputs": [
    {
     "ename": "SyntaxError",
     "evalue": "invalid syntax (2984645625.py, line 12)",
     "output_type": "error",
     "traceback": [
      "\u001b[1;36m  Input \u001b[1;32mIn [47]\u001b[1;36m\u001b[0m\n\u001b[1;33m    p = re.compile(^[http] | ^[https])\u001b[0m\n\u001b[1;37m                   ^\u001b[0m\n\u001b[1;31mSyntaxError\u001b[0m\u001b[1;31m:\u001b[0m invalid syntax\n"
     ]
    }
   ],
   "source": [
    "import re\n",
    "\n",
    "webs = ['http://www.test.co.kr',\n",
    "        'https://www.test1.com',\n",
    "        'http://www.test.com',\n",
    "        'ftp://www.test.com',\n",
    "        'http:://www.test.com',\n",
    "      'htp://www.test.com',\n",
    "      'http://www.google.com',\n",
    "      'https://www.homepage.com.']\n",
    "\n",
    "p = re.compile(^[http] | ^[https])\n",
    "print(bool(p.search(webs)))\n",
    "# print(re.search(\"[0-9][0-9][0-9]-[0-9][0-9][0-9]-[0-9][0-9][0-9][0-9]\", data))"
   ]
  },
  {
   "cell_type": "code",
   "execution_count": 54,
   "id": "4a5a853a",
   "metadata": {},
   "outputs": [
    {
     "ename": "SyntaxError",
     "evalue": "invalid non-printable character U+00A0 (2729763177.py, line 1)",
     "output_type": "error",
     "traceback": [
      "\u001b[1;36m  Input \u001b[1;32mIn [54]\u001b[1;36m\u001b[0m\n\u001b[1;33m    import re\u001b[0m\n\u001b[1;37m          ^\u001b[0m\n\u001b[1;31mSyntaxError\u001b[0m\u001b[1;31m:\u001b[0m invalid non-printable character U+00A0\n"
     ]
    }
   ],
   "source": [
    "import re\n",
    "\n",
    "webs = ['http://www.test.co.kr',\n",
    "        'https://www.test1.com',\n",
    "        'http://www.test.com',\n",
    "        'ftp://www.test.com',\n",
    "        'http:://www.test.com',\n",
    "      'htp://www.test.com',\n",
    "      'http://www.google.com',\n",
    "      'https://www.homepage.com.']\n",
    "\n",
    "result = None\n",
    "if re.match('^(http://|https://)[a-zA-Z0-9-\\.]+\\.([a-zA-zZ0-9]+)(/)*[a-zA-Z0-9-=_,\\./]*', webs):\n",
    "    result = True\n",
    "else:\n",
    "    result = False\n",
    " \n",
    "    print(result)\n"
   ]
  },
  {
   "cell_type": "code",
   "execution_count": 10,
   "id": "5a4ac2de",
   "metadata": {},
   "outputs": [
    {
     "name": "stdout",
     "output_type": "stream",
     "text": [
      "[True, True, True, False, False, False, True, True]\n"
     ]
    }
   ],
   "source": [
    "import re\n",
    "\n",
    "webs = ['http://www.test.co.kr',\n",
    "        'https://www.test1.com',\n",
    "        'http://www.test.com',\n",
    "        'ftp://www.test.com',\n",
    "        'http:://www.test.com',\n",
    "      'htp://www.test.com',\n",
    "      'http://www.google.com',\n",
    "      'https://www.homepage.com.']\n",
    "\n",
    "result = []\n",
    "p=re.compile(\"http[s]?://+[a-zA-Z0-9-]+[a-zA-Z0-9-.]+\")\n",
    "for web in webs:\n",
    "    match=re.search(p, web)\n",
    "    if match:\n",
    "        result.append(True)\n",
    "    else:\n",
    "        result.append(False)\n",
    "print(result)"
   ]
  },
  {
   "cell_type": "code",
   "execution_count": null,
   "id": "849de622",
   "metadata": {},
   "outputs": [],
   "source": []
  }
 ],
 "metadata": {
  "kernelspec": {
   "display_name": "Python 3 (ipykernel)",
   "language": "python",
   "name": "python3"
  },
  "language_info": {
   "codemirror_mode": {
    "name": "ipython",
    "version": 3
   },
   "file_extension": ".py",
   "mimetype": "text/x-python",
   "name": "python",
   "nbconvert_exporter": "python",
   "pygments_lexer": "ipython3",
   "version": "3.9.12"
  }
 },
 "nbformat": 4,
 "nbformat_minor": 5
}
