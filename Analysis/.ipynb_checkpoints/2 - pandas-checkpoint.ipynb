{
 "cells": [
  {
   "cell_type": "markdown",
   "id": "3efe6776",
   "metadata": {},
   "source": [
    "## pandas에서 제공하는 대표적인 자료 구조\n",
    "\n",
    "+ Series\n",
    "+ DataFrame\n",
    "+ https://pandas.pydata.org"
   ]
  },
  {
   "cell_type": "code",
   "execution_count": 2,
   "id": "c1c45cd1",
   "metadata": {},
   "outputs": [],
   "source": [
    "import numpy as np\n",
    "import pandas as pd"
   ]
  },
  {
   "cell_type": "markdown",
   "id": "4750088e",
   "metadata": {},
   "source": [
    "### 1. Series\n",
    "\n",
    "+ 값과 인덱스를 하나로 합친 구조"
   ]
  },
  {
   "cell_type": "code",
   "execution_count": 4,
   "id": "ed073445",
   "metadata": {},
   "outputs": [
    {
     "name": "stdout",
     "output_type": "stream",
     "text": [
      "0    9904312\n",
      "1    3448737\n",
      "2    2890451\n",
      "3    2466052\n",
      "dtype: int64\n",
      "<class 'pandas.core.series.Series'>\n"
     ]
    }
   ],
   "source": [
    "s = pd.Series([9904312, 3448737, 2890451, 2466052])  #여기서 사용한 [] 데이터는 배열이 아닌 리스트이니 착오금지\n",
    "print(s)\n",
    "print(type(s))  #리스트를 시리즈 형식으로 바꿔준 것"
   ]
  },
  {
   "cell_type": "code",
   "execution_count": 5,
   "id": "19f7e318",
   "metadata": {},
   "outputs": [
    {
     "name": "stdout",
     "output_type": "stream",
     "text": [
      "(0, 9904312)\n",
      "(1, 3448737)\n",
      "(2, 2890451)\n",
      "(3, 2466052)\n"
     ]
    }
   ],
   "source": [
    "for i in enumerate([9904312, 3448737, 2890451, 2466052]):\n",
    "    print(i)"
   ]
  },
  {
   "cell_type": "code",
   "execution_count": 10,
   "id": "1cb0fd28",
   "metadata": {},
   "outputs": [
    {
     "name": "stdout",
     "output_type": "stream",
     "text": [
      "서울    9904312\n",
      "부산    3448737\n",
      "인천    2890451\n",
      "대구    2466052\n",
      "dtype: int64\n",
      "--------------------------------------------------\n",
      "[9904312 3448737 2890451 2466052] <class 'numpy.ndarray'>\n",
      "Index(['서울', '부산', '인천', '대구'], dtype='object')\n",
      "--------------------------------------------------\n",
      "도시\n",
      "서울    9904312\n",
      "부산    3448737\n",
      "인천    2890451\n",
      "대구    2466052\n",
      "dtype: int64\n",
      "--------------------------------------------------\n",
      "도시\n",
      "서울    9904312\n",
      "부산    3448737\n",
      "인천    2890451\n",
      "대구    2466052\n",
      "Name: 인구, dtype: int64\n"
     ]
    }
   ],
   "source": [
    "##### 인덱스를 자유롭게 지정\n",
    "\n",
    "s = pd.Series([9904312, 3448737, 2890451, 2466052], index=[\"서울\", \"부산\", \"인천\", \"대구\"])\n",
    "print(s)\n",
    "\n",
    "print(\"--------------------------------------------------\")\n",
    "\n",
    "print(s.values, type(s.values))  # 값만 뽑아보기  -  series의 기본 타입은 numpy 배열이라는 점\n",
    "print(s.index)   # 인덱스만 뽑아보기\n",
    "\n",
    "print(\"--------------------------------------------------\")\n",
    "\n",
    "# 인덱스에 이름 지정\n",
    "s.index.name = \"도시\"\n",
    "print(s)\n",
    "\n",
    "print(\"--------------------------------------------------\")\n",
    "\n",
    "# Series 전체에 이름 지정\n",
    "\n",
    "s.name = \"인구\"\n",
    "print(s)"
   ]
  },
  {
   "cell_type": "code",
   "execution_count": 11,
   "id": "67bfd673",
   "metadata": {},
   "outputs": [
    {
     "name": "stdout",
     "output_type": "stream",
     "text": [
      "도시\n",
      "서울    9.904312\n",
      "부산    3.448737\n",
      "인천    2.890451\n",
      "대구    2.466052\n",
      "Name: 인구, dtype: float64\n"
     ]
    }
   ],
   "source": [
    "##### 벡터화 연산\n",
    "\n",
    "s1 = s / 1000000\n",
    "print(s1)"
   ]
  },
  {
   "cell_type": "code",
   "execution_count": 17,
   "id": "621a9ea1",
   "metadata": {},
   "outputs": [
    {
     "name": "stdout",
     "output_type": "stream",
     "text": [
      "3448737 3448737\n",
      "------------------------\n",
      "도시\n",
      "부산    3448737\n",
      "인천    2890451\n",
      "Name: 인구, dtype: int64\n",
      "도시\n",
      "부산    3448737\n",
      "인천    2890451\n",
      "Name: 인구, dtype: int64\n",
      "------------------------\n",
      "3448737 ,  9904312\n",
      "------------------------\n",
      "도시\n",
      "부산    3448737\n",
      "인천    2890451\n",
      "Name: 인구, dtype: int64\n"
     ]
    }
   ],
   "source": [
    "##### 인덱싱\n",
    "\n",
    "print(s[1], s[\"부산\"])\n",
    "\n",
    "print(\"------------------------\")\n",
    "\n",
    "print(s[1:3])                  #숫자 인덱스는 끝자리가 -1 인것을 항상 생각해야한다.\n",
    "print(s[\"부산\":\"인천\"])        #다만 문자로 표현시에는 그럴 필요가 없다.\n",
    "\n",
    "print(\"------------------------\")\n",
    "\n",
    "print(s.부산, \", \", s.서울)\n",
    "\n",
    "print(\"------------------------\")\n",
    "\n",
    "print(s[(s > 250e4) & (s < 500e4)])   #250만 이상 500만 이하"
   ]
  },
  {
   "cell_type": "code",
   "execution_count": 22,
   "id": "9850d387",
   "metadata": {},
   "outputs": [
    {
     "name": "stdout",
     "output_type": "stream",
     "text": [
      "True\n",
      "False\n",
      "------------------------------\n",
      "[('서울', 9904312), ('부산', 3448737), ('인천', 2890451), ('대구', 2466052)]\n",
      "------------------------------\n",
      "서울    9904312\n",
      "부산    3448737\n",
      "인천    2890451\n",
      "대전    1490158\n",
      "dtype: int64\n"
     ]
    }
   ],
   "source": [
    "##### Series와 dict\n",
    "\n",
    "print(\"서울\" in s)\n",
    "print(\"대전\" in s)\n",
    "\n",
    "print(\"------------------------------\")\n",
    "\n",
    "# dict에서 사용하는 items() 사용가능\n",
    "print(list(s.items()))\n",
    "\n",
    "print(\"------------------------------\")\n",
    "\n",
    "# dict 형식으로 데이터 준비\n",
    "s2 = pd.Series({\"서울\" : 9904312, \"부산\" : 3448737, \"인천\" : 2890451, \"대전\" : 1490158})\n",
    "print(s2)"
   ]
  },
  {
   "cell_type": "code",
   "execution_count": 27,
   "id": "44fbce0b",
   "metadata": {},
   "outputs": [
    {
     "name": "stdout",
     "output_type": "stream",
     "text": [
      "도시\n",
      "서울    9904312\n",
      "부산    3448737\n",
      "인천    2890451\n",
      "대구    2466052\n",
      "Name: 인구, dtype: int64\n",
      "------------------------------\n",
      "서울    9904312\n",
      "부산    3448737\n",
      "인천    2890451\n",
      "대전    1490158\n",
      "dtype: int64\n",
      "------------------------------\n",
      "대구    NaN\n",
      "대전    NaN\n",
      "부산    0.0\n",
      "서울    0.0\n",
      "인천    0.0\n",
      "dtype: float64\n",
      "------------------------------\n",
      "[     0      0      0 975894]\n"
     ]
    }
   ],
   "source": [
    "##### 인덱스 기반 연산\n",
    "\n",
    "print(s)\n",
    "print(\"------------------------------\")\n",
    "print(s2)\n",
    "print(\"------------------------------\")\n",
    "\n",
    "result = s - s2\n",
    "\n",
    "print(result)   # 인덱스 연산하면 맞는 인덱스를 찾아서 알아서 연산\n",
    "\n",
    "print(\"------------------------------\")\n",
    "\n",
    "print(s.values - s2.values)  #값으로 연산하면 순서대로 연산"
   ]
  },
  {
   "cell_type": "code",
   "execution_count": null,
   "id": "2505049d",
   "metadata": {},
   "outputs": [],
   "source": [
    "##### 결측치 제거"
   ]
  },
  {
   "cell_type": "code",
   "execution_count": null,
   "id": "5b54010e",
   "metadata": {},
   "outputs": [],
   "source": []
  },
  {
   "cell_type": "code",
   "execution_count": null,
   "id": "7b86a4dc",
   "metadata": {},
   "outputs": [],
   "source": []
  },
  {
   "cell_type": "code",
   "execution_count": null,
   "id": "99b939cb",
   "metadata": {},
   "outputs": [],
   "source": []
  },
  {
   "cell_type": "code",
   "execution_count": null,
   "id": "d7471a21",
   "metadata": {},
   "outputs": [],
   "source": []
  },
  {
   "cell_type": "code",
   "execution_count": null,
   "id": "645fe8dd",
   "metadata": {},
   "outputs": [],
   "source": []
  }
 ],
 "metadata": {
  "kernelspec": {
   "display_name": "Python 3 (ipykernel)",
   "language": "python",
   "name": "python3"
  },
  "language_info": {
   "codemirror_mode": {
    "name": "ipython",
    "version": 3
   },
   "file_extension": ".py",
   "mimetype": "text/x-python",
   "name": "python",
   "nbconvert_exporter": "python",
   "pygments_lexer": "ipython3",
   "version": "3.9.12"
  }
 },
 "nbformat": 4,
 "nbformat_minor": 5
}
