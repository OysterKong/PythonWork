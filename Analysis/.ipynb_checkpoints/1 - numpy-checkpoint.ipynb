{
 "cells": [
  {
   "cell_type": "code",
   "execution_count": 2,
   "id": "7e6467a7",
   "metadata": {},
   "outputs": [],
   "source": [
    "import numpy as np"
   ]
  },
  {
   "cell_type": "markdown",
   "id": "c4d70bf9",
   "metadata": {},
   "source": [
    "## 1. 1차원 배열"
   ]
  },
  {
   "cell_type": "code",
   "execution_count": 9,
   "id": "2c53d693",
   "metadata": {},
   "outputs": [
    {
     "name": "stdout",
     "output_type": "stream",
     "text": [
      "<class 'list'>\n",
      "[1, 2, 3, 4, 5, 10, 20, '가', '나']\n"
     ]
    }
   ],
   "source": [
    "# 아래는 배열이 아닌 list 이며 모양은 비슷함\n",
    "a1 = [1, 2, 3, 4, 5, 10, 20, \"가\", \"나\"]\n",
    "print(type(a1))\n",
    "print(a1)\n",
    "# print(a1.shape)      #list에서는 shape을 사용못함, 에러"
   ]
  },
  {
   "cell_type": "code",
   "execution_count": 10,
   "id": "561e834c",
   "metadata": {},
   "outputs": [
    {
     "name": "stdout",
     "output_type": "stream",
     "text": [
      "['1' '2' '3' '4' '5' '10' '20' '가' '나']\n",
      "<class 'numpy.ndarray'>\n",
      "(9,)\n",
      "<U11\n"
     ]
    }
   ],
   "source": [
    "#리스트와 배열의 차이는 , 의 차이\n",
    "\n",
    "a1 = np.array([1, 2, 3, 4, 5, 10, 20, \"가\", \"나\"])\n",
    "print(a1)\n",
    "print(type(a1))\n",
    "print(a1.shape)   #shape는 배열의 모양,크기  - 여기서는 a1 배열이 7개의 데이터로 1차원이므로 (7,) 로 표현\n",
    "print(a1.dtype)   #숫자는 1byte, 문자는 아스키코드로 표현 2byte 씩이므로 총 11 자리"
   ]
  },
  {
   "cell_type": "code",
   "execution_count": 13,
   "id": "919fa548",
   "metadata": {},
   "outputs": [
    {
     "name": "stdout",
     "output_type": "stream",
     "text": [
      "[ 1.  2.  3.  4.  5. 10. 20.]\n",
      "float64\n"
     ]
    }
   ],
   "source": [
    "# a1 = np.array([1, 2, 3, 4, 5, 10, 20], dtype=float)\n",
    "a1 = np.array([1, 2, 3, 4, 5, 10, 20], float)\n",
    "print(a1)\n",
    "print(a1.dtype)"
   ]
  },
  {
   "cell_type": "code",
   "execution_count": 14,
   "id": "f8c5d86a",
   "metadata": {},
   "outputs": [
    {
     "name": "stdout",
     "output_type": "stream",
     "text": [
      "[0, 1, 2, 3, 4, 5, 6, 7, 8, 9, 0, 1, 2, 3, 4, 5, 6, 7, 8, 9, 0, 1, 2, 3, 4, 5, 6, 7, 8, 9]\n"
     ]
    }
   ],
   "source": [
    "##### 벡터화 연산  (1차원 배열로 연산할 수 있게끔 만드는 것을 의미)\n",
    "\n",
    "data1 = [0, 1, 2, 3, 4, 5, 6, 7, 8, 9]\n",
    "\n",
    "print(data1 * 3)   # list는 수학적 연산이 불가능하다\n",
    "#print(data1 - 3)   # 에러"
   ]
  },
  {
   "cell_type": "code",
   "execution_count": 16,
   "id": "0a7788be",
   "metadata": {},
   "outputs": [
    {
     "name": "stdout",
     "output_type": "stream",
     "text": [
      "[ 0  2  4  6  8 10 12 14 16 18]\n",
      "[-2 -1  0  1  2  3  4  5  6  7]\n",
      "[ 2  3  4  5  6  7  8  9 10 11]\n"
     ]
    }
   ],
   "source": [
    "dataArray = np.array(data1)\n",
    "\n",
    "print(dataArray * 2)\n",
    "print(dataArray - 2)\n",
    "print(dataArray + 2)"
   ]
  },
  {
   "cell_type": "code",
   "execution_count": 17,
   "id": "7dc692a5",
   "metadata": {},
   "outputs": [
    {
     "name": "stdout",
     "output_type": "stream",
     "text": [
      "0 1\n"
     ]
    }
   ],
   "source": [
    "##### 인덱스 접근\n",
    "print(dataArray[0], dataArray[1])"
   ]
  },
  {
   "cell_type": "markdown",
   "id": "58b60859",
   "metadata": {},
   "source": [
    "## 2. 2차원 배열"
   ]
  },
  {
   "cell_type": "code",
   "execution_count": 21,
   "id": "600c7792",
   "metadata": {},
   "outputs": [
    {
     "name": "stdout",
     "output_type": "stream",
     "text": [
      "[[1 2 3]\n",
      " [4 5 6]]\n",
      "[1 2 3]\n",
      "1\n",
      "(2, 3)\n"
     ]
    }
   ],
   "source": [
    "arr = np.array([[1, 2, 3], [4, 5, 6]])\n",
    "print(arr)\n",
    "print(arr[0])\n",
    "print(arr[0][0])\n",
    "print(arr.shape)    #2행 3열에 대한 표시"
   ]
  },
  {
   "cell_type": "markdown",
   "id": "6cbdbf8b",
   "metadata": {},
   "source": [
    "## 3. 3차원 배열"
   ]
  },
  {
   "cell_type": "code",
   "execution_count": 30,
   "id": "b95fae55",
   "metadata": {},
   "outputs": [
    {
     "name": "stdout",
     "output_type": "stream",
     "text": [
      "[[[ 1  2  3  4]\n",
      "  [ 3  4  5  6]]\n",
      "\n",
      " [[ 7  8  9 10]\n",
      "  [11 12 13 14]]]\n",
      "(2, 2, 4)\n",
      "3\n",
      "---------------------------------\n",
      "[[1 2 3 4]\n",
      " [3 4 5 6]]\n",
      "[1 2 3 4]\n",
      "1\n",
      "2\n",
      "2\n",
      "4\n"
     ]
    }
   ],
   "source": [
    "arr = np.array([[[1, 2, 3, 4], [3, 4, 5, 6]], \n",
    "                [[7, 8, 9, 10], [11, 12, 13, 14]]])\n",
    "\n",
    "print(arr)\n",
    "print(arr.shape)   #4열짜리를 2번 묶고 또 그런 배열이 2개가 있다는 뜻. 곧 3차원을 의미\n",
    "print(arr.ndim)   #몇차원 배열인지 숫자로 나타내줌\n",
    "print(\"---------------------------------\")\n",
    "print(arr[0])\n",
    "print(arr[0][0])\n",
    "print(arr[0][0][0])\n",
    "print(len(arr))  #2차원배열 2개를 관리하므로 2\n",
    "print(len(arr[0])) #1차원배열 2개를 관리하므로 2\n",
    "print(len(arr[0][0]))"
   ]
  },
  {
   "cell_type": "code",
   "execution_count": 32,
   "id": "fd295c6b",
   "metadata": {},
   "outputs": [
    {
     "name": "stdout",
     "output_type": "stream",
     "text": [
      "[[[[10]]]]\n",
      "(1, 1, 1, 1)\n",
      "4\n"
     ]
    }
   ],
   "source": [
    "#대괄호의 갯수를 보고 몇차원인지 알수도 있다.\n",
    "\n",
    "arr = np.array([[[[10]]]])\n",
    "print(arr)\n",
    "print(arr.shape)\n",
    "print(arr.ndim)"
   ]
  },
  {
   "cell_type": "markdown",
   "id": "92c9cff1",
   "metadata": {},
   "source": [
    "## 4. 집계 함수"
   ]
  },
  {
   "cell_type": "code",
   "execution_count": 35,
   "id": "597dde3d",
   "metadata": {},
   "outputs": [
    {
     "name": "stdout",
     "output_type": "stream",
     "text": [
      "[ 0.73260638 -0.09163591 -0.88466111 -0.41378421 -0.86357503 -0.58608405\n",
      "  0.80474366  0.1542453 ]\n",
      "[ 0.36106618 -1.40118437 -0.76984119 -0.8301113  -1.10903178 -0.40674953\n",
      " -0.2931908  -1.25212293]\n",
      "<class 'numpy.ndarray'>\n"
     ]
    }
   ],
   "source": [
    "x = np.random.randn(8)            #()안에 입력한 숫자의 갯수만큼 난수를 랜덤으로 구해줌\n",
    "y = np.random.randn(8)\n",
    "\n",
    "print(x)\n",
    "print(y)\n",
    "print(type(x)) # numpy를 통해 나온 결과값은 배열,  결과도 보면 ,가 없다"
   ]
  },
  {
   "cell_type": "code",
   "execution_count": 36,
   "id": "8c613d49",
   "metadata": {},
   "outputs": [
    {
     "data": {
      "text/plain": [
       "array([ 0.73260638, -0.09163591, -0.76984119, -0.41378421, -0.86357503,\n",
       "       -0.40674953,  0.80474366,  0.1542453 ])"
      ]
     },
     "execution_count": 36,
     "metadata": {},
     "output_type": "execute_result"
    }
   ],
   "source": [
    "np.maximum(x, y)  #2개를 비교해서 큰것만 나열"
   ]
  },
  {
   "cell_type": "code",
   "execution_count": 37,
   "id": "a6c8b9cb",
   "metadata": {},
   "outputs": [
    {
     "data": {
      "text/plain": [
       "array([[-0.36392439,  1.15954801, -2.01451807, -0.73618475],\n",
       "       [-1.66836809, -0.07324414,  0.31593526, -1.34500283],\n",
       "       [ 0.14494746,  0.86611213,  0.16374392,  0.33938239],\n",
       "       [-0.64089668,  0.94555156,  0.61014399,  0.54801833],\n",
       "       [ 0.32824199, -0.38320164,  1.95944399, -0.06054335]])"
      ]
     },
     "execution_count": 37,
     "metadata": {},
     "output_type": "execute_result"
    }
   ],
   "source": [
    "arr = np.random.randn(5, 4)    #2차원 배열 ,  5행 4열짜리\n",
    "arr"
   ]
  },
  {
   "cell_type": "code",
   "execution_count": 44,
   "id": "f7b854b3",
   "metadata": {},
   "outputs": [
    {
     "name": "stdout",
     "output_type": "stream",
     "text": [
      "0.09518509481353596\n",
      "[-2.19999971  2.51476592  1.03474909 -1.2543302 ]\n",
      "[-1.95507919 -2.7706798   1.5141859   1.4628172   1.84394099]\n"
     ]
    }
   ],
   "source": [
    "#앞에 ?를 붙이면 사용법을 알려주는 안내창이 뜸\n",
    "\n",
    "# ?np.sum \n",
    "\n",
    "print(arr.sum())    #전체 합계\n",
    "print(arr.sum(axis=0))  #열의 합계\n",
    "print(arr.sum(axis=1))  #행의 합계"
   ]
  },
  {
   "cell_type": "markdown",
   "id": "30fb1c7e",
   "metadata": {},
   "source": [
    "## 5. 배열의 인덱싱"
   ]
  },
  {
   "cell_type": "code",
   "execution_count": 45,
   "id": "a5b2d583",
   "metadata": {},
   "outputs": [
    {
     "name": "stdout",
     "output_type": "stream",
     "text": [
      "300 500 500 300\n"
     ]
    }
   ],
   "source": [
    "arr = np.array([100, 200, 300, 400, 500])\n",
    "\n",
    "print(arr[2], arr[4], arr[-1], arr[-3])"
   ]
  },
  {
   "cell_type": "code",
   "execution_count": 47,
   "id": "a657a979",
   "metadata": {},
   "outputs": [
    {
     "name": "stdout",
     "output_type": "stream",
     "text": [
      "1 2 5\n"
     ]
    }
   ],
   "source": [
    "arr = np.array([[0, 1, 2], [3, 4, 5]])\n",
    "print(arr[0][1], arr[0, 2], arr[-1, -1])"
   ]
  },
  {
   "cell_type": "code",
   "execution_count": 46,
   "id": "8383c182",
   "metadata": {},
   "outputs": [
    {
     "name": "stdout",
     "output_type": "stream",
     "text": [
      "1\n"
     ]
    }
   ],
   "source": [
    "temp = [[0, 1, 2], [3, 4, 5]]   #이건 배열이 아닌 리스트라는 점 잊지말자\n",
    "print(temp[0][1])"
   ]
  },
  {
   "cell_type": "code",
   "execution_count": 53,
   "id": "01de4f72",
   "metadata": {},
   "outputs": [
    {
     "name": "stdout",
     "output_type": "stream",
     "text": [
      "[0 1 2 3 4 5 6 7 8 9]\n",
      "[0 2 4 6 8]\n",
      "[0 2 4 6 8]\n",
      "[0 3 6 9]\n",
      "[1 5 9]\n",
      "[9]\n"
     ]
    }
   ],
   "source": [
    "##### fancy index\n",
    "\n",
    "arr = np.array([i for i in range(10)])\n",
    "print(arr)\n",
    "\n",
    "#boolean의 특성을 이용하여 짝수만 골라내보기\n",
    "idx = np.array([True, False, True, False, True, False, True, False, True, False])\n",
    "\n",
    "print(arr[idx])\n",
    "\n",
    "print(arr[arr % 2 == 0])\n",
    "\n",
    "# arr에서 3의 배수를 찾아라\n",
    "\n",
    "print(arr[arr % 3 == 0])\n",
    "\n",
    "# arr에서 4로 나누면 1이 남는 수를 찾아라\n",
    "\n",
    "print(arr[arr % 4 == 1])\n",
    "\n",
    "# arr에서 3으로 나누면 나눠지고 4로 나누면 1이 남는 수를 찾아라\n",
    "\n",
    "print(arr[(arr % 3 == 0) & (arr % 4 ==1)])"
   ]
  },
  {
   "cell_type": "markdown",
   "id": "57cc4794",
   "metadata": {},
   "source": [
    "## 6. 배열의 슬라이싱"
   ]
  },
  {
   "cell_type": "code",
   "execution_count": 60,
   "id": "b3268692",
   "metadata": {},
   "outputs": [
    {
     "name": "stdout",
     "output_type": "stream",
     "text": [
      "[0 1]\n",
      "----------------\n",
      "[[4 5]\n",
      " [8 9]]\n",
      "----------------\n",
      "[0 1 2 3]\n",
      "----------------\n",
      "[[ 8  9 10 11]\n",
      " [ 4  5  6  7]\n",
      " [ 0  1  2  3]]\n",
      "----------------\n",
      "[[ 0  3]\n",
      " [ 4  7]\n",
      " [ 8 11]]\n"
     ]
    }
   ],
   "source": [
    "arr = np.array([[0, 1, 2, 3],\n",
    "               [4, 5, 6, 7],\n",
    "               [8, 9, 10, 11]])\n",
    "\n",
    "arr\n",
    "\n",
    "print(arr[0, 0:2])\n",
    "print(\"----------------\")\n",
    "print(arr[1:3, 0:2])\n",
    "print(\"----------------\")\n",
    "print(arr[0, :])\n",
    "print(\"----------------\")\n",
    "print(arr[[2, 1, 0], :])   #행의 순서를 바꿀수도 있다\n",
    "print(\"----------------\")\n",
    "print(arr[:, [0,3]])"
   ]
  },
  {
   "cell_type": "markdown",
   "id": "a7b7ba9d",
   "metadata": {},
   "source": [
    "## 7. numpy 자료형\n",
    "\n",
    "+ b : 불리언\n",
    "+ i : 정수형\n",
    "+ u : 부호없는 정수형\n",
    "+ f : 부동 소수점\n",
    "+ c : 복소수\n",
    "+ 0 : 객체\n",
    "+ S : 바이트 문자열\n",
    "+ U : 유니코드 문자열"
   ]
  },
  {
   "cell_type": "code",
   "execution_count": 61,
   "id": "11d4df5d",
   "metadata": {},
   "outputs": [
    {
     "name": "stdout",
     "output_type": "stream",
     "text": [
      "int64\n"
     ]
    }
   ],
   "source": [
    "# a1 = np.dtype(\"i\")\n",
    "a1 = np.dtype(\"i8\")\n",
    "print(a1)"
   ]
  },
  {
   "cell_type": "code",
   "execution_count": 65,
   "id": "11481717",
   "metadata": {},
   "outputs": [
    {
     "name": "stdout",
     "output_type": "stream",
     "text": [
      "float16\n",
      "3.0\n",
      "--------------------------------------------\n",
      "<U1\n",
      "12\n"
     ]
    }
   ],
   "source": [
    "# arr = np.array([1, 2, 3], dtype=\"f\")\n",
    "arr = np.array([1, 2, 3], dtype=np.float16)\n",
    "print(arr.dtype)\n",
    "print(arr[0] + arr[1])\n",
    "\n",
    "print(\"--------------------------------------------\")\n",
    "\n",
    "arr = np.array([1, 2, 3], dtype=\"U\")\n",
    "print(arr.dtype)\n",
    "print(arr[0] + arr[1])   #유니코드, 문자열은 수학적연산이 아닌 연결\n"
   ]
  },
  {
   "cell_type": "markdown",
   "id": "196ab5d8",
   "metadata": {},
   "source": [
    "## 8. 배열 생성"
   ]
  },
  {
   "cell_type": "code",
   "execution_count": 74,
   "id": "dc4398c0",
   "metadata": {},
   "outputs": [
    {
     "name": "stdout",
     "output_type": "stream",
     "text": [
      "[0. 0. 0. 0. 0.]\n",
      "float64\n",
      "<class 'numpy.ndarray'>\n",
      "--------------------------------------------\n",
      "[0 0 0 0 0]\n",
      "int64\n",
      "--------------------------------------------\n",
      "[b'' b'' b'' b'' b'']\n",
      "|S4\n",
      "[b'abc' b'abcd' b'abcd' b'' b'']\n",
      "--------------------------------------------\n",
      "[[0. 0. 0.]\n",
      " [0. 0. 0.]]\n"
     ]
    }
   ],
   "source": [
    "arr = np.zeros(5)\n",
    "print(arr)\n",
    "print(arr.dtype)\n",
    "print(type(arr))\n",
    "\n",
    "print(\"--------------------------------------------\")\n",
    "\n",
    "arr = np.zeros(5, dtype=\"i8\")\n",
    "print(arr)\n",
    "print(arr.dtype)\n",
    "\n",
    "print(\"--------------------------------------------\")\n",
    "\n",
    "#데이터타입에서 유니코드(U)는 한글자를 2byte로 처리하므로 U4는 8byte이다.\n",
    "#데이터타입에서 바이트문자열(S)는 한글자를 1byte로 처리하므로 S4는 4byte이다.\n",
    "#데이터타입을 바이트문자열(S)로 지정하면 앞에 b가 붙는데 이는 글자하나를 1byte로 처리하겠다는 표시다.\n",
    "\n",
    "# 바이트문자열 결과예시\n",
    "# [b'' b'' b'' b'' b'']\n",
    "# |S4\n",
    "# [b'abc' b'abcd' b'abcd' b'' b'']\n",
    "\n",
    "arr = np.zeros(5, dtype=\"S4\")\n",
    "print(arr)\n",
    "print(arr.dtype)\n",
    "\n",
    "arr[0] = \"abc\"\n",
    "arr[1] = \"abcd\"\n",
    "arr[2] = \"abcde\"   #dtype을 유니코드4 자리로 제한을 걸어둬서 abcd까지만 들어가고 e는 못들어간다.\n",
    "print(arr)\n",
    "\n",
    "print(\"--------------------------------------------\")\n",
    "\n",
    "print(np.zeros((2,3)))   #2행3열짜리  , 튜플로 묶음"
   ]
  },
  {
   "cell_type": "code",
   "execution_count": 92,
   "id": "52e38797",
   "metadata": {},
   "outputs": [
    {
     "name": "stdout",
     "output_type": "stream",
     "text": [
      "[[[1. 1. 1. 1.]\n",
      "  [1. 1. 1. 1.]\n",
      "  [1. 1. 1. 1.]]\n",
      "\n",
      " [[1. 1. 1. 1.]\n",
      "  [1. 1. 1. 1.]\n",
      "  [1. 1. 1. 1.]]]\n",
      "--------------------------------------------\n",
      "[[1. 1. 1.]\n",
      " [1. 1. 1.]]\n",
      "--------------------------------------------\n",
      "[[1.01855798e-312 1.06099790e-312 1.01855798e-312]\n",
      " [9.54898106e-313 1.06099790e-312 1.01855798e-312]\n",
      " [1.23075756e-312 1.14587773e-312 1.03977794e-312]\n",
      " [9.76118064e-313 1.06099790e-312 1.90979621e-312]]\n",
      "--------------------------------------------\n",
      "[0 1 2 3 4 5 6 7 8 9]\n",
      "--------------------------------------------\n",
      "[  1.    25.75  50.5   75.25 100.  ]\n"
     ]
    }
   ],
   "source": [
    "arr = np.ones((2, 3, 4))\n",
    "print(arr)\n",
    "\n",
    "print(\"--------------------------------------------\")\n",
    "\n",
    "arr = np.zeros((2, 3))\n",
    "arr2 = np.ones_like(arr)    # 0을 1로 바꿔주는 기능 ones_like()\n",
    "print(arr2)\n",
    "\n",
    "print(\"--------------------------------------------\")\n",
    "\n",
    "arr = np.empty((4, 3))   # empty는 초기화를 안하겠다는 의미, 기존에 작업했던 쓸모없는 데이터를 가져다가 채우는 것\n",
    "print(arr)\n",
    "\n",
    "print(\"--------------------------------------------\")\n",
    "\n",
    "arr = np.arange(10)    # 파이썬의 기본함수중에 range()는 list로 결과값을 출력,  numpy의 arange는 배열로 결과값을 출력\n",
    "print(arr)\n",
    "\n",
    "print(\"--------------------------------------------\")\n",
    "\n",
    "arr = np.linspace(1, 100, 5)    # linspace(1부터 100까지 5등분)\n",
    "print(arr)"
   ]
  },
  {
   "cell_type": "markdown",
   "id": "9d36c7fe",
   "metadata": {},
   "source": [
    "## 9. 전치 연산(Transpose)  - 행은 열로, 열은 행으로 바꾸는"
   ]
  },
  {
   "cell_type": "code",
   "execution_count": 94,
   "id": "a9871d4e",
   "metadata": {},
   "outputs": [
    {
     "name": "stdout",
     "output_type": "stream",
     "text": [
      "[[1 2 3]\n",
      " [4 5 6]]\n",
      "[[1 4]\n",
      " [2 5]\n",
      " [3 6]]\n"
     ]
    }
   ],
   "source": [
    "arr = np.array([[1, 2, 3], [4, 5, 6]])\n",
    "print(arr)\n",
    "print(arr.T)  #소문자 t는 사용불가, 무조건 대문자 T"
   ]
  },
  {
   "cell_type": "markdown",
   "id": "55a77a39",
   "metadata": {},
   "source": [
    "## 10. 배열의 크기 변형 : reshape(), flatten(), ravel()"
   ]
  },
  {
   "cell_type": "code",
   "execution_count": 96,
   "id": "129a346c",
   "metadata": {},
   "outputs": [
    {
     "name": "stdout",
     "output_type": "stream",
     "text": [
      "[ 0  1  2  3  4  5  6  7  8  9 10 11]\n",
      "(12,)\n"
     ]
    }
   ],
   "source": [
    "arr = np.arange(12)\n",
    "print(arr)\n",
    "print(arr.shape)  #데이터 크기 확인 (12,)는 12개에 1차원 이라는 의미"
   ]
  },
  {
   "cell_type": "code",
   "execution_count": 102,
   "id": "ea2e8e3f",
   "metadata": {},
   "outputs": [
    {
     "name": "stdout",
     "output_type": "stream",
     "text": [
      "[[ 0  1  2  3]\n",
      " [ 4  5  6  7]\n",
      " [ 8  9 10 11]]\n",
      "(3, 4)\n",
      "------------------------------------\n",
      "[[ 0  1  2  3]\n",
      " [ 4  5  6  7]\n",
      " [ 8  9 10 11]]\n",
      "(3, 4)\n",
      "------------------------------------\n",
      "[[ 0  1  2  3]\n",
      " [ 4  5  6  7]\n",
      " [ 8  9 10 11]]\n",
      "(3, 4)\n"
     ]
    }
   ],
   "source": [
    "arr1 = arr.reshape(3, 4)   # reshape을 이용해서 3행4열로 변경하기\n",
    "print(arr1)\n",
    "print(arr1.shape)\n",
    "\n",
    "print(\"------------------------------------\")\n",
    "\n",
    "arr1 = arr.reshape(3, -1)   # 여기서 -1 은 행이 정해지면 자동적으로 열 계산을 하겠다는 의미,  index에서는 끝이지만 여기서는 아님\n",
    "print(arr1)\n",
    "print(arr1.shape)\n",
    "\n",
    "print(\"------------------------------------\")\n",
    "\n",
    "arr1 = arr.reshape(-1, 4)  # 여기서 -1은 열이 정해지면 자동적으로 행 계산을 하겠다는 의미, index에서는 끝이지만 여기서는 아님\n",
    "print(arr1)\n",
    "print(arr1.shape)"
   ]
  },
  {
   "cell_type": "code",
   "execution_count": 104,
   "id": "92593db0",
   "metadata": {},
   "outputs": [
    {
     "name": "stdout",
     "output_type": "stream",
     "text": [
      "[[[ 0  1  2]\n",
      "  [ 3  4  5]]\n",
      "\n",
      " [[ 6  7  8]\n",
      "  [ 9 10 11]]]\n",
      "(2, 2, 3)\n",
      "----------------------------------\n",
      "[[[ 0  1  2]\n",
      "  [ 3  4  5]]\n",
      "\n",
      " [[ 6  7  8]\n",
      "  [ 9 10 11]]]\n",
      "(2, 2, 3)\n",
      "----------------------------------\n",
      "[[[ 0  1  2]\n",
      "  [ 3  4  5]]\n",
      "\n",
      " [[ 6  7  8]\n",
      "  [ 9 10 11]]]\n",
      "(2, 2, 3)\n",
      "----------------------------------\n",
      "[[[ 0  1  2]\n",
      "  [ 3  4  5]]\n",
      "\n",
      " [[ 6  7  8]\n",
      "  [ 9 10 11]]]\n",
      "(2, 2, 3)\n"
     ]
    }
   ],
   "source": [
    "arr2 = arr.reshape(2, 2, 3)\n",
    "print(arr2)\n",
    "print(arr2.shape)\n",
    "\n",
    "print(\"----------------------------------\")\n",
    "\n",
    "arr2 = arr.reshape(2, 2, -1)\n",
    "print(arr2)\n",
    "print(arr2.shape)\n",
    "\n",
    "print(\"----------------------------------\")\n",
    "\n",
    "arr2 = arr.reshape(2, -1, 3)\n",
    "print(arr2)\n",
    "print(arr2.shape)\n",
    "\n",
    "print(\"----------------------------------\")\n",
    "\n",
    "arr2 = arr.reshape(-1, 2, 3)\n",
    "print(arr2)\n",
    "print(arr2.shape)"
   ]
  },
  {
   "cell_type": "code",
   "execution_count": 108,
   "id": "e10e8e0a",
   "metadata": {},
   "outputs": [
    {
     "name": "stdout",
     "output_type": "stream",
     "text": [
      "[ 0  1  2  3  4  5  6  7  8  9 10 11]\n",
      "[ 0  1  2  3  4  5  6  7  8  9 10 11]\n",
      "--------------------------------\n",
      "[ 0  1  2  3  4  5  6  7  8  9 10 11]\n"
     ]
    }
   ],
   "source": [
    "print(arr1.flatten())  # flatten() 과 ravel()은 기능이 같으며 1차원 배열로 바꿔주는 기능이다.\n",
    "print(arr1.ravel())\n",
    "\n",
    "print(\"--------------------------------\")\n",
    "\n",
    "print(arr2.flatten())\n",
    "print(arr2.ravel())"
   ]
  },
  {
   "cell_type": "code",
   "execution_count": 116,
   "id": "bb70fa95",
   "metadata": {},
   "outputs": [
    {
     "name": "stdout",
     "output_type": "stream",
     "text": [
      "[[0 1 2 3 4]]\n",
      "[[0]\n",
      " [1]\n",
      " [2]\n",
      " [3]\n",
      " [4]]\n",
      "----------------------------\n",
      "[[0]\n",
      " [1]\n",
      " [2]\n",
      " [3]\n",
      " [4]]\n",
      "(5,)\n"
     ]
    }
   ],
   "source": [
    "arr = np.arange(5)\n",
    "\n",
    "print(arr.reshape(1, 5))\n",
    "print(arr.reshape(5, 1))\n",
    "\n",
    "# reshape는 복사본에다가 변경하는 것이므로 print(arr.shape)로 찍어보면 바뀌지 않은 원본의 결과인 (5,) 이 나온다.\n",
    "# 원본 데이터를 변경하려면 arr = arr.reshape(1, 5) 이렇게 해야한다.\n",
    "\n",
    "print(\"----------------------------\")\n",
    "\n",
    "print(arr[:, np.newaxis])  # np.newaxis 는 [] 를 한번 덧씌워주는 역할\n"
   ]
  },
  {
   "cell_type": "markdown",
   "id": "12fbbd74",
   "metadata": {},
   "source": [
    "## 11. 배열 연결(병합) : hstack, vstack, dstack, stack, tile\n",
    "\n",
    "+ hstack(), vstack()"
   ]
  },
  {
   "cell_type": "code",
   "execution_count": 8,
   "id": "285e639e",
   "metadata": {},
   "outputs": [
    {
     "name": "stdout",
     "output_type": "stream",
     "text": [
      "[[1. 1. 1.]\n",
      " [1. 1. 1.]]\n",
      "[[1. 1.]\n",
      " [1. 1.]]\n",
      "[[1. 1. 1. 1. 1.]\n",
      " [1. 1. 1. 1. 1.]]\n"
     ]
    }
   ],
   "source": [
    "arr1 = np.ones((2, 3))\n",
    "arr2 = np.ones((2, 2))\n",
    "\n",
    "print(arr1)\n",
    "print(arr2)\n",
    "\n",
    "arr3 = np.hstack([arr1, arr2])   # hstack 은 수평(행)으로 합치기,  vstack은 수직(열)으로 합치기 - 행과 열의 갯수가 일치시\n",
    "print(arr3)\n"
   ]
  },
  {
   "cell_type": "markdown",
   "id": "9a996d58",
   "metadata": {},
   "source": [
    "+ dstack()\n",
    "\n",
    "     1. dstack 은 기본값이 맨 뒷자리에 합칠 배열의 수가 위치"
   ]
  },
  {
   "cell_type": "code",
   "execution_count": 7,
   "id": "d97c9299",
   "metadata": {},
   "outputs": [
    {
     "name": "stdout",
     "output_type": "stream",
     "text": [
      "[[[1. 1.]\n",
      "  [1. 1.]\n",
      "  [1. 1.]\n",
      "  [1. 1.]]\n",
      "\n",
      " [[1. 1.]\n",
      "  [1. 1.]\n",
      "  [1. 1.]\n",
      "  [1. 1.]]\n",
      "\n",
      " [[1. 1.]\n",
      "  [1. 1.]\n",
      "  [1. 1.]\n",
      "  [1. 1.]]]\n",
      "(3, 4, 2)\n"
     ]
    }
   ],
   "source": [
    "arr1 = np.ones((3, 4))\n",
    "arr2 = np.ones((3, 4))   # 두 개의 같은 크기의 배열을 준비 (3행4열짜리)\n",
    "\n",
    "arr3 = np.dstack([arr1, arr2])  # 결과는 3행2열짜리 3차원 배열구조\n",
    "print(arr3)\n",
    "print(arr3.shape)\n",
    "\n",
    "# dstack 은 몇개의 배열을 합칠꺼냐(즉, 합칠배열숫자)가 맨위로 추가가 된다. 3행4열짜리 2개 합칠시 (3,4,2) 구조\n",
    "\n",
    "# 3, 4, 2"
   ]
  },
  {
   "cell_type": "code",
   "execution_count": 9,
   "id": "ad0b612f",
   "metadata": {},
   "outputs": [
    {
     "name": "stdout",
     "output_type": "stream",
     "text": [
      "[[[1 4]\n",
      "  [2 5]\n",
      "  [3 6]]]\n",
      "(1, 3, 2)\n"
     ]
    }
   ],
   "source": [
    "# dstack 다른 예제\n",
    "\n",
    "arr1 = [1, 2, 3]\n",
    "arr2 = [4, 5, 6]\n",
    "\n",
    "arr = np.dstack([arr1, arr2])\n",
    "print(arr)\n",
    "print(arr.shape)   # 3행2열짜리 1개로 만들어진다."
   ]
  },
  {
   "cell_type": "code",
   "execution_count": 11,
   "id": "85b52f2d",
   "metadata": {},
   "outputs": [
    {
     "name": "stdout",
     "output_type": "stream",
     "text": [
      "[[[1. 1. 1.]\n",
      "  [1. 1. 1.]\n",
      "  [1. 1. 1.]\n",
      "  [1. 1. 1.]]\n",
      "\n",
      " [[1. 1. 1.]\n",
      "  [1. 1. 1.]\n",
      "  [1. 1. 1.]\n",
      "  [1. 1. 1.]]\n",
      "\n",
      " [[1. 1. 1.]\n",
      "  [1. 1. 1.]\n",
      "  [1. 1. 1.]\n",
      "  [1. 1. 1.]]]\n",
      "(3, 4, 3)\n"
     ]
    }
   ],
   "source": [
    "arr1 = np.ones((3, 4))\n",
    "arr2 = np.ones((3, 4))\n",
    "arr3 = np.ones((3, 4))\n",
    "\n",
    "arr4 = np.dstack([arr1, arr2, arr3])   # 3행4열짜리 배열을 3개 합치니 (3, 4, 3) 이고 생성될때 4행3열짜리 3개 구조로 출력\n",
    "\n",
    "print(arr4)\n",
    "print(arr4.shape)"
   ]
  },
  {
   "cell_type": "markdown",
   "id": "ef08aef6",
   "metadata": {},
   "source": [
    "+ stack()\n",
    "\n",
    "     1. stack 은 기본값이 맨 앞자리에 합칠 배열의 수가 위치"
   ]
  },
  {
   "cell_type": "code",
   "execution_count": 12,
   "id": "c7f7e98d",
   "metadata": {},
   "outputs": [
    {
     "name": "stdout",
     "output_type": "stream",
     "text": [
      "[[[1. 1. 1. 1.]\n",
      "  [1. 1. 1. 1.]\n",
      "  [1. 1. 1. 1.]]\n",
      "\n",
      " [[1. 1. 1. 1.]\n",
      "  [1. 1. 1. 1.]\n",
      "  [1. 1. 1. 1.]]]\n",
      "(2, 3, 4)\n"
     ]
    }
   ],
   "source": [
    "# axis = 0    , 0 이 default (맨 앞)\n",
    "arr1 = np.ones((3, 4))  \n",
    "arr2 = np.ones((3, 4))\n",
    "\n",
    "arr3 = np.stack([arr1, arr2])  # 3행 4열짜리 배열 2개를 합치는,   (2, 3, 4)\n",
    "\n",
    "print(arr3)\n",
    "print(arr3.shape)"
   ]
  },
  {
   "cell_type": "code",
   "execution_count": 13,
   "id": "f62de188",
   "metadata": {},
   "outputs": [
    {
     "name": "stdout",
     "output_type": "stream",
     "text": [
      "[[[1. 1. 1. 1.]\n",
      "  [1. 1. 1. 1.]]\n",
      "\n",
      " [[1. 1. 1. 1.]\n",
      "  [1. 1. 1. 1.]]\n",
      "\n",
      " [[1. 1. 1. 1.]\n",
      "  [1. 1. 1. 1.]]]\n",
      "(3, 2, 4)\n"
     ]
    }
   ],
   "source": [
    "# axis = 1 일때\n",
    "arr1 = np.ones((3, 4))  \n",
    "arr2 = np.ones((3, 4))\n",
    "\n",
    "arr3 = np.stack([arr1, arr2], axis=1)  # 3행 4열짜리 배열 2개를 합치는, 단 합치는 수의 위치를 1로 지정\n",
    "\n",
    "print(arr3)\n",
    "print(arr3.shape)    # (3, 2, 4)"
   ]
  },
  {
   "cell_type": "code",
   "execution_count": 14,
   "id": "df6d5e0d",
   "metadata": {},
   "outputs": [
    {
     "name": "stdout",
     "output_type": "stream",
     "text": [
      "[[[1. 1.]\n",
      "  [1. 1.]\n",
      "  [1. 1.]\n",
      "  [1. 1.]]\n",
      "\n",
      " [[1. 1.]\n",
      "  [1. 1.]\n",
      "  [1. 1.]\n",
      "  [1. 1.]]\n",
      "\n",
      " [[1. 1.]\n",
      "  [1. 1.]\n",
      "  [1. 1.]\n",
      "  [1. 1.]]]\n",
      "(3, 4, 2)\n"
     ]
    }
   ],
   "source": [
    "# axis = 2 일때   (이 예제에서는 dstack과 동일한 결과)\n",
    "arr1 = np.ones((3, 4))  \n",
    "arr2 = np.ones((3, 4))\n",
    "\n",
    "arr3 = np.stack([arr1, arr2], axis=2)  # 3행 4열짜리 배열 2개를 합치는, 단 합치는 수의 위치를 2로 지정\n",
    "\n",
    "print(arr3)\n",
    "print(arr3.shape)    # (3, 4, 2)"
   ]
  },
  {
   "cell_type": "markdown",
   "id": "f3f09894",
   "metadata": {},
   "source": [
    "+ tile()"
   ]
  },
  {
   "cell_type": "code",
   "execution_count": 24,
   "id": "be5977c5",
   "metadata": {},
   "outputs": [
    {
     "name": "stdout",
     "output_type": "stream",
     "text": [
      "[1 1 1]\n",
      "[0 1 0 1 0 1]\n",
      "[[0 1 0 1 0 1]\n",
      " [2 3 2 3 2 3]]\n",
      "-----------------------------------\n",
      "[[1 1 1]\n",
      " [1 1 1]]\n",
      "[[0 1 0 1 0 1]\n",
      " [0 1 0 1 0 1]]\n",
      "[[0 1 0 1 0 1]\n",
      " [2 3 2 3 2 3]\n",
      " [0 1 0 1 0 1]\n",
      " [2 3 2 3 2 3]]\n",
      "-----------------------------------\n",
      "[[[0 1 0 1 0 1]\n",
      "  [0 1 0 1 0 1]]\n",
      "\n",
      " [[0 1 0 1 0 1]\n",
      "  [0 1 0 1 0 1]]\n",
      "\n",
      " [[0 1 0 1 0 1]\n",
      "  [0 1 0 1 0 1]]\n",
      "\n",
      " [[0 1 0 1 0 1]\n",
      "  [0 1 0 1 0 1]]]\n"
     ]
    }
   ],
   "source": [
    "A = 1\n",
    "B = np.array([0, 1])\n",
    "C = np.array([[0, 1], [2, 3]])\n",
    "\n",
    "print(np.tile(A, 3))\n",
    "print(np.tile(B, 3))\n",
    "print(np.tile(C, 3))\n",
    "print(\"-----------------------------------\")\n",
    "print(np.tile(A,(2,3)))\n",
    "print(np.tile(B,(2,3)))\n",
    "print(np.tile(C,(2,3)))\n",
    "print(\"-----------------------------------\")\n",
    "print(np.tile(B,(4,2,3)))   #데이터를 3개씩 2번 4개로"
   ]
  },
  {
   "cell_type": "markdown",
   "id": "c59abd3b",
   "metadata": {},
   "source": [
    "## 12. BroadCasting\n",
    "\n",
    "+ 크기가 서로 다른 행렬(벡터)끼리 연산을 가능하게 하는 것"
   ]
  },
  {
   "cell_type": "code",
   "execution_count": 38,
   "id": "2634976c",
   "metadata": {},
   "outputs": [
    {
     "name": "stdout",
     "output_type": "stream",
     "text": [
      "[[0 1 2]\n",
      " [1 2 3]\n",
      " [2 3 4]\n",
      " [3 4 5]\n",
      " [4 5 6]]\n",
      "[[0]\n",
      " [1]\n",
      " [2]\n",
      " [3]\n",
      " [4]]\n",
      "[[ 0  1  2]\n",
      " [ 2  3  4]\n",
      " [ 4  5  6]\n",
      " [ 6  7  8]\n",
      " [ 8  9 10]]\n",
      "[0 1 2]\n",
      "[[0 2 4]\n",
      " [1 3 5]\n",
      " [2 4 6]\n",
      " [3 5 7]\n",
      " [4 6 8]]\n"
     ]
    }
   ],
   "source": [
    "x = np.vstack([range(7)[i:i+3] for i in range(5)])\n",
    "print(x)\n",
    "\n",
    "#풀이\n",
    "# range(7) = [0, 1, 2, 3, 4, 5, 6] 를 의미\n",
    "# [i:i+3] = range7을 슬라이싱하는 자리수, 처음에는 i가 0일테니 [0:3] 즉 0,1,2 자리 수를 뽑아오게됨\n",
    "# for i in range(5) = [0, 1, 2, 3, 4]  , 반복문을 돌면서 5번을 시행하겠다는 의미\n",
    "\n",
    "y = np.arange(5)[:, np.newaxis]\n",
    "print(y)\n",
    "\n",
    "print(x + y)   #브로드캐스팅이 지원되기때문에 서로 크기가 다른 x와 y가 연산이 가능해짐\n",
    "\n",
    "y = np.arange(3)    # 열의 갯수는 맞아야 계산이 된다는 점...\n",
    "print(y)\n",
    "print(x + y)"
   ]
  },
  {
   "cell_type": "code",
   "execution_count": 26,
   "id": "2359dd7b",
   "metadata": {},
   "outputs": [
    {
     "data": {
      "text/plain": [
       "[0, 1, 2, 3, 4]"
      ]
     },
     "execution_count": 26,
     "metadata": {},
     "output_type": "execute_result"
    }
   ],
   "source": [
    "[i for i in range(5)]"
   ]
  },
  {
   "cell_type": "code",
   "execution_count": 29,
   "id": "2ebfbe91",
   "metadata": {},
   "outputs": [
    {
     "data": {
      "text/plain": [
       "[range(0, 3), range(1, 4), range(2, 5), range(3, 6), range(4, 7)]"
      ]
     },
     "execution_count": 29,
     "metadata": {},
     "output_type": "execute_result"
    }
   ],
   "source": [
    "[range(7)[i:i+3] for i in range(5)]"
   ]
  },
  {
   "cell_type": "code",
   "execution_count": 32,
   "id": "3a4931b4",
   "metadata": {},
   "outputs": [
    {
     "data": {
      "text/plain": [
       "range(1, 4)"
      ]
     },
     "execution_count": 32,
     "metadata": {},
     "output_type": "execute_result"
    }
   ],
   "source": [
    "range(7)[1:1+3]"
   ]
  },
  {
   "cell_type": "markdown",
   "id": "51adece8",
   "metadata": {},
   "source": [
    "## 13. 차원 축소(dimension reduction) 연산\n",
    "\n",
    "+ 최대값 / 최소값 : max(), min(), argmax(), argmin()\n",
    "+ 대표값 : sum(), mean(), median(), std(), var()\n",
    "\n",
    "+ 행렬의 하나의 행에 있는 원소들을 하나의 데이터 집합으로 보고 그 집합의 평균을 구하면 각 행에 대해 하나의 숫자가 나오게 된다.       이러한 연산을 차원 축소 연산이라고 한다."
   ]
  },
  {
   "cell_type": "code",
   "execution_count": 44,
   "id": "69aaeb64",
   "metadata": {},
   "outputs": [
    {
     "name": "stdout",
     "output_type": "stream",
     "text": [
      "3\n",
      "-3\n",
      "-----------------------------\n",
      "1\n",
      "3\n"
     ]
    }
   ],
   "source": [
    "x = np.array([1, 3, 2, -3])\n",
    "\n",
    "print(x.max())\n",
    "print(x.min())\n",
    "\n",
    "print(\"-----------------------------\")\n",
    "\n",
    "print(np.argmax(x))   # argmax 는 최대값이 있는 index를 알려준다\n",
    "print(np.argmin(x))   # argmin 는 최소값이 있는 index를 알려준다"
   ]
  },
  {
   "cell_type": "markdown",
   "id": "52a1ccbe",
   "metadata": {},
   "source": [
    "## 14. 기술 통계   - 여기서 기술은 서술하다 의미 (데이터 탐색할 때 사용하는 함수들)\n",
    "\n",
    "+ sum(), mean()\n",
    "+ val(), std()\n",
    "+ max(), min()\n",
    "+ median()\n",
    "+ percentile()\n",
    "+ ..."
   ]
  },
  {
   "cell_type": "markdown",
   "id": "ba58bd87",
   "metadata": {},
   "source": [
    "## 15. 정렬"
   ]
  },
  {
   "cell_type": "code",
   "execution_count": 47,
   "id": "689967f9",
   "metadata": {},
   "outputs": [
    {
     "name": "stdout",
     "output_type": "stream",
     "text": [
      "[[ 3  4  5  7]\n",
      " [ 1  9 11 12]\n",
      " [ 1  2 14 15]]\n",
      "[[ 3  4  5  7]\n",
      " [ 1  9 11 12]\n",
      " [ 1  2 14 15]]\n",
      "[[ 1  3  1  7]\n",
      " [ 2 12  5  9]\n",
      " [ 4 15 11 14]]\n"
     ]
    }
   ],
   "source": [
    "arr = np.array([[4, 3, 5, 7],\n",
    "               [1, 12, 11, 9],\n",
    "               [2, 15, 1, 14]])\n",
    "\n",
    "print(np.sort(arr))\n",
    "print(np.sort(arr, axis=1))  # 행 기준으로 정렬, 1이 default\n",
    "print(np.sort(arr, axis=0))  # 열 기준으로 정렬"
   ]
  },
  {
   "cell_type": "code",
   "execution_count": 48,
   "id": "8eec1644",
   "metadata": {},
   "outputs": [
    {
     "name": "stdout",
     "output_type": "stream",
     "text": [
      "[[ 4  3  5  7]\n",
      " [ 1 12 11  9]\n",
      " [ 2 15  1 14]]\n"
     ]
    }
   ],
   "source": [
    "print(arr)\n",
    "\n",
    "#위에서 정렬했던 것과 다르게 원본데이터는 그대로 유지.  왜냐, 위에서 정렬은 원본을 변경한게 아닌 복사본으로 시행한 결과를 나타냄"
   ]
  },
  {
   "cell_type": "code",
   "execution_count": 51,
   "id": "1cbe0943",
   "metadata": {},
   "outputs": [
    {
     "name": "stdout",
     "output_type": "stream",
     "text": [
      "[2 3 1 0]\n"
     ]
    }
   ],
   "source": [
    "##### argsort()\n",
    "\n",
    "arr = np.array([42, 38, 12, 25])\n",
    "idx = np.argsort(arr)   # 오름차순으로 인덱스(index) 값을 나타내주는 것\n",
    "print(idx)\n"
   ]
  },
  {
   "cell_type": "code",
   "execution_count": 55,
   "id": "febb7f13",
   "metadata": {},
   "outputs": [
    {
     "data": {
      "text/plain": [
       "array([42, 38, 25, 12])"
      ]
     },
     "execution_count": 55,
     "metadata": {},
     "output_type": "execute_result"
    }
   ],
   "source": [
    "np.sort(arr)    #오름차순 기본\n",
    "np.sort(arr)[::-1]    #내림차순 [시작, 끝, 스탭]"
   ]
  },
  {
   "cell_type": "code",
   "execution_count": 60,
   "id": "b1235d2c",
   "metadata": {},
   "outputs": [
    {
     "name": "stdout",
     "output_type": "stream",
     "text": [
      "[0 1 3 2]\n"
     ]
    },
    {
     "data": {
      "text/plain": [
       "array([42, 38, 25, 12])"
      ]
     },
     "execution_count": 60,
     "metadata": {},
     "output_type": "execute_result"
    }
   ],
   "source": [
    "print(np.argsort(-arr))\n",
    "arr[np.argsort(-arr)]"
   ]
  },
  {
   "cell_type": "markdown",
   "id": "91643b27",
   "metadata": {},
   "source": [
    "## 16. 난수\n",
    "\n",
    "+ rand() : 0 ~ 1 사이의 균일 분포\n",
    "+ randn() : 표준 정규 분포 ( 음수 포함 )\n",
    "+ randint() : 균일 분포의 정수"
   ]
  },
  {
   "cell_type": "code",
   "execution_count": 64,
   "id": "ec9c5f8c",
   "metadata": {},
   "outputs": [
    {
     "name": "stdout",
     "output_type": "stream",
     "text": [
      "[0.72074634 0.52635604 0.90505487 0.99174453 0.53885596 0.43019342\n",
      " 0.69484302 0.48593558 0.4859224  0.02220957]\n",
      "---------------------------------------------------------------\n",
      "[[0.76618352 0.37841385 0.96919599 0.30219983 0.85939126]\n",
      " [0.92100675 0.37724381 0.70101807 0.20930031 0.17313887]\n",
      " [0.39812964 0.18163544 0.64144145 0.82400551 0.33986119]]\n"
     ]
    }
   ],
   "source": [
    "print(np.random.rand(10))  #0과 1 사이에서 10개의 랜덤으로 수를 뽑음\n",
    "print(\"---------------------------------------------------------------\")\n",
    "print(np.random.rand(3, 5))   #0과 1 사이에서 3행 5열로 랜덤으로 수를 뽑음"
   ]
  },
  {
   "cell_type": "code",
   "execution_count": 70,
   "id": "1a15a815",
   "metadata": {},
   "outputs": [
    {
     "name": "stdout",
     "output_type": "stream",
     "text": [
      "8\n",
      "--------------------------\n",
      "13\n",
      "--------------------------\n",
      "[17 15 12 11 17 13 16 18 16 19 19 17 14 14 11 13 15 11 14 19 12 12 14 19\n",
      " 12 12 11 16 12 16 12 17 13 18 18 18 11 17 12 14 11 15 16 16 17 11 14 16\n",
      " 19 18 12 19 11 15 17 15 16 17 14 18 16 13 15 17 14 19 14 16 13 18 13 12\n",
      " 18 12 15 16 11 15 15 11 13 11 18 17 13 12 14 19 17 16 14 15 16 15 17 17\n",
      " 17 14 12 14]\n",
      "--------------------------\n",
      "[[11 16 11 11]\n",
      " [17 19 13 13]\n",
      " [15 12 15 19]]\n"
     ]
    }
   ],
   "source": [
    "print(np.random.randint(10))    #() 안에 들어가는 숫자가 범위, 여기서는 0~9까지 정수를 랜덤으로 뽑음\n",
    "print(\"--------------------------\")\n",
    "print(np.random.randint(11, 20))    # 11부터 19까지 정수를 랜덤으로 뽑음\n",
    "print(\"--------------------------\")\n",
    "print(np.random.randint(11, 20, size=100))   # 11부터 19까지 랜덤정수를 100개를 뽑음\n",
    "print(\"--------------------------\")\n",
    "print(np.random.randint(11, 20, size=(3, 4)))  # 11부터 19까지 랜덤정수를 3행4열로 뽑음"
   ]
  },
  {
   "cell_type": "code",
   "execution_count": 73,
   "id": "84f50ed1",
   "metadata": {},
   "outputs": [
    {
     "data": {
      "text/plain": [
       "array([0.54340494, 0.27836939, 0.42451759])"
      ]
     },
     "execution_count": 73,
     "metadata": {},
     "output_type": "execute_result"
    }
   ],
   "source": [
    "##### 재현성(난수 고정)\n",
    "\n",
    "np.random.seed(100)\n",
    "\n",
    "np.random.rand(3)"
   ]
  },
  {
   "cell_type": "code",
   "execution_count": 78,
   "id": "b603c673",
   "metadata": {},
   "outputs": [
    {
     "name": "stdout",
     "output_type": "stream",
     "text": [
      "[0 1 2 3 4 5 6 7 8 9]\n",
      "[0 2 1 6 9 8 7 4 3 5]\n"
     ]
    }
   ],
   "source": [
    "##### 데이터의 순서 바꾸기\n",
    "\n",
    "x = np.arange(10)\n",
    "print(x)\n",
    "\n",
    "np.random.shuffle(x)\n",
    "print(x)"
   ]
  },
  {
   "cell_type": "code",
   "execution_count": 84,
   "id": "69b18b3a",
   "metadata": {},
   "outputs": [
    {
     "name": "stdout",
     "output_type": "stream",
     "text": [
      "[3 3 1 2 3 0 1]\n",
      "----------------------------\n",
      "[3 2 0 4 1]\n",
      "----------------------------\n",
      "[2 3 3 2 2 2 3 3 2 3]\n"
     ]
    }
   ],
   "source": [
    "##### 샘플링 : 복원(default), 비복원\n",
    "\n",
    "#복원추출 예시 - 예를들어 앞에서 0이 뽑혔어도 다음에 0이 뽑힐 수 있음\n",
    "print(np.random.choice(5, 7))   #여기서 5는 0부터 4까지, 7은 7번 뽑겠다는 횟수의 의미   ( 몇개의 데이터에서,  몇번을 뽑을건지)\n",
    "print(\"----------------------------\")\n",
    "#비복원 추출 예시 - 예를들어 앞에서 0이 뽑히면 0을제외한 나머지 수를 뽑음, 즉 한번 뽑은 값은 다시 나올 수 없음\n",
    "print(np.random.choice(5, 5, replace=False))\n",
    "print(\"----------------------------\")\n",
    "print(np.random.choice(5, 10, p=[0.1, 0, 0.3, 0.6, 0]))  # p는 확률을 의미하며 0부터 4까지 나올 수의 확률을 최소0 최대 1로 지정"
   ]
  },
  {
   "cell_type": "markdown",
   "id": "5e5a5a2b",
   "metadata": {},
   "source": [
    "## 17. 정수형 데이터 카운팅 : unique(), bincount()"
   ]
  },
  {
   "cell_type": "code",
   "execution_count": 89,
   "id": "8c7643d2",
   "metadata": {},
   "outputs": [
    {
     "name": "stdout",
     "output_type": "stream",
     "text": [
      "5\n",
      "['a' 'b' 'c']\n",
      "3\n",
      "----------------------------\n",
      "['a' 'b' 'c'] [2 2 1]\n"
     ]
    }
   ],
   "source": [
    "##### unique\n",
    "\n",
    "arr = np.array(['a', 'b', 'b', 'c', 'a'])\n",
    "\n",
    "print(len(arr))\n",
    "print(np.unique(arr))   # unique() 는 중복된걸 빼고 보여줌\n",
    "print(len(np.unique(arr)))  # 중복된 걸 뺀 자료의 수\n",
    "\n",
    "print(\"----------------------------\")\n",
    "\n",
    "# return_counts 를 사용하게되면 몇번 중복됬는지를 알 수 있다.\n",
    "# 아래에서 a는 2번중복, b는 2번중복, c는 1개만 있다는 것을 나타낸다.\n",
    "\n",
    "idx, cnt = np.unique(arr, return_counts=True)\n",
    "print(idx, cnt)"
   ]
  },
  {
   "cell_type": "code",
   "execution_count": 91,
   "id": "0a06591d",
   "metadata": {},
   "outputs": [
    {
     "name": "stdout",
     "output_type": "stream",
     "text": [
      "(array([1, 2, 3]), array([2, 3, 1], dtype=int64))\n",
      "[0 2 3 1 0 0]\n"
     ]
    }
   ],
   "source": [
    "##### bincount : 발생하지 않은 사건에 대해서도 카운팅\n",
    "\n",
    "arr = np.array([1, 1, 2, 2, 2, 3])\n",
    "\n",
    "print(np.unique(arr, return_counts=True))\n",
    "print(np.bincount(arr, minlength=6))   # [0 2 3 1 0 0] , 여기서 0은 0번, 1은 2번, 2는 3번, 3은 1번, 4는 0번, 5는 0번 나왔다는 의미"
   ]
  },
  {
   "cell_type": "markdown",
   "id": "a80141a9",
   "metadata": {},
   "source": [
    "## 실습문제 : 영화 평점 데이터\n",
    "\n",
    "+ https://grouplens.org"
   ]
  },
  {
   "cell_type": "code",
   "execution_count": 3,
   "id": "f8276f83",
   "metadata": {},
   "outputs": [
    {
     "name": "stdout",
     "output_type": "stream",
     "text": [
      "[[        1      1193         5 978300760]\n",
      " [        1       661         3 978302109]\n",
      " [        1       914         3 978301968]\n",
      " ...\n",
      " [     6040       562         5 956704746]\n",
      " [     6040      1096         4 956715648]\n",
      " [     6040      1097         4 956715569]]\n"
     ]
    }
   ],
   "source": [
    " #delimiter 는 구분문자,  파일안에 :: 를 기준으로 나누기 위함\n",
    "\n",
    "data = np.loadtxt(\"data/ml-1m/ratings.dat\", delimiter=\"::\", dtype=np.int64)\n",
    "print(data)"
   ]
  },
  {
   "cell_type": "code",
   "execution_count": 4,
   "id": "c278b6cd",
   "metadata": {},
   "outputs": [
    {
     "name": "stdout",
     "output_type": "stream",
     "text": [
      "(1000209, 4)\n"
     ]
    }
   ],
   "source": [
    "print(data.shape)"
   ]
  },
  {
   "cell_type": "code",
   "execution_count": 4,
   "id": "e4d0c8cb",
   "metadata": {},
   "outputs": [
    {
     "name": "stdout",
     "output_type": "stream",
     "text": [
      "[[        1      1193         5 978300760]\n",
      " [        1       661         3 978302109]\n",
      " [        1       914         3 978301968]\n",
      " [        1      3408         4 978300275]\n",
      " [        1      2355         5 978824291]\n",
      " [        1      1197         3 978302268]\n",
      " [        1      1287         5 978302039]\n",
      " [        1      2804         5 978300719]\n",
      " [        1       594         4 978302268]\n",
      " [        1       919         4 978301368]\n",
      " [        1       595         5 978824268]\n",
      " [        1       938         4 978301752]\n",
      " [        1      2398         4 978302281]\n",
      " [        1      2918         4 978302124]\n",
      " [        1      1035         5 978301753]\n",
      " [        1      2791         4 978302188]\n",
      " [        1      2687         3 978824268]\n",
      " [        1      2018         4 978301777]\n",
      " [        1      3105         5 978301713]\n",
      " [        1      2797         4 978302039]]\n"
     ]
    }
   ],
   "source": [
    "#첫행부터 20행까지 조회\n",
    "\n",
    "print(data[0:20, :])"
   ]
  },
  {
   "cell_type": "code",
   "execution_count": 24,
   "id": "bbcc6cd3",
   "metadata": {},
   "outputs": [
    {
     "name": "stdout",
     "output_type": "stream",
     "text": [
      "[[   1 2321]\n",
      " [   1  720]\n",
      " [   1 1270]\n",
      " [   1  527]\n",
      " [   1 2340]\n",
      " [   1   48]\n",
      " [   1 1097]\n",
      " [   1 1721]\n",
      " [   1 1545]\n",
      " [   1  745]]\n"
     ]
    }
   ],
   "source": [
    "#21행부터 30행까지 userid와 movieid만 조회\n",
    "\n",
    "print(data[20:30, [0,1]])"
   ]
  },
  {
   "cell_type": "code",
   "execution_count": 42,
   "id": "dbf9ed7a",
   "metadata": {},
   "outputs": [
    {
     "name": "stdout",
     "output_type": "stream",
     "text": [
      "3.581564453029317\n"
     ]
    }
   ],
   "source": [
    "#전체 평점에 대한 평균이 얼마인가 조회\n",
    "\n",
    "print(np.mean(data[ :, 2]))"
   ]
  },
  {
   "cell_type": "code",
   "execution_count": 41,
   "id": "daccb4f5",
   "metadata": {},
   "outputs": [
    {
     "name": "stdout",
     "output_type": "stream",
     "text": [
      "4.111111111111111\n"
     ]
    }
   ],
   "source": [
    "#사용자별로 평점 평균(10명만 조회)\n",
    "\n",
    "print(np.mean(data[0:9, 2]))\n",
    "\n",
    "userid = data[:10, 0]\n",
    "print(userid)"
   ]
  },
  {
   "cell_type": "code",
   "execution_count": 43,
   "id": "53b5241d",
   "metadata": {},
   "outputs": [
    {
     "name": "stdout",
     "output_type": "stream",
     "text": [
      "5\n"
     ]
    }
   ],
   "source": [
    "#사용자별 평점 평균 (결과) 중 최고 평점 평균을 조회(userid와 함께 동시에 조회)\n",
    "\n",
    "print(np.max((data[0:9, 2])))"
   ]
  },
  {
   "cell_type": "code",
   "execution_count": null,
   "id": "57fd78d0",
   "metadata": {},
   "outputs": [],
   "source": []
  },
  {
   "cell_type": "code",
   "execution_count": null,
   "id": "595d9cfc",
   "metadata": {},
   "outputs": [],
   "source": []
  }
 ],
 "metadata": {
  "kernelspec": {
   "display_name": "Python 3 (ipykernel)",
   "language": "python",
   "name": "python3"
  },
  "language_info": {
   "codemirror_mode": {
    "name": "ipython",
    "version": 3
   },
   "file_extension": ".py",
   "mimetype": "text/x-python",
   "name": "python",
   "nbconvert_exporter": "python",
   "pygments_lexer": "ipython3",
   "version": "3.9.12"
  }
 },
 "nbformat": 4,
 "nbformat_minor": 5
}
