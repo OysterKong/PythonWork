{
 "cells": [
  {
   "cell_type": "code",
   "execution_count": 1,
   "id": "c2b0dde9",
   "metadata": {},
   "outputs": [],
   "source": [
    "import numpy as np\n",
    "import pandas as pd\n",
    "import matplotlib.pyplot as plt\n",
    "import seaborn as sns\n",
    "\n",
    "# 한글처리\n",
    "import matplotlib.font_manager as fm\n",
    "font_name = fm.FontProperties(fname=\"C:\\\\Windows\\\\Fonts\\\\malgun.ttf\").get_name()\n",
    "plt.rc(\"font\", family=font_name)\n",
    "\n",
    "# 음수 - 표시 처리\n",
    "import matplotlib as mlp\n",
    "mlp.rcParams[\"axes.unicode_minus\"] = False\n",
    "\n",
    "import urllib.request as req\n",
    "from urllib.request import urlopen\n",
    "from urllib.error import HTTPError, URLError\n",
    "import urllib.parse\n",
    "from bs4 import BeautifulSoup\n",
    "import requests"
   ]
  },
  {
   "cell_type": "markdown",
   "id": "8451450e",
   "metadata": {},
   "source": [
    "# 1. Selenium 기본 사용법\n",
    "\n",
    "+ pip install selenium\n",
    "+ Chrome Driver, Phantom JS, ..."
   ]
  },
  {
   "cell_type": "code",
   "execution_count": 2,
   "id": "785e6749",
   "metadata": {},
   "outputs": [],
   "source": [
    "from selenium import webdriver"
   ]
  },
  {
   "cell_type": "code",
   "execution_count": 7,
   "id": "01441dc7",
   "metadata": {},
   "outputs": [
    {
     "name": "stderr",
     "output_type": "stream",
     "text": [
      "C:\\Users\\alcls\\AppData\\Local\\Temp\\ipykernel_16960\\511899957.py:1: DeprecationWarning: executable_path has been deprecated, please pass in a Service object\n",
      "  driver = webdriver.Chrome(\"C:\\\\chrome\\\\chromedriver.exe\")\n"
     ]
    }
   ],
   "source": [
    "driver = webdriver.Chrome(\"C:\\\\chrome\\\\chromedriver.exe\")"
   ]
  },
  {
   "cell_type": "code",
   "execution_count": 9,
   "id": "d5b93f74",
   "metadata": {},
   "outputs": [],
   "source": [
    "driver.get(\"https://naver.com\")"
   ]
  },
  {
   "cell_type": "code",
   "execution_count": 10,
   "id": "e79188fc",
   "metadata": {},
   "outputs": [
    {
     "data": {
      "text/plain": [
       "True"
      ]
     },
     "execution_count": 10,
     "metadata": {},
     "output_type": "execute_result"
    }
   ],
   "source": [
    "driver.save_screenshot(\"data/001.png\")"
   ]
  },
  {
   "cell_type": "code",
   "execution_count": 11,
   "id": "9c184d5a",
   "metadata": {},
   "outputs": [],
   "source": [
    "driver.close()"
   ]
  },
  {
   "cell_type": "code",
   "execution_count": 12,
   "id": "9ff17ac7",
   "metadata": {},
   "outputs": [
    {
     "name": "stderr",
     "output_type": "stream",
     "text": [
      "C:\\Users\\alcls\\AppData\\Local\\Temp\\ipykernel_16960\\993101310.py:2: DeprecationWarning: executable_path has been deprecated, please pass in a Service object\n",
      "  driver = webdriver.Chrome(\"C:\\\\chrome\\\\chromedriver.exe\")\n"
     ]
    }
   ],
   "source": [
    "##### naver 사이트 원격 로그인\n",
    "driver = webdriver.Chrome(\"C:\\\\chrome\\\\chromedriver.exe\")"
   ]
  },
  {
   "cell_type": "code",
   "execution_count": 14,
   "id": "62b76b93",
   "metadata": {},
   "outputs": [],
   "source": [
    "driver.get(\"https://nid.naver.com/nidlogin.login?mode=form&url=https%3A%2F%2Fwww.naver.com\")"
   ]
  },
  {
   "cell_type": "code",
   "execution_count": 17,
   "id": "9c62dfb1",
   "metadata": {},
   "outputs": [
    {
     "name": "stderr",
     "output_type": "stream",
     "text": [
      "C:\\Users\\alcls\\AppData\\Local\\Temp\\ipykernel_16960\\2703280815.py:1: DeprecationWarning: find_element_by_* commands are deprecated. Please use find_element() instead\n",
      "  login_id = driver.find_element_by_id(\"id\")\n"
     ]
    }
   ],
   "source": [
    "login_id = driver.find_element_by_id(\"id\")\n",
    "login_id.clear()\n",
    "login_id.send_keys(\"whatar\")"
   ]
  },
  {
   "cell_type": "code",
   "execution_count": 18,
   "id": "c6fdd159",
   "metadata": {},
   "outputs": [
    {
     "name": "stderr",
     "output_type": "stream",
     "text": [
      "C:\\Users\\alcls\\AppData\\Local\\Temp\\ipykernel_16960\\108859267.py:1: DeprecationWarning: find_element_by_* commands are deprecated. Please use find_element() instead\n",
      "  login_pw = driver.find_element_by_id(\"pw\")\n"
     ]
    }
   ],
   "source": [
    "login_pw = driver.find_element_by_id(\"pw\")\n",
    "login_pw.send_keys(\"XXXXXXX\")"
   ]
  },
  {
   "cell_type": "code",
   "execution_count": 19,
   "id": "574eba94",
   "metadata": {},
   "outputs": [
    {
     "name": "stderr",
     "output_type": "stream",
     "text": [
      "C:\\Users\\alcls\\AppData\\Local\\Temp\\ipykernel_16960\\2519622614.py:2: DeprecationWarning: find_element_by_xpath is deprecated. Please use find_element(by=By.XPATH, value=xpath) instead\n",
      "  driver.find_element_by_xpath(xpath).click()\n"
     ]
    }
   ],
   "source": [
    "xpath = '//*[@id=\"log.login\"]'\n",
    "driver.find_element_by_xpath(xpath).click()"
   ]
  },
  {
   "cell_type": "code",
   "execution_count": null,
   "id": "6e066645",
   "metadata": {},
   "outputs": [],
   "source": []
  },
  {
   "cell_type": "code",
   "execution_count": null,
   "id": "36bd75ff",
   "metadata": {},
   "outputs": [],
   "source": []
  },
  {
   "cell_type": "code",
   "execution_count": null,
   "id": "decd4a91",
   "metadata": {},
   "outputs": [],
   "source": []
  },
  {
   "cell_type": "code",
   "execution_count": null,
   "id": "b6066e6f",
   "metadata": {},
   "outputs": [],
   "source": []
  },
  {
   "cell_type": "code",
   "execution_count": null,
   "id": "453aa3fb",
   "metadata": {},
   "outputs": [],
   "source": []
  },
  {
   "cell_type": "code",
   "execution_count": null,
   "id": "b9a36e8a",
   "metadata": {},
   "outputs": [],
   "source": []
  },
  {
   "cell_type": "code",
   "execution_count": null,
   "id": "3a890878",
   "metadata": {},
   "outputs": [],
   "source": []
  },
  {
   "cell_type": "code",
   "execution_count": null,
   "id": "cf0ec6b2",
   "metadata": {},
   "outputs": [],
   "source": []
  },
  {
   "cell_type": "code",
   "execution_count": null,
   "id": "82e67eab",
   "metadata": {},
   "outputs": [],
   "source": []
  },
  {
   "cell_type": "code",
   "execution_count": null,
   "id": "7de4338d",
   "metadata": {},
   "outputs": [],
   "source": []
  }
 ],
 "metadata": {
  "kernelspec": {
   "display_name": "Python 3 (ipykernel)",
   "language": "python",
   "name": "python3"
  },
  "language_info": {
   "codemirror_mode": {
    "name": "ipython",
    "version": 3
   },
   "file_extension": ".py",
   "mimetype": "text/x-python",
   "name": "python",
   "nbconvert_exporter": "python",
   "pygments_lexer": "ipython3",
   "version": "3.9.12"
  }
 },
 "nbformat": 4,
 "nbformat_minor": 5
}
