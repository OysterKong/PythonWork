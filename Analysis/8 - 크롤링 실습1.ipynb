{
 "cells": [
  {
   "cell_type": "code",
   "execution_count": 85,
   "id": "4d31ea2f",
   "metadata": {},
   "outputs": [],
   "source": [
    "import numpy as np\n",
    "import pandas as pd\n",
    "import matplotlib.pyplot as plt\n",
    "import seaborn as sns\n",
    "\n",
    "# 한글처리\n",
    "import matplotlib.font_manager as fm\n",
    "font_name = fm.FontProperties(fname=\"C:\\\\Windows\\\\Fonts\\\\malgun.ttf\").get_name()\n",
    "plt.rc(\"font\", family=font_name)\n",
    "\n",
    "# 음수 - 표시 처리\n",
    "import matplotlib as mlp\n",
    "mlp.rcParams[\"axes.unicode_minus\"] = False\n",
    "\n",
    "import urllib.request as req\n",
    "from urllib.request import urlopen\n",
    "from urllib.error import HTTPError, URLError\n",
    "import urllib.parse\n",
    "from bs4 import BeautifulSoup\n",
    "import requests"
   ]
  },
  {
   "cell_type": "markdown",
   "id": "b69a6ef7",
   "metadata": {},
   "source": [
    "# 1. 시카고 샌드위치 맛집 분석\n",
    "\n",
    "+ http://www.chicagomag.com/Chicago-Magazine/November-2012/Best-Sandwiches-Chicago"
   ]
  },
  {
   "cell_type": "markdown",
   "id": "ffaa8f44",
   "metadata": {},
   "source": [
    "## (1) Data Definition"
   ]
  },
  {
   "cell_type": "code",
   "execution_count": 86,
   "id": "d5da5b46",
   "metadata": {},
   "outputs": [],
   "source": [
    "url = \"http://www.chicagomag.com/Chicago-Magazine/November-2012/Best-Sandwiches-Chicago\"\n",
    "\n",
    "# page = urlopen(url)\n",
    "\n",
    "# 간단한 사이트는 urlopen 으로 그냥 열어도 문제없으나 까다로운 사이트는 request 모듈의 get 을 통해 열어야한다.\n",
    "\n",
    "header = {\"User-Agent\" : \"Mozilla/5.0\"}\n",
    "page = requests.get(url, headers=header)\n",
    "page\n",
    "\n",
    "soup = BeautifulSoup(page.text, \"html.parser\")"
   ]
  },
  {
   "cell_type": "code",
   "execution_count": 87,
   "id": "4a432803",
   "metadata": {},
   "outputs": [
    {
     "name": "stdout",
     "output_type": "stream",
     "text": [
      "\n",
      "1\n",
      "BLT\n",
      "Old Oak Tap\n",
      "Read more \n",
      "\n",
      "\n",
      "2\n",
      "Fried Bologna\n",
      "Au Cheval\n",
      "Read more \n",
      "\n",
      "\n",
      "3\n",
      "Woodland Mushroom\n",
      "Xoco\n",
      "Read more \n",
      "\n",
      "\n",
      "4\n",
      "Roast Beef\n",
      "Al’s Deli\n",
      "Read more \n",
      "\n",
      "\n",
      "5\n",
      "PB&L\n",
      "Publican Quality Meats\n",
      "Read more \n",
      "\n",
      "\n",
      "6\n",
      "Belgian Chicken Curry Salad\n",
      "Hendrickx Belgian Bread Crafter\n",
      "Read more \n",
      "\n",
      "\n",
      "7\n",
      "Lobster Roll\n",
      "Acadia\n",
      "Read more \n",
      "\n",
      "\n",
      "8\n",
      "Smoked Salmon Salad\n",
      "Birchwood Kitchen\n",
      "Read more \n",
      "\n",
      "\n",
      "9\n",
      "Atomica Cemitas\n",
      "Cemitas Puebla\n",
      "Read more \n",
      "\n",
      "\n",
      "10\n",
      "Grilled Laughing Bird Shrimp and Fried Po’ Boy\n",
      "Nana\n",
      "Read more \n",
      "\n",
      "\n",
      "11\n",
      "Ham and Raclette Panino\n",
      "Lula Cafe\n",
      "Read more \n",
      "\n",
      "\n",
      "12\n",
      "Breaded Steak\n",
      "Ricobene’s\n",
      "Read more \n",
      "\n",
      "\n",
      "13\n",
      "The Hawkeye\n",
      "Frog n Snail\n",
      "Read more \n",
      "\n",
      "\n",
      "14\n",
      "Chicken Dip\n",
      "Crosby’s Kitchen\n",
      "Read more \n",
      "\n",
      "\n",
      "15\n",
      "Wild Boar Sloppy Joe\n",
      "Longman & Eagle\n",
      "Read more \n",
      "\n",
      "\n",
      "16\n",
      "Meatball Sub\n",
      "Bari\n",
      "Read more \n",
      "\n",
      "\n",
      "17\n",
      "Corned Beef\n",
      "Manny’s\n",
      "Read more \n",
      "\n",
      "\n",
      "18\n",
      "Turkey Club\n",
      "Eggy’s\n",
      "Read more \n",
      "\n",
      "\n",
      "19\n",
      "Falafel\n",
      "Old Jerusalem\n",
      "Read more \n",
      "\n",
      "\n",
      "20\n",
      "Crab Cake\n",
      "Mindy’s HotChocolate\n",
      "Read more \n",
      "\n",
      "\n",
      "21\n",
      "Chicken Schnitzel\n",
      "Olga’s Delicatessen\n",
      "Read more \n",
      "\n",
      "\n",
      "22\n",
      "Shawarma\n",
      "Dawali Mediterranean Kitchen\n",
      "Read more \n",
      "\n",
      "\n",
      "23\n",
      "Toasted Pimiento Cheese\n",
      "Big Jones\n",
      "Read more \n",
      "\n",
      "\n",
      "24\n",
      "Vegetarian Panino\n",
      "La Pane\n",
      "Read more \n",
      "\n",
      "\n",
      "25\n",
      "Cali Chèvre\n",
      "Pastoral\n",
      "Read more \n",
      "\n",
      "\n",
      "26\n",
      "Pastrami\n",
      "Max’s Deli\n",
      "Read more \n",
      "\n",
      "\n",
      "27\n",
      "The Fredo\n",
      "Lucky’s Sandwich Co.\n",
      "Read more \n",
      "\n",
      "\n",
      "28\n",
      "Smoked Ham\n",
      "City Provisions\n",
      "Read more \n",
      "\n",
      "\n",
      "29\n",
      "Jibarito\n",
      "Papa’s Cache Sabroso\n",
      "Read more \n",
      "\n",
      "\n",
      "30\n",
      "Shaved Prime Rib\n",
      "Bavette’s Bar & Boeuf\n",
      "Read more \n",
      "\n",
      "\n",
      "31\n",
      "Serrano Ham and Manchego Cheese\n",
      "Hannah’s Bretzel\n",
      "Read more \n",
      "\n",
      "\n",
      "32\n",
      "Tuna Salad\n",
      "La Fournette\n",
      "Read more \n",
      "\n",
      "\n",
      "33\n",
      "Paramount Reuben\n",
      "Paramount Room\n",
      "Read more \n",
      "\n",
      "\n",
      "34\n",
      "The Istanbul\n",
      "Melt Sandwich Shoppe\n",
      "Read more \n",
      "\n",
      "\n",
      "35\n",
      "B.A.D.\n",
      "Floriole Cafe & Bakery\n",
      "Read more \n",
      "\n",
      "\n",
      "36\n",
      "Duck Confit and Mozzarella\n",
      "First Slice Pie Café\n",
      "Read more \n",
      "\n",
      "\n",
      "37\n",
      "Croque Monsieur\n",
      "Troquet\n",
      "Read more \n",
      "\n",
      "\n",
      "38\n",
      "Green Garbanzo\n",
      "Grahamwich\n",
      "Read more \n",
      "\n",
      "\n",
      "39\n",
      "The Hen House\n",
      "Saigon Sisters\n",
      "Read more \n",
      "\n",
      "\n",
      "40\n",
      "Tuscan Chicken\n",
      "Rosalia’s Deli\n",
      "Read more \n",
      "\n",
      "\n",
      "41\n",
      "The Marty \n",
      "Z&H MarketCafe\n",
      "Read more \n",
      "\n",
      "\n",
      "42\n",
      "Whitefish\n",
      "Market House on the Square\n",
      "Read more \n",
      "\n",
      "\n",
      "43\n",
      "Oat Bread, Pecan Butter, and Fruit Jam\n",
      "Elaine’s Coffee Call\n",
      "Read more \n",
      "\n",
      "\n",
      "44\n",
      "Cauliflower Melt\n",
      "Marion Street Cheese Market\n",
      "Read more \n",
      "\n",
      "\n",
      "45\n",
      "Cubana\n",
      "Cafecito\n",
      "Read more \n",
      "\n",
      "\n",
      "46\n",
      "Kufta\n",
      "Chickpea\n",
      "Read more \n",
      "\n",
      "\n",
      "47\n",
      "Debbie’s Egg Salad\n",
      "The Goddess and Grocer\n",
      "Read more \n",
      "\n",
      "\n",
      "48\n",
      "Beef Curry\n",
      "Zenwich\n",
      "Read more \n",
      "\n",
      "\n",
      "49\n",
      "Le Végétarien\n",
      "Toni Patisserie\n",
      "Read more \n",
      "\n",
      "\n",
      "50\n",
      "The Gatsby\n",
      "Phoebe’s Bakery\n",
      "Read more \n",
      "\n"
     ]
    }
   ],
   "source": [
    "contents = soup.find_all(\"div\", class_=\"sammy\")\n",
    "\n",
    "for i in contents:\n",
    "    print(i.get_text())"
   ]
  },
  {
   "cell_type": "code",
   "execution_count": 88,
   "id": "a47e8d66",
   "metadata": {},
   "outputs": [
    {
     "data": {
      "text/plain": [
       "50"
      ]
     },
     "execution_count": 88,
     "metadata": {},
     "output_type": "execute_result"
    }
   ],
   "source": [
    "len(soup.find_all(\"div\", \"sammy\"))"
   ]
  },
  {
   "cell_type": "code",
   "execution_count": 21,
   "id": "ef169c0a",
   "metadata": {},
   "outputs": [
    {
     "data": {
      "text/plain": [
       "<div class=\"sammy\" style=\"position: relative; border-bottom: 0\">\n",
       "<div class=\"sammyRank\">50</div>\n",
       "<div class=\"sammyListing\"><a href=\"https://www.chicagomag.com/Chicago-Magazine/November-2012/Best-Sandwiches-in-Chicago-Phoebes-Bakery-The-Gatsby/\"><b>The Gatsby</b><br/>\n",
       "Phoebe’s Bakery<br/>\n",
       "<em>Read more</em> </a></div>\n",
       "</div>"
      ]
     },
     "execution_count": 21,
     "metadata": {},
     "output_type": "execute_result"
    }
   ],
   "source": [
    "soup.find_all(\"div\", \"sammy\")[49]"
   ]
  },
  {
   "cell_type": "markdown",
   "id": "94654d9c",
   "metadata": {},
   "source": [
    "## (2) Data Parsing"
   ]
  },
  {
   "cell_type": "code",
   "execution_count": 22,
   "id": "9d07db8a",
   "metadata": {},
   "outputs": [
    {
     "name": "stdout",
     "output_type": "stream",
     "text": [
      "<div class=\"sammy\" style=\"position: relative;\">\n",
      "<div class=\"sammyRank\">1</div>\n",
      "<div class=\"sammyListing\"><a href=\"/Chicago-Magazine/November-2012/Best-Sandwiches-in-Chicago-Old-Oak-Tap-BLT/\"><b>BLT</b><br/>\n",
      "Old Oak Tap<br/>\n",
      "<em>Read more</em> </a></div>\n",
      "</div>\n",
      "<class 'bs4.element.Tag'>\n"
     ]
    }
   ],
   "source": [
    "one = soup.find_all(\"div\", class_=\"sammy\")[0]\n",
    "print(one)\n",
    "print(type(one))"
   ]
  },
  {
   "cell_type": "code",
   "execution_count": 27,
   "id": "2ba46f9f",
   "metadata": {},
   "outputs": [
    {
     "name": "stdout",
     "output_type": "stream",
     "text": [
      "1\n",
      "1\n"
     ]
    }
   ],
   "source": [
    "##### 랭킹만 가져오기\n",
    "\n",
    "one = soup.find_all(\"div\", class_=\"sammyRank\")[0]\n",
    "print(one.get_text())\n",
    "\n",
    "one = soup.find(\"div\", class_=\"sammyRank\")\n",
    "print(one.get_text())\n",
    "\n",
    "# one.find(\"div\", class_='sammyRank').get_text()"
   ]
  },
  {
   "cell_type": "code",
   "execution_count": 43,
   "id": "c1058487",
   "metadata": {},
   "outputs": [
    {
     "name": "stdout",
     "output_type": "stream",
     "text": [
      "['BLT', 'Old Oak Tap', ' ']\n",
      "['BLT', 'Old Oak Tap']\n"
     ]
    }
   ],
   "source": [
    "##### 메뉴이름과 가게이름 가져오기\n",
    "\n",
    "one = soup.find(\"div\", class_=\"sammyListing\")\n",
    "print(one.get_text().replace(\"Read more\", \"\").split(\"\\n\"))\n",
    "print(one.get_text().replace(\"Read more\", \"\").split(\"\\n\")[0:2])"
   ]
  },
  {
   "cell_type": "code",
   "execution_count": 57,
   "id": "4c0fa2d5",
   "metadata": {},
   "outputs": [
    {
     "data": {
      "text/plain": [
       "'/Chicago-Magazine/November-2012/Best-Sandwiches-in-Chicago-Old-Oak-Tap-BLT/'"
      ]
     },
     "execution_count": 57,
     "metadata": {},
     "output_type": "execute_result"
    }
   ],
   "source": [
    "##### a태그에서 href 값 가져오기\n",
    "\n",
    "# 1\n",
    "href = soup.select_one(\"div.sammyListing > a\")\n",
    "href = href[\"href\"]\n",
    "href\n",
    "\n",
    "# 2\n",
    "href1 = soup.find_all(\"div\", \"sammy\")[0]\n",
    "href1.a[\"href\"]\n",
    "\n"
   ]
  },
  {
   "cell_type": "code",
   "execution_count": 59,
   "id": "0687472b",
   "metadata": {},
   "outputs": [
    {
     "data": {
      "text/plain": [
       "<div class=\"sammy\" style=\"position: relative;\">\n",
       "<div class=\"sammyRank\">6</div>\n",
       "<div class=\"sammyListing\"><a href=\"https://www.chicagomag.com/Chicago-Magazine/November-2012/Best-Sandwiches-in-Chicago-Hendrickx-Belgian-Bread-Crafter-Belgian-Chicken-Curry-Salad/\"><b>Belgian Chicken Curry Salad</b><br/>\n",
       "Hendrickx Belgian Bread Crafter<br/>\n",
       "<em>Read more</em> </a></div>\n",
       "</div>"
      ]
     },
     "execution_count": 59,
     "metadata": {},
     "output_type": "execute_result"
    }
   ],
   "source": [
    "href6 = soup.find_all(\"div\", \"sammy\")[5]"
   ]
  },
  {
   "cell_type": "code",
   "execution_count": 61,
   "id": "0d24c824",
   "metadata": {},
   "outputs": [
    {
     "name": "stdout",
     "output_type": "stream",
     "text": [
      "/Chicago-Magazine/November-2012/Best-Sandwiches-in-Chicago-Old-Oak-Tap-BLT/\n",
      "---------------------------------------------------------------------------------------\n",
      "https://www.chicagomag.com/Chicago-Magazine/November-2012/Best-Sandwiches-in-Chicago-Hendrickx-Belgian-Bread-Crafter-Belgian-Chicken-Curry-Salad/\n"
     ]
    }
   ],
   "source": [
    "url1 = href\n",
    "url2 = href6.a[\"href\"]\n",
    "\n",
    "print(url1)\n",
    "print(\"---------------------------------------------------------------------------------------\")\n",
    "print(url2)"
   ]
  },
  {
   "cell_type": "code",
   "execution_count": 64,
   "id": "623478e5",
   "metadata": {},
   "outputs": [
    {
     "name": "stdout",
     "output_type": "stream",
     "text": [
      "https://www.chicagomag.com/Chicago-Magazine/November-2012/Best-Sandwiches-in-Chicago-Old-Oak-Tap-BLT/\n",
      "------------------------------------------------------\n",
      "https://www.chicagomag.comhttps://www.chicagomag.com/Chicago-Magazine/November-2012/Best-Sandwiches-in-Chicago-Hendrickx-Belgian-Bread-Crafter-Belgian-Chicken-Curry-Salad/\n"
     ]
    }
   ],
   "source": [
    "# 이렇게 수동으로 url을 붙여주다보면 https가 이미 달린 것에는 추가로 붙어 2번나오는 상황이 발생, 이를 보완한 기능이 urljoin\n",
    "\n",
    "base = \"https://www.chicagomag.com\"\n",
    "print(base + url1)\n",
    "print(\"---------------------------------------------------------------------------------------\")\n",
    "print(base + url2)"
   ]
  },
  {
   "cell_type": "code",
   "execution_count": 67,
   "id": "7d252231",
   "metadata": {},
   "outputs": [
    {
     "name": "stdout",
     "output_type": "stream",
     "text": [
      "https://www.chicagomag.com/Chicago-Magazine/November-2012/Best-Sandwiches-in-Chicago-Old-Oak-Tap-BLT/\n",
      "---------------------------------------------------------------------------------------\n",
      "https://www.chicagomag.com/Chicago-Magazine/November-2012/Best-Sandwiches-in-Chicago-Hendrickx-Belgian-Bread-Crafter-Belgian-Chicken-Curry-Salad/\n"
     ]
    }
   ],
   "source": [
    "# urljoin  ( https 문자열이 없으면 연결해주고 있으면 그냥 넘어가는 .. )\n",
    "\n",
    "print(urllib.parse.urljoin(base, url1))\n",
    "print(\"---------------------------------------------------------------------------------------\")\n",
    "print(urllib.parse.urljoin(base, url2))"
   ]
  },
  {
   "cell_type": "markdown",
   "id": "82a6fca4",
   "metadata": {},
   "source": [
    "## (3) 데이터 수집과 전처리\n",
    "\n",
    "+ rank\n",
    "+ main_menu\n",
    "+ cafe_name\n",
    "+ readmore"
   ]
  },
  {
   "cell_type": "code",
   "execution_count": 89,
   "id": "436e7232",
   "metadata": {},
   "outputs": [],
   "source": [
    "rank = []\n",
    "main_menu = []\n",
    "cafe_name = []\n",
    "read_more = []\n",
    "url_base = \"https://www.chicagomag.com\"\n",
    "\n",
    "cafes = soup.find_all(\"div\", class_=\"sammy\")\n",
    "for item in cafes:\n",
    "    rank.append(item.find(class_=\"sammyRank\").get_text())\n",
    "    \n",
    "    temp = item.find(class_=\"sammyListing\").get_text().split(\"\\n\")\n",
    "    main_menu.append(temp[0])\n",
    "    cafe_name.append(temp[1])\n",
    "    \n",
    "    read_more.append(urllib.parse.urljoin(url_base, item.a[\"href\"]))\n"
   ]
  },
  {
   "cell_type": "code",
   "execution_count": 90,
   "id": "84455a97",
   "metadata": {},
   "outputs": [
    {
     "data": {
      "text/plain": [
       "(50, 50, 50, 50)"
      ]
     },
     "execution_count": 90,
     "metadata": {},
     "output_type": "execute_result"
    }
   ],
   "source": [
    "len(rank), len(main_menu), len(cafe_name), len(read_more)"
   ]
  },
  {
   "cell_type": "code",
   "execution_count": 157,
   "id": "57cac29a",
   "metadata": {},
   "outputs": [
    {
     "data": {
      "text/html": [
       "<div>\n",
       "<style scoped>\n",
       "    .dataframe tbody tr th:only-of-type {\n",
       "        vertical-align: middle;\n",
       "    }\n",
       "\n",
       "    .dataframe tbody tr th {\n",
       "        vertical-align: top;\n",
       "    }\n",
       "\n",
       "    .dataframe thead th {\n",
       "        text-align: right;\n",
       "    }\n",
       "</style>\n",
       "<table border=\"1\" class=\"dataframe\">\n",
       "  <thead>\n",
       "    <tr style=\"text-align: right;\">\n",
       "      <th></th>\n",
       "      <th>Rank</th>\n",
       "      <th>Cafe</th>\n",
       "      <th>Menu</th>\n",
       "      <th>ReadMore</th>\n",
       "    </tr>\n",
       "  </thead>\n",
       "  <tbody>\n",
       "    <tr>\n",
       "      <th>0</th>\n",
       "      <td>1</td>\n",
       "      <td>Old Oak Tap</td>\n",
       "      <td>BLT</td>\n",
       "      <td>https://www.chicagomag.com/Chicago-Magazine/No...</td>\n",
       "    </tr>\n",
       "    <tr>\n",
       "      <th>1</th>\n",
       "      <td>2</td>\n",
       "      <td>Au Cheval</td>\n",
       "      <td>Fried Bologna</td>\n",
       "      <td>https://www.chicagomag.com/Chicago-Magazine/No...</td>\n",
       "    </tr>\n",
       "    <tr>\n",
       "      <th>2</th>\n",
       "      <td>3</td>\n",
       "      <td>Xoco</td>\n",
       "      <td>Woodland Mushroom</td>\n",
       "      <td>https://www.chicagomag.com/Chicago-Magazine/No...</td>\n",
       "    </tr>\n",
       "    <tr>\n",
       "      <th>3</th>\n",
       "      <td>4</td>\n",
       "      <td>Al’s Deli</td>\n",
       "      <td>Roast Beef</td>\n",
       "      <td>https://www.chicagomag.com/Chicago-Magazine/No...</td>\n",
       "    </tr>\n",
       "    <tr>\n",
       "      <th>4</th>\n",
       "      <td>5</td>\n",
       "      <td>Publican Quality Meats</td>\n",
       "      <td>PB&amp;L</td>\n",
       "      <td>https://www.chicagomag.com/Chicago-Magazine/No...</td>\n",
       "    </tr>\n",
       "  </tbody>\n",
       "</table>\n",
       "</div>"
      ],
      "text/plain": [
       "  Rank                    Cafe               Menu  \\\n",
       "0    1             Old Oak Tap                BLT   \n",
       "1    2               Au Cheval      Fried Bologna   \n",
       "2    3                    Xoco  Woodland Mushroom   \n",
       "3    4               Al’s Deli         Roast Beef   \n",
       "4    5  Publican Quality Meats               PB&L   \n",
       "\n",
       "                                            ReadMore  \n",
       "0  https://www.chicagomag.com/Chicago-Magazine/No...  \n",
       "1  https://www.chicagomag.com/Chicago-Magazine/No...  \n",
       "2  https://www.chicagomag.com/Chicago-Magazine/No...  \n",
       "3  https://www.chicagomag.com/Chicago-Magazine/No...  \n",
       "4  https://www.chicagomag.com/Chicago-Magazine/No...  "
      ]
     },
     "execution_count": 157,
     "metadata": {},
     "output_type": "execute_result"
    }
   ],
   "source": [
    "data = {\"Rank\" : rank, \"Cafe\" : cafe_name, \"Menu\" : main_menu, \"ReadMore\" : read_more}\n",
    "df = pd.DataFrame(data)\n",
    "df.head()"
   ]
  },
  {
   "cell_type": "code",
   "execution_count": 122,
   "id": "e100a212",
   "metadata": {},
   "outputs": [
    {
     "name": "stdout",
     "output_type": "stream",
     "text": [
      "가격 :  $10\n",
      "주소 :  2109 W. Chicago Ave.,\n"
     ]
    }
   ],
   "source": [
    "##### 상세 페이지에서 가격과 주소 가져오기 연습\n",
    "\n",
    "url = df[\"ReadMore\"][0]\n",
    "\n",
    "header = {\"User-Agent\" : \"Mozilla/5.0\"}\n",
    "page = requests.get(url, headers=header)\n",
    "page\n",
    "\n",
    "soup = BeautifulSoup(page.text, \"html.parser\")\n",
    "\n",
    "detail = soup.find(\"p\", \"addy\").get_text()\n",
    "result = detail.split()\n",
    "\n",
    "print(\"가격 : \", result[0][:-1] )      #[:-1]은 $10. 에 붙어있는 . 을 빼기 위한 처리\n",
    "print(\"주소 : \", \" \".join(result[1:-2]))"
   ]
  },
  {
   "cell_type": "code",
   "execution_count": 123,
   "id": "0aad82b9",
   "metadata": {},
   "outputs": [
    {
     "name": "stderr",
     "output_type": "stream",
     "text": [
      "C:\\Users\\alcls\\AppData\\Local\\Temp\\ipykernel_9436\\4085853082.py:9: TqdmDeprecationWarning: This function will be removed in tqdm==5.0.0\n",
      "Please use `tqdm.notebook.tqdm` instead of `tqdm.tqdm_notebook`\n",
      "  for n in tqdm_notebook(df.index):\n"
     ]
    },
    {
     "data": {
      "application/vnd.jupyter.widget-view+json": {
       "model_id": "d527f68051014aa7bef0dabbdf9b56e7",
       "version_major": 2,
       "version_minor": 0
      },
      "text/plain": [
       "  0%|          | 0/50 [00:00<?, ?it/s]"
      ]
     },
     "metadata": {},
     "output_type": "display_data"
    }
   ],
   "source": [
    "##### 50개 점포의 가격과 주소를 수집\n",
    "import time\n",
    "from tqdm import tqdm_notebook     # 진행상태를 표시해주는 모듈\n",
    "\n",
    "price = []\n",
    "address = []\n",
    "header = {\"User-Agent\" : \"Mozilla/5.0\"}\n",
    "\n",
    "for n in tqdm_notebook(df.index):\n",
    "    page = requests.get(url = df[\"ReadMore\"][n], headers=header)\n",
    "    soup = BeautifulSoup(page.text, \"html.parser\")\n",
    "    detail = soup.find(\"p\", \"addy\").get_text()\n",
    "    price.append(detail.split()[0][:-1])\n",
    "    address.append(\" \".join(detail.split()[1:-2]))\n",
    "    time.sleep(1)       # 하던 작업을 잠깐 쉬었다 가겠다 의미  (1) 의 의미는 1초간.\n"
   ]
  },
  {
   "cell_type": "code",
   "execution_count": 125,
   "id": "ea33dc53",
   "metadata": {},
   "outputs": [
    {
     "name": "stdout",
     "output_type": "stream",
     "text": [
      "50 50\n",
      "['$10', '$9', '$9.50', '$9.40', '$10']\n",
      "['2109 W. Chicago Ave.,', '800 W. Randolph St.,', '445 N. Clark St.,']\n"
     ]
    }
   ],
   "source": [
    "print(len(price), len(address))\n",
    "print(price[:5])\n",
    "print(address[:3])"
   ]
  },
  {
   "cell_type": "code",
   "execution_count": 126,
   "id": "32c3e93e",
   "metadata": {},
   "outputs": [],
   "source": [
    "df[\"price\"] = price\n",
    "df[\"address\"] = address"
   ]
  },
  {
   "cell_type": "code",
   "execution_count": 128,
   "id": "8c385f1c",
   "metadata": {},
   "outputs": [
    {
     "data": {
      "text/html": [
       "<div>\n",
       "<style scoped>\n",
       "    .dataframe tbody tr th:only-of-type {\n",
       "        vertical-align: middle;\n",
       "    }\n",
       "\n",
       "    .dataframe tbody tr th {\n",
       "        vertical-align: top;\n",
       "    }\n",
       "\n",
       "    .dataframe thead th {\n",
       "        text-align: right;\n",
       "    }\n",
       "</style>\n",
       "<table border=\"1\" class=\"dataframe\">\n",
       "  <thead>\n",
       "    <tr style=\"text-align: right;\">\n",
       "      <th></th>\n",
       "      <th>Rank</th>\n",
       "      <th>Cafe</th>\n",
       "      <th>Menu</th>\n",
       "      <th>ReadMore</th>\n",
       "      <th>price</th>\n",
       "      <th>address</th>\n",
       "    </tr>\n",
       "  </thead>\n",
       "  <tbody>\n",
       "    <tr>\n",
       "      <th>0</th>\n",
       "      <td>1</td>\n",
       "      <td>Old Oak Tap</td>\n",
       "      <td>BLT</td>\n",
       "      <td>https://www.chicagomag.com/Chicago-Magazine/No...</td>\n",
       "      <td>$10</td>\n",
       "      <td>2109 W. Chicago Ave.,</td>\n",
       "    </tr>\n",
       "    <tr>\n",
       "      <th>1</th>\n",
       "      <td>2</td>\n",
       "      <td>Au Cheval</td>\n",
       "      <td>Fried Bologna</td>\n",
       "      <td>https://www.chicagomag.com/Chicago-Magazine/No...</td>\n",
       "      <td>$9</td>\n",
       "      <td>800 W. Randolph St.,</td>\n",
       "    </tr>\n",
       "    <tr>\n",
       "      <th>2</th>\n",
       "      <td>3</td>\n",
       "      <td>Xoco</td>\n",
       "      <td>Woodland Mushroom</td>\n",
       "      <td>https://www.chicagomag.com/Chicago-Magazine/No...</td>\n",
       "      <td>$9.50</td>\n",
       "      <td>445 N. Clark St.,</td>\n",
       "    </tr>\n",
       "    <tr>\n",
       "      <th>3</th>\n",
       "      <td>4</td>\n",
       "      <td>Al’s Deli</td>\n",
       "      <td>Roast Beef</td>\n",
       "      <td>https://www.chicagomag.com/Chicago-Magazine/No...</td>\n",
       "      <td>$9.40</td>\n",
       "      <td>914 Noyes St., Evanston,</td>\n",
       "    </tr>\n",
       "    <tr>\n",
       "      <th>4</th>\n",
       "      <td>5</td>\n",
       "      <td>Publican Quality Meats</td>\n",
       "      <td>PB&amp;L</td>\n",
       "      <td>https://www.chicagomag.com/Chicago-Magazine/No...</td>\n",
       "      <td>$10</td>\n",
       "      <td>825 W. Fulton Mkt.,</td>\n",
       "    </tr>\n",
       "  </tbody>\n",
       "</table>\n",
       "</div>"
      ],
      "text/plain": [
       "  Rank                    Cafe               Menu  \\\n",
       "0    1             Old Oak Tap                BLT   \n",
       "1    2               Au Cheval      Fried Bologna   \n",
       "2    3                    Xoco  Woodland Mushroom   \n",
       "3    4               Al’s Deli         Roast Beef   \n",
       "4    5  Publican Quality Meats               PB&L   \n",
       "\n",
       "                                            ReadMore  price  \\\n",
       "0  https://www.chicagomag.com/Chicago-Magazine/No...    $10   \n",
       "1  https://www.chicagomag.com/Chicago-Magazine/No...     $9   \n",
       "2  https://www.chicagomag.com/Chicago-Magazine/No...  $9.50   \n",
       "3  https://www.chicagomag.com/Chicago-Magazine/No...  $9.40   \n",
       "4  https://www.chicagomag.com/Chicago-Magazine/No...    $10   \n",
       "\n",
       "                    address  \n",
       "0     2109 W. Chicago Ave.,  \n",
       "1      800 W. Randolph St.,  \n",
       "2         445 N. Clark St.,  \n",
       "3  914 Noyes St., Evanston,  \n",
       "4       825 W. Fulton Mkt.,  "
      ]
     },
     "execution_count": 128,
     "metadata": {},
     "output_type": "execute_result"
    }
   ],
   "source": [
    "df.head()"
   ]
  },
  {
   "cell_type": "markdown",
   "id": "7ede9696",
   "metadata": {},
   "source": [
    "## (4) 맛집의 위치를 지도에 표시"
   ]
  },
  {
   "cell_type": "code",
   "execution_count": 129,
   "id": "16408c46",
   "metadata": {},
   "outputs": [],
   "source": [
    "import folium\n",
    "import googlemaps"
   ]
  },
  {
   "cell_type": "code",
   "execution_count": 139,
   "id": "256caa66",
   "metadata": {},
   "outputs": [
    {
     "name": "stdout",
     "output_type": "stream",
     "text": [
      "41.8955577\n",
      "41.8955577\n"
     ]
    }
   ],
   "source": [
    "gmaps_key = \"\"\n",
    "\n",
    "gmaps = googlemaps.Client(key=gmaps_key)\n",
    "addr = df[\"address\"][0] + \", \" + \"Chicago\"\n",
    "tmp = gmaps.geocode(addr, language=\"ko\")\n",
    "\n",
    "print(tmp[0].get(\"geometry\").get(\"location\").get(\"lat\"))\n",
    "print(tmp[0][\"geometry\"][\"location\"][\"lat\"])"
   ]
  },
  {
   "cell_type": "code",
   "execution_count": 136,
   "id": "f03dcf18",
   "metadata": {},
   "outputs": [
    {
     "data": {
      "text/plain": [
       "'2109 W. Chicago Ave.,, Chicago'"
      ]
     },
     "execution_count": 136,
     "metadata": {},
     "output_type": "execute_result"
    }
   ],
   "source": [
    "addr = df[\"address\"][0] + \", \" + \"Chicago\"\n",
    "addr"
   ]
  },
  {
   "cell_type": "code",
   "execution_count": 140,
   "id": "8dbfe9fd",
   "metadata": {},
   "outputs": [
    {
     "name": "stderr",
     "output_type": "stream",
     "text": [
      "C:\\Users\\alcls\\AppData\\Local\\Temp\\ipykernel_9436\\2056228490.py:4: TqdmDeprecationWarning: This function will be removed in tqdm==5.0.0\n",
      "Please use `tqdm.notebook.tqdm` instead of `tqdm.tqdm_notebook`\n",
      "  for n in tqdm_notebook(df.index):\n"
     ]
    },
    {
     "data": {
      "application/vnd.jupyter.widget-view+json": {
       "model_id": "1c7a7945cbe4408197e44f7e00eed79d",
       "version_major": 2,
       "version_minor": 0
      },
      "text/plain": [
       "  0%|          | 0/50 [00:00<?, ?it/s]"
      ]
     },
     "metadata": {},
     "output_type": "display_data"
    }
   ],
   "source": [
    "lat = []\n",
    "lng = []\n",
    "\n",
    "for n in tqdm_notebook(df.index):\n",
    "    addr = df[\"address\"][n] + \", \" + \"Chicago\"\n",
    "    tmp = gmaps.geocode(addr, language=\"ko\")\n",
    "    \n",
    "    lat.append(tmp[0][\"geometry\"][\"location\"][\"lat\"])\n",
    "    lng.append(tmp[0][\"geometry\"][\"location\"][\"lng\"])"
   ]
  },
  {
   "cell_type": "code",
   "execution_count": 141,
   "id": "fe4f03b4",
   "metadata": {},
   "outputs": [
    {
     "name": "stdout",
     "output_type": "stream",
     "text": [
      "50 50\n"
     ]
    }
   ],
   "source": [
    "print(len(lat), len(lng))"
   ]
  },
  {
   "cell_type": "code",
   "execution_count": 142,
   "id": "67b47651",
   "metadata": {},
   "outputs": [],
   "source": [
    "df[\"lat\"] = lat\n",
    "df[\"lng\"] = lng"
   ]
  },
  {
   "cell_type": "code",
   "execution_count": 144,
   "id": "14fea32d",
   "metadata": {},
   "outputs": [
    {
     "data": {
      "text/html": [
       "<div>\n",
       "<style scoped>\n",
       "    .dataframe tbody tr th:only-of-type {\n",
       "        vertical-align: middle;\n",
       "    }\n",
       "\n",
       "    .dataframe tbody tr th {\n",
       "        vertical-align: top;\n",
       "    }\n",
       "\n",
       "    .dataframe thead th {\n",
       "        text-align: right;\n",
       "    }\n",
       "</style>\n",
       "<table border=\"1\" class=\"dataframe\">\n",
       "  <thead>\n",
       "    <tr style=\"text-align: right;\">\n",
       "      <th></th>\n",
       "      <th>Rank</th>\n",
       "      <th>Cafe</th>\n",
       "      <th>Menu</th>\n",
       "      <th>ReadMore</th>\n",
       "      <th>price</th>\n",
       "      <th>address</th>\n",
       "      <th>lat</th>\n",
       "      <th>lng</th>\n",
       "    </tr>\n",
       "  </thead>\n",
       "  <tbody>\n",
       "    <tr>\n",
       "      <th>0</th>\n",
       "      <td>1</td>\n",
       "      <td>Old Oak Tap</td>\n",
       "      <td>BLT</td>\n",
       "      <td>https://www.chicagomag.com/Chicago-Magazine/No...</td>\n",
       "      <td>$10</td>\n",
       "      <td>2109 W. Chicago Ave.,</td>\n",
       "      <td>41.895558</td>\n",
       "      <td>-87.679967</td>\n",
       "    </tr>\n",
       "    <tr>\n",
       "      <th>1</th>\n",
       "      <td>2</td>\n",
       "      <td>Au Cheval</td>\n",
       "      <td>Fried Bologna</td>\n",
       "      <td>https://www.chicagomag.com/Chicago-Magazine/No...</td>\n",
       "      <td>$9</td>\n",
       "      <td>800 W. Randolph St.,</td>\n",
       "      <td>41.884639</td>\n",
       "      <td>-87.647590</td>\n",
       "    </tr>\n",
       "    <tr>\n",
       "      <th>2</th>\n",
       "      <td>3</td>\n",
       "      <td>Xoco</td>\n",
       "      <td>Woodland Mushroom</td>\n",
       "      <td>https://www.chicagomag.com/Chicago-Magazine/No...</td>\n",
       "      <td>$9.50</td>\n",
       "      <td>445 N. Clark St.,</td>\n",
       "      <td>41.890523</td>\n",
       "      <td>-87.630783</td>\n",
       "    </tr>\n",
       "    <tr>\n",
       "      <th>3</th>\n",
       "      <td>4</td>\n",
       "      <td>Al’s Deli</td>\n",
       "      <td>Roast Beef</td>\n",
       "      <td>https://www.chicagomag.com/Chicago-Magazine/No...</td>\n",
       "      <td>$9.40</td>\n",
       "      <td>914 Noyes St., Evanston,</td>\n",
       "      <td>42.058322</td>\n",
       "      <td>-87.683748</td>\n",
       "    </tr>\n",
       "    <tr>\n",
       "      <th>4</th>\n",
       "      <td>5</td>\n",
       "      <td>Publican Quality Meats</td>\n",
       "      <td>PB&amp;L</td>\n",
       "      <td>https://www.chicagomag.com/Chicago-Magazine/No...</td>\n",
       "      <td>$10</td>\n",
       "      <td>825 W. Fulton Mkt.,</td>\n",
       "      <td>41.886604</td>\n",
       "      <td>-87.648536</td>\n",
       "    </tr>\n",
       "  </tbody>\n",
       "</table>\n",
       "</div>"
      ],
      "text/plain": [
       "  Rank                    Cafe               Menu  \\\n",
       "0    1             Old Oak Tap                BLT   \n",
       "1    2               Au Cheval      Fried Bologna   \n",
       "2    3                    Xoco  Woodland Mushroom   \n",
       "3    4               Al’s Deli         Roast Beef   \n",
       "4    5  Publican Quality Meats               PB&L   \n",
       "\n",
       "                                            ReadMore  price  \\\n",
       "0  https://www.chicagomag.com/Chicago-Magazine/No...    $10   \n",
       "1  https://www.chicagomag.com/Chicago-Magazine/No...     $9   \n",
       "2  https://www.chicagomag.com/Chicago-Magazine/No...  $9.50   \n",
       "3  https://www.chicagomag.com/Chicago-Magazine/No...  $9.40   \n",
       "4  https://www.chicagomag.com/Chicago-Magazine/No...    $10   \n",
       "\n",
       "                    address        lat        lng  \n",
       "0     2109 W. Chicago Ave.,  41.895558 -87.679967  \n",
       "1      800 W. Randolph St.,  41.884639 -87.647590  \n",
       "2         445 N. Clark St.,  41.890523 -87.630783  \n",
       "3  914 Noyes St., Evanston,  42.058322 -87.683748  \n",
       "4       825 W. Fulton Mkt.,  41.886604 -87.648536  "
      ]
     },
     "execution_count": 144,
     "metadata": {},
     "output_type": "execute_result"
    }
   ],
   "source": [
    "df.head()"
   ]
  },
  {
   "cell_type": "code",
   "execution_count": 148,
   "id": "1bb9f8d5",
   "metadata": {},
   "outputs": [
    {
     "data": {
      "text/html": [
       "<div style=\"width:100%;\"><div style=\"position:relative;width:100%;height:0;padding-bottom:60%;\"><span style=\"color:#565656\">Make this Notebook Trusted to load map: File -> Trust Notebook</span><iframe srcdoc=\"&lt;!DOCTYPE html&gt;\n",
       "&lt;head&gt;    \n",
       "    &lt;meta http-equiv=&quot;content-type&quot; content=&quot;text/html; charset=UTF-8&quot; /&gt;\n",
       "    \n",
       "        &lt;script&gt;\n",
       "            L_NO_TOUCH = false;\n",
       "            L_DISABLE_3D = false;\n",
       "        &lt;/script&gt;\n",
       "    \n",
       "    &lt;style&gt;html, body {width: 100%;height: 100%;margin: 0;padding: 0;}&lt;/style&gt;\n",
       "    &lt;style&gt;#map {position:absolute;top:0;bottom:0;right:0;left:0;}&lt;/style&gt;\n",
       "    &lt;script src=&quot;https://cdn.jsdelivr.net/npm/leaflet@1.6.0/dist/leaflet.js&quot;&gt;&lt;/script&gt;\n",
       "    &lt;script src=&quot;https://code.jquery.com/jquery-1.12.4.min.js&quot;&gt;&lt;/script&gt;\n",
       "    &lt;script src=&quot;https://maxcdn.bootstrapcdn.com/bootstrap/3.2.0/js/bootstrap.min.js&quot;&gt;&lt;/script&gt;\n",
       "    &lt;script src=&quot;https://cdnjs.cloudflare.com/ajax/libs/Leaflet.awesome-markers/2.0.2/leaflet.awesome-markers.js&quot;&gt;&lt;/script&gt;\n",
       "    &lt;link rel=&quot;stylesheet&quot; href=&quot;https://cdn.jsdelivr.net/npm/leaflet@1.6.0/dist/leaflet.css&quot;/&gt;\n",
       "    &lt;link rel=&quot;stylesheet&quot; href=&quot;https://maxcdn.bootstrapcdn.com/bootstrap/3.2.0/css/bootstrap.min.css&quot;/&gt;\n",
       "    &lt;link rel=&quot;stylesheet&quot; href=&quot;https://maxcdn.bootstrapcdn.com/bootstrap/3.2.0/css/bootstrap-theme.min.css&quot;/&gt;\n",
       "    &lt;link rel=&quot;stylesheet&quot; href=&quot;https://maxcdn.bootstrapcdn.com/font-awesome/4.6.3/css/font-awesome.min.css&quot;/&gt;\n",
       "    &lt;link rel=&quot;stylesheet&quot; href=&quot;https://cdnjs.cloudflare.com/ajax/libs/Leaflet.awesome-markers/2.0.2/leaflet.awesome-markers.css&quot;/&gt;\n",
       "    &lt;link rel=&quot;stylesheet&quot; href=&quot;https://cdn.jsdelivr.net/gh/python-visualization/folium/folium/templates/leaflet.awesome.rotate.min.css&quot;/&gt;\n",
       "    \n",
       "            &lt;meta name=&quot;viewport&quot; content=&quot;width=device-width,\n",
       "                initial-scale=1.0, maximum-scale=1.0, user-scalable=no&quot; /&gt;\n",
       "            &lt;style&gt;\n",
       "                #map_f368381a3e7df9c7fc1d9b6f0977dd1f {\n",
       "                    position: relative;\n",
       "                    width: 100.0%;\n",
       "                    height: 100.0%;\n",
       "                    left: 0.0%;\n",
       "                    top: 0.0%;\n",
       "                }\n",
       "            &lt;/style&gt;\n",
       "        \n",
       "&lt;/head&gt;\n",
       "&lt;body&gt;    \n",
       "    \n",
       "            &lt;div class=&quot;folium-map&quot; id=&quot;map_f368381a3e7df9c7fc1d9b6f0977dd1f&quot; &gt;&lt;/div&gt;\n",
       "        \n",
       "&lt;/body&gt;\n",
       "&lt;script&gt;    \n",
       "    \n",
       "            var map_f368381a3e7df9c7fc1d9b6f0977dd1f = L.map(\n",
       "                &quot;map_f368381a3e7df9c7fc1d9b6f0977dd1f&quot;,\n",
       "                {\n",
       "                    center: [41.91870255799999, -87.674832574],\n",
       "                    crs: L.CRS.EPSG3857,\n",
       "                    zoom: 11,\n",
       "                    zoomControl: true,\n",
       "                    preferCanvas: false,\n",
       "                }\n",
       "            );\n",
       "\n",
       "            \n",
       "\n",
       "        \n",
       "    \n",
       "            var tile_layer_5748112b11cbb0a07671160baca01a8e = L.tileLayer(\n",
       "                &quot;https://{s}.tile.openstreetmap.org/{z}/{x}/{y}.png&quot;,\n",
       "                {&quot;attribution&quot;: &quot;Data by \\u0026copy; \\u003ca href=\\&quot;http://openstreetmap.org\\&quot;\\u003eOpenStreetMap\\u003c/a\\u003e, under \\u003ca href=\\&quot;http://www.openstreetmap.org/copyright\\&quot;\\u003eODbL\\u003c/a\\u003e.&quot;, &quot;detectRetina&quot;: false, &quot;maxNativeZoom&quot;: 18, &quot;maxZoom&quot;: 18, &quot;minZoom&quot;: 0, &quot;noWrap&quot;: false, &quot;opacity&quot;: 1, &quot;subdomains&quot;: &quot;abc&quot;, &quot;tms&quot;: false}\n",
       "            ).addTo(map_f368381a3e7df9c7fc1d9b6f0977dd1f);\n",
       "        \n",
       "    \n",
       "            var marker_56c2312ec0f8de690251eaa3fe631d99 = L.marker(\n",
       "                [41.91870255799999, -87.674832574],\n",
       "                {}\n",
       "            ).addTo(map_f368381a3e7df9c7fc1d9b6f0977dd1f);\n",
       "        \n",
       "&lt;/script&gt;\" style=\"position:absolute;width:100%;height:100%;left:0;top:0;border:none !important;\" allowfullscreen webkitallowfullscreen mozallowfullscreen></iframe></div></div>"
      ],
      "text/plain": [
       "<folium.folium.Map at 0x207deb6c370>"
      ]
     },
     "execution_count": 148,
     "metadata": {},
     "output_type": "execute_result"
    }
   ],
   "source": [
    "map = folium.Map(location=[df[\"lat\"].mean(), df[\"lng\"].mean()], zoom_start=11)\n",
    "folium.Marker([df[\"lat\"].mean(), df[\"lng\"].mean()]).add_to(map)\n",
    "map"
   ]
  },
  {
   "cell_type": "markdown",
   "id": "915a1fb3",
   "metadata": {},
   "source": [
    "# 2. 네이버 영화 평점 기준으로 영화 평점 변화를 분석\n",
    "\n",
    "+ http://movie.naver.com/movie/sdb/rank/rmovie.nhn?sel=cur&date=20170806\n"
   ]
  },
  {
   "cell_type": "markdown",
   "id": "ad8fa827",
   "metadata": {},
   "source": [
    "## (1) Data Definition"
   ]
  },
  {
   "cell_type": "code",
   "execution_count": 151,
   "id": "e7235346",
   "metadata": {},
   "outputs": [],
   "source": [
    "url = \"http://movie.naver.com/movie/sdb/rank/rmovie.nhn?sel=cur&date=20170806\"\n",
    "page = urlopen(url)\n",
    "page\n",
    "\n",
    "soup = BeautifulSoup(page, \"html.parser\")"
   ]
  },
  {
   "cell_type": "markdown",
   "id": "61f2f1da",
   "metadata": {},
   "source": [
    "## (2) 연습"
   ]
  },
  {
   "cell_type": "code",
   "execution_count": 153,
   "id": "c574563e",
   "metadata": {
    "collapsed": true
   },
   "outputs": [
    {
     "name": "stdout",
     "output_type": "stream",
     "text": [
      "\n",
      "다크 나이트\n",
      "\n",
      "\n",
      "킹 오브 프리즘 프라이드 더 히어로\n",
      "\n",
      "\n",
      "킹 오브 프리즘\n",
      "\n",
      "\n",
      "내 사랑\n",
      "\n",
      "\n",
      "오즈의 마법사\n",
      "\n",
      "\n",
      "서서평, 천천히 평온하게\n",
      "\n",
      "\n",
      "로보캅\n",
      "\n",
      "\n",
      "플립\n",
      "\n",
      "\n",
      "헤드윅\n",
      "\n",
      "\n",
      "댄서\n",
      "\n",
      "\n",
      "이터널 선샤인\n",
      "\n",
      "\n",
      "명탐정 코난:진홍의 연가\n",
      "\n",
      "\n",
      "샤인\n",
      "\n",
      "\n",
      "택시운전사\n",
      "\n",
      "\n",
      "올드보이\n",
      "\n",
      "\n",
      "어네스트와 셀레스틴\n",
      "\n",
      "\n",
      "기쿠지로의 여름\n",
      "\n",
      "\n",
      "파도가 지나간 자리\n",
      "\n",
      "\n",
      "노무현입니다\n",
      "\n",
      "\n",
      "파이트 클럽\n",
      "\n",
      "\n",
      "스타쉽 트루퍼스\n",
      "\n",
      "\n",
      "청원\n",
      "\n",
      "\n",
      "토탈 리콜\n",
      "\n",
      "\n",
      "극장판 짱구는 못말려 : 습격!! 외계인 덩덩이\n",
      "\n",
      "\n",
      "너의 이름은.\n",
      "\n",
      "\n",
      "연애담\n",
      "\n",
      "\n",
      "슈퍼배드 3\n",
      "\n",
      "\n",
      "꿈의 제인\n",
      "\n",
      "\n",
      "심야식당2\n",
      "\n",
      "\n",
      "라라랜드\n",
      "\n",
      "\n",
      "카3: 새로운 도전\n",
      "\n",
      "\n",
      "오두막\n",
      "\n",
      "\n",
      "스파이더맨: 홈커밍\n",
      "\n",
      "\n",
      "옥자\n",
      "\n",
      "\n",
      "500일의 썸머\n",
      "\n",
      "\n",
      "복수는 나의 것\n",
      "\n",
      "\n",
      "덩케르크\n",
      "\n",
      "\n",
      "예수는 역사다\n",
      "\n",
      "\n",
      "매치 포인트\n",
      "\n",
      "\n",
      "7번째 내가 죽던 날\n",
      "\n",
      "\n",
      "47 미터\n",
      "\n",
      "\n",
      "친절한 금자씨\n",
      "\n",
      "\n",
      "송 투 송\n",
      "\n",
      "\n",
      "그 후\n",
      "\n",
      "\n",
      "박쥐\n",
      "\n",
      "\n",
      "싸이보그지만 괜찮아\n",
      "\n",
      "\n",
      "군함도\n",
      "\n"
     ]
    }
   ],
   "source": [
    "##### 영화 제목 수집\n",
    "\n",
    "movie_name = soup.find_all(\"div\", class_=\"tit5\")\n",
    "\n",
    "for i in movie_name:\n",
    "    print(i.get_text())"
   ]
  },
  {
   "cell_type": "code",
   "execution_count": 154,
   "id": "558d8632",
   "metadata": {},
   "outputs": [
    {
     "name": "stdout",
     "output_type": "stream",
     "text": [
      "['다크 나이트', '킹 오브 프리즘 프라이드 더 히어로', '킹 오브 프리즘', '내 사랑', '오즈의 마법사', '서서평, 천천히 평온하게', '로보캅', '플립', '헤드윅', '댄서', '이터널 선샤인', '명탐정 코난:진홍의 연가', '샤인', '택시운전사', '올드보이', '어네스트와 셀레스틴', '기쿠지로의 여름', '파도가 지나간 자리', '노무현입니다', '파이트 클럽', '스타쉽 트루퍼스', '청원', '토탈 리콜', '극장판 짱구는 못말려 : 습격!! 외계인 덩덩이', '너의 이름은.', '연애담', '슈퍼배드 3', '꿈의 제인', '심야식당2', '라라랜드', '카3: 새로운 도전', '오두막', '스파이더맨: 홈커밍', '옥자', '500일의 썸머', '복수는 나의 것', '덩케르크', '예수는 역사다', '매치 포인트', '7번째 내가 죽던 날', '47 미터', '친절한 금자씨', '송 투 송', '그 후', '박쥐', '싸이보그지만 괜찮아', '군함도']\n"
     ]
    }
   ],
   "source": [
    "movie_name = soup.find_all(\"div\", class_=\"tit5\")\n",
    "movie_names = []\n",
    "for name in movie_name:\n",
    "    movie_names.append(name.a.get_text())\n",
    "print(movie_names)"
   ]
  },
  {
   "cell_type": "code",
   "execution_count": 155,
   "id": "6208ab80",
   "metadata": {
    "collapsed": true
   },
   "outputs": [
    {
     "name": "stdout",
     "output_type": "stream",
     "text": [
      "9.32\n",
      "9.27\n",
      "9.25\n",
      "9.24\n",
      "9.23\n",
      "9.23\n",
      "9.21\n",
      "9.20\n",
      "9.18\n",
      "9.14\n",
      "9.10\n",
      "9.10\n",
      "9.09\n",
      "9.08\n",
      "9.05\n",
      "9.05\n",
      "9.02\n",
      "9.00\n",
      "8.93\n",
      "8.91\n",
      "8.90\n",
      "8.87\n",
      "8.86\n",
      "8.83\n",
      "8.76\n",
      "8.75\n",
      "8.73\n",
      "8.70\n",
      "8.62\n",
      "8.59\n",
      "8.58\n",
      "8.48\n",
      "8.48\n",
      "8.47\n",
      "8.39\n",
      "8.34\n",
      "8.32\n",
      "8.12\n",
      "7.97\n",
      "7.84\n",
      "7.39\n",
      "7.26\n",
      "6.97\n",
      "6.59\n",
      "6.09\n",
      "5.17\n",
      "5.00\n"
     ]
    }
   ],
   "source": [
    "##### 영화 평점 수집\n",
    "\n",
    "point = soup.find_all(\"td\", class_=\"point\")\n",
    "\n",
    "for i in point:\n",
    "    print(i.get_text())"
   ]
  },
  {
   "cell_type": "code",
   "execution_count": 156,
   "id": "7aef4199",
   "metadata": {},
   "outputs": [
    {
     "data": {
      "text/plain": [
       "'9.32'"
      ]
     },
     "execution_count": 156,
     "metadata": {},
     "output_type": "execute_result"
    }
   ],
   "source": [
    "soup.find_all(\"td\", class_=\"point\")[0].get_text()"
   ]
  },
  {
   "cell_type": "code",
   "execution_count": 159,
   "id": "09b71beb",
   "metadata": {},
   "outputs": [],
   "source": [
    "##### 47개의 영화제목과 평점을 리스트에 저장\n",
    "\n",
    "movie_name = [i.get_text() for i in soup.find_all(\"div\", class_=\"tit5\")]\n",
    "movie_point = [i.get_text() for i in soup.find_all(\"td\", class_=\"point\")]"
   ]
  },
  {
   "cell_type": "code",
   "execution_count": null,
   "id": "53f7e369",
   "metadata": {},
   "outputs": [],
   "source": [
    "movie_name = [soup.find_all(\"div\", \"tit5\")[n].get_text() for n in range(47)]\n",
    "movie_point = [soup.find_all(\"td\", \"point\")[n].get_text() for n in range(47)]"
   ]
  },
  {
   "cell_type": "markdown",
   "id": "13a22d92",
   "metadata": {},
   "source": [
    "## (3) 2017년 5월 1일부터 100일간의 데이터 수집"
   ]
  },
  {
   "cell_type": "code",
   "execution_count": 160,
   "id": "1918de76",
   "metadata": {
    "collapsed": true
   },
   "outputs": [
    {
     "data": {
      "text/plain": [
       "DatetimeIndex(['2017-05-01', '2017-05-02', '2017-05-03', '2017-05-04',\n",
       "               '2017-05-05', '2017-05-06', '2017-05-07', '2017-05-08',\n",
       "               '2017-05-09', '2017-05-10', '2017-05-11', '2017-05-12',\n",
       "               '2017-05-13', '2017-05-14', '2017-05-15', '2017-05-16',\n",
       "               '2017-05-17', '2017-05-18', '2017-05-19', '2017-05-20',\n",
       "               '2017-05-21', '2017-05-22', '2017-05-23', '2017-05-24',\n",
       "               '2017-05-25', '2017-05-26', '2017-05-27', '2017-05-28',\n",
       "               '2017-05-29', '2017-05-30', '2017-05-31', '2017-06-01',\n",
       "               '2017-06-02', '2017-06-03', '2017-06-04', '2017-06-05',\n",
       "               '2017-06-06', '2017-06-07', '2017-06-08', '2017-06-09',\n",
       "               '2017-06-10', '2017-06-11', '2017-06-12', '2017-06-13',\n",
       "               '2017-06-14', '2017-06-15', '2017-06-16', '2017-06-17',\n",
       "               '2017-06-18', '2017-06-19', '2017-06-20', '2017-06-21',\n",
       "               '2017-06-22', '2017-06-23', '2017-06-24', '2017-06-25',\n",
       "               '2017-06-26', '2017-06-27', '2017-06-28', '2017-06-29',\n",
       "               '2017-06-30', '2017-07-01', '2017-07-02', '2017-07-03',\n",
       "               '2017-07-04', '2017-07-05', '2017-07-06', '2017-07-07',\n",
       "               '2017-07-08', '2017-07-09', '2017-07-10', '2017-07-11',\n",
       "               '2017-07-12', '2017-07-13', '2017-07-14', '2017-07-15',\n",
       "               '2017-07-16', '2017-07-17', '2017-07-18', '2017-07-19',\n",
       "               '2017-07-20', '2017-07-21', '2017-07-22', '2017-07-23',\n",
       "               '2017-07-24', '2017-07-25', '2017-07-26', '2017-07-27',\n",
       "               '2017-07-28', '2017-07-29', '2017-07-30', '2017-07-31',\n",
       "               '2017-08-01', '2017-08-02', '2017-08-03', '2017-08-04',\n",
       "               '2017-08-05', '2017-08-06', '2017-08-07', '2017-08-08'],\n",
       "              dtype='datetime64[ns]', freq='D')"
      ]
     },
     "execution_count": 160,
     "metadata": {},
     "output_type": "execute_result"
    }
   ],
   "source": [
    "##### 날짜 인덱스 생성\n",
    "\n",
    "date_range = pd.date_range(\"2017-5-1\", periods=100, freq=\"D\")\n",
    "date_range"
   ]
  },
  {
   "cell_type": "code",
   "execution_count": 166,
   "id": "2479f47d",
   "metadata": {},
   "outputs": [
    {
     "name": "stderr",
     "output_type": "stream",
     "text": [
      "C:\\Users\\alcls\\AppData\\Local\\Temp\\ipykernel_9436\\2472698926.py:5: TqdmDeprecationWarning: This function will be removed in tqdm==5.0.0\n",
      "Please use `tqdm.notebook.tqdm` instead of `tqdm.tqdm_notebook`\n",
      "  for today in tqdm_notebook(date_range):\n"
     ]
    },
    {
     "data": {
      "application/vnd.jupyter.widget-view+json": {
       "model_id": "588388becc474b0dab6c081fb6fb8187",
       "version_major": 2,
       "version_minor": 0
      },
      "text/plain": [
       "  0%|          | 0/100 [00:00<?, ?it/s]"
      ]
     },
     "metadata": {},
     "output_type": "display_data"
    }
   ],
   "source": [
    "movie_date = []\n",
    "movie_name = []\n",
    "movie_point = []\n",
    "\n",
    "for today in tqdm_notebook(date_range):\n",
    "    url = \"http://movie.naver.com/movie/sdb/rank/rmovie.nhn?sel=cur&date={}\"\n",
    "    page = urlopen(url.format(today.strftime(\"%Y%m%d\")))\n",
    "    soup = BeautifulSoup(page, \"html.parser\")\n",
    "    \n",
    "    cnt = len(soup.find_all('td', 'point'))    # 한페이지당 영화의 갯수가 달라질 수 있으니 \n",
    "\n",
    "    \n",
    "    movie_date.extend([today for n in range(cnt)])\n",
    "    movie_name.extend([soup.find_all(\"div\", \"tit5\")[n].get_text().replace(\"\\n\", \"\") for n in range(cnt)])\n",
    "    movie_point.extend([soup.find_all(\"td\", \"point\")[n].get_text() for n in range(cnt)])"
   ]
  },
  {
   "cell_type": "code",
   "execution_count": 167,
   "id": "c5f2c3cf",
   "metadata": {},
   "outputs": [
    {
     "name": "stdout",
     "output_type": "stream",
     "text": [
      "4723 4723 4723\n"
     ]
    }
   ],
   "source": [
    "print(len(movie_date), len(movie_name), len(movie_point))"
   ]
  },
  {
   "cell_type": "code",
   "execution_count": 168,
   "id": "785d9107",
   "metadata": {},
   "outputs": [
    {
     "data": {
      "text/html": [
       "<div>\n",
       "<style scoped>\n",
       "    .dataframe tbody tr th:only-of-type {\n",
       "        vertical-align: middle;\n",
       "    }\n",
       "\n",
       "    .dataframe tbody tr th {\n",
       "        vertical-align: top;\n",
       "    }\n",
       "\n",
       "    .dataframe thead th {\n",
       "        text-align: right;\n",
       "    }\n",
       "</style>\n",
       "<table border=\"1\" class=\"dataframe\">\n",
       "  <thead>\n",
       "    <tr style=\"text-align: right;\">\n",
       "      <th></th>\n",
       "      <th>date</th>\n",
       "      <th>name</th>\n",
       "      <th>point</th>\n",
       "    </tr>\n",
       "  </thead>\n",
       "  <tbody>\n",
       "    <tr>\n",
       "      <th>0</th>\n",
       "      <td>2017-05-01</td>\n",
       "      <td>히든 피겨스</td>\n",
       "      <td>9.38</td>\n",
       "    </tr>\n",
       "    <tr>\n",
       "      <th>1</th>\n",
       "      <td>2017-05-01</td>\n",
       "      <td>사운드 오브 뮤직</td>\n",
       "      <td>9.36</td>\n",
       "    </tr>\n",
       "    <tr>\n",
       "      <th>2</th>\n",
       "      <td>2017-05-01</td>\n",
       "      <td>시네마 천국</td>\n",
       "      <td>9.29</td>\n",
       "    </tr>\n",
       "    <tr>\n",
       "      <th>3</th>\n",
       "      <td>2017-05-01</td>\n",
       "      <td>미스 슬로운</td>\n",
       "      <td>9.26</td>\n",
       "    </tr>\n",
       "    <tr>\n",
       "      <th>4</th>\n",
       "      <td>2017-05-01</td>\n",
       "      <td>잉여들의 히치하이킹</td>\n",
       "      <td>9.25</td>\n",
       "    </tr>\n",
       "  </tbody>\n",
       "</table>\n",
       "</div>"
      ],
      "text/plain": [
       "        date        name point\n",
       "0 2017-05-01      히든 피겨스  9.38\n",
       "1 2017-05-01   사운드 오브 뮤직  9.36\n",
       "2 2017-05-01      시네마 천국  9.29\n",
       "3 2017-05-01      미스 슬로운  9.26\n",
       "4 2017-05-01  잉여들의 히치하이킹  9.25"
      ]
     },
     "execution_count": 168,
     "metadata": {},
     "output_type": "execute_result"
    }
   ],
   "source": [
    "movie = pd.DataFrame({ \"date\" : movie_date, \"name\" : movie_name, \"point\" : movie_point})\n",
    "movie.head()"
   ]
  },
  {
   "cell_type": "code",
   "execution_count": 169,
   "id": "8897d911",
   "metadata": {},
   "outputs": [
    {
     "name": "stdout",
     "output_type": "stream",
     "text": [
      "<class 'pandas.core.frame.DataFrame'>\n",
      "RangeIndex: 4723 entries, 0 to 4722\n",
      "Data columns (total 3 columns):\n",
      " #   Column  Non-Null Count  Dtype         \n",
      "---  ------  --------------  -----         \n",
      " 0   date    4723 non-null   datetime64[ns]\n",
      " 1   name    4723 non-null   object        \n",
      " 2   point   4723 non-null   object        \n",
      "dtypes: datetime64[ns](1), object(2)\n",
      "memory usage: 110.8+ KB\n"
     ]
    }
   ],
   "source": [
    "movie.info()"
   ]
  },
  {
   "cell_type": "code",
   "execution_count": 170,
   "id": "f277077a",
   "metadata": {},
   "outputs": [
    {
     "name": "stdout",
     "output_type": "stream",
     "text": [
      "<class 'pandas.core.frame.DataFrame'>\n",
      "RangeIndex: 4723 entries, 0 to 4722\n",
      "Data columns (total 3 columns):\n",
      " #   Column  Non-Null Count  Dtype         \n",
      "---  ------  --------------  -----         \n",
      " 0   date    4723 non-null   datetime64[ns]\n",
      " 1   name    4723 non-null   object        \n",
      " 2   point   4723 non-null   float64       \n",
      "dtypes: datetime64[ns](1), float64(1), object(1)\n",
      "memory usage: 110.8+ KB\n"
     ]
    }
   ],
   "source": [
    "# point 의 타입을 숫자형으로 변경\n",
    "\n",
    "movie[\"point\"] = movie[\"point\"].astype(float)\n",
    "movie.info()"
   ]
  },
  {
   "cell_type": "markdown",
   "id": "27604b34",
   "metadata": {},
   "source": [
    "## (4) EDA"
   ]
  },
  {
   "cell_type": "code",
   "execution_count": 172,
   "id": "df0d04da",
   "metadata": {},
   "outputs": [
    {
     "data": {
      "text/html": [
       "<div>\n",
       "<style scoped>\n",
       "    .dataframe tbody tr th:only-of-type {\n",
       "        vertical-align: middle;\n",
       "    }\n",
       "\n",
       "    .dataframe tbody tr th {\n",
       "        vertical-align: top;\n",
       "    }\n",
       "\n",
       "    .dataframe thead th {\n",
       "        text-align: right;\n",
       "    }\n",
       "</style>\n",
       "<table border=\"1\" class=\"dataframe\">\n",
       "  <thead>\n",
       "    <tr style=\"text-align: right;\">\n",
       "      <th></th>\n",
       "      <th>point</th>\n",
       "    </tr>\n",
       "    <tr>\n",
       "      <th>name</th>\n",
       "      <th></th>\n",
       "    </tr>\n",
       "  </thead>\n",
       "  <tbody>\n",
       "    <tr>\n",
       "      <th>댄서</th>\n",
       "      <td>914.60</td>\n",
       "    </tr>\n",
       "    <tr>\n",
       "      <th>서서평, 천천히 평온하게</th>\n",
       "      <td>889.64</td>\n",
       "    </tr>\n",
       "    <tr>\n",
       "      <th>오두막</th>\n",
       "      <td>861.65</td>\n",
       "    </tr>\n",
       "    <tr>\n",
       "      <th>라라랜드</th>\n",
       "      <td>858.89</td>\n",
       "    </tr>\n",
       "    <tr>\n",
       "      <th>너의 이름은.</th>\n",
       "      <td>738.42</td>\n",
       "    </tr>\n",
       "    <tr>\n",
       "      <th>노무현입니다</th>\n",
       "      <td>682.24</td>\n",
       "    </tr>\n",
       "    <tr>\n",
       "      <th>보스 베이비</th>\n",
       "      <td>644.21</td>\n",
       "    </tr>\n",
       "    <tr>\n",
       "      <th>겟 아웃</th>\n",
       "      <td>630.62</td>\n",
       "    </tr>\n",
       "    <tr>\n",
       "      <th>기쿠지로의 여름</th>\n",
       "      <td>613.43</td>\n",
       "    </tr>\n",
       "    <tr>\n",
       "      <th>에이리언: 커버넌트</th>\n",
       "      <td>599.67</td>\n",
       "    </tr>\n",
       "  </tbody>\n",
       "</table>\n",
       "</div>"
      ],
      "text/plain": [
       "                point\n",
       "name                 \n",
       "댄서             914.60\n",
       "서서평, 천천히 평온하게  889.64\n",
       "오두막            861.65\n",
       "라라랜드           858.89\n",
       "너의 이름은.        738.42\n",
       "노무현입니다         682.24\n",
       "보스 베이비         644.21\n",
       "겟 아웃           630.62\n",
       "기쿠지로의 여름       613.43\n",
       "에이리언: 커버넌트     599.67"
      ]
     },
     "execution_count": 172,
     "metadata": {},
     "output_type": "execute_result"
    }
   ],
   "source": [
    "##### 영화별로 점수의 합계를 보고 싶다. (평점의 합계가 높은 순 또는 낮은 순으로 10개씩)\n",
    "\n",
    "movie_sum = pd.pivot_table(movie, index=[\"name\"], aggfunc=np.sum)\n",
    "movie_sum.head()\n",
    "\n",
    "movie_top = movie_sum.sort_values(by=\"point\", ascending=False)\n",
    "movie_top.head(10)"
   ]
  },
  {
   "cell_type": "code",
   "execution_count": 174,
   "id": "6858e731",
   "metadata": {},
   "outputs": [
    {
     "data": {
      "text/html": [
       "<div>\n",
       "<style scoped>\n",
       "    .dataframe tbody tr th:only-of-type {\n",
       "        vertical-align: middle;\n",
       "    }\n",
       "\n",
       "    .dataframe tbody tr th {\n",
       "        vertical-align: top;\n",
       "    }\n",
       "\n",
       "    .dataframe thead th {\n",
       "        text-align: right;\n",
       "    }\n",
       "</style>\n",
       "<table border=\"1\" class=\"dataframe\">\n",
       "  <thead>\n",
       "    <tr style=\"text-align: right;\">\n",
       "      <th></th>\n",
       "      <th>date</th>\n",
       "      <th>name</th>\n",
       "      <th>point</th>\n",
       "    </tr>\n",
       "  </thead>\n",
       "  <tbody>\n",
       "    <tr>\n",
       "      <th>833</th>\n",
       "      <td>2017-05-17</td>\n",
       "      <td>겟 아웃</td>\n",
       "      <td>8.36</td>\n",
       "    </tr>\n",
       "    <tr>\n",
       "      <th>889</th>\n",
       "      <td>2017-05-18</td>\n",
       "      <td>겟 아웃</td>\n",
       "      <td>8.18</td>\n",
       "    </tr>\n",
       "    <tr>\n",
       "      <th>933</th>\n",
       "      <td>2017-05-19</td>\n",
       "      <td>겟 아웃</td>\n",
       "      <td>8.20</td>\n",
       "    </tr>\n",
       "    <tr>\n",
       "      <th>980</th>\n",
       "      <td>2017-05-20</td>\n",
       "      <td>겟 아웃</td>\n",
       "      <td>8.18</td>\n",
       "    </tr>\n",
       "    <tr>\n",
       "      <th>1022</th>\n",
       "      <td>2017-05-21</td>\n",
       "      <td>겟 아웃</td>\n",
       "      <td>8.18</td>\n",
       "    </tr>\n",
       "    <tr>\n",
       "      <th>1061</th>\n",
       "      <td>2017-05-22</td>\n",
       "      <td>겟 아웃</td>\n",
       "      <td>8.11</td>\n",
       "    </tr>\n",
       "    <tr>\n",
       "      <th>1102</th>\n",
       "      <td>2017-05-23</td>\n",
       "      <td>겟 아웃</td>\n",
       "      <td>8.15</td>\n",
       "    </tr>\n",
       "    <tr>\n",
       "      <th>1146</th>\n",
       "      <td>2017-05-24</td>\n",
       "      <td>겟 아웃</td>\n",
       "      <td>8.15</td>\n",
       "    </tr>\n",
       "    <tr>\n",
       "      <th>1192</th>\n",
       "      <td>2017-05-25</td>\n",
       "      <td>겟 아웃</td>\n",
       "      <td>8.15</td>\n",
       "    </tr>\n",
       "    <tr>\n",
       "      <th>1236</th>\n",
       "      <td>2017-05-26</td>\n",
       "      <td>겟 아웃</td>\n",
       "      <td>8.16</td>\n",
       "    </tr>\n",
       "  </tbody>\n",
       "</table>\n",
       "</div>"
      ],
      "text/plain": [
       "           date  name  point\n",
       "833  2017-05-17  겟 아웃   8.36\n",
       "889  2017-05-18  겟 아웃   8.18\n",
       "933  2017-05-19  겟 아웃   8.20\n",
       "980  2017-05-20  겟 아웃   8.18\n",
       "1022 2017-05-21  겟 아웃   8.18\n",
       "1061 2017-05-22  겟 아웃   8.11\n",
       "1102 2017-05-23  겟 아웃   8.15\n",
       "1146 2017-05-24  겟 아웃   8.15\n",
       "1192 2017-05-25  겟 아웃   8.15\n",
       "1236 2017-05-26  겟 아웃   8.16"
      ]
     },
     "execution_count": 174,
     "metadata": {},
     "output_type": "execute_result"
    }
   ],
   "source": [
    "##### 특정 영화만 추려서 보고 싶다. (예를 들어 겟아웃을 10개까지만 조회)\n",
    "\n",
    "getout = movie[movie[\"name\"] == \"겟 아웃\"]\n",
    "getout.head(10)"
   ]
  },
  {
   "cell_type": "code",
   "execution_count": 177,
   "id": "dbfad791",
   "metadata": {},
   "outputs": [
    {
     "data": {
      "text/plain": [
       "[<matplotlib.lines.Line2D at 0x207e05d8ee0>]"
      ]
     },
     "execution_count": 177,
     "metadata": {},
     "output_type": "execute_result"
    },
    {
     "data": {
      "image/png": "[encoded data removed]",
      "text/plain": [
       "<Figure size 432x288 with 1 Axes>"
      ]
     },
     "metadata": {
      "needs_background": "light"
     },
     "output_type": "display_data"
    }
   ],
   "source": [
    "##### 위에 조회한 영화에 대해 날짜별 평점으로 시각화\n",
    "\n",
    "plt.plot(getout[\"date\"], getout[\"point\"])           # x 축은 date, y 축은 point"
   ]
  },
  {
   "cell_type": "code",
   "execution_count": 185,
   "id": "e1a600f6",
   "metadata": {},
   "outputs": [
    {
     "data": {
      "text/html": [
       "<div>\n",
       "<style scoped>\n",
       "    .dataframe tbody tr th:only-of-type {\n",
       "        vertical-align: middle;\n",
       "    }\n",
       "\n",
       "    .dataframe tbody tr th {\n",
       "        vertical-align: top;\n",
       "    }\n",
       "\n",
       "    .dataframe thead th {\n",
       "        text-align: right;\n",
       "    }\n",
       "</style>\n",
       "<table border=\"1\" class=\"dataframe\">\n",
       "  <thead>\n",
       "    <tr style=\"text-align: right;\">\n",
       "      <th>name</th>\n",
       "      <th>10분</th>\n",
       "      <th>47 미터</th>\n",
       "      <th>500일의 썸머</th>\n",
       "      <th>7년-그들이 없는 언론</th>\n",
       "      <th>7번째 내가 죽던 날</th>\n",
       "      <th>7인의 사무라이</th>\n",
       "      <th>8 마일</th>\n",
       "      <th>가디언즈 오브 갤럭시</th>\n",
       "      <th>가디언즈 오브 갤럭시 VOL. 2</th>\n",
       "      <th>겟 아웃</th>\n",
       "      <th>...</th>\n",
       "      <th>하울의 움직이는 성</th>\n",
       "      <th>하이큐!! 끝과 시작</th>\n",
       "      <th>한공주</th>\n",
       "      <th>해리가 샐리를 만났을 때</th>\n",
       "      <th>핵소 고지</th>\n",
       "      <th>행복 목욕탕</th>\n",
       "      <th>헤드윅</th>\n",
       "      <th>환상의 빛</th>\n",
       "      <th>흑집사 : 북 오브 더 아틀란틱</th>\n",
       "      <th>히든 피겨스</th>\n",
       "    </tr>\n",
       "    <tr>\n",
       "      <th>date</th>\n",
       "      <th></th>\n",
       "      <th></th>\n",
       "      <th></th>\n",
       "      <th></th>\n",
       "      <th></th>\n",
       "      <th></th>\n",
       "      <th></th>\n",
       "      <th></th>\n",
       "      <th></th>\n",
       "      <th></th>\n",
       "      <th></th>\n",
       "      <th></th>\n",
       "      <th></th>\n",
       "      <th></th>\n",
       "      <th></th>\n",
       "      <th></th>\n",
       "      <th></th>\n",
       "      <th></th>\n",
       "      <th></th>\n",
       "      <th></th>\n",
       "      <th></th>\n",
       "    </tr>\n",
       "  </thead>\n",
       "  <tbody>\n",
       "    <tr>\n",
       "      <th>2017-05-01</th>\n",
       "      <td>8.89</td>\n",
       "      <td>NaN</td>\n",
       "      <td>NaN</td>\n",
       "      <td>NaN</td>\n",
       "      <td>NaN</td>\n",
       "      <td>NaN</td>\n",
       "      <td>NaN</td>\n",
       "      <td>8.56</td>\n",
       "      <td>NaN</td>\n",
       "      <td>NaN</td>\n",
       "      <td>...</td>\n",
       "      <td>NaN</td>\n",
       "      <td>NaN</td>\n",
       "      <td>8.78</td>\n",
       "      <td>8.89</td>\n",
       "      <td>NaN</td>\n",
       "      <td>8.70</td>\n",
       "      <td>NaN</td>\n",
       "      <td>NaN</td>\n",
       "      <td>9.20</td>\n",
       "      <td>9.38</td>\n",
       "    </tr>\n",
       "    <tr>\n",
       "      <th>2017-05-02</th>\n",
       "      <td>8.89</td>\n",
       "      <td>NaN</td>\n",
       "      <td>NaN</td>\n",
       "      <td>NaN</td>\n",
       "      <td>NaN</td>\n",
       "      <td>NaN</td>\n",
       "      <td>NaN</td>\n",
       "      <td>8.56</td>\n",
       "      <td>NaN</td>\n",
       "      <td>NaN</td>\n",
       "      <td>...</td>\n",
       "      <td>NaN</td>\n",
       "      <td>NaN</td>\n",
       "      <td>8.78</td>\n",
       "      <td>8.89</td>\n",
       "      <td>NaN</td>\n",
       "      <td>8.68</td>\n",
       "      <td>NaN</td>\n",
       "      <td>NaN</td>\n",
       "      <td>9.21</td>\n",
       "      <td>9.37</td>\n",
       "    </tr>\n",
       "    <tr>\n",
       "      <th>2017-05-03</th>\n",
       "      <td>8.89</td>\n",
       "      <td>NaN</td>\n",
       "      <td>NaN</td>\n",
       "      <td>NaN</td>\n",
       "      <td>NaN</td>\n",
       "      <td>NaN</td>\n",
       "      <td>NaN</td>\n",
       "      <td>NaN</td>\n",
       "      <td>9.22</td>\n",
       "      <td>NaN</td>\n",
       "      <td>...</td>\n",
       "      <td>NaN</td>\n",
       "      <td>NaN</td>\n",
       "      <td>8.78</td>\n",
       "      <td>8.89</td>\n",
       "      <td>NaN</td>\n",
       "      <td>8.70</td>\n",
       "      <td>NaN</td>\n",
       "      <td>NaN</td>\n",
       "      <td>9.22</td>\n",
       "      <td>9.38</td>\n",
       "    </tr>\n",
       "    <tr>\n",
       "      <th>2017-05-04</th>\n",
       "      <td>8.89</td>\n",
       "      <td>NaN</td>\n",
       "      <td>NaN</td>\n",
       "      <td>NaN</td>\n",
       "      <td>NaN</td>\n",
       "      <td>NaN</td>\n",
       "      <td>NaN</td>\n",
       "      <td>NaN</td>\n",
       "      <td>9.15</td>\n",
       "      <td>NaN</td>\n",
       "      <td>...</td>\n",
       "      <td>NaN</td>\n",
       "      <td>NaN</td>\n",
       "      <td>8.78</td>\n",
       "      <td>NaN</td>\n",
       "      <td>NaN</td>\n",
       "      <td>8.67</td>\n",
       "      <td>NaN</td>\n",
       "      <td>NaN</td>\n",
       "      <td>9.23</td>\n",
       "      <td>9.38</td>\n",
       "    </tr>\n",
       "    <tr>\n",
       "      <th>2017-05-05</th>\n",
       "      <td>8.89</td>\n",
       "      <td>NaN</td>\n",
       "      <td>NaN</td>\n",
       "      <td>NaN</td>\n",
       "      <td>NaN</td>\n",
       "      <td>NaN</td>\n",
       "      <td>NaN</td>\n",
       "      <td>NaN</td>\n",
       "      <td>9.08</td>\n",
       "      <td>NaN</td>\n",
       "      <td>...</td>\n",
       "      <td>NaN</td>\n",
       "      <td>NaN</td>\n",
       "      <td>8.78</td>\n",
       "      <td>NaN</td>\n",
       "      <td>NaN</td>\n",
       "      <td>8.69</td>\n",
       "      <td>NaN</td>\n",
       "      <td>NaN</td>\n",
       "      <td>9.24</td>\n",
       "      <td>9.37</td>\n",
       "    </tr>\n",
       "  </tbody>\n",
       "</table>\n",
       "<p>5 rows × 204 columns</p>\n",
       "</div>"
      ],
      "text/plain": [
       "name         10분  47 미터  500일의 썸머  7년-그들이 없는 언론  7번째 내가 죽던 날  7인의 사무라이  8 마일  \\\n",
       "date                                                                           \n",
       "2017-05-01  8.89    NaN       NaN           NaN          NaN       NaN   NaN   \n",
       "2017-05-02  8.89    NaN       NaN           NaN          NaN       NaN   NaN   \n",
       "2017-05-03  8.89    NaN       NaN           NaN          NaN       NaN   NaN   \n",
       "2017-05-04  8.89    NaN       NaN           NaN          NaN       NaN   NaN   \n",
       "2017-05-05  8.89    NaN       NaN           NaN          NaN       NaN   NaN   \n",
       "\n",
       "name        가디언즈 오브 갤럭시  가디언즈 오브 갤럭시 VOL. 2  겟 아웃  ...  하울의 움직이는 성  \\\n",
       "date                                               ...               \n",
       "2017-05-01         8.56                 NaN   NaN  ...         NaN   \n",
       "2017-05-02         8.56                 NaN   NaN  ...         NaN   \n",
       "2017-05-03          NaN                9.22   NaN  ...         NaN   \n",
       "2017-05-04          NaN                9.15   NaN  ...         NaN   \n",
       "2017-05-05          NaN                9.08   NaN  ...         NaN   \n",
       "\n",
       "name        하이큐!! 끝과 시작   한공주  해리가 샐리를 만났을 때  핵소 고지  행복 목욕탕  헤드윅  환상의 빛  \\\n",
       "date                                                                      \n",
       "2017-05-01          NaN  8.78           8.89    NaN    8.70  NaN    NaN   \n",
       "2017-05-02          NaN  8.78           8.89    NaN    8.68  NaN    NaN   \n",
       "2017-05-03          NaN  8.78           8.89    NaN    8.70  NaN    NaN   \n",
       "2017-05-04          NaN  8.78            NaN    NaN    8.67  NaN    NaN   \n",
       "2017-05-05          NaN  8.78            NaN    NaN    8.69  NaN    NaN   \n",
       "\n",
       "name        흑집사 : 북 오브 더 아틀란틱  히든 피겨스  \n",
       "date                                   \n",
       "2017-05-01               9.20    9.38  \n",
       "2017-05-02               9.21    9.37  \n",
       "2017-05-03               9.22    9.38  \n",
       "2017-05-04               9.23    9.38  \n",
       "2017-05-05               9.24    9.37  \n",
       "\n",
       "[5 rows x 204 columns]"
      ]
     },
     "execution_count": 185,
     "metadata": {},
     "output_type": "execute_result"
    }
   ],
   "source": [
    "##### 영화별 날짜 변화에 따른 평점 변화를 확인 (데이터프레임 구성)\n",
    "\n",
    "movie2 = movie.pivot_table(values=[\"point\"], index=[\"date\"], columns=[\"name\"])\n",
    "movie2.head()\n",
    "\n",
    "movie2.columns = movie2.columns.droplevel()\n",
    "movie2.head()\n"
   ]
  },
  {
   "cell_type": "code",
   "execution_count": 187,
   "id": "5a69482a",
   "metadata": {},
   "outputs": [
    {
     "data": {
      "text/plain": [
       "<matplotlib.legend.Legend at 0x207e1312fd0>"
      ]
     },
     "execution_count": 187,
     "metadata": {},
     "output_type": "execute_result"
    },
    {
     "data": {
      "image/png": "[encoded data removed]",
      "text/plain": [
       "<Figure size 432x288 with 1 Axes>"
      ]
     },
     "metadata": {
      "needs_background": "light"
     },
     "output_type": "display_data"
    }
   ],
   "source": [
    "target = [\"군함도\", \"택시운전사\", \"다크 나이트\", \"겟 아웃\"]\n",
    "plt.plot(movie2[target])\n",
    "plt.legend(target, loc=\"best\")   # 범례 지정"
   ]
  },
  {
   "cell_type": "code",
   "execution_count": null,
   "id": "3f5d17c7",
   "metadata": {},
   "outputs": [],
   "source": []
  },
  {
   "cell_type": "code",
   "execution_count": null,
   "id": "84cccd9b",
   "metadata": {},
   "outputs": [],
   "source": []
  },
  {
   "cell_type": "code",
   "execution_count": null,
   "id": "f1c159a2",
   "metadata": {},
   "outputs": [],
   "source": []
  },
  {
   "cell_type": "code",
   "execution_count": null,
   "id": "9a04c406",
   "metadata": {},
   "outputs": [],
   "source": []
  },
  {
   "cell_type": "code",
   "execution_count": null,
   "id": "f5ae55ae",
   "metadata": {},
   "outputs": [],
   "source": []
  },
  {
   "cell_type": "code",
   "execution_count": null,
   "id": "bcbe9af0",
   "metadata": {},
   "outputs": [],
   "source": []
  },
  {
   "cell_type": "code",
   "execution_count": null,
   "id": "397eed90",
   "metadata": {},
   "outputs": [],
   "source": []
  }
 ],
 "metadata": {
  "kernelspec": {
   "display_name": "Python 3 (ipykernel)",
   "language": "python",
   "name": "python3"
  },
  "language_info": {
   "codemirror_mode": {
    "name": "ipython",
    "version": 3
   },
   "file_extension": ".py",
   "mimetype": "text/x-python",
   "name": "python",
   "nbconvert_exporter": "python",
   "pygments_lexer": "ipython3",
   "version": "3.9.12"
  }
 },
 "nbformat": 4,
 "nbformat_minor": 5
}
