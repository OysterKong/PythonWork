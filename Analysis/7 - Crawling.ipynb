{
 "cells": [
  {
   "cell_type": "code",
   "execution_count": 1,
   "id": "c6bb6a61",
   "metadata": {},
   "outputs": [],
   "source": [
    "import numpy as np\n",
    "import pandas as pd\n",
    "import matplotlib.pyplot as plt\n",
    "import seaborn as sns\n",
    "\n",
    "# 한글처리\n",
    "import matplotlib.font_manager as fm\n",
    "font_name = fm.FontProperties(fname=\"C:\\\\Windows\\\\Fonts\\\\malgun.ttf\").get_name()\n",
    "plt.rc(\"font\", family=font_name)\n",
    "\n",
    "# 음수 - 표시 처리\n",
    "import matplotlib as mlp\n",
    "mlp.rcParams[\"axes.unicode_minus\"] = False"
   ]
  },
  {
   "cell_type": "markdown",
   "id": "f43195d3",
   "metadata": {},
   "source": [
    "# 1. XML\n",
    "\n",
    "+ 특징\n",
    "    - 메타 언어 : GML -> SGML -> XML\n",
    "    - 데이터를 위한 언어\n",
    "    - DBMS\n",
    "    - 데이터 표준화 : 이기종 시스템간의 정보교환, 웹서비스, 유비쿼터스, 사물인터넷 등등...\n",
    "    \n",
    "    \n",
    "+ 구성 요소\n",
    "    - dtd   ( 설계도 역할, 간단한 문법, 정밀한 설계는 어려움, 제한이 있음 )\n",
    "    - xml schema  ( 설계도 역할, 정밀한 설계가 가능 )\n",
    "    - xml  ( 디자인적 요소가 없음 )\n",
    "    - xsl, xslt  ( xml을 데이터를 디자인을 해주는 역할 , css가 여기에 해당 )\n",
    "   \n",
    "   \n",
    "+ https://docs.python.org/3/library/xml.etree.elementtree.html\n"
   ]
  },
  {
   "cell_type": "code",
   "execution_count": 4,
   "id": "edce22eb",
   "metadata": {},
   "outputs": [],
   "source": [
    "import xml.etree.ElementTree as et\n",
    "\n",
    "##### XML api 사용 방법\n",
    "# 1. xml이 파일로 존재하는 경우 : parse()\n",
    "# 2. xml이 메모리에 로드된 경우 : fromstring()"
   ]
  },
  {
   "cell_type": "markdown",
   "id": "79843895",
   "metadata": {},
   "source": [
    "## (1) XML 데이터 불러오기"
   ]
  },
  {
   "cell_type": "code",
   "execution_count": 3,
   "id": "f4f617ca",
   "metadata": {},
   "outputs": [
    {
     "data": {
      "text/plain": [
       "<xml.etree.ElementTree.ElementTree at 0x2606d2aa730>"
      ]
     },
     "execution_count": 3,
     "metadata": {},
     "output_type": "execute_result"
    }
   ],
   "source": [
    "##### xml이 파일로 존재하는 경우\n",
    "\n",
    "tree1 = et.parse(\"data/users.xml\")\n",
    "\n",
    "tree1"
   ]
  },
  {
   "cell_type": "code",
   "execution_count": 4,
   "id": "9364fa9e",
   "metadata": {},
   "outputs": [
    {
     "data": {
      "text/plain": [
       "<Element 'users' at 0x000002606D3C2B30>"
      ]
     },
     "execution_count": 4,
     "metadata": {},
     "output_type": "execute_result"
    }
   ],
   "source": [
    "##### xml이 이미 메모리에 로드되어 있는 경우\n",
    "\n",
    "xmlstr = \"\"\"<?xml version=\"1.0\" encoding=\"utf-8\" ?>\n",
    "<users>\n",
    "\t<user grade=\"gold\">\n",
    "            <name>Kim Cheol Soo</name>\n",
    "            <age>25</age>\n",
    "            <birthday>19940215</birthday>\n",
    "    </user>\n",
    "    <user grade=\"diamond\">\n",
    "            <name>Kim Yoo Mee</name>\n",
    "            <age>21</age>\n",
    "            <birthday>19980417</birthday>\n",
    "    </user>\n",
    "</users>\n",
    "\"\"\"\n",
    "\n",
    "tree2 = et.fromstring(xmlstr)\n",
    "\n",
    "tree2"
   ]
  },
  {
   "cell_type": "markdown",
   "id": "0520944f",
   "metadata": {},
   "source": [
    "## (2) XML 데이터 다루기"
   ]
  },
  {
   "cell_type": "markdown",
   "id": "64b260f0",
   "metadata": {},
   "source": [
    "### 1) 태그명 검색"
   ]
  },
  {
   "cell_type": "code",
   "execution_count": 6,
   "id": "7f53cb53",
   "metadata": {},
   "outputs": [
    {
     "name": "stdout",
     "output_type": "stream",
     "text": [
      "<Element 'user' at 0x000002606D3C2630>\n",
      "<Element 'user' at 0x000002606D3C2630>\n",
      "<Element 'user' at 0x000002606D3C2770>\n"
     ]
    }
   ],
   "source": [
    "# 앞서 user.xml을 불러와 담아놓은 tree1에서 find 함수로 \"user\" 라는 태그를 찾아보기\n",
    "# 시작위치가 0이 아니라 1부터 이므로 착오 금지\n",
    "\n",
    "print(tree1.find(\"user\"))\n",
    "print(tree1.find(\"user[1]\"))\n",
    "print(tree1.find(\"user[2]\"))   # 두번째 유저에 접근"
   ]
  },
  {
   "cell_type": "code",
   "execution_count": 16,
   "id": "f9aceb0d",
   "metadata": {},
   "outputs": [
    {
     "name": "stdout",
     "output_type": "stream",
     "text": [
      "<class 'xml.etree.ElementTree.Element'>\n",
      "user\n",
      "{'grade': 'diamond'}\n",
      "diamond\n",
      "-----------------------------------------------------\n",
      "name\n",
      "{}\n",
      "Kim Yoo Mee\n"
     ]
    }
   ],
   "source": [
    "data = tree1.find(\"user[2]\")\n",
    "print(type(data))\n",
    "dir(data)\n",
    "\n",
    "print(data.tag)\n",
    "print(data.attrib)    # attrib 로 속성에 접근 가능\n",
    "print(data.get(\"grade\"))    # get( 키값 ) 으로 데이터를 직접 꺼낼 수 있음\n",
    "\n",
    "print(\"-----------------------------------------------------\")\n",
    "\n",
    "username = data.find(\"name\")    # 이미 data 를 user[2] 로 인해 2번째 user에 접근한 상태이므로\n",
    "print(username.tag)\n",
    "print(username.attrib)\n",
    "print(username.text)    # text 를 이용하면 태그가 가지고있는 자식 노드에 접근할 수 있음"
   ]
  },
  {
   "cell_type": "markdown",
   "id": "8a04b0da",
   "metadata": {},
   "source": [
    "### 2) 태그 조건으로 검색"
   ]
  },
  {
   "cell_type": "code",
   "execution_count": 26,
   "id": "3d0c896d",
   "metadata": {},
   "outputs": [
    {
     "name": "stdout",
     "output_type": "stream",
     "text": [
      "<Element 'user' at 0x000002606D3C2770>\n",
      "{'grade': 'diamond'}\n",
      "['grade']\n",
      "[('grade', 'diamond')]\n"
     ]
    }
   ],
   "source": [
    "# data = tree1.find(\"./user[@grade]\")\n",
    "# data = tree1.find(\"./user[@grade][2]\")\n",
    "data = tree1.find(\"./user[@grade='diamond']\")\n",
    "\n",
    "print(data)\n",
    "print(data.attrib)\n",
    "print(data.keys())\n",
    "print(data.items())"
   ]
  },
  {
   "cell_type": "markdown",
   "id": "d59a214c",
   "metadata": {},
   "source": [
    "### 3) 여러 개의 태그를 한꺼번에 가져오기"
   ]
  },
  {
   "cell_type": "code",
   "execution_count": 28,
   "id": "5e015643",
   "metadata": {},
   "outputs": [
    {
     "name": "stdout",
     "output_type": "stream",
     "text": [
      "{'grade': 'gold'}\n",
      "Kim Cheol Soo\n",
      "{'grade': 'diamond'}\n",
      "Kim Yoo Mee\n"
     ]
    }
   ],
   "source": [
    "# . 은 현재위치를 의미. 여기선 tree1 이고 / 표시는 하위단계를 의미.  즉 현재위치에서 하위단계의 user란 태그를 전부 가져오기\n",
    "\n",
    "users = tree1.findall(\"./user\")\n",
    "users\n",
    "\n",
    "for i in users:\n",
    "    print(i.attrib)\n",
    "    print(i.find(\"name\").text)"
   ]
  },
  {
   "cell_type": "markdown",
   "id": "9a010f14",
   "metadata": {},
   "source": [
    "# 2. JSON"
   ]
  },
  {
   "cell_type": "code",
   "execution_count": 3,
   "id": "5c8d75cc",
   "metadata": {},
   "outputs": [],
   "source": [
    "import json\n",
    "\n",
    "# dumps() : 데이터 저장\n",
    "# loads() : 데이터 불러올 때"
   ]
  },
  {
   "cell_type": "code",
   "execution_count": 35,
   "id": "a9007436",
   "metadata": {},
   "outputs": [
    {
     "name": "stdout",
     "output_type": "stream",
     "text": [
      "<class 'dict'>\n",
      "{'name': '홍길동', 'birth': '0101', 'age': 20}\n",
      "---------------------------------------------------------\n",
      "<class 'str'>\n",
      "{\"name\": \"\\ud64d\\uae38\\ub3d9\", \"birth\": \"0101\", \"age\": 20}\n",
      "---------------------------------------------------------\n",
      "<class 'str'>\n",
      "[1, 2, 3]\n",
      "---------------------------------------------------------\n",
      "<class 'dict'>\n",
      "{'name': '홍길동', 'birth': '0101', 'age': 20}\n"
     ]
    }
   ],
   "source": [
    "j1 = {\"name\" : \"홍길동\", \"birth\" : \"0101\", \"age\" : 20}\n",
    "print(type(j1))\n",
    "print(j1)\n",
    "\n",
    "print(\"---------------------------------------------------------\")\n",
    "\n",
    "j2 = json.dumps(j1)\n",
    "print(type(j2))\n",
    "print(j2)\n",
    "\n",
    "print(\"---------------------------------------------------------\")\n",
    "\n",
    "j3 = json.dumps((1, 2, 3))\n",
    "print(type(j3))\n",
    "print(j3)\n",
    "\n",
    "print(\"---------------------------------------------------------\")\n",
    "\n",
    "j4 = json.loads(j2)\n",
    "print(type(j4))\n",
    "print(j4)\n"
   ]
  },
  {
   "cell_type": "code",
   "execution_count": 36,
   "id": "c032c54e",
   "metadata": {},
   "outputs": [
    {
     "name": "stdout",
     "output_type": "stream",
     "text": [
      "<class 'str'>\n"
     ]
    }
   ],
   "source": [
    "obj = \"\"\"\n",
    "{\n",
    "\t\"id\": \"0001\",\n",
    "\t\"type\": \"donut\",\n",
    "\t\"name\": \"Cake\",\n",
    "\t\"ppu\": 0.55,\n",
    "\t\"batters\":\n",
    "\t\t{\n",
    "\t\t\t\"batter\":\n",
    "\t\t\t\t[\n",
    "\t\t\t\t\t{ \"id\": \"1001\", \"type\": \"Regular\" },\n",
    "\t\t\t\t\t{ \"id\": \"1002\", \"type\": \"Chocolate\" },\n",
    "\t\t\t\t\t{ \"id\": \"1003\", \"type\": \"Blueberry\" },\n",
    "\t\t\t\t\t{ \"id\": \"1004\", \"type\": \"Devil's Food\" }\n",
    "\t\t\t\t]\n",
    "\t\t},\n",
    "\t\"topping\":\n",
    "\t\t[\n",
    "\t\t\t{ \"id\": \"5001\", \"type\": \"None\" },\n",
    "\t\t\t{ \"id\": \"5002\", \"type\": \"Glazed\" },\n",
    "\t\t\t{ \"id\": \"5005\", \"type\": \"Sugar\" },\n",
    "\t\t\t{ \"id\": \"5007\", \"type\": \"Powdered Sugar\" },\n",
    "\t\t\t{ \"id\": \"5006\", \"type\": \"Chocolate with Sprinkles\" },\n",
    "\t\t\t{ \"id\": \"5003\", \"type\": \"Chocolate\" },\n",
    "\t\t\t{ \"id\": \"5004\", \"type\": \"Maple\" }\n",
    "\t\t]\n",
    "}\n",
    "\"\"\"\n",
    "\n",
    "print(type(obj))"
   ]
  },
  {
   "cell_type": "code",
   "execution_count": 48,
   "id": "c5da165c",
   "metadata": {},
   "outputs": [
    {
     "name": "stdout",
     "output_type": "stream",
     "text": [
      "0001\n",
      "1001\n"
     ]
    }
   ],
   "source": [
    "# id가 0001 인 값 추출\n",
    "\n",
    "a = json.loads(obj)\n",
    "print(a[\"id\"])\n",
    "\n",
    "# id가 1001 인 값 추출\n",
    "\n",
    "print(a[\"batters\"][\"batter\"][0][\"id\"])"
   ]
  },
  {
   "cell_type": "markdown",
   "id": "bba39ffd",
   "metadata": {},
   "source": [
    "# 3. BeautifulSoup"
   ]
  },
  {
   "cell_type": "markdown",
   "id": "374508e6",
   "metadata": {},
   "source": [
    "## (1) 웹 소스 가져오기"
   ]
  },
  {
   "cell_type": "code",
   "execution_count": 2,
   "id": "a2941ff9",
   "metadata": {},
   "outputs": [],
   "source": [
    "import urllib.request as req\n",
    "from urllib.error import HTTPError, URLError"
   ]
  },
  {
   "cell_type": "code",
   "execution_count": 52,
   "id": "334e7789",
   "metadata": {},
   "outputs": [
    {
     "name": "stdout",
     "output_type": "stream",
     "text": [
      "<class 'bytes'>\n"
     ]
    }
   ],
   "source": [
    "google = req.urlopen(\"https://google.com\")\n",
    "html = google.read()    # google 페이지에서 html 코드 가져오기\n",
    "print(type(html))"
   ]
  },
  {
   "cell_type": "code",
   "execution_count": 53,
   "id": "105be961",
   "metadata": {},
   "outputs": [],
   "source": [
    "try:\n",
    "    google = req.urlopen(\"https://google.com\")\n",
    "except HTTPError as e:\n",
    "    print(\"HTTPError : \" , e)\n",
    "except ULRError as e:\n",
    "    print(\"URLError : \" , e)\n",
    "else:\n",
    "    html = google.read()"
   ]
  },
  {
   "cell_type": "code",
   "execution_count": 54,
   "id": "f555e734",
   "metadata": {},
   "outputs": [
    {
     "data": {
      "text/plain": [
       "('data/google1.png', <http.client.HTTPMessage at 0x2606d609af0>)"
      ]
     },
     "execution_count": 54,
     "metadata": {},
     "output_type": "execute_result"
    }
   ],
   "source": [
    "##### 이미지 가져오기\n",
    "req.urlretrieve(\"https://www.google.co.kr/images/branding/googlelogo/1x/googlelogo_color_272x92dp.png\", \"data/google1.png\")"
   ]
  },
  {
   "cell_type": "code",
   "execution_count": 59,
   "id": "13c51de4",
   "metadata": {},
   "outputs": [],
   "source": [
    "img = req.urlopen(\"https://www.google.co.kr/images/branding/googlelogo/1x/googlelogo_color_272x92dp.png\")\n",
    "img_data = img.read()\n",
    "img_data\n",
    "\n",
    "f = open(\"data/google2.png\", \"wb\")\n",
    "f.write(img_data)\n",
    "f.close()"
   ]
  },
  {
   "cell_type": "markdown",
   "id": "c5da7998",
   "metadata": {},
   "source": [
    "## (2) BeautifulSoup 사용법\n",
    "\n",
    "+ pip install beautifulsoup4\n",
    "+ https://www.crummy.com/software/BeautifulSoup"
   ]
  },
  {
   "cell_type": "code",
   "execution_count": 6,
   "id": "d594ba5f",
   "metadata": {},
   "outputs": [],
   "source": [
    "from bs4 import BeautifulSoup"
   ]
  },
  {
   "cell_type": "code",
   "execution_count": 10,
   "id": "0c0742ba",
   "metadata": {},
   "outputs": [
    {
     "name": "stdout",
     "output_type": "stream",
     "text": [
      "<!DOCTYPE html>\n",
      "<html>\n",
      " <head>\n",
      "  <title>\n",
      "   Very Simple HTML Code by Netsong7\n",
      "  </title>\n",
      " </head>\n",
      " <body>\n",
      "  <div>\n",
      "   <p class=\"inner-text first-item\" id=\"first\">\n",
      "    Happy PinkWink.\n",
      "    <a href=\"http://netsong7.synology.me\" id=\"pw-link\">\n",
      "     PinkWink\n",
      "    </a>\n",
      "   </p>\n",
      "   <p class=\"inner-text second-item\">\n",
      "    Happy Data Science.\n",
      "    <a href=\"https://www.python.org\" id=\"py-link\">\n",
      "     Python\n",
      "    </a>\n",
      "   </p>\n",
      "  </div>\n",
      "  <p class=\"outer-text first-item\" id=\"second\">\n",
      "   <b>\n",
      "    Data Science is funny.\n",
      "   </b>\n",
      "  </p>\n",
      "  <p class=\"outer-text\">\n",
      "   <b>\n",
      "    All I need is Love.\n",
      "   </b>\n",
      "  </p>\n",
      " </body>\n",
      "</html>\n"
     ]
    }
   ],
   "source": [
    "page = open(\"data/test_first.html\")\n",
    "page\n",
    "\n",
    "# page 와 같이 test_first 파일을 불러오면 문자열구조이고 이를 tree 구조로 만들어주는 것이 BeautifulSoup 이 그런역할을 한다.\n",
    "\n",
    "soup = BeautifulSoup(page, \"html.parser\")\n",
    "print(soup.prettify())       # prettify() 는 들여쓰기 해주는 기능 (정렬이라 보면된다.)"
   ]
  },
  {
   "cell_type": "markdown",
   "id": "992e9e7a",
   "metadata": {},
   "source": [
    "### 1) 원하는 위치에 접근하는 방법(순차적인 방식)"
   ]
  },
  {
   "cell_type": "code",
   "execution_count": 14,
   "id": "e481cf37",
   "metadata": {},
   "outputs": [
    {
     "data": {
      "text/plain": [
       "<html><head>\n",
       "<title>Very Simple HTML Code by Netsong7</title>\n",
       "</head><body>\n",
       "<div>\n",
       "<p class=\"inner-text first-item\" id=\"first\">\n",
       "                Happy PinkWink.\n",
       "                <a href=\"http://netsong7.synology.me\" id=\"pw-link\">PinkWink</a>\n",
       "</p>\n",
       "<p class=\"inner-text second-item\">\n",
       "                Happy Data Science.\n",
       "                <a href=\"https://www.python.org\" id=\"py-link\">Python</a>\n",
       "</p>\n",
       "</div>\n",
       "<p class=\"outer-text first-item\" id=\"second\">\n",
       "<b>\n",
       "                Data Science is funny.\n",
       "            </b>\n",
       "</p>\n",
       "<p class=\"outer-text\">\n",
       "<b>\n",
       "                All I need is Love.\n",
       "            </b>\n",
       "</p>\n",
       "</body>\n",
       "</html>"
      ]
     },
     "execution_count": 14,
     "metadata": {},
     "output_type": "execute_result"
    }
   ],
   "source": [
    "list(soup.children)    # children 은 자식위치에 접근방법\n",
    "list(soup.children)[0]\n",
    "list(soup.children)[1]\n",
    "list(soup.children)[2]"
   ]
  },
  {
   "cell_type": "code",
   "execution_count": 17,
   "id": "34072e0f",
   "metadata": {},
   "outputs": [
    {
     "data": {
      "text/plain": [
       "['\\n',\n",
       " <div>\n",
       " <p class=\"inner-text first-item\" id=\"first\">\n",
       "                 Happy PinkWink.\n",
       "                 <a href=\"http://netsong7.synology.me\" id=\"pw-link\">PinkWink</a>\n",
       " </p>\n",
       " <p class=\"inner-text second-item\">\n",
       "                 Happy Data Science.\n",
       "                 <a href=\"https://www.python.org\" id=\"py-link\">Python</a>\n",
       " </p>\n",
       " </div>,\n",
       " '\\n',\n",
       " <p class=\"outer-text first-item\" id=\"second\">\n",
       " <b>\n",
       "                 Data Science is funny.\n",
       "             </b>\n",
       " </p>,\n",
       " '\\n',\n",
       " <p class=\"outer-text\">\n",
       " <b>\n",
       "                 All I need is Love.\n",
       "             </b>\n",
       " </p>,\n",
       " '\\n']"
      ]
     },
     "execution_count": 17,
     "metadata": {},
     "output_type": "execute_result"
    }
   ],
   "source": [
    "html = list(soup.children)[2]\n",
    "body = list(html.children)[1]\n",
    "list(body.children)"
   ]
  },
  {
   "cell_type": "markdown",
   "id": "41f89f5a",
   "metadata": {},
   "source": [
    "### 2) 태그명으로 접근하는 방법"
   ]
  },
  {
   "cell_type": "code",
   "execution_count": 22,
   "id": "abf657c3",
   "metadata": {},
   "outputs": [
    {
     "data": {
      "text/plain": [
       "<p class=\"inner-text first-item\" id=\"first\">\n",
       "                Happy PinkWink.\n",
       "                <a href=\"http://netsong7.synology.me\" id=\"pw-link\">PinkWink</a>\n",
       "</p>"
      ]
     },
     "execution_count": 22,
     "metadata": {},
     "output_type": "execute_result"
    }
   ],
   "source": [
    "soup.head\n",
    "soup.body\n",
    "soup.body.div\n",
    "soup.body.div.p\n",
    "soup.p"
   ]
  },
  {
   "cell_type": "markdown",
   "id": "0b07b004",
   "metadata": {},
   "source": [
    "### 3) 함수로 접근하는 방법\n",
    "\n",
    "+ find(), find_all()"
   ]
  },
  {
   "cell_type": "code",
   "execution_count": 23,
   "id": "fab08198",
   "metadata": {},
   "outputs": [
    {
     "data": {
      "text/plain": [
       "<p class=\"inner-text first-item\" id=\"first\">\n",
       "                Happy PinkWink.\n",
       "                <a href=\"http://netsong7.synology.me\" id=\"pw-link\">PinkWink</a>\n",
       "</p>"
      ]
     },
     "execution_count": 23,
     "metadata": {},
     "output_type": "execute_result"
    }
   ],
   "source": [
    "soup.find(\"p\")"
   ]
  },
  {
   "cell_type": "code",
   "execution_count": 26,
   "id": "158890e2",
   "metadata": {},
   "outputs": [
    {
     "data": {
      "text/plain": [
       "[<p class=\"inner-text first-item\" id=\"first\">\n",
       "                 Happy PinkWink.\n",
       "                 <a href=\"http://netsong7.synology.me\" id=\"pw-link\">PinkWink</a>\n",
       " </p>,\n",
       " <p class=\"inner-text second-item\">\n",
       "                 Happy Data Science.\n",
       "                 <a href=\"https://www.python.org\" id=\"py-link\">Python</a>\n",
       " </p>,\n",
       " <p class=\"outer-text first-item\" id=\"second\">\n",
       " <b>\n",
       "                 Data Science is funny.\n",
       "             </b>\n",
       " </p>,\n",
       " <p class=\"outer-text\">\n",
       " <b>\n",
       "                 All I need is Love.\n",
       "             </b>\n",
       " </p>]"
      ]
     },
     "execution_count": 26,
     "metadata": {},
     "output_type": "execute_result"
    }
   ],
   "source": [
    "soup.find_all(\"p\")\n"
   ]
  },
  {
   "cell_type": "code",
   "execution_count": 27,
   "id": "8d340d56",
   "metadata": {},
   "outputs": [
    {
     "data": {
      "text/plain": [
       "<p class=\"outer-text first-item\" id=\"second\">\n",
       "<b>\n",
       "                Data Science is funny.\n",
       "            </b>\n",
       "</p>"
      ]
     },
     "execution_count": 27,
     "metadata": {},
     "output_type": "execute_result"
    }
   ],
   "source": [
    "soup.find(\"p\", class_=\"outer-text\")         # 그 태그에 class 속성값이 있다면 그 속성을 가진 태그로 접근"
   ]
  },
  {
   "cell_type": "code",
   "execution_count": 28,
   "id": "785633f3",
   "metadata": {},
   "outputs": [
    {
     "data": {
      "text/plain": [
       "<p class=\"outer-text first-item\" id=\"second\">\n",
       "<b>\n",
       "                Data Science is funny.\n",
       "            </b>\n",
       "</p>"
      ]
     },
     "execution_count": 28,
     "metadata": {},
     "output_type": "execute_result"
    }
   ],
   "source": [
    "soup.find(\"p\", id=\"second\")         # 그 태그에 id 속성값이 있다면 그 속성을 가진 태그로 접근"
   ]
  },
  {
   "cell_type": "markdown",
   "id": "4325a701",
   "metadata": {},
   "source": [
    "### 4) 다양한 순차 접근 방식"
   ]
  },
  {
   "cell_type": "code",
   "execution_count": 36,
   "id": "d0218490",
   "metadata": {},
   "outputs": [
    {
     "data": {
      "text/plain": [
       "<body>\n",
       "<div>\n",
       "<p class=\"inner-text first-item\" id=\"first\">\n",
       "                Happy PinkWink.\n",
       "                <a href=\"http://netsong7.synology.me\" id=\"pw-link\">PinkWink</a>\n",
       "</p>\n",
       "<p class=\"inner-text second-item\">\n",
       "                Happy Data Science.\n",
       "                <a href=\"https://www.python.org\" id=\"py-link\">Python</a>\n",
       "</p>\n",
       "</div>\n",
       "<p class=\"outer-text first-item\" id=\"second\">\n",
       "<b>\n",
       "                Data Science is funny.\n",
       "            </b>\n",
       "</p>\n",
       "<p class=\"outer-text\">\n",
       "<b>\n",
       "                All I need is Love.\n",
       "            </b>\n",
       "</p>\n",
       "</body>"
      ]
     },
     "execution_count": 36,
     "metadata": {},
     "output_type": "execute_result"
    }
   ],
   "source": [
    "# next_sibling 은 형제 태그에 접근   ( 여기선 head의 형제에 접근하는 코드 - 동생 )\n",
    "\n",
    "soup.head.next_sibling\n",
    "\n",
    "# previous_sibling 은 형제 태그에 접근 ( 여기선 body의 형제에 접근하는 코드 - 형)\n",
    "\n",
    "soup.body.previous_sibling\n",
    "\n",
    "# next_siblings 를 통해 형제 태그에 접근 ( 여기선 div 의 형제들에 접근하는 코드 - 동생들 (복수형) )\n",
    "\n",
    "list(soup.body.div.next_siblings)\n",
    "\n",
    "# parent 를 통해 부모 태그에 접근 ( 여기선 div 의 부모인 body 태그에 접근하는 코드 - 부모)\n",
    "\n",
    "soup.body.div.parent"
   ]
  },
  {
   "cell_type": "markdown",
   "id": "a95ff950",
   "metadata": {},
   "source": [
    "### 5) Text Node 가져오기\n",
    "\n",
    "+ get_text()\n",
    "+ text"
   ]
  },
  {
   "cell_type": "code",
   "execution_count": 42,
   "id": "8805c603",
   "metadata": {},
   "outputs": [
    {
     "name": "stdout",
     "output_type": "stream",
     "text": [
      "\n",
      "                Happy PinkWink.\n",
      "                PinkWink\n",
      "\n",
      "\n",
      "                Happy Data Science.\n",
      "                Python\n",
      "\n",
      "\n",
      "\n",
      "                Data Science is funny.\n",
      "            \n",
      "\n",
      "\n",
      "\n",
      "                All I need is Love.\n",
      "            \n",
      "\n"
     ]
    }
   ],
   "source": [
    "soup.html.get_text()       # html 태그 안의 모든 글자들을 가져오기\n",
    "soup.head.get_text()       # head 태그 안의 모든 글자들을 가져오기\n",
    "soup.title.get_text()      # title 태그 안의 모든 글자들을 가져오기\n",
    "\n",
    "soup.div.get_text()      # div 태그 안의 모든 글자들을 가져오기\n",
    "soup.p.get_text()        # p 태그 안의 모든 글자들을 가져오기 ( 첫번째 p 태그 )\n",
    "\n",
    "for p in soup.find_all(\"p\"):       # 여러개인 p 태그에서 반복문을 돌면서 글자들을 가져오기\n",
    "    print(p.get_text())"
   ]
  },
  {
   "cell_type": "markdown",
   "id": "73397cbb",
   "metadata": {},
   "source": [
    "### 6) 속성에 접근하기"
   ]
  },
  {
   "cell_type": "code",
   "execution_count": 55,
   "id": "ec87cdc3",
   "metadata": {},
   "outputs": [
    {
     "name": "stdout",
     "output_type": "stream",
     "text": [
      "http://netsong7.synology.me\n",
      "https://www.python.org\n"
     ]
    }
   ],
   "source": [
    "# 첫번째 a 태그에 접근\n",
    "a = soup.find(\"a\")\n",
    "a\n",
    "\n",
    "# a 태그의 href 속성을 가져오기\n",
    "a[\"href\"]\n",
    "\n",
    "# 여러개의 a 태그들의 href 속성을 전부 가져오기\n",
    "for n in soup.find_all(\"a\"):\n",
    "    print(n[\"href\"])"
   ]
  },
  {
   "cell_type": "markdown",
   "id": "c7131c05",
   "metadata": {},
   "source": [
    "## (3) 실습"
   ]
  },
  {
   "cell_type": "markdown",
   "id": "0fe5cd78",
   "metadata": {},
   "source": [
    "### 1) 네이버에서 환율 정보 가져오기\n",
    "\n",
    "+ https://finance.naver.com/marketindex/\n"
   ]
  },
  {
   "cell_type": "code",
   "execution_count": 57,
   "id": "50ba1f03",
   "metadata": {},
   "outputs": [],
   "source": [
    "from urllib.request import urlopen\n",
    "from bs4 import BeautifulSoup"
   ]
  },
  {
   "cell_type": "code",
   "execution_count": 59,
   "id": "08546e48",
   "metadata": {},
   "outputs": [],
   "source": [
    "# 웹 소스를 준비\n",
    "\n",
    "url = \"https://finance.naver.com/marketindex/\"\n",
    "page = urlopen(url)\n",
    "page\n",
    "\n",
    "# 가져온 웹 소스를 트리 구조로 변환\n",
    "\n",
    "soup = BeautifulSoup(page, \"html.parser\")\n"
   ]
  },
  {
   "cell_type": "code",
   "execution_count": 62,
   "id": "cc7ee2e4",
   "metadata": {},
   "outputs": [
    {
     "name": "stdout",
     "output_type": "stream",
     "text": [
      "미 환율 :  1,290.60\n"
     ]
    }
   ],
   "source": [
    "span = soup.find_all(\"span\", class_=\"value\")\n",
    "\n",
    "print(\"미 환율 : \", span[0].get_text())"
   ]
  },
  {
   "cell_type": "code",
   "execution_count": 67,
   "id": "c0bcc030",
   "metadata": {},
   "outputs": [
    {
     "name": "stdout",
     "output_type": "stream",
     "text": [
      "미 환율 :  \n",
      "1,290.60\n",
      "원\n",
      " 2.40\n",
      "하락\n",
      "\n",
      "미 환율 :  1,290.60\n"
     ]
    }
   ],
   "source": [
    "# div 태그로 접근\n",
    "\n",
    "div = soup.find_all(\"div\", class_=\"head_info point_dn\")\n",
    "print(\"미 환율 : \", div[0].get_text())\n",
    "\n",
    "div = soup.find_all(\"div\", class_=\"head_info point_dn\")\n",
    "print(\"미 환율 : \", div[0].span.get_text())"
   ]
  },
  {
   "cell_type": "code",
   "execution_count": 69,
   "id": "7be24cf1",
   "metadata": {},
   "outputs": [
    {
     "name": "stdout",
     "output_type": "stream",
     "text": [
      "1,290.60\n"
     ]
    }
   ],
   "source": [
    "# CSS\n",
    "\n",
    "# head_info 라는 class 속성을 가진 div 태그의 자식인 span 태그의 값을 가져오고 싶다.\n",
    "span = soup.select_one(\"div.head_info > span.value\")\n",
    "print(span.get_text())"
   ]
  },
  {
   "cell_type": "markdown",
   "id": "fbdd3f44",
   "metadata": {},
   "source": [
    "### 2) 스크래핑 연습"
   ]
  },
  {
   "cell_type": "code",
   "execution_count": 75,
   "id": "8ca5c6cb",
   "metadata": {},
   "outputs": [],
   "source": [
    "##### 웹 소스 가져오기\n",
    "import ssl\n",
    "context = ssl._create_unverified_context()\n",
    "\n",
    "\n",
    "url = \"http://www.pythonscraping.com/pages/warandpeace.html\"\n",
    "page = urlopen(url, context=context)\n",
    "soup = BeautifulSoup(page, \"html.parser\")"
   ]
  },
  {
   "cell_type": "code",
   "execution_count": 81,
   "id": "239425c0",
   "metadata": {
    "scrolled": true
   },
   "outputs": [
    {
     "name": "stdout",
     "output_type": "stream",
     "text": [
      "Anna\n",
      "Pavlovna Scherer\n",
      "Empress Marya\n",
      "Fedorovna\n",
      "Prince Vasili Kuragin\n",
      "Anna Pavlovna\n",
      "St. Petersburg\n",
      "the prince\n",
      "Anna Pavlovna\n",
      "Anna Pavlovna\n",
      "the prince\n",
      "the prince\n",
      "the prince\n",
      "Prince Vasili\n",
      "Anna Pavlovna\n",
      "Anna Pavlovna\n",
      "the prince\n",
      "Wintzingerode\n",
      "King of Prussia\n",
      "le Vicomte de Mortemart\n",
      "Montmorencys\n",
      "Rohans\n",
      "Abbe Morio\n",
      "the Emperor\n",
      "the prince\n",
      "Prince Vasili\n",
      "Dowager Empress Marya Fedorovna\n",
      "the baron\n",
      "Anna Pavlovna\n",
      "the Empress\n",
      "the Empress\n",
      "Anna Pavlovna's\n",
      "Her Majesty\n",
      "Baron\n",
      "Funke\n",
      "The prince\n",
      "Anna\n",
      "Pavlovna\n",
      "the Empress\n",
      "The prince\n",
      "Anatole\n",
      "the prince\n",
      "The prince\n",
      "Anna\n",
      "Pavlovna\n",
      "Anna Pavlovna\n",
      "-----------------------------------------------\n",
      "Anna\n",
      "Pavlovna Scherer\n",
      "Empress Marya\n",
      "Fedorovna\n",
      "Prince Vasili Kuragin\n",
      "Anna Pavlovna\n",
      "St. Petersburg\n",
      "the prince\n",
      "Anna Pavlovna\n",
      "Anna Pavlovna\n",
      "the prince\n",
      "the prince\n",
      "the prince\n",
      "Prince Vasili\n",
      "Anna Pavlovna\n",
      "Anna Pavlovna\n",
      "the prince\n",
      "Wintzingerode\n",
      "King of Prussia\n",
      "le Vicomte de Mortemart\n",
      "Montmorencys\n",
      "Rohans\n",
      "Abbe Morio\n",
      "the Emperor\n",
      "the prince\n",
      "Prince Vasili\n",
      "Dowager Empress Marya Fedorovna\n",
      "the baron\n",
      "Anna Pavlovna\n",
      "the Empress\n",
      "the Empress\n",
      "Anna Pavlovna's\n",
      "Her Majesty\n",
      "Baron\n",
      "Funke\n",
      "The prince\n",
      "Anna\n",
      "Pavlovna\n",
      "the Empress\n",
      "The prince\n",
      "Anatole\n",
      "the prince\n",
      "The prince\n",
      "Anna\n",
      "Pavlovna\n",
      "Anna Pavlovna\n",
      "-----------------------------------------------\n",
      "Anna\n",
      "Pavlovna Scherer\n",
      "Empress Marya\n",
      "Fedorovna\n",
      "Prince Vasili Kuragin\n",
      "Anna Pavlovna\n",
      "St. Petersburg\n",
      "the prince\n",
      "Anna Pavlovna\n",
      "Anna Pavlovna\n",
      "the prince\n",
      "the prince\n",
      "the prince\n",
      "Prince Vasili\n",
      "Anna Pavlovna\n",
      "Anna Pavlovna\n",
      "the prince\n",
      "the prince\n",
      "Prince Vasili\n",
      "Dowager Empress Marya Fedorovna\n",
      "the baron\n",
      "Anna Pavlovna\n",
      "the Empress\n",
      "the Empress\n",
      "Anna Pavlovna's\n",
      "Her Majesty\n",
      "Baron\n",
      "Funke\n",
      "The prince\n",
      "Anna\n",
      "Pavlovna\n",
      "the Empress\n",
      "The prince\n",
      "the prince\n",
      "The prince\n",
      "Anna\n",
      "Pavlovna\n",
      "Anna Pavlovna\n"
     ]
    }
   ],
   "source": [
    "##### 녹색 단어만 골라오기\n",
    "green_words = soup.find_all(\"span\", class_=\"green\")\n",
    "for n in green_words:\n",
    "    print(n.get_text())\n",
    "    \n",
    "print(\"-----------------------------------------------\")\n",
    "\n",
    "green_words = soup.find_all(\"span\", {\"class\" : \"green\"})\n",
    "for n in green_words:\n",
    "    print(n.get_text())\n",
    "    \n",
    "print(\"-----------------------------------------------\")\n",
    "\n",
    "green_words = soup.select(\"div#text > span.green\")      # text 라는 id를 가진 div 태그의 자식인 span에서 green 이라는 class 값\n",
    "for n in green_words:\n",
    "    print(n.get_text())"
   ]
  },
  {
   "cell_type": "code",
   "execution_count": 92,
   "id": "71b3eebe",
   "metadata": {},
   "outputs": [
    {
     "name": "stdout",
     "output_type": "stream",
     "text": [
      "['War and Peace', 'Chapter 1']\n"
     ]
    }
   ],
   "source": [
    "##### 제목(h숫자)\n",
    "\n",
    "titles = soup.find_all([\"h1\", \"h2\"])     # find_all 로 태그를 여러개 찾을 때는 [] 리스트로 묶어줘야한다.\n",
    "print([t.get_text() for t in titles])\n"
   ]
  },
  {
   "cell_type": "code",
   "execution_count": 100,
   "id": "42a144af",
   "metadata": {},
   "outputs": [],
   "source": [
    "##### 웹소스 가져오기\n",
    "url = \"http://www.pythonscraping.com/pages/page3.html\"\n",
    "page = urlopen(url, context=context)\n",
    "soup = BeautifulSoup(page, \"html.parser\")"
   ]
  },
  {
   "cell_type": "code",
   "execution_count": 102,
   "id": "43430d72",
   "metadata": {
    "scrolled": false
   },
   "outputs": [
    {
     "data": {
      "text/plain": [
       "[<tr class=\"gift\" id=\"gift1\"><td>\n",
       " Vegetable Basket\n",
       " </td><td>\n",
       " This vegetable basket is the perfect gift for your health conscious (or overweight) friends!\n",
       " <span class=\"excitingNote\">Now with super-colorful bell peppers!</span>\n",
       " </td><td>\n",
       " $15.00\n",
       " </td><td>\n",
       " <img src=\"../img/gifts/img1.jpg\"/>\n",
       " </td></tr>,\n",
       " <tr class=\"gift\" id=\"gift2\"><td>\n",
       " Russian Nesting Dolls\n",
       " </td><td>\n",
       " Hand-painted by trained monkeys, these exquisite dolls are priceless! And by \"priceless,\" we mean \"extremely expensive\"! <span class=\"excitingNote\">8 entire dolls per set! Octuple the presents!</span>\n",
       " </td><td>\n",
       " $10,000.52\n",
       " </td><td>\n",
       " <img src=\"../img/gifts/img2.jpg\"/>\n",
       " </td></tr>,\n",
       " <tr class=\"gift\" id=\"gift3\"><td>\n",
       " Fish Painting\n",
       " </td><td>\n",
       " If something seems fishy about this painting, it's because it's a fish! <span class=\"excitingNote\">Also hand-painted by trained monkeys!</span>\n",
       " </td><td>\n",
       " $10,005.00\n",
       " </td><td>\n",
       " <img src=\"../img/gifts/img3.jpg\"/>\n",
       " </td></tr>,\n",
       " <tr class=\"gift\" id=\"gift4\"><td>\n",
       " Dead Parrot\n",
       " </td><td>\n",
       " This is an ex-parrot! <span class=\"excitingNote\">Or maybe he's only resting?</span>\n",
       " </td><td>\n",
       " $0.50\n",
       " </td><td>\n",
       " <img src=\"../img/gifts/img4.jpg\"/>\n",
       " </td></tr>,\n",
       " <tr class=\"gift\" id=\"gift5\"><td>\n",
       " Mystery Box\n",
       " </td><td>\n",
       " If you love suprises, this mystery box is for you! Do not place on light-colored surfaces. May cause oil staining. <span class=\"excitingNote\">Keep your friends guessing!</span>\n",
       " </td><td>\n",
       " $1.50\n",
       " </td><td>\n",
       " <img src=\"../img/gifts/img6.jpg\"/>\n",
       " </td></tr>]"
      ]
     },
     "execution_count": 102,
     "metadata": {},
     "output_type": "execute_result"
    }
   ],
   "source": [
    "##### 제목 행은 건너뛰고 나머지 모든 행을 수집\n",
    "\n",
    "# original\n",
    "tables = soup.find_all(\"tr\", class_=\"gift\")\n",
    "tables\n",
    "\n",
    "# class 속성이 없다면 ?  아이디 속성을 이용\n",
    "\n",
    "tables = soup.find_all(\"tr\", {\"id\": [\"gift1\", \"gift2\", \"gift3\", \"gift4\", \"gift5\"]})\n",
    "tables\n",
    "\n",
    "# id 속성이 매우 많다면 ?  ( 즉, 행의 갯수가 매우 많다면 ? )\n",
    "\n"
   ]
  },
  {
   "cell_type": "code",
   "execution_count": null,
   "id": "a7c136e8",
   "metadata": {},
   "outputs": [],
   "source": []
  },
  {
   "cell_type": "code",
   "execution_count": null,
   "id": "7cae4466",
   "metadata": {},
   "outputs": [],
   "source": []
  },
  {
   "cell_type": "code",
   "execution_count": null,
   "id": "1e537470",
   "metadata": {},
   "outputs": [],
   "source": []
  },
  {
   "cell_type": "code",
   "execution_count": null,
   "id": "2bbe8fbb",
   "metadata": {},
   "outputs": [],
   "source": []
  },
  {
   "cell_type": "code",
   "execution_count": null,
   "id": "2891c415",
   "metadata": {},
   "outputs": [],
   "source": []
  },
  {
   "cell_type": "code",
   "execution_count": null,
   "id": "9e334f11",
   "metadata": {},
   "outputs": [],
   "source": []
  }
 ],
 "metadata": {
  "kernelspec": {
   "display_name": "Python 3 (ipykernel)",
   "language": "python",
   "name": "python3"
  },
  "language_info": {
   "codemirror_mode": {
    "name": "ipython",
    "version": 3
   },
   "file_extension": ".py",
   "mimetype": "text/x-python",
   "name": "python",
   "nbconvert_exporter": "python",
   "pygments_lexer": "ipython3",
   "version": "3.9.12"
  }
 },
 "nbformat": 4,
 "nbformat_minor": 5
}
