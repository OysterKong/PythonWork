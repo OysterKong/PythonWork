{
 "cells": [
  {
   "cell_type": "code",
   "execution_count": 1,
   "id": "c6bb6a61",
   "metadata": {},
   "outputs": [],
   "source": [
    "import numpy as np\n",
    "import pandas as pd\n",
    "import matplotlib.pyplot as plt\n",
    "import seaborn as sns\n",
    "\n",
    "# 한글처리\n",
    "import matplotlib.font_manager as fm\n",
    "font_name = fm.FontProperties(fname=\"C:\\\\Windows\\\\Fonts\\\\malgun.ttf\").get_name()\n",
    "plt.rc(\"font\", family=font_name)\n",
    "\n",
    "# 음수 - 표시 처리\n",
    "import matplotlib as mlp\n",
    "mlp.rcParams[\"axes.unicode_minus\"] = False"
   ]
  },
  {
   "cell_type": "markdown",
   "id": "f43195d3",
   "metadata": {},
   "source": [
    "# 1. XML\n",
    "\n",
    "+ 특징\n",
    "    - 메타 언어 : GML -> SGML -> XML\n",
    "    - 데이터를 위한 언어\n",
    "    - DBMS\n",
    "    - 데이터 표준화 : 이기종 시스템간의 정보교환, 웹서비스, 유비쿼터스, 사물인터넷 등등...\n",
    "    \n",
    "    \n",
    "+ 구성 요소\n",
    "    - dtd   ( 설계도 역할, 간단한 문법, 정밀한 설계는 어려움, 제한이 있음 )\n",
    "    - xml schema  ( 설계도 역할, 정밀한 설계가 가능 )\n",
    "    - xml  ( 디자인적 요소가 없음 )\n",
    "    - xsl, xslt  ( xml을 데이터를 디자인을 해주는 역할 , css가 여기에 해당 )\n",
    "   \n",
    "   \n",
    "+ https://docs.python.org/3/library/xml.etree.elementtree.html\n"
   ]
  },
  {
   "cell_type": "code",
   "execution_count": 2,
   "id": "edce22eb",
   "metadata": {},
   "outputs": [],
   "source": [
    "import xml.etree.ElementTree as et\n",
    "\n",
    "##### XML api 사용 방법\n",
    "# 1. xml이 파일로 존재하는 경우 : parse()\n",
    "# 2. xml이 메모리에 로드된 경우 : fromstring()"
   ]
  },
  {
   "cell_type": "markdown",
   "id": "79843895",
   "metadata": {},
   "source": [
    "## (1) XML 데이터 불러오기"
   ]
  },
  {
   "cell_type": "code",
   "execution_count": 3,
   "id": "f4f617ca",
   "metadata": {},
   "outputs": [
    {
     "data": {
      "text/plain": [
       "<xml.etree.ElementTree.ElementTree at 0x2606d2aa730>"
      ]
     },
     "execution_count": 3,
     "metadata": {},
     "output_type": "execute_result"
    }
   ],
   "source": [
    "##### xml이 파일로 존재하는 경우\n",
    "\n",
    "tree1 = et.parse(\"data/users.xml\")\n",
    "\n",
    "tree1"
   ]
  },
  {
   "cell_type": "code",
   "execution_count": 4,
   "id": "9364fa9e",
   "metadata": {},
   "outputs": [
    {
     "data": {
      "text/plain": [
       "<Element 'users' at 0x000002606D3C2B30>"
      ]
     },
     "execution_count": 4,
     "metadata": {},
     "output_type": "execute_result"
    }
   ],
   "source": [
    "##### xml이 이미 메모리에 로드되어 있는 경우\n",
    "\n",
    "xmlstr = \"\"\"<?xml version=\"1.0\" encoding=\"utf-8\" ?>\n",
    "<users>\n",
    "\t<user grade=\"gold\">\n",
    "            <name>Kim Cheol Soo</name>\n",
    "            <age>25</age>\n",
    "            <birthday>19940215</birthday>\n",
    "    </user>\n",
    "    <user grade=\"diamond\">\n",
    "            <name>Kim Yoo Mee</name>\n",
    "            <age>21</age>\n",
    "            <birthday>19980417</birthday>\n",
    "    </user>\n",
    "</users>\n",
    "\"\"\"\n",
    "\n",
    "tree2 = et.fromstring(xmlstr)\n",
    "\n",
    "tree2"
   ]
  },
  {
   "cell_type": "markdown",
   "id": "0520944f",
   "metadata": {},
   "source": [
    "## (2) XML 데이터 다루기"
   ]
  },
  {
   "cell_type": "markdown",
   "id": "64b260f0",
   "metadata": {},
   "source": [
    "### 1) 태그명 검색"
   ]
  },
  {
   "cell_type": "code",
   "execution_count": 6,
   "id": "7f53cb53",
   "metadata": {},
   "outputs": [
    {
     "name": "stdout",
     "output_type": "stream",
     "text": [
      "<Element 'user' at 0x000002606D3C2630>\n",
      "<Element 'user' at 0x000002606D3C2630>\n",
      "<Element 'user' at 0x000002606D3C2770>\n"
     ]
    }
   ],
   "source": [
    "# 앞서 user.xml을 불러와 담아놓은 tree1에서 find 함수로 \"user\" 라는 태그를 찾아보기\n",
    "# 시작위치가 0이 아니라 1부터 이므로 착오 금지\n",
    "\n",
    "print(tree1.find(\"user\"))\n",
    "print(tree1.find(\"user[1]\"))\n",
    "print(tree1.find(\"user[2]\"))   # 두번째 유저에 접근"
   ]
  },
  {
   "cell_type": "code",
   "execution_count": 16,
   "id": "f9aceb0d",
   "metadata": {},
   "outputs": [
    {
     "name": "stdout",
     "output_type": "stream",
     "text": [
      "<class 'xml.etree.ElementTree.Element'>\n",
      "user\n",
      "{'grade': 'diamond'}\n",
      "diamond\n",
      "-----------------------------------------------------\n",
      "name\n",
      "{}\n",
      "Kim Yoo Mee\n"
     ]
    }
   ],
   "source": [
    "data = tree1.find(\"user[2]\")\n",
    "print(type(data))\n",
    "dir(data)\n",
    "\n",
    "print(data.tag)\n",
    "print(data.attrib)    # attrib 로 속성에 접근 가능\n",
    "print(data.get(\"grade\"))    # get( 키값 ) 으로 데이터를 직접 꺼낼 수 있음\n",
    "\n",
    "print(\"-----------------------------------------------------\")\n",
    "\n",
    "username = data.find(\"name\")    # 이미 data 를 user[2] 로 인해 2번째 user에 접근한 상태이므로\n",
    "print(username.tag)\n",
    "print(username.attrib)\n",
    "print(username.text)    # text 를 이용하면 태그가 가지고있는 자식 노드에 접근할 수 있음"
   ]
  },
  {
   "cell_type": "markdown",
   "id": "8a04b0da",
   "metadata": {},
   "source": [
    "### 2) 태그 조건으로 검색"
   ]
  },
  {
   "cell_type": "code",
   "execution_count": 26,
   "id": "3d0c896d",
   "metadata": {},
   "outputs": [
    {
     "name": "stdout",
     "output_type": "stream",
     "text": [
      "<Element 'user' at 0x000002606D3C2770>\n",
      "{'grade': 'diamond'}\n",
      "['grade']\n",
      "[('grade', 'diamond')]\n"
     ]
    }
   ],
   "source": [
    "# data = tree1.find(\"./user[@grade]\")\n",
    "# data = tree1.find(\"./user[@grade][2]\")\n",
    "data = tree1.find(\"./user[@grade='diamond']\")\n",
    "\n",
    "print(data)\n",
    "print(data.attrib)\n",
    "print(data.keys())\n",
    "print(data.items())"
   ]
  },
  {
   "cell_type": "markdown",
   "id": "d59a214c",
   "metadata": {},
   "source": [
    "### 3) 여러 개의 태그를 한꺼번에 가져오기"
   ]
  },
  {
   "cell_type": "code",
   "execution_count": 28,
   "id": "5e015643",
   "metadata": {},
   "outputs": [
    {
     "name": "stdout",
     "output_type": "stream",
     "text": [
      "{'grade': 'gold'}\n",
      "Kim Cheol Soo\n",
      "{'grade': 'diamond'}\n",
      "Kim Yoo Mee\n"
     ]
    }
   ],
   "source": [
    "# . 은 현재위치를 의미. 여기선 tree1 이고 / 표시는 하위단계를 의미.  즉 현재위치에서 하위단계의 user란 태그를 전부 가져오기\n",
    "\n",
    "users = tree1.findall(\"./user\")\n",
    "users\n",
    "\n",
    "for i in users:\n",
    "    print(i.attrib)\n",
    "    print(i.find(\"name\").text)"
   ]
  },
  {
   "cell_type": "markdown",
   "id": "9a010f14",
   "metadata": {},
   "source": [
    "# 2. JSON"
   ]
  },
  {
   "cell_type": "code",
   "execution_count": 30,
   "id": "5c8d75cc",
   "metadata": {},
   "outputs": [],
   "source": [
    "import json\n",
    "\n",
    "# dumps() : 데이터 저장\n",
    "# loads() : 데이터 불러올 때"
   ]
  },
  {
   "cell_type": "code",
   "execution_count": 35,
   "id": "a9007436",
   "metadata": {},
   "outputs": [
    {
     "name": "stdout",
     "output_type": "stream",
     "text": [
      "<class 'dict'>\n",
      "{'name': '홍길동', 'birth': '0101', 'age': 20}\n",
      "---------------------------------------------------------\n",
      "<class 'str'>\n",
      "{\"name\": \"\\ud64d\\uae38\\ub3d9\", \"birth\": \"0101\", \"age\": 20}\n",
      "---------------------------------------------------------\n",
      "<class 'str'>\n",
      "[1, 2, 3]\n",
      "---------------------------------------------------------\n",
      "<class 'dict'>\n",
      "{'name': '홍길동', 'birth': '0101', 'age': 20}\n"
     ]
    }
   ],
   "source": [
    "j1 = {\"name\" : \"홍길동\", \"birth\" : \"0101\", \"age\" : 20}\n",
    "print(type(j1))\n",
    "print(j1)\n",
    "\n",
    "print(\"---------------------------------------------------------\")\n",
    "\n",
    "j2 = json.dumps(j1)\n",
    "print(type(j2))\n",
    "print(j2)\n",
    "\n",
    "print(\"---------------------------------------------------------\")\n",
    "\n",
    "j3 = json.dumps((1, 2, 3))\n",
    "print(type(j3))\n",
    "print(j3)\n",
    "\n",
    "print(\"---------------------------------------------------------\")\n",
    "\n",
    "j4 = json.loads(j2)\n",
    "print(type(j4))\n",
    "print(j4)\n"
   ]
  },
  {
   "cell_type": "code",
   "execution_count": 36,
   "id": "c032c54e",
   "metadata": {},
   "outputs": [
    {
     "name": "stdout",
     "output_type": "stream",
     "text": [
      "<class 'str'>\n"
     ]
    }
   ],
   "source": [
    "obj = \"\"\"\n",
    "{\n",
    "\t\"id\": \"0001\",\n",
    "\t\"type\": \"donut\",\n",
    "\t\"name\": \"Cake\",\n",
    "\t\"ppu\": 0.55,\n",
    "\t\"batters\":\n",
    "\t\t{\n",
    "\t\t\t\"batter\":\n",
    "\t\t\t\t[\n",
    "\t\t\t\t\t{ \"id\": \"1001\", \"type\": \"Regular\" },\n",
    "\t\t\t\t\t{ \"id\": \"1002\", \"type\": \"Chocolate\" },\n",
    "\t\t\t\t\t{ \"id\": \"1003\", \"type\": \"Blueberry\" },\n",
    "\t\t\t\t\t{ \"id\": \"1004\", \"type\": \"Devil's Food\" }\n",
    "\t\t\t\t]\n",
    "\t\t},\n",
    "\t\"topping\":\n",
    "\t\t[\n",
    "\t\t\t{ \"id\": \"5001\", \"type\": \"None\" },\n",
    "\t\t\t{ \"id\": \"5002\", \"type\": \"Glazed\" },\n",
    "\t\t\t{ \"id\": \"5005\", \"type\": \"Sugar\" },\n",
    "\t\t\t{ \"id\": \"5007\", \"type\": \"Powdered Sugar\" },\n",
    "\t\t\t{ \"id\": \"5006\", \"type\": \"Chocolate with Sprinkles\" },\n",
    "\t\t\t{ \"id\": \"5003\", \"type\": \"Chocolate\" },\n",
    "\t\t\t{ \"id\": \"5004\", \"type\": \"Maple\" }\n",
    "\t\t]\n",
    "}\n",
    "\"\"\"\n",
    "\n",
    "print(type(obj))"
   ]
  },
  {
   "cell_type": "code",
   "execution_count": 48,
   "id": "c5da165c",
   "metadata": {},
   "outputs": [
    {
     "name": "stdout",
     "output_type": "stream",
     "text": [
      "0001\n",
      "1001\n"
     ]
    }
   ],
   "source": [
    "# id가 0001 인 값 추출\n",
    "\n",
    "a = json.loads(obj)\n",
    "print(a[\"id\"])\n",
    "\n",
    "# id가 1001 인 값 추출\n",
    "\n",
    "print(a[\"batters\"][\"batter\"][0][\"id\"])"
   ]
  },
  {
   "cell_type": "markdown",
   "id": "bba39ffd",
   "metadata": {},
   "source": [
    "# 3. BeautifulSoup"
   ]
  },
  {
   "cell_type": "markdown",
   "id": "374508e6",
   "metadata": {},
   "source": [
    "## (1) 웹 소스 가져오기"
   ]
  },
  {
   "cell_type": "code",
   "execution_count": 49,
   "id": "a2941ff9",
   "metadata": {},
   "outputs": [],
   "source": [
    "import urllib.request as req\n",
    "from urllib.error import HTTPError, URLError"
   ]
  },
  {
   "cell_type": "code",
   "execution_count": 52,
   "id": "334e7789",
   "metadata": {},
   "outputs": [
    {
     "name": "stdout",
     "output_type": "stream",
     "text": [
      "<class 'bytes'>\n"
     ]
    }
   ],
   "source": [
    "google = req.urlopen(\"https://google.com\")\n",
    "html = google.read()    # google 페이지에서 html 코드 가져오기\n",
    "print(type(html))"
   ]
  },
  {
   "cell_type": "code",
   "execution_count": 53,
   "id": "105be961",
   "metadata": {},
   "outputs": [],
   "source": [
    "try:\n",
    "    google = req.urlopen(\"https://google.com\")\n",
    "except HTTPError as e:\n",
    "    print(\"HTTPError : \" , e)\n",
    "except ULRError as e:\n",
    "    print(\"URLError : \" , e)\n",
    "else:\n",
    "    html = google.read()"
   ]
  },
  {
   "cell_type": "code",
   "execution_count": 54,
   "id": "f555e734",
   "metadata": {},
   "outputs": [
    {
     "data": {
      "text/plain": [
       "('data/google1.png', <http.client.HTTPMessage at 0x2606d609af0>)"
      ]
     },
     "execution_count": 54,
     "metadata": {},
     "output_type": "execute_result"
    }
   ],
   "source": [
    "##### 이미지 가져오기\n",
    "req.urlretrieve(\"https://www.google.co.kr/images/branding/googlelogo/1x/googlelogo_color_272x92dp.png\", \"data/google1.png\")"
   ]
  },
  {
   "cell_type": "code",
   "execution_count": 59,
   "id": "13c51de4",
   "metadata": {},
   "outputs": [],
   "source": [
    "img = req.urlopen(\"https://www.google.co.kr/images/branding/googlelogo/1x/googlelogo_color_272x92dp.png\")\n",
    "img_data = img.read()\n",
    "img_data\n",
    "\n",
    "f = open(\"data/google2.png\", \"wb\")\n",
    "f.write(img_data)\n",
    "f.close()"
   ]
  },
  {
   "cell_type": "code",
   "execution_count": null,
   "id": "15d3e1eb",
   "metadata": {},
   "outputs": [],
   "source": []
  },
  {
   "cell_type": "code",
   "execution_count": null,
   "id": "fab08198",
   "metadata": {},
   "outputs": [],
   "source": []
  },
  {
   "cell_type": "code",
   "execution_count": null,
   "id": "ec87cdc3",
   "metadata": {},
   "outputs": [],
   "source": []
  },
  {
   "cell_type": "code",
   "execution_count": null,
   "id": "849fa3ad",
   "metadata": {},
   "outputs": [],
   "source": []
  },
  {
   "cell_type": "code",
   "execution_count": null,
   "id": "5b7b4a13",
   "metadata": {},
   "outputs": [],
   "source": []
  },
  {
   "cell_type": "code",
   "execution_count": null,
   "id": "50ba1f03",
   "metadata": {},
   "outputs": [],
   "source": []
  },
  {
   "cell_type": "code",
   "execution_count": null,
   "id": "08546e48",
   "metadata": {},
   "outputs": [],
   "source": []
  },
  {
   "cell_type": "code",
   "execution_count": null,
   "id": "2891c415",
   "metadata": {},
   "outputs": [],
   "source": []
  },
  {
   "cell_type": "code",
   "execution_count": null,
   "id": "9e334f11",
   "metadata": {},
   "outputs": [],
   "source": []
  }
 ],
 "metadata": {
  "kernelspec": {
   "display_name": "Python 3 (ipykernel)",
   "language": "python",
   "name": "python3"
  },
  "language_info": {
   "codemirror_mode": {
    "name": "ipython",
    "version": 3
   },
   "file_extension": ".py",
   "mimetype": "text/x-python",
   "name": "python",
   "nbconvert_exporter": "python",
   "pygments_lexer": "ipython3",
   "version": "3.9.12"
  }
 },
 "nbformat": 4,
 "nbformat_minor": 5
}
