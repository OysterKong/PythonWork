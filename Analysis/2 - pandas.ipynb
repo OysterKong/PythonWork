{
 "cells": [
  {
   "cell_type": "markdown",
   "id": "89d98f28",
   "metadata": {},
   "source": [
    "## pandas에서 제공하는 대표적인 자료 구조\n",
    "\n",
    "+ Series\n",
    "+ DataFrame\n",
    "+ https://pandas.pydata.org"
   ]
  },
  {
   "cell_type": "code",
   "execution_count": 2,
   "id": "c7c5e670",
   "metadata": {},
   "outputs": [],
   "source": [
    "import numpy as np\n",
    "import pandas as pd"
   ]
  },
  {
   "cell_type": "markdown",
   "id": "db0ddcee",
   "metadata": {},
   "source": [
    "### 1. Series\n",
    "\n",
    "+ 값과 인덱스를 하나로 합친 구조"
   ]
  },
  {
   "cell_type": "code",
   "execution_count": 4,
   "id": "d80f73d0",
   "metadata": {},
   "outputs": [
    {
     "name": "stdout",
     "output_type": "stream",
     "text": [
      "0    9904312\n",
      "1    3448737\n",
      "2    2890451\n",
      "3    2466052\n",
      "dtype: int64\n",
      "<class 'pandas.core.series.Series'>\n"
     ]
    }
   ],
   "source": [
    "s = pd.Series([9904312, 3448737, 2890451, 2466052])  #여기서 사용한 [] 데이터는 배열이 아닌 리스트이니 착오금지\n",
    "print(s)\n",
    "print(type(s))  #리스트를 시리즈 형식으로 바꿔준 것"
   ]
  },
  {
   "cell_type": "code",
   "execution_count": 5,
   "id": "ca94983e",
   "metadata": {},
   "outputs": [
    {
     "name": "stdout",
     "output_type": "stream",
     "text": [
      "(0, 9904312)\n",
      "(1, 3448737)\n",
      "(2, 2890451)\n",
      "(3, 2466052)\n"
     ]
    }
   ],
   "source": [
    "for i in enumerate([9904312, 3448737, 2890451, 2466052]):\n",
    "    print(i)"
   ]
  },
  {
   "cell_type": "code",
   "execution_count": 10,
   "id": "00833cf0",
   "metadata": {},
   "outputs": [
    {
     "name": "stdout",
     "output_type": "stream",
     "text": [
      "서울    9904312\n",
      "부산    3448737\n",
      "인천    2890451\n",
      "대구    2466052\n",
      "dtype: int64\n",
      "--------------------------------------------------\n",
      "[9904312 3448737 2890451 2466052] <class 'numpy.ndarray'>\n",
      "Index(['서울', '부산', '인천', '대구'], dtype='object')\n",
      "--------------------------------------------------\n",
      "도시\n",
      "서울    9904312\n",
      "부산    3448737\n",
      "인천    2890451\n",
      "대구    2466052\n",
      "dtype: int64\n",
      "--------------------------------------------------\n",
      "도시\n",
      "서울    9904312\n",
      "부산    3448737\n",
      "인천    2890451\n",
      "대구    2466052\n",
      "Name: 인구, dtype: int64\n"
     ]
    }
   ],
   "source": [
    "##### 인덱스를 자유롭게 지정\n",
    "\n",
    "s = pd.Series([9904312, 3448737, 2890451, 2466052], index=[\"서울\", \"부산\", \"인천\", \"대구\"])\n",
    "print(s)\n",
    "\n",
    "print(\"--------------------------------------------------\")\n",
    "\n",
    "print(s.values, type(s.values))  # 값만 뽑아보기  -  series의 기본 타입은 numpy 배열이라는 점\n",
    "print(s.index)   # 인덱스만 뽑아보기\n",
    "\n",
    "print(\"--------------------------------------------------\")\n",
    "\n",
    "# 인덱스에 이름 지정\n",
    "s.index.name = \"도시\"\n",
    "print(s)\n",
    "\n",
    "print(\"--------------------------------------------------\")\n",
    "\n",
    "# Series 전체에 이름 지정\n",
    "\n",
    "s.name = \"인구\"\n",
    "print(s)"
   ]
  },
  {
   "cell_type": "code",
   "execution_count": 11,
   "id": "ad38a57e",
   "metadata": {},
   "outputs": [
    {
     "name": "stdout",
     "output_type": "stream",
     "text": [
      "도시\n",
      "서울    9.904312\n",
      "부산    3.448737\n",
      "인천    2.890451\n",
      "대구    2.466052\n",
      "Name: 인구, dtype: float64\n"
     ]
    }
   ],
   "source": [
    "##### 벡터화 연산\n",
    "\n",
    "s1 = s / 1000000\n",
    "print(s1)"
   ]
  },
  {
   "cell_type": "code",
   "execution_count": 17,
   "id": "f79de895",
   "metadata": {},
   "outputs": [
    {
     "name": "stdout",
     "output_type": "stream",
     "text": [
      "3448737 3448737\n",
      "------------------------\n",
      "도시\n",
      "부산    3448737\n",
      "인천    2890451\n",
      "Name: 인구, dtype: int64\n",
      "도시\n",
      "부산    3448737\n",
      "인천    2890451\n",
      "Name: 인구, dtype: int64\n",
      "------------------------\n",
      "3448737 ,  9904312\n",
      "------------------------\n",
      "도시\n",
      "부산    3448737\n",
      "인천    2890451\n",
      "Name: 인구, dtype: int64\n"
     ]
    }
   ],
   "source": [
    "##### 인덱싱\n",
    "\n",
    "print(s[1], s[\"부산\"])\n",
    "\n",
    "print(\"------------------------\")\n",
    "\n",
    "print(s[1:3])                  #숫자 인덱스는 끝자리가 -1 인것을 항상 생각해야한다.\n",
    "print(s[\"부산\":\"인천\"])        #다만 문자로 표현시에는 그럴 필요가 없다.\n",
    "\n",
    "print(\"------------------------\")\n",
    "\n",
    "print(s.부산, \", \", s.서울)\n",
    "\n",
    "print(\"------------------------\")\n",
    "\n",
    "print(s[(s > 250e4) & (s < 500e4)])   #250만 이상 500만 이하"
   ]
  },
  {
   "cell_type": "code",
   "execution_count": 22,
   "id": "b764abb9",
   "metadata": {},
   "outputs": [
    {
     "name": "stdout",
     "output_type": "stream",
     "text": [
      "True\n",
      "False\n",
      "------------------------------\n",
      "[('서울', 9904312), ('부산', 3448737), ('인천', 2890451), ('대구', 2466052)]\n",
      "------------------------------\n",
      "서울    9904312\n",
      "부산    3448737\n",
      "인천    2890451\n",
      "대전    1490158\n",
      "dtype: int64\n"
     ]
    }
   ],
   "source": [
    "##### Series와 dict\n",
    "\n",
    "print(\"서울\" in s)\n",
    "print(\"대전\" in s)\n",
    "\n",
    "print(\"------------------------------\")\n",
    "\n",
    "# dict에서 사용하는 items() 사용가능\n",
    "print(list(s.items()))\n",
    "\n",
    "print(\"------------------------------\")\n",
    "\n",
    "# dict 형식으로 데이터 준비\n",
    "s2 = pd.Series({\"서울\" : 9904312, \"부산\" : 3448737, \"인천\" : 2890451, \"대전\" : 1490158})\n",
    "print(s2)"
   ]
  },
  {
   "cell_type": "code",
   "execution_count": 28,
   "id": "6d5c9b71",
   "metadata": {},
   "outputs": [
    {
     "name": "stdout",
     "output_type": "stream",
     "text": [
      "도시\n",
      "서울    9904312\n",
      "부산    3448737\n",
      "인천    2890451\n",
      "대구    2466052\n",
      "Name: 인구, dtype: int64\n",
      "------------------------------\n",
      "서울    9904312\n",
      "부산    3448737\n",
      "인천    2890451\n",
      "대전    1490158\n",
      "dtype: int64\n",
      "------------------------------\n",
      "대구    NaN\n",
      "대전    NaN\n",
      "부산    0.0\n",
      "서울    0.0\n",
      "인천    0.0\n",
      "dtype: float64\n",
      "------------------------------\n",
      "[     0      0      0 975894]\n"
     ]
    }
   ],
   "source": [
    "##### 인덱스 기반 연산\n",
    "\n",
    "print(s)\n",
    "print(\"------------------------------\")\n",
    "print(s2)\n",
    "print(\"------------------------------\")\n",
    "\n",
    "result = s - s2\n",
    "\n",
    "print(result)   # 인덱스 연산하면 맞는 인덱스를 찾아서 알아서 연산\n",
    "\n",
    "print(\"------------------------------\")\n",
    "\n",
    "print(s.values - s2.values)  #값으로 연산하면 순서대로 연산"
   ]
  },
  {
   "cell_type": "code",
   "execution_count": 32,
   "id": "365f6cea",
   "metadata": {},
   "outputs": [
    {
     "name": "stdout",
     "output_type": "stream",
     "text": [
      "대구    NaN\n",
      "대전    NaN\n",
      "부산    0.0\n",
      "서울    0.0\n",
      "인천    0.0\n",
      "dtype: float64\n",
      "대구    False\n",
      "대전    False\n",
      "부산     True\n",
      "서울     True\n",
      "인천     True\n",
      "dtype: bool\n",
      "부산    0.0\n",
      "서울    0.0\n",
      "인천    0.0\n",
      "dtype: float64\n"
     ]
    }
   ],
   "source": [
    "##### 결측치 제거\n",
    "\n",
    "print(result)\n",
    "print(result.notnull())  # notnull() 을 사용하면 값을 True, False 로 바꿔준다.\n",
    "print(result[result.notnull()])"
   ]
  },
  {
   "cell_type": "code",
   "execution_count": 37,
   "id": "86c5bac2",
   "metadata": {},
   "outputs": [
    {
     "name": "stdout",
     "output_type": "stream",
     "text": [
      "대구     NaN\n",
      "대전     NaN\n",
      "부산    1.63\n",
      "서울    0.00\n",
      "인천    0.00\n",
      "경기    2.45\n",
      "dtype: float64\n",
      "------------------------------------------\n",
      "대구     NaN\n",
      "대전     NaN\n",
      "부산    1.63\n",
      "서울    0.00\n",
      "인천    0.00\n",
      "경기    2.45\n",
      "dtype: float64\n",
      "------------------------------------------\n",
      "대구     NaN\n",
      "대전     NaN\n",
      "부산    1.63\n",
      "서울    0.00\n",
      "인천    0.00\n",
      "경기    2.45\n",
      "dtype: float64\n",
      "------------------------------------------\n",
      "대구     NaN\n",
      "대전     NaN\n",
      "부산    1.63\n",
      "인천    0.00\n",
      "경기    2.45\n",
      "dtype: float64\n"
     ]
    }
   ],
   "source": [
    "##### 데이터 수정, 삭제, 추가\n",
    "\n",
    "print(result)\n",
    "print(\"------------------------------------------\")\n",
    "result[\"부산\"] = 1.63   # 데이터 수정  (인덱스 찾아서 간단히 수정가능)\n",
    "print(result)\n",
    "print(\"------------------------------------------\")\n",
    "result[\"경기\"] = 2.45   # 데이터 추가 (dict와 똑같이 인덱스로 추가시 원본데이터에 동일한게 없으면 추가됨)\n",
    "print(result)\n",
    "print(\"------------------------------------------\")\n",
    "del result[\"서울\"]   # 데이터 삭제\n",
    "print(result)"
   ]
  },
  {
   "cell_type": "markdown",
   "id": "cee6ff69",
   "metadata": {},
   "source": [
    "### 2. DataFrame\n",
    "\n",
    "+ 여러 개의 Series를 묶어놓은 것"
   ]
  },
  {
   "cell_type": "code",
   "execution_count": 39,
   "id": "fb2fe038",
   "metadata": {},
   "outputs": [],
   "source": [
    "data = {\n",
    "    \"2015\": [9904312, 3448737, 2890451, 2466052],\n",
    "    \"2010\": [9631482, 3393191, 2632035, 2431774],\n",
    "    \"2005\": [9762546, 3512547, 2517680, 2456016],\n",
    "    \"2000\": [9853972, 3655437, 2466338, 2473990],\n",
    "    \"지역\": [\"수도권\", \"경상권\", \"수도권\", \"경상권\"],\n",
    "    \"2010-2015 증가율\": [0.0283, 0.0163, 0.0982, 0.0141]\n",
    "}\n"
   ]
  },
  {
   "cell_type": "code",
   "execution_count": 42,
   "id": "b4cc3de7",
   "metadata": {},
   "outputs": [
    {
     "data": {
      "text/html": [
       "<div>\n",
       "<style scoped>\n",
       "    .dataframe tbody tr th:only-of-type {\n",
       "        vertical-align: middle;\n",
       "    }\n",
       "\n",
       "    .dataframe tbody tr th {\n",
       "        vertical-align: top;\n",
       "    }\n",
       "\n",
       "    .dataframe thead th {\n",
       "        text-align: right;\n",
       "    }\n",
       "</style>\n",
       "<table border=\"1\" class=\"dataframe\">\n",
       "  <thead>\n",
       "    <tr style=\"text-align: right;\">\n",
       "      <th></th>\n",
       "      <th>2015</th>\n",
       "      <th>2010</th>\n",
       "      <th>2005</th>\n",
       "      <th>2000</th>\n",
       "      <th>지역</th>\n",
       "      <th>2010-2015 증가율</th>\n",
       "    </tr>\n",
       "  </thead>\n",
       "  <tbody>\n",
       "    <tr>\n",
       "      <th>0</th>\n",
       "      <td>9904312</td>\n",
       "      <td>9631482</td>\n",
       "      <td>9762546</td>\n",
       "      <td>9853972</td>\n",
       "      <td>수도권</td>\n",
       "      <td>0.0283</td>\n",
       "    </tr>\n",
       "    <tr>\n",
       "      <th>1</th>\n",
       "      <td>3448737</td>\n",
       "      <td>3393191</td>\n",
       "      <td>3512547</td>\n",
       "      <td>3655437</td>\n",
       "      <td>경상권</td>\n",
       "      <td>0.0163</td>\n",
       "    </tr>\n",
       "    <tr>\n",
       "      <th>2</th>\n",
       "      <td>2890451</td>\n",
       "      <td>2632035</td>\n",
       "      <td>2517680</td>\n",
       "      <td>2466338</td>\n",
       "      <td>수도권</td>\n",
       "      <td>0.0982</td>\n",
       "    </tr>\n",
       "    <tr>\n",
       "      <th>3</th>\n",
       "      <td>2466052</td>\n",
       "      <td>2431774</td>\n",
       "      <td>2456016</td>\n",
       "      <td>2473990</td>\n",
       "      <td>경상권</td>\n",
       "      <td>0.0141</td>\n",
       "    </tr>\n",
       "  </tbody>\n",
       "</table>\n",
       "</div>"
      ],
      "text/plain": [
       "      2015     2010     2005     2000   지역  2010-2015 증가율\n",
       "0  9904312  9631482  9762546  9853972  수도권         0.0283\n",
       "1  3448737  3393191  3512547  3655437  경상권         0.0163\n",
       "2  2890451  2632035  2517680  2466338  수도권         0.0982\n",
       "3  2466052  2431774  2456016  2473990  경상권         0.0141"
      ]
     },
     "execution_count": 42,
     "metadata": {},
     "output_type": "execute_result"
    }
   ],
   "source": [
    "df = pd.DataFrame(data)\n",
    "df   #그냥 사용시 웹브라우저 형식으로 출력\n",
    "\n",
    "# print(df)    #print형식 사용시 파이썬 형식으로 출력"
   ]
  },
  {
   "cell_type": "markdown",
   "id": "e3573108",
   "metadata": {},
   "source": [
    "#### (1) 컬럼의 순서(위치) 바꾸기"
   ]
  },
  {
   "cell_type": "code",
   "execution_count": 45,
   "id": "6e1a955c",
   "metadata": {},
   "outputs": [
    {
     "data": {
      "text/html": [
       "<div>\n",
       "<style scoped>\n",
       "    .dataframe tbody tr th:only-of-type {\n",
       "        vertical-align: middle;\n",
       "    }\n",
       "\n",
       "    .dataframe tbody tr th {\n",
       "        vertical-align: top;\n",
       "    }\n",
       "\n",
       "    .dataframe thead th {\n",
       "        text-align: right;\n",
       "    }\n",
       "</style>\n",
       "<table border=\"1\" class=\"dataframe\">\n",
       "  <thead>\n",
       "    <tr style=\"text-align: right;\">\n",
       "      <th></th>\n",
       "      <th>지역</th>\n",
       "      <th>2015</th>\n",
       "      <th>2010</th>\n",
       "      <th>2005</th>\n",
       "      <th>2000</th>\n",
       "      <th>2010-2015 증가율</th>\n",
       "    </tr>\n",
       "  </thead>\n",
       "  <tbody>\n",
       "    <tr>\n",
       "      <th>0</th>\n",
       "      <td>수도권</td>\n",
       "      <td>9904312</td>\n",
       "      <td>9631482</td>\n",
       "      <td>9762546</td>\n",
       "      <td>9853972</td>\n",
       "      <td>0.0283</td>\n",
       "    </tr>\n",
       "    <tr>\n",
       "      <th>1</th>\n",
       "      <td>경상권</td>\n",
       "      <td>3448737</td>\n",
       "      <td>3393191</td>\n",
       "      <td>3512547</td>\n",
       "      <td>3655437</td>\n",
       "      <td>0.0163</td>\n",
       "    </tr>\n",
       "    <tr>\n",
       "      <th>2</th>\n",
       "      <td>수도권</td>\n",
       "      <td>2890451</td>\n",
       "      <td>2632035</td>\n",
       "      <td>2517680</td>\n",
       "      <td>2466338</td>\n",
       "      <td>0.0982</td>\n",
       "    </tr>\n",
       "    <tr>\n",
       "      <th>3</th>\n",
       "      <td>경상권</td>\n",
       "      <td>2466052</td>\n",
       "      <td>2431774</td>\n",
       "      <td>2456016</td>\n",
       "      <td>2473990</td>\n",
       "      <td>0.0141</td>\n",
       "    </tr>\n",
       "  </tbody>\n",
       "</table>\n",
       "</div>"
      ],
      "text/plain": [
       "    지역     2015     2010     2005     2000  2010-2015 증가율\n",
       "0  수도권  9904312  9631482  9762546  9853972         0.0283\n",
       "1  경상권  3448737  3393191  3512547  3655437         0.0163\n",
       "2  수도권  2890451  2632035  2517680  2466338         0.0982\n",
       "3  경상권  2466052  2431774  2456016  2473990         0.0141"
      ]
     },
     "execution_count": 45,
     "metadata": {},
     "output_type": "execute_result"
    }
   ],
   "source": [
    "cols = [\"지역\", \"2015\", \"2010\", \"2005\", \"2000\", \"2010-2015 증가율\"]\n",
    "df = pd.DataFrame(data, columns = cols)     # columns 라는 옵션을 사용해서 컬럼을 지정할 수 있다.\n",
    "df"
   ]
  },
  {
   "cell_type": "markdown",
   "id": "bab2870a",
   "metadata": {},
   "source": [
    "#### (2) 인덱스 변경"
   ]
  },
  {
   "cell_type": "code",
   "execution_count": 46,
   "id": "8a7cac4d",
   "metadata": {},
   "outputs": [
    {
     "data": {
      "text/html": [
       "<div>\n",
       "<style scoped>\n",
       "    .dataframe tbody tr th:only-of-type {\n",
       "        vertical-align: middle;\n",
       "    }\n",
       "\n",
       "    .dataframe tbody tr th {\n",
       "        vertical-align: top;\n",
       "    }\n",
       "\n",
       "    .dataframe thead th {\n",
       "        text-align: right;\n",
       "    }\n",
       "</style>\n",
       "<table border=\"1\" class=\"dataframe\">\n",
       "  <thead>\n",
       "    <tr style=\"text-align: right;\">\n",
       "      <th></th>\n",
       "      <th>지역</th>\n",
       "      <th>2015</th>\n",
       "      <th>2010</th>\n",
       "      <th>2005</th>\n",
       "      <th>2000</th>\n",
       "      <th>2010-2015 증가율</th>\n",
       "    </tr>\n",
       "  </thead>\n",
       "  <tbody>\n",
       "    <tr>\n",
       "      <th>서울</th>\n",
       "      <td>수도권</td>\n",
       "      <td>9904312</td>\n",
       "      <td>9631482</td>\n",
       "      <td>9762546</td>\n",
       "      <td>9853972</td>\n",
       "      <td>0.0283</td>\n",
       "    </tr>\n",
       "    <tr>\n",
       "      <th>부산</th>\n",
       "      <td>경상권</td>\n",
       "      <td>3448737</td>\n",
       "      <td>3393191</td>\n",
       "      <td>3512547</td>\n",
       "      <td>3655437</td>\n",
       "      <td>0.0163</td>\n",
       "    </tr>\n",
       "    <tr>\n",
       "      <th>인천</th>\n",
       "      <td>수도권</td>\n",
       "      <td>2890451</td>\n",
       "      <td>2632035</td>\n",
       "      <td>2517680</td>\n",
       "      <td>2466338</td>\n",
       "      <td>0.0982</td>\n",
       "    </tr>\n",
       "    <tr>\n",
       "      <th>대구</th>\n",
       "      <td>경상권</td>\n",
       "      <td>2466052</td>\n",
       "      <td>2431774</td>\n",
       "      <td>2456016</td>\n",
       "      <td>2473990</td>\n",
       "      <td>0.0141</td>\n",
       "    </tr>\n",
       "  </tbody>\n",
       "</table>\n",
       "</div>"
      ],
      "text/plain": [
       "     지역     2015     2010     2005     2000  2010-2015 증가율\n",
       "서울  수도권  9904312  9631482  9762546  9853972         0.0283\n",
       "부산  경상권  3448737  3393191  3512547  3655437         0.0163\n",
       "인천  수도권  2890451  2632035  2517680  2466338         0.0982\n",
       "대구  경상권  2466052  2431774  2456016  2473990         0.0141"
      ]
     },
     "execution_count": 46,
     "metadata": {},
     "output_type": "execute_result"
    }
   ],
   "source": [
    "idx = [\"서울\", \"부산\", \"인천\", \"대구\"]\n",
    "df = pd.DataFrame(data, columns = cols, index = idx)     # index 속성 이용해서 인덱스 변경 가능\n",
    "df"
   ]
  },
  {
   "cell_type": "code",
   "execution_count": 49,
   "id": "02a20b57",
   "metadata": {},
   "outputs": [
    {
     "name": "stdout",
     "output_type": "stream",
     "text": [
      "[['수도권' 9904312 9631482 9762546 9853972 0.0283]\n",
      " ['경상권' 3448737 3393191 3512547 3655437 0.0163]\n",
      " ['수도권' 2890451 2632035 2517680 2466338 0.0982]\n",
      " ['경상권' 2466052 2431774 2456016 2473990 0.0141]]\n",
      "Index(['지역', '2015', '2010', '2005', '2000', '2010-2015 증가율'], dtype='object')\n",
      "Index(['서울', '부산', '인천', '대구'], dtype='object')\n"
     ]
    }
   ],
   "source": [
    "print(df.values)\n",
    "print(df.columns)\n",
    "print(df.index)"
   ]
  },
  {
   "cell_type": "code",
   "execution_count": 51,
   "id": "8901f273",
   "metadata": {},
   "outputs": [
    {
     "data": {
      "text/html": [
       "<div>\n",
       "<style scoped>\n",
       "    .dataframe tbody tr th:only-of-type {\n",
       "        vertical-align: middle;\n",
       "    }\n",
       "\n",
       "    .dataframe tbody tr th {\n",
       "        vertical-align: top;\n",
       "    }\n",
       "\n",
       "    .dataframe thead th {\n",
       "        text-align: right;\n",
       "    }\n",
       "</style>\n",
       "<table border=\"1\" class=\"dataframe\">\n",
       "  <thead>\n",
       "    <tr style=\"text-align: right;\">\n",
       "      <th>특성</th>\n",
       "      <th>지역</th>\n",
       "      <th>2015</th>\n",
       "      <th>2010</th>\n",
       "      <th>2005</th>\n",
       "      <th>2000</th>\n",
       "      <th>2010-2015 증가율</th>\n",
       "    </tr>\n",
       "    <tr>\n",
       "      <th>도시</th>\n",
       "      <th></th>\n",
       "      <th></th>\n",
       "      <th></th>\n",
       "      <th></th>\n",
       "      <th></th>\n",
       "      <th></th>\n",
       "    </tr>\n",
       "  </thead>\n",
       "  <tbody>\n",
       "    <tr>\n",
       "      <th>서울</th>\n",
       "      <td>수도권</td>\n",
       "      <td>9904312</td>\n",
       "      <td>9631482</td>\n",
       "      <td>9762546</td>\n",
       "      <td>9853972</td>\n",
       "      <td>0.0283</td>\n",
       "    </tr>\n",
       "    <tr>\n",
       "      <th>부산</th>\n",
       "      <td>경상권</td>\n",
       "      <td>3448737</td>\n",
       "      <td>3393191</td>\n",
       "      <td>3512547</td>\n",
       "      <td>3655437</td>\n",
       "      <td>0.0163</td>\n",
       "    </tr>\n",
       "    <tr>\n",
       "      <th>인천</th>\n",
       "      <td>수도권</td>\n",
       "      <td>2890451</td>\n",
       "      <td>2632035</td>\n",
       "      <td>2517680</td>\n",
       "      <td>2466338</td>\n",
       "      <td>0.0982</td>\n",
       "    </tr>\n",
       "    <tr>\n",
       "      <th>대구</th>\n",
       "      <td>경상권</td>\n",
       "      <td>2466052</td>\n",
       "      <td>2431774</td>\n",
       "      <td>2456016</td>\n",
       "      <td>2473990</td>\n",
       "      <td>0.0141</td>\n",
       "    </tr>\n",
       "  </tbody>\n",
       "</table>\n",
       "</div>"
      ],
      "text/plain": [
       "특성   지역     2015     2010     2005     2000  2010-2015 증가율\n",
       "도시                                                        \n",
       "서울  수도권  9904312  9631482  9762546  9853972         0.0283\n",
       "부산  경상권  3448737  3393191  3512547  3655437         0.0163\n",
       "인천  수도권  2890451  2632035  2517680  2466338         0.0982\n",
       "대구  경상권  2466052  2431774  2456016  2473990         0.0141"
      ]
     },
     "execution_count": 51,
     "metadata": {},
     "output_type": "execute_result"
    }
   ],
   "source": [
    "##### 컬럼과 인덱스에 이름 부여\n",
    "\n",
    "df.index.name = \"도시\"\n",
    "df.columns.name = \"특성\"\n",
    "df"
   ]
  },
  {
   "cell_type": "code",
   "execution_count": 52,
   "id": "26704f5b",
   "metadata": {},
   "outputs": [
    {
     "data": {
      "text/html": [
       "<div>\n",
       "<style scoped>\n",
       "    .dataframe tbody tr th:only-of-type {\n",
       "        vertical-align: middle;\n",
       "    }\n",
       "\n",
       "    .dataframe tbody tr th {\n",
       "        vertical-align: top;\n",
       "    }\n",
       "\n",
       "    .dataframe thead th {\n",
       "        text-align: right;\n",
       "    }\n",
       "</style>\n",
       "<table border=\"1\" class=\"dataframe\">\n",
       "  <thead>\n",
       "    <tr style=\"text-align: right;\">\n",
       "      <th>도시</th>\n",
       "      <th>서울</th>\n",
       "      <th>부산</th>\n",
       "      <th>인천</th>\n",
       "      <th>대구</th>\n",
       "    </tr>\n",
       "    <tr>\n",
       "      <th>특성</th>\n",
       "      <th></th>\n",
       "      <th></th>\n",
       "      <th></th>\n",
       "      <th></th>\n",
       "    </tr>\n",
       "  </thead>\n",
       "  <tbody>\n",
       "    <tr>\n",
       "      <th>지역</th>\n",
       "      <td>수도권</td>\n",
       "      <td>경상권</td>\n",
       "      <td>수도권</td>\n",
       "      <td>경상권</td>\n",
       "    </tr>\n",
       "    <tr>\n",
       "      <th>2015</th>\n",
       "      <td>9904312</td>\n",
       "      <td>3448737</td>\n",
       "      <td>2890451</td>\n",
       "      <td>2466052</td>\n",
       "    </tr>\n",
       "    <tr>\n",
       "      <th>2010</th>\n",
       "      <td>9631482</td>\n",
       "      <td>3393191</td>\n",
       "      <td>2632035</td>\n",
       "      <td>2431774</td>\n",
       "    </tr>\n",
       "    <tr>\n",
       "      <th>2005</th>\n",
       "      <td>9762546</td>\n",
       "      <td>3512547</td>\n",
       "      <td>2517680</td>\n",
       "      <td>2456016</td>\n",
       "    </tr>\n",
       "    <tr>\n",
       "      <th>2000</th>\n",
       "      <td>9853972</td>\n",
       "      <td>3655437</td>\n",
       "      <td>2466338</td>\n",
       "      <td>2473990</td>\n",
       "    </tr>\n",
       "    <tr>\n",
       "      <th>2010-2015 증가율</th>\n",
       "      <td>0.0283</td>\n",
       "      <td>0.0163</td>\n",
       "      <td>0.0982</td>\n",
       "      <td>0.0141</td>\n",
       "    </tr>\n",
       "  </tbody>\n",
       "</table>\n",
       "</div>"
      ],
      "text/plain": [
       "도시                  서울       부산       인천       대구\n",
       "특성                                               \n",
       "지역                 수도권      경상권      수도권      경상권\n",
       "2015           9904312  3448737  2890451  2466052\n",
       "2010           9631482  3393191  2632035  2431774\n",
       "2005           9762546  3512547  2517680  2456016\n",
       "2000           9853972  3655437  2466338  2473990\n",
       "2010-2015 증가율   0.0283   0.0163   0.0982   0.0141"
      ]
     },
     "execution_count": 52,
     "metadata": {},
     "output_type": "execute_result"
    }
   ],
   "source": [
    "##### 전치\n",
    "\n",
    "df.T"
   ]
  },
  {
   "cell_type": "markdown",
   "id": "802130dd",
   "metadata": {},
   "source": [
    "#### (3) 인덱싱"
   ]
  },
  {
   "cell_type": "code",
   "execution_count": 53,
   "id": "f757972e",
   "metadata": {},
   "outputs": [
    {
     "data": {
      "text/html": [
       "<div>\n",
       "<style scoped>\n",
       "    .dataframe tbody tr th:only-of-type {\n",
       "        vertical-align: middle;\n",
       "    }\n",
       "\n",
       "    .dataframe tbody tr th {\n",
       "        vertical-align: top;\n",
       "    }\n",
       "\n",
       "    .dataframe thead th {\n",
       "        text-align: right;\n",
       "    }\n",
       "</style>\n",
       "<table border=\"1\" class=\"dataframe\">\n",
       "  <thead>\n",
       "    <tr style=\"text-align: right;\">\n",
       "      <th>특성</th>\n",
       "      <th>지역</th>\n",
       "      <th>2015</th>\n",
       "      <th>2010</th>\n",
       "      <th>2005</th>\n",
       "      <th>2000</th>\n",
       "      <th>2010-2015 증가율</th>\n",
       "    </tr>\n",
       "    <tr>\n",
       "      <th>도시</th>\n",
       "      <th></th>\n",
       "      <th></th>\n",
       "      <th></th>\n",
       "      <th></th>\n",
       "      <th></th>\n",
       "      <th></th>\n",
       "    </tr>\n",
       "  </thead>\n",
       "  <tbody>\n",
       "    <tr>\n",
       "      <th>서울</th>\n",
       "      <td>수도권</td>\n",
       "      <td>9904312</td>\n",
       "      <td>9631482</td>\n",
       "      <td>9762546</td>\n",
       "      <td>9853972</td>\n",
       "      <td>0.0283</td>\n",
       "    </tr>\n",
       "    <tr>\n",
       "      <th>부산</th>\n",
       "      <td>경상권</td>\n",
       "      <td>3448737</td>\n",
       "      <td>3393191</td>\n",
       "      <td>3512547</td>\n",
       "      <td>3655437</td>\n",
       "      <td>0.0163</td>\n",
       "    </tr>\n",
       "    <tr>\n",
       "      <th>인천</th>\n",
       "      <td>수도권</td>\n",
       "      <td>2890451</td>\n",
       "      <td>2632035</td>\n",
       "      <td>2517680</td>\n",
       "      <td>2466338</td>\n",
       "      <td>0.0982</td>\n",
       "    </tr>\n",
       "    <tr>\n",
       "      <th>대구</th>\n",
       "      <td>경상권</td>\n",
       "      <td>2466052</td>\n",
       "      <td>2431774</td>\n",
       "      <td>2456016</td>\n",
       "      <td>2473990</td>\n",
       "      <td>0.0141</td>\n",
       "    </tr>\n",
       "  </tbody>\n",
       "</table>\n",
       "</div>"
      ],
      "text/plain": [
       "특성   지역     2015     2010     2005     2000  2010-2015 증가율\n",
       "도시                                                        \n",
       "서울  수도권  9904312  9631482  9762546  9853972         0.0283\n",
       "부산  경상권  3448737  3393191  3512547  3655437         0.0163\n",
       "인천  수도권  2890451  2632035  2517680  2466338         0.0982\n",
       "대구  경상권  2466052  2431774  2456016  2473990         0.0141"
      ]
     },
     "execution_count": 53,
     "metadata": {},
     "output_type": "execute_result"
    }
   ],
   "source": [
    "df"
   ]
  },
  {
   "cell_type": "code",
   "execution_count": 63,
   "id": "92525997",
   "metadata": {},
   "outputs": [
    {
     "name": "stdout",
     "output_type": "stream",
     "text": [
      "도시\n",
      "서울    수도권\n",
      "부산    경상권\n",
      "인천    수도권\n",
      "대구    경상권\n",
      "Name: 지역, dtype: object\n",
      "<class 'pandas.core.series.Series'>\n",
      "----------------------------------------------------\n",
      "특성   지역     2005\n",
      "도시              \n",
      "서울  수도권  9762546\n",
      "부산  경상권  3512547\n",
      "인천  수도권  2517680\n",
      "대구  경상권  2456016\n",
      "<class 'pandas.core.frame.DataFrame'>\n",
      "----------------------------------------------------\n",
      "특성   지역\n",
      "도시     \n",
      "서울  수도권\n",
      "부산  경상권\n",
      "인천  수도권\n",
      "대구  경상권\n",
      "----------------------------------------------------\n"
     ]
    }
   ],
   "source": [
    "##### 열 인덱싱\n",
    "\n",
    "print(df[\"지역\"])      #DataFrame 은 처음 데이터에 접근할때 행이 먼저가 아니라 열이 먼저이므로 이 점 기억해야한다.\n",
    "print(type(df[\"지역\"]))\n",
    "\n",
    "print(\"----------------------------------------------------\")\n",
    "\n",
    "print(df[[\"지역\", \"2005\"]])  # 2개 이상의 열을 조회시에는 타입이 DataFrame 이다.  1개씩 뽑아낼 때는 Series 형식\n",
    "print(type(df[[\"지역\", \"2005\"]]))\n",
    "\n",
    "print(\"----------------------------------------------------\")\n",
    "\n",
    "print(df[[\"지역\"]])   # 1개의 데이터를 가져올 때 타입을 DataFrame 이고 싶으면 한번더 [] 감싸준다.\n",
    "\n",
    "print(\"----------------------------------------------------\")\n",
    "\n",
    "# print(df[0])     # 컬럼이름이 주어졌을 때는 숫자인덱스로 접근불가\n",
    "#print(df[[\"2015\" : \"2005\"]])    # 컬럼이름이 주어졌을 때는 슬라이싱 사용 불가"
   ]
  },
  {
   "cell_type": "code",
   "execution_count": 68,
   "id": "89515b63",
   "metadata": {},
   "outputs": [
    {
     "name": "stdout",
     "output_type": "stream",
     "text": [
      "특성   지역     2015     2010     2005     2000  2010-2015 증가율\n",
      "도시                                                        \n",
      "서울  수도권  9904312  9631482  9762546  9853972         0.0283\n",
      "부산  경상권  3448737  3393191  3512547  3655437         0.0163\n",
      "--------------------------------------------------------------------------\n",
      "특성   지역     2015     2010     2005     2000  2010-2015 증가율\n",
      "도시                                                        \n",
      "서울  수도권  9904312  9631482  9762546  9853972         0.0283\n",
      "부산  경상권  3448737  3393191  3512547  3655437         0.0163\n",
      "인천  수도권  2890451  2632035  2517680  2466338         0.0982\n",
      "대구  경상권  2466052  2431774  2456016  2473990         0.0141\n",
      "--------------------------------------------------------------------------\n",
      "특성   지역     2015     2010     2005     2000  2010-2015 증가율\n",
      "도시                                                        \n",
      "서울  수도권  9904312  9631482  9762546  9853972         0.0283\n"
     ]
    }
   ],
   "source": [
    "##### 행 인덱싱 ( 반드시 : 으로 슬라이싱 )\n",
    "\n",
    "print(df[0 : 2])\n",
    "print(\"--------------------------------------------------------------------------\")\n",
    "print(df[:])\n",
    "print(\"--------------------------------------------------------------------------\")\n",
    "print(df[\"서울\" : \"서울\"])"
   ]
  },
  {
   "cell_type": "code",
   "execution_count": 75,
   "id": "b1174cae",
   "metadata": {},
   "outputs": [
    {
     "name": "stdout",
     "output_type": "stream",
     "text": [
      "2456016\n",
      "특성     2005     2010     2015\n",
      "도시                           \n",
      "서울  9762546  9631482  9904312\n",
      "부산  3512547  3393191  3448737\n",
      "인천  2517680  2632035  2890451\n"
     ]
    }
   ],
   "source": [
    "##### 동시에 열과 행에 접근\n",
    "\n",
    "print(df[\"2005\"][\"대구\"])\n",
    "\n",
    "# 2005년도부터 2015년도까지 서울, 부산, 인천의 인구수를 조회\n",
    "\n",
    "print(df[[\"2005\", \"2010\", \"2015\"]][\"서울\" : \"인천\"])\n"
   ]
  },
  {
   "cell_type": "markdown",
   "id": "838c581d",
   "metadata": {},
   "source": [
    "#### (4) 추가, 수정, 삭제"
   ]
  },
  {
   "cell_type": "code",
   "execution_count": 79,
   "id": "e174f945",
   "metadata": {},
   "outputs": [
    {
     "data": {
      "text/html": [
       "<div>\n",
       "<style scoped>\n",
       "    .dataframe tbody tr th:only-of-type {\n",
       "        vertical-align: middle;\n",
       "    }\n",
       "\n",
       "    .dataframe tbody tr th {\n",
       "        vertical-align: top;\n",
       "    }\n",
       "\n",
       "    .dataframe thead th {\n",
       "        text-align: right;\n",
       "    }\n",
       "</style>\n",
       "<table border=\"1\" class=\"dataframe\">\n",
       "  <thead>\n",
       "    <tr style=\"text-align: right;\">\n",
       "      <th>특성</th>\n",
       "      <th>지역</th>\n",
       "      <th>2015</th>\n",
       "      <th>2010</th>\n",
       "      <th>2005</th>\n",
       "      <th>2000</th>\n",
       "      <th>2010-2015 증가율</th>\n",
       "    </tr>\n",
       "    <tr>\n",
       "      <th>도시</th>\n",
       "      <th></th>\n",
       "      <th></th>\n",
       "      <th></th>\n",
       "      <th></th>\n",
       "      <th></th>\n",
       "      <th></th>\n",
       "    </tr>\n",
       "  </thead>\n",
       "  <tbody>\n",
       "    <tr>\n",
       "      <th>서울</th>\n",
       "      <td>수도권</td>\n",
       "      <td>9904312</td>\n",
       "      <td>9631482</td>\n",
       "      <td>9762546</td>\n",
       "      <td>9853972</td>\n",
       "      <td>2830000.0</td>\n",
       "    </tr>\n",
       "    <tr>\n",
       "      <th>부산</th>\n",
       "      <td>경상권</td>\n",
       "      <td>3448737</td>\n",
       "      <td>3393191</td>\n",
       "      <td>3512547</td>\n",
       "      <td>3655437</td>\n",
       "      <td>1630000.0</td>\n",
       "    </tr>\n",
       "    <tr>\n",
       "      <th>인천</th>\n",
       "      <td>수도권</td>\n",
       "      <td>2890451</td>\n",
       "      <td>2632035</td>\n",
       "      <td>2517680</td>\n",
       "      <td>2466338</td>\n",
       "      <td>9820000.0</td>\n",
       "    </tr>\n",
       "    <tr>\n",
       "      <th>대구</th>\n",
       "      <td>경상권</td>\n",
       "      <td>2466052</td>\n",
       "      <td>2431774</td>\n",
       "      <td>2456016</td>\n",
       "      <td>2473990</td>\n",
       "      <td>1410000.0</td>\n",
       "    </tr>\n",
       "  </tbody>\n",
       "</table>\n",
       "</div>"
      ],
      "text/plain": [
       "특성   지역     2015     2010     2005     2000  2010-2015 증가율\n",
       "도시                                                        \n",
       "서울  수도권  9904312  9631482  9762546  9853972      2830000.0\n",
       "부산  경상권  3448737  3393191  3512547  3655437      1630000.0\n",
       "인천  수도권  2890451  2632035  2517680  2466338      9820000.0\n",
       "대구  경상권  2466052  2431774  2456016  2473990      1410000.0"
      ]
     },
     "execution_count": 79,
     "metadata": {},
     "output_type": "execute_result"
    }
   ],
   "source": [
    "# 수정\n",
    "df[\"2010-2015 증가율\"] = df[\"2010-2015 증가율\"] * 100\n",
    "df\n",
    "\n",
    "# 추가  ( round 함수로 소수점 2자리까지만 표현하도록 감싸준다. )\n",
    "df[\"2005-2010 증가율\"] = ((df[\"2010\"] - df[\"2005\"]) / df[\"2005\"] * 100).round(2)\n",
    "df\n",
    "\n",
    "# 삭제\n",
    "del df[\"2005-2010 증가율\"]\n",
    "df"
   ]
  },
  {
   "cell_type": "markdown",
   "id": "7f254e5b",
   "metadata": {},
   "source": [
    "#### (5) 실습"
   ]
  },
  {
   "cell_type": "code",
   "execution_count": 120,
   "id": "cf9c4fa0",
   "metadata": {},
   "outputs": [
    {
     "data": {
      "text/html": [
       "<div>\n",
       "<style scoped>\n",
       "    .dataframe tbody tr th:only-of-type {\n",
       "        vertical-align: middle;\n",
       "    }\n",
       "\n",
       "    .dataframe tbody tr th {\n",
       "        vertical-align: top;\n",
       "    }\n",
       "\n",
       "    .dataframe thead th {\n",
       "        text-align: right;\n",
       "    }\n",
       "</style>\n",
       "<table border=\"1\" class=\"dataframe\">\n",
       "  <thead>\n",
       "    <tr style=\"text-align: right;\">\n",
       "      <th></th>\n",
       "      <th>국어</th>\n",
       "      <th>영어</th>\n",
       "      <th>수학</th>\n",
       "    </tr>\n",
       "  </thead>\n",
       "  <tbody>\n",
       "    <tr>\n",
       "      <th>0</th>\n",
       "      <td>80</td>\n",
       "      <td>90</td>\n",
       "      <td>90</td>\n",
       "    </tr>\n",
       "    <tr>\n",
       "      <th>1</th>\n",
       "      <td>90</td>\n",
       "      <td>70</td>\n",
       "      <td>60</td>\n",
       "    </tr>\n",
       "    <tr>\n",
       "      <th>2</th>\n",
       "      <td>70</td>\n",
       "      <td>60</td>\n",
       "      <td>80</td>\n",
       "    </tr>\n",
       "    <tr>\n",
       "      <th>3</th>\n",
       "      <td>30</td>\n",
       "      <td>40</td>\n",
       "      <td>70</td>\n",
       "    </tr>\n",
       "  </tbody>\n",
       "</table>\n",
       "</div>"
      ],
      "text/plain": [
       "   국어  영어  수학\n",
       "0  80  90  90\n",
       "1  90  70  60\n",
       "2  70  60  80\n",
       "3  30  40  70"
      ]
     },
     "execution_count": 120,
     "metadata": {},
     "output_type": "execute_result"
    }
   ],
   "source": [
    "data = {\n",
    "    \"국어\" : [80, 90, 70, 30], \n",
    "    \"영어\" : [90, 70, 60, 40], \n",
    "    \"수학\" : [90, 60, 80, 70]\n",
    "}\n",
    "\n",
    "pd.DataFrame(data)\n"
   ]
  },
  {
   "cell_type": "code",
   "execution_count": 177,
   "id": "0f7edbea",
   "metadata": {},
   "outputs": [
    {
     "data": {
      "text/plain": [
       "국어    70\n",
       "영어    60\n",
       "수학    80\n",
       "Name: 향단, dtype: int64"
      ]
     },
     "execution_count": 177,
     "metadata": {},
     "output_type": "execute_result"
    }
   ],
   "source": [
    "# 1) 인덱스를 춘향, 몽룡, 향단, 방자로 구성된 데이터 프레임 df를 작성\n",
    "\n",
    "idx = [\"춘향\", \"몽룡\", \"향단\", \"방자\"]\n",
    "cols = [\"국어\", \"영어\", \"수학\"]\n",
    "df = pd.DataFrame(data, columns = cols, index = idx)\n",
    "df\n",
    "\n",
    "# 2) 모든 학생의 수학 점수를 조회\n",
    "\n",
    "df[[\"수학\"]]\n",
    "\n",
    "# 3) 모든 학생의 국어와 영어 점수를 조회\n",
    "\n",
    "df[[\"국어\",\"영어\"]]\n",
    "\n",
    "# 4) 모든 학생의 각 과목 평균점수를 새로운 열(과목 평균)로 추가\n",
    "\n",
    "df[\"과목평균\"] = ((df[\"국어\"] + df[\"영어\"] + df[\"수학\"]) / 3).round(2)\n",
    "df\n",
    "\n",
    "# 5) 방자의 영어 점수를 80점으로 수정하고 평균 점수도 다시 수정하시오.\n",
    "\n",
    "df[\"영어\"][\"방자\"] = 80\n",
    "df[\"과목평균\"] = ((df[\"국어\"] + df[\"영어\"] + df[\"수학\"]) / 3).round(2)\n",
    "df\n",
    "\n",
    "# 6) 춘향의 점수를 데이터 프레임 형식으로 출력\n",
    "\n",
    "df[\"춘향\" : \"춘향\"]\n",
    "\n",
    "\n",
    "# 7) 향단의 점수를 Series로 출력\n",
    "\n",
    "sample = df[\"향단\" : \"향단\"]\n",
    "df = sample.squeeze()\n",
    "df\n",
    "\n",
    "\n"
   ]
  },
  {
   "cell_type": "markdown",
   "id": "a5700b99",
   "metadata": {},
   "source": [
    "#### (6) 파일 입출력\n",
    "\n",
    "+ read_csv()\n",
    "+ to_scv()\n",
    "+ read_table()"
   ]
  },
  {
   "cell_type": "code",
   "execution_count": 85,
   "id": "ae1b840f",
   "metadata": {},
   "outputs": [
    {
     "name": "stdout",
     "output_type": "stream",
     "text": [
      "Overwriting data/sample1.csv\n"
     ]
    }
   ],
   "source": [
    "%%writefile data/sample1.csv\n",
    "c1, c2, c3\n",
    "1, 1.11, one\n",
    "2, 2.22, two\n",
    "3, 3.33, three"
   ]
  },
  {
   "cell_type": "code",
   "execution_count": 86,
   "id": "10c6d431",
   "metadata": {},
   "outputs": [
    {
     "data": {
      "text/html": [
       "<div>\n",
       "<style scoped>\n",
       "    .dataframe tbody tr th:only-of-type {\n",
       "        vertical-align: middle;\n",
       "    }\n",
       "\n",
       "    .dataframe tbody tr th {\n",
       "        vertical-align: top;\n",
       "    }\n",
       "\n",
       "    .dataframe thead th {\n",
       "        text-align: right;\n",
       "    }\n",
       "</style>\n",
       "<table border=\"1\" class=\"dataframe\">\n",
       "  <thead>\n",
       "    <tr style=\"text-align: right;\">\n",
       "      <th></th>\n",
       "      <th>c1</th>\n",
       "      <th>c2</th>\n",
       "      <th>c3</th>\n",
       "    </tr>\n",
       "  </thead>\n",
       "  <tbody>\n",
       "    <tr>\n",
       "      <th>0</th>\n",
       "      <td>1</td>\n",
       "      <td>1.11</td>\n",
       "      <td>one</td>\n",
       "    </tr>\n",
       "    <tr>\n",
       "      <th>1</th>\n",
       "      <td>2</td>\n",
       "      <td>2.22</td>\n",
       "      <td>two</td>\n",
       "    </tr>\n",
       "    <tr>\n",
       "      <th>2</th>\n",
       "      <td>3</td>\n",
       "      <td>3.33</td>\n",
       "      <td>three</td>\n",
       "    </tr>\n",
       "  </tbody>\n",
       "</table>\n",
       "</div>"
      ],
      "text/plain": [
       "   c1    c2      c3\n",
       "0   1  1.11     one\n",
       "1   2  2.22     two\n",
       "2   3  3.33   three"
      ]
     },
     "execution_count": 86,
     "metadata": {},
     "output_type": "execute_result"
    }
   ],
   "source": [
    "sample1 = pd.read_csv(\"data/sample1.csv\")\n",
    "sample1"
   ]
  },
  {
   "cell_type": "code",
   "execution_count": 87,
   "id": "33a7bf4e",
   "metadata": {},
   "outputs": [
    {
     "name": "stdout",
     "output_type": "stream",
     "text": [
      "Overwriting data/sample2.csv\n"
     ]
    }
   ],
   "source": [
    "%%writefile data/sample2.csv\n",
    "1, 1.11, one\n",
    "2, 2.22, two\n",
    "3, 3.33, three"
   ]
  },
  {
   "cell_type": "code",
   "execution_count": 89,
   "id": "795136d3",
   "metadata": {},
   "outputs": [
    {
     "data": {
      "text/html": [
       "<div>\n",
       "<style scoped>\n",
       "    .dataframe tbody tr th:only-of-type {\n",
       "        vertical-align: middle;\n",
       "    }\n",
       "\n",
       "    .dataframe tbody tr th {\n",
       "        vertical-align: top;\n",
       "    }\n",
       "\n",
       "    .dataframe thead th {\n",
       "        text-align: right;\n",
       "    }\n",
       "</style>\n",
       "<table border=\"1\" class=\"dataframe\">\n",
       "  <thead>\n",
       "    <tr style=\"text-align: right;\">\n",
       "      <th></th>\n",
       "      <th>c1</th>\n",
       "      <th>c2</th>\n",
       "      <th>c3</th>\n",
       "    </tr>\n",
       "  </thead>\n",
       "  <tbody>\n",
       "    <tr>\n",
       "      <th>0</th>\n",
       "      <td>1</td>\n",
       "      <td>1.11</td>\n",
       "      <td>one</td>\n",
       "    </tr>\n",
       "    <tr>\n",
       "      <th>1</th>\n",
       "      <td>2</td>\n",
       "      <td>2.22</td>\n",
       "      <td>two</td>\n",
       "    </tr>\n",
       "    <tr>\n",
       "      <th>2</th>\n",
       "      <td>3</td>\n",
       "      <td>3.33</td>\n",
       "      <td>three</td>\n",
       "    </tr>\n",
       "  </tbody>\n",
       "</table>\n",
       "</div>"
      ],
      "text/plain": [
       "   c1    c2      c3\n",
       "0   1  1.11     one\n",
       "1   2  2.22     two\n",
       "2   3  3.33   three"
      ]
     },
     "execution_count": 89,
     "metadata": {},
     "output_type": "execute_result"
    }
   ],
   "source": [
    "sample2 = pd.read_csv(\"data/sample2.csv\", names=[\"c1\", \"c2\", \"c3\"])\n",
    "sample2"
   ]
  },
  {
   "cell_type": "code",
   "execution_count": 90,
   "id": "c98c1e8e",
   "metadata": {},
   "outputs": [
    {
     "data": {
      "text/html": [
       "<div>\n",
       "<style scoped>\n",
       "    .dataframe tbody tr th:only-of-type {\n",
       "        vertical-align: middle;\n",
       "    }\n",
       "\n",
       "    .dataframe tbody tr th {\n",
       "        vertical-align: top;\n",
       "    }\n",
       "\n",
       "    .dataframe thead th {\n",
       "        text-align: right;\n",
       "    }\n",
       "</style>\n",
       "<table border=\"1\" class=\"dataframe\">\n",
       "  <thead>\n",
       "    <tr style=\"text-align: right;\">\n",
       "      <th></th>\n",
       "      <th>c2</th>\n",
       "      <th>c3</th>\n",
       "    </tr>\n",
       "    <tr>\n",
       "      <th>c1</th>\n",
       "      <th></th>\n",
       "      <th></th>\n",
       "    </tr>\n",
       "  </thead>\n",
       "  <tbody>\n",
       "    <tr>\n",
       "      <th>1</th>\n",
       "      <td>1.11</td>\n",
       "      <td>one</td>\n",
       "    </tr>\n",
       "    <tr>\n",
       "      <th>2</th>\n",
       "      <td>2.22</td>\n",
       "      <td>two</td>\n",
       "    </tr>\n",
       "    <tr>\n",
       "      <th>3</th>\n",
       "      <td>3.33</td>\n",
       "      <td>three</td>\n",
       "    </tr>\n",
       "  </tbody>\n",
       "</table>\n",
       "</div>"
      ],
      "text/plain": [
       "      c2      c3\n",
       "c1              \n",
       "1   1.11     one\n",
       "2   2.22     two\n",
       "3   3.33   three"
      ]
     },
     "execution_count": 90,
     "metadata": {},
     "output_type": "execute_result"
    }
   ],
   "source": [
    "##### 내가 원하는 특정 열을 인덱스로 지정  (아래 예시에서는 c1을 인덱스로 지정)\n",
    "\n",
    "sample3 = pd.read_csv(\"data/sample1.csv\", index_col=\"c1\")\n",
    "sample3"
   ]
  },
  {
   "cell_type": "code",
   "execution_count": 91,
   "id": "067ab72f",
   "metadata": {},
   "outputs": [
    {
     "name": "stdout",
     "output_type": "stream",
     "text": [
      "Overwriting data/sample3.txt\n"
     ]
    }
   ],
   "source": [
    "%%writefile data/sample3.txt\n",
    "c1    c2    c3    c4\n",
    "0.23  0.33  0.354 0.2389\n",
    "0.123 0.345 0.567 0.986"
   ]
  },
  {
   "cell_type": "code",
   "execution_count": 95,
   "id": "f7d8c9ee",
   "metadata": {},
   "outputs": [
    {
     "data": {
      "text/html": [
       "<div>\n",
       "<style scoped>\n",
       "    .dataframe tbody tr th:only-of-type {\n",
       "        vertical-align: middle;\n",
       "    }\n",
       "\n",
       "    .dataframe tbody tr th {\n",
       "        vertical-align: top;\n",
       "    }\n",
       "\n",
       "    .dataframe thead th {\n",
       "        text-align: right;\n",
       "    }\n",
       "</style>\n",
       "<table border=\"1\" class=\"dataframe\">\n",
       "  <thead>\n",
       "    <tr style=\"text-align: right;\">\n",
       "      <th></th>\n",
       "      <th>c1</th>\n",
       "      <th>c2</th>\n",
       "      <th>c3</th>\n",
       "      <th>c4</th>\n",
       "    </tr>\n",
       "  </thead>\n",
       "  <tbody>\n",
       "    <tr>\n",
       "      <th>0</th>\n",
       "      <td>0.230</td>\n",
       "      <td>0.330</td>\n",
       "      <td>0.354</td>\n",
       "      <td>0.2389</td>\n",
       "    </tr>\n",
       "    <tr>\n",
       "      <th>1</th>\n",
       "      <td>0.123</td>\n",
       "      <td>0.345</td>\n",
       "      <td>0.567</td>\n",
       "      <td>0.9860</td>\n",
       "    </tr>\n",
       "  </tbody>\n",
       "</table>\n",
       "</div>"
      ],
      "text/plain": [
       "      c1     c2     c3      c4\n",
       "0  0.230  0.330  0.354  0.2389\n",
       "1  0.123  0.345  0.567  0.9860"
      ]
     },
     "execution_count": 95,
     "metadata": {},
     "output_type": "execute_result"
    }
   ],
   "source": [
    "sample3 = pd.read_table(\"data/sample3.txt\", sep=\"\\s+\")\n",
    "sample3"
   ]
  },
  {
   "cell_type": "code",
   "execution_count": 96,
   "id": "4bf52b2f",
   "metadata": {},
   "outputs": [
    {
     "name": "stdout",
     "output_type": "stream",
     "text": [
      "Overwriting data/sample4.txt\n"
     ]
    }
   ],
   "source": [
    "%%writefile data/sample4.txt\n",
    "파일제목:sample4.txt\n",
    "데이터설명 : 어쩌구 저쩌구\n",
    "c1, c2, c3\n",
    "1, 1.11, one\n",
    "2, 2.22, two\n",
    "3, 3.33, three    "
   ]
  },
  {
   "cell_type": "code",
   "execution_count": 101,
   "id": "262162df",
   "metadata": {},
   "outputs": [
    {
     "data": {
      "text/html": [
       "<div>\n",
       "<style scoped>\n",
       "    .dataframe tbody tr th:only-of-type {\n",
       "        vertical-align: middle;\n",
       "    }\n",
       "\n",
       "    .dataframe tbody tr th {\n",
       "        vertical-align: top;\n",
       "    }\n",
       "\n",
       "    .dataframe thead th {\n",
       "        text-align: right;\n",
       "    }\n",
       "</style>\n",
       "<table border=\"1\" class=\"dataframe\">\n",
       "  <thead>\n",
       "    <tr style=\"text-align: right;\">\n",
       "      <th></th>\n",
       "      <th>c1</th>\n",
       "      <th>c2</th>\n",
       "      <th>c3</th>\n",
       "    </tr>\n",
       "  </thead>\n",
       "  <tbody>\n",
       "    <tr>\n",
       "      <th>0</th>\n",
       "      <td>1</td>\n",
       "      <td>1.11</td>\n",
       "      <td>one</td>\n",
       "    </tr>\n",
       "    <tr>\n",
       "      <th>1</th>\n",
       "      <td>2</td>\n",
       "      <td>2.22</td>\n",
       "      <td>two</td>\n",
       "    </tr>\n",
       "    <tr>\n",
       "      <th>2</th>\n",
       "      <td>3</td>\n",
       "      <td>3.33</td>\n",
       "      <td>three</td>\n",
       "    </tr>\n",
       "  </tbody>\n",
       "</table>\n",
       "</div>"
      ],
      "text/plain": [
       "   c1    c2          c3\n",
       "0   1  1.11         one\n",
       "1   2  2.22         two\n",
       "2   3  3.33   three    "
      ]
     },
     "execution_count": 101,
     "metadata": {},
     "output_type": "execute_result"
    }
   ],
   "source": [
    "#skiprows 를 통해 데이터가 아닌 첫, 둘째 줄을 건너띄고 가져올 수 있다.\n",
    "\n",
    "# sample4 = pd.read_table(\"data/sample4.txt\", sep=\",\", skiprows=[0,1])\n",
    "sample4 = pd.read_table(\"data/sample4.txt\", sep=\",\", skiprows=2)\n",
    "sample4"
   ]
  },
  {
   "cell_type": "code",
   "execution_count": 106,
   "id": "4814c9b5",
   "metadata": {},
   "outputs": [
    {
     "name": "stdout",
     "output_type": "stream",
     "text": [
      "Overwriting data/sample5.csv\n"
     ]
    }
   ],
   "source": [
    "%%writefile data/sample5.csv\n",
    "c1, c2, c3\n",
    "1, 1.11, \n",
    "2,없음, two\n",
    "누락, 3.33, three "
   ]
  },
  {
   "cell_type": "code",
   "execution_count": 107,
   "id": "49089fed",
   "metadata": {},
   "outputs": [
    {
     "data": {
      "text/html": [
       "<div>\n",
       "<style scoped>\n",
       "    .dataframe tbody tr th:only-of-type {\n",
       "        vertical-align: middle;\n",
       "    }\n",
       "\n",
       "    .dataframe tbody tr th {\n",
       "        vertical-align: top;\n",
       "    }\n",
       "\n",
       "    .dataframe thead th {\n",
       "        text-align: right;\n",
       "    }\n",
       "</style>\n",
       "<table border=\"1\" class=\"dataframe\">\n",
       "  <thead>\n",
       "    <tr style=\"text-align: right;\">\n",
       "      <th></th>\n",
       "      <th>c1</th>\n",
       "      <th>c2</th>\n",
       "      <th>c3</th>\n",
       "    </tr>\n",
       "  </thead>\n",
       "  <tbody>\n",
       "    <tr>\n",
       "      <th>0</th>\n",
       "      <td>1.0</td>\n",
       "      <td>1.11</td>\n",
       "      <td>NaN</td>\n",
       "    </tr>\n",
       "    <tr>\n",
       "      <th>1</th>\n",
       "      <td>2.0</td>\n",
       "      <td>NaN</td>\n",
       "      <td>two</td>\n",
       "    </tr>\n",
       "    <tr>\n",
       "      <th>2</th>\n",
       "      <td>NaN</td>\n",
       "      <td>3.33</td>\n",
       "      <td>three</td>\n",
       "    </tr>\n",
       "  </tbody>\n",
       "</table>\n",
       "</div>"
      ],
      "text/plain": [
       "    c1    c2       c3\n",
       "0  1.0  1.11      NaN\n",
       "1  2.0   NaN      two\n",
       "2  NaN  3.33   three "
      ]
     },
     "execution_count": 107,
     "metadata": {},
     "output_type": "execute_result"
    }
   ],
   "source": [
    "# na_values : 결측치가 여러모양일때 하나로 통일시켜 표시하기 위한 옵션\n",
    "\n",
    "sample5 = pd.read_csv(\"data/sample5.csv\", na_values=[\" \", \"없음\", \"누락\"])\n",
    "sample5"
   ]
  },
  {
   "cell_type": "code",
   "execution_count": 114,
   "id": "81520a4a",
   "metadata": {},
   "outputs": [],
   "source": [
    "##### 저장\n",
    "\n",
    "df.to_csv(\"data/sample6.csv\")\n",
    "df.to_csv(\"data/sample7.txt\", sep=\"|\")\n",
    "df.to_csv(\"data/sample8.csv\", header=False, index=False)   # header는 제목은 빼고 저장  # index는 인덱스를 빼고자 할 때\n",
    "\n",
    "sample5.to_csv(\"data/sample9.txt\", sep=\":\", na_rep=\"누락\")   # na_rep 은 결측치 자리에 \"누락\" 이라는 글자로 채워지도록 설정"
   ]
  },
  {
   "cell_type": "code",
   "execution_count": null,
   "id": "af3b4889",
   "metadata": {},
   "outputs": [],
   "source": []
  },
  {
   "cell_type": "code",
   "execution_count": null,
   "id": "cd95a06d",
   "metadata": {},
   "outputs": [],
   "source": []
  },
  {
   "cell_type": "code",
   "execution_count": null,
   "id": "ba46a5e8",
   "metadata": {},
   "outputs": [],
   "source": []
  },
  {
   "cell_type": "code",
   "execution_count": null,
   "id": "4a5ec5b3",
   "metadata": {},
   "outputs": [],
   "source": []
  },
  {
   "cell_type": "code",
   "execution_count": null,
   "id": "63f19022",
   "metadata": {},
   "outputs": [],
   "source": []
  },
  {
   "cell_type": "code",
   "execution_count": null,
   "id": "40dc8b68",
   "metadata": {},
   "outputs": [],
   "source": []
  }
 ],
 "metadata": {
  "kernelspec": {
   "display_name": "Python 3 (ipykernel)",
   "language": "python",
   "name": "python3"
  },
  "language_info": {
   "codemirror_mode": {
    "name": "ipython",
    "version": 3
   },
   "file_extension": ".py",
   "mimetype": "text/x-python",
   "name": "python",
   "nbconvert_exporter": "python",
   "pygments_lexer": "ipython3",
   "version": "3.9.12"
  }
 },
 "nbformat": 4,
 "nbformat_minor": 5
}
